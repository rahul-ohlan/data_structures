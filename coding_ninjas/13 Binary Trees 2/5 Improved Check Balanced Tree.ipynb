{
 "cells": [
  {
   "cell_type": "code",
   "execution_count": 1,
   "id": "orange-banner",
   "metadata": {},
   "outputs": [],
   "source": [
    "class binarytree:\n",
    "    def __init__(self,data):\n",
    "        self.data = data\n",
    "        self.left = None\n",
    "        self.right = None\n",
    "\n",
    "def takeinput():\n",
    "    rootdata = int(input())\n",
    "    if rootdata == -1:\n",
    "        return None\n",
    "    root = binarytree(rootdata)\n",
    "    left = takeinput()\n",
    "    right = takeinput()\n",
    "    root.left = left\n",
    "    root.right = right\n",
    "    return root\n",
    "\n",
    "def printnicely(root):\n",
    "    if root is None:\n",
    "        return\n",
    "    print(root.data,end=':')\n",
    "    if root.left!= None:\n",
    "        print('L',root.left.data,end=',')\n",
    "    if root.right!= None:\n",
    "        print('R',root.right.data,end='')\n",
    "    print()\n",
    "    printnicely(root.left)\n",
    "    printnicely(root.right)\n",
    "    \n",
    "def height(root):\n",
    "    if root is None:\n",
    "        return 0\n",
    "    return 1+ max(height(root.left),height(root.right))\n",
    "\n",
    "def isBalanced(root):\n",
    "    if root is None:\n",
    "        return True\n",
    "    lH = height(root.left)\n",
    "    rH = height(root.right)\n",
    "    if lH-rH >1 or rH-lH>1:\n",
    "        return False \n",
    "    islefbal = isBalanced(root.left)\n",
    "    isrightbal = isBalanced(root.left)\n",
    "    if islefbal and isrightbal:\n",
    "        return True\n",
    "    else:\n",
    "        return False"
   ]
  },
  {
   "cell_type": "code",
   "execution_count": 5,
   "id": "progressive-butler",
   "metadata": {},
   "outputs": [],
   "source": [
    "def getHeightAndCheckBalanced(root):\n",
    "    if root == None:\n",
    "        return 0,True\n",
    "    lH,isleftbalanced = getHeightAndCheckBalanced(root.left)\n",
    "    rH,isrightbalanced = getHeightAndCheckBalanced(root.right)\n",
    "    \n",
    "    h = 1 + max(lH,rH)\n",
    "    if lH-rH > 1 or rH-lH >1:\n",
    "        return h,False\n",
    "    \n",
    "    if isleftbalanced and isrightbalanced:\n",
    "        return h,True\n",
    "    else:\n",
    "        return h,False \n",
    "    \n",
    "def isbalanced2(root):\n",
    "    h,isbalanced = getHeightAndCheckBalanced(root)\n",
    "    return isbalanced"
   ]
  },
  {
   "cell_type": "code",
   "execution_count": 4,
   "id": "reasonable-setup",
   "metadata": {},
   "outputs": [
    {
     "name": "stdout",
     "output_type": "stream",
     "text": [
      "1\n",
      "2\n",
      "4\n",
      "5\n",
      "-1\n",
      "-1\n",
      "-1\n",
      "-1\n",
      "3\n",
      "-1\n",
      "6\n",
      "-1\n",
      "-1\n",
      "1:L 2,R 3\n",
      "2:L 4,\n",
      "4:L 5,\n",
      "5:\n",
      "3:R 6\n",
      "6:\n",
      "(4, False)\n"
     ]
    }
   ],
   "source": [
    "rahul = takeinput()\n",
    "printnicely(rahul)\n",
    "print(getHeightAndCheckBalanced(rahul))"
   ]
  },
  {
   "cell_type": "code",
   "execution_count": null,
   "id": "alternate-luxury",
   "metadata": {},
   "outputs": [],
   "source": []
  }
 ],
 "metadata": {
  "kernelspec": {
   "display_name": "Python 3",
   "language": "python",
   "name": "python3"
  },
  "language_info": {
   "codemirror_mode": {
    "name": "ipython",
    "version": 3
   },
   "file_extension": ".py",
   "mimetype": "text/x-python",
   "name": "python",
   "nbconvert_exporter": "python",
   "pygments_lexer": "ipython3",
   "version": "3.9.1"
  }
 },
 "nbformat": 4,
 "nbformat_minor": 5
}
