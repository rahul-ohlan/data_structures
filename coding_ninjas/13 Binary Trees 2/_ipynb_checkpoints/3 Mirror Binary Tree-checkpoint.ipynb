{
 "cells": [
  {
   "cell_type": "code",
   "execution_count": 9,
   "id": "explicit-execution",
   "metadata": {},
   "outputs": [],
   "source": [
    "class binarytree:\n",
    "    def __init__(self,data):\n",
    "        self.data = data\n",
    "        self.left = None\n",
    "        self.right = None\n",
    "\n",
    "def takeinput():\n",
    "    rootdata = int(input())\n",
    "    if rootdata == -1:\n",
    "        return None\n",
    "    root = binarytree(rootdata)\n",
    "    left = takeinput()\n",
    "    right = takeinput()\n",
    "    root.left = left\n",
    "    root.right = right\n",
    "    return root\n",
    "\n",
    "def printnicely(root):\n",
    "    if root is None:\n",
    "        return\n",
    "    print(root.data,end=':')\n",
    "    if root.left!= None:\n",
    "        print('L',root.left.data,end=',')\n",
    "    if root.right!= None:\n",
    "        print('R',root.right.data,end='')\n",
    "    print()\n",
    "    printnicely(root.left)\n",
    "    printnicely(root.right)\n",
    "    \n",
    "def mirrortree(root):\n",
    "    if root is None:\n",
    "        return root\n",
    "    if root.left is None and root.right is None:\n",
    "        return \n",
    "    root.left,root.right=root.right,root.left\n",
    "    mirrortree(root.left)\n",
    "    mirrortree(root.right)\n",
    "    "
   ]
  },
  {
   "cell_type": "code",
   "execution_count": 10,
   "id": "generous-prototype",
   "metadata": {},
   "outputs": [
    {
     "name": "stdout",
     "output_type": "stream",
     "text": [
      "1\n",
      "2\n",
      "4\n",
      "-1\n",
      "-1\n",
      "5\n",
      "-1\n",
      "-1\n",
      "3\n",
      "6\n",
      "-1\n",
      "-1\n",
      "7\n",
      "-1\n",
      "-1\n",
      "1:L 2,R 3\n",
      "2:L 4,R 5\n",
      "4:\n",
      "5:\n",
      "3:L 6,R 7\n",
      "6:\n",
      "7:\n",
      "1:L 3,R 2\n",
      "3:L 7,R 6\n",
      "7:\n",
      "6:\n",
      "2:L 5,R 4\n",
      "5:\n",
      "4:\n"
     ]
    }
   ],
   "source": [
    "rahul = takeinput()\n",
    "printnicely(rahul)\n",
    "mirrortree(rahul)\n",
    "printnicely(rahul)"
   ]
  },
  {
   "cell_type": "code",
   "execution_count": null,
   "id": "emotional-parallel",
   "metadata": {},
   "outputs": [],
   "source": []
  }
 ],
 "metadata": {
  "kernelspec": {
   "display_name": "Python 3",
   "language": "python",
   "name": "python3"
  },
  "language_info": {
   "codemirror_mode": {
    "name": "ipython",
    "version": 3
   },
   "file_extension": ".py",
   "mimetype": "text/x-python",
   "name": "python",
   "nbconvert_exporter": "python",
   "pygments_lexer": "ipython3",
   "version": "3.9.1"
  }
 },
 "nbformat": 4,
 "nbformat_minor": 5
}
