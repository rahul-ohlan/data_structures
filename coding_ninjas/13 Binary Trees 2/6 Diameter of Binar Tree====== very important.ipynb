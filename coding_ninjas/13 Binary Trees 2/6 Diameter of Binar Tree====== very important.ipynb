{
 "cells": [
  {
   "cell_type": "code",
   "execution_count": 4,
   "id": "every-omega",
   "metadata": {},
   "outputs": [],
   "source": [
    "class binarytree:\n",
    "    def __init__(self,data):\n",
    "        self.data = data\n",
    "        self.left = None\n",
    "        self.right = None\n",
    "\n",
    "def takeinput():\n",
    "    rootdata = int(input())\n",
    "    if rootdata == -1:\n",
    "        return None\n",
    "    root = binarytree(rootdata)\n",
    "    left = takeinput()\n",
    "    right = takeinput()\n",
    "    root.left = left\n",
    "    root.right = right\n",
    "    return root\n",
    "\n",
    "def printnicely(root):\n",
    "    if root is None:\n",
    "        return\n",
    "    print(root.data,end=':')\n",
    "    if root.left!= None:\n",
    "        print('L',root.left.data,end=',')\n",
    "    if root.right!= None:\n",
    "        print('R',root.right.data,end='')\n",
    "    print()\n",
    "    printnicely(root.left)\n",
    "    printnicely(root.right)\n",
    "    \n",
    "def height(root):\n",
    "    if root is None:\n",
    "        return 0\n",
    "    return 1+ max(height(root.left),height(root.right))\n",
    "\n",
    "def isBalanced(root):\n",
    "    if root is None:\n",
    "        return True\n",
    "    lH = height(root.left)\n",
    "    rH = height(root.right)\n",
    "    if lH-rH >1 or rH-lH>1:\n",
    "        return False\n",
    "    islefbal = isBalanced(root.left)\n",
    "    isrightbal = isBalanced(root.left)\n",
    "    if islefbal and isrightbal:\n",
    "        return True\n",
    "    else:\n",
    "        return False"
   ]
  },
  {
   "cell_type": "code",
   "execution_count": 3,
   "id": "copyrighted-forestry",
   "metadata": {},
   "outputs": [],
   "source": [
    "def getHeightAndCheckBalanced(root):\n",
    "    if root is None:\n",
    "        return 0,True\n",
    "    lH,isleftBal = getHeightAndCheckBalanced(root.left)\n",
    "    rH,isrightBal = getHeightAndCheckBalanced(root.right)\n",
    "    h = 1 + max(lH,rH)\n",
    "    if lH-rH>1 or rH-lH>1:\n",
    "        return h,False\n",
    "    if isleftBal and isrightBal:\n",
    "        return h,True\n",
    "    else:\n",
    "        return h,False"
   ]
  },
  {
   "cell_type": "code",
   "execution_count": 2,
   "id": "scheduled-velvet",
   "metadata": {},
   "outputs": [],
   "source": [
    "def DiameterOfBinaryTree(root):\n",
    "    if root == None:\n",
    "        return 0\n",
    "    lH = height(root.left)\n",
    "    rH = height(root.right)\n",
    "    dia1 = lH+rH\n",
    "    dia2 = DiameterOfBinaryTree(root.left)\n",
    "    dia3 = DiameterOfBinaryTree(root.right)\n",
    "    return max(dia1,dia2,dia3)"
   ]
  },
  {
   "cell_type": "code",
   "execution_count": 6,
   "id": "cross-fantasy",
   "metadata": {},
   "outputs": [],
   "source": [
    "# in case diameter is defined as number of nodes including the end nodes:\n",
    "# use dia = left height + right height +1\n",
    "# elseif as explained in the coding ninja video: use left height + right\n",
    "def FindHeightAndDiameter(root):\n",
    "    if root is None:\n",
    "        return 0,0\n",
    "    left_diameter,left_height = FindHeightAndDiameter(root.left)\n",
    "    right_diameter,right_height = FindHeightAndDiameter(root.right)\n",
    "    \n",
    "    d1 = left_height + right_height\n",
    "    d2 = left_diameter\n",
    "    d3 = right_diameter\n",
    "    \n",
    "    return max(d1,d2,d3),1+max(left_height,right_height)\n",
    " \n",
    "\n",
    "def getDiameter(root):\n",
    "    dia,height=FindHeightAndDiameter(root)\n",
    "    return dia"
   ]
  },
  {
   "cell_type": "code",
   "execution_count": 7,
   "id": "resistant-julian",
   "metadata": {},
   "outputs": [],
   "source": [
    "rahul = takeinput()\n",
    "printnicely(rahul)\n",
    "print('Diamter of given tree is:',DiameterOfBinaryTree(rahul))"
   ]
  },
  {
   "cell_type": "code",
   "execution_count": 8,
   "id": "determined-grave",
   "metadata": {},
   "outputs": [
    {
     "name": "stdout",
     "output_type": "stream",
     "text": [
      "10\n",
      "20\n",
      "30\n",
      "-1\n",
      "-1\n",
      "40\n",
      "-1\n",
      "-1\n",
      "50\n",
      "60\n",
      "80\n",
      "-1\n",
      "-1\n",
      "-1\n",
      "70\n",
      "-1\n",
      "90\n",
      "-1\n",
      "-1\n",
      "10:L 20,R 50\n",
      "20:L 30,R 40\n",
      "30:\n",
      "40:\n",
      "50:L 60,R 70\n",
      "60:L 80,\n",
      "80:\n",
      "70:R 90\n",
      "90:\n",
      "Diamter of given tree is: 5\n"
     ]
    }
   ],
   "source": [
    "# optimized method, let's check if the result is same as of above cell\n",
    "rahul = takeinput()\n",
    "printnicely(rahul)\n",
    "print('Diamter of given tree is:',getDiameter(rahul))"
   ]
  },
  {
   "cell_type": "code",
   "execution_count": null,
   "id": "viral-paper",
   "metadata": {},
   "outputs": [],
   "source": []
  }
 ],
 "metadata": {
  "kernelspec": {
   "display_name": "Python 3",
   "language": "python",
   "name": "python3"
  },
  "language_info": {
   "codemirror_mode": {
    "name": "ipython",
    "version": 3
   },
   "file_extension": ".py",
   "mimetype": "text/x-python",
   "name": "python",
   "nbconvert_exporter": "python",
   "pygments_lexer": "ipython3",
   "version": "3.9.1"
  }
 },
 "nbformat": 4,
 "nbformat_minor": 5
}
