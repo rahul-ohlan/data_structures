{
 "cells": [
  {
   "cell_type": "code",
   "execution_count": 11,
   "id": "cardiac-moral",
   "metadata": {},
   "outputs": [],
   "source": [
    "class binarytree:\n",
    "    def __init__(self,data):\n",
    "        self.data = data\n",
    "        self.left = None\n",
    "        self.right = None\n",
    "        \n",
    "def takeinput():\n",
    "    rootdata = int(input())\n",
    "    if rootdata == -1:\n",
    "        return\n",
    "    root = binarytree(rootdata)\n",
    "    left = takeinput()\n",
    "    right = takeinput()\n",
    "    root.left = left\n",
    "    root.right = right\n",
    "    return root\n",
    "\n",
    "def printnicely(root):\n",
    "    if root is None:\n",
    "        return\n",
    "    print(root.data,end=': ')\n",
    "    if root.left!=None:\n",
    "        print('L',root.left.data,end=',')\n",
    "    if root.right!=None:\n",
    "        print('R',root.right.data,end='')\n",
    "    print()\n",
    "    printnicely(root.left)\n",
    "    printnicely(root.right)\n"
   ]
  },
  {
   "cell_type": "code",
   "execution_count": 8,
   "id": "saving-membership",
   "metadata": {},
   "outputs": [],
   "source": [
    "import queue\n",
    "def takelevelwisetreeinput():\n",
    "    q = queue.Queue()\n",
    "    print('Please enter root: ')\n",
    "    rootdata = int(input())\n",
    "    if rootdata == -1:\n",
    "        return None\n",
    "    root = binarytree(rootdata)\n",
    "    q.put(root)\n",
    "    while not q.empty():\n",
    "        current_node = q.get()\n",
    "        print('please enter the left child data of: ',current_node.data)\n",
    "        leftchilddata = int(input())\n",
    "        if leftchilddata!=-1:\n",
    "            leftchild = binarytree(leftchilddata)\n",
    "            current_node.left = leftchild\n",
    "            q.put(leftchild)\n",
    "        print('enter the data for right child of ',current_node.data)\n",
    "        rightchilddata = int(input())\n",
    "        if rightchilddata!=-1:\n",
    "            rightchild = binarytree(rightchilddata)\n",
    "            current_node.right = rightchild\n",
    "            q.put(rightchild)\n",
    "        \n",
    "    return root\n",
    "\n",
    "\n",
    "        "
   ]
  },
  {
   "cell_type": "code",
   "execution_count": 12,
   "id": "neither-incident",
   "metadata": {},
   "outputs": [
    {
     "name": "stdout",
     "output_type": "stream",
     "text": [
      "Please enter root: \n",
      "1\n",
      "please enter the left child data of:  1\n",
      "2\n",
      "enter the data for right child of  1\n",
      "3\n",
      "please enter the left child data of:  2\n",
      "-1\n",
      "enter the data for right child of  2\n",
      "-1\n",
      "please enter the left child data of:  3\n",
      "-1\n",
      "enter the data for right child of  3\n",
      "-1\n",
      "1: L 2,R 3\n",
      "2: \n",
      "3: \n"
     ]
    }
   ],
   "source": [
    "rahul = takelevelwisetreeinput()\n",
    "printnicely(rahul)"
   ]
  },
  {
   "cell_type": "code",
   "execution_count": null,
   "id": "hourly-education",
   "metadata": {},
   "outputs": [],
   "source": []
  }
 ],
 "metadata": {
  "kernelspec": {
   "display_name": "Python 3",
   "language": "python",
   "name": "python3"
  },
  "language_info": {
   "codemirror_mode": {
    "name": "ipython",
    "version": 3
   },
   "file_extension": ".py",
   "mimetype": "text/x-python",
   "name": "python",
   "nbconvert_exporter": "python",
   "pygments_lexer": "ipython3",
   "version": "3.9.1"
  }
 },
 "nbformat": 4,
 "nbformat_minor": 5
}
