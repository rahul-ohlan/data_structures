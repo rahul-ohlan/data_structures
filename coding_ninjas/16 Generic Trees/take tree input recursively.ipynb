{
 "cells": [
  {
   "cell_type": "code",
   "execution_count": 7,
   "id": "casual-recorder",
   "metadata": {},
   "outputs": [],
   "source": [
    "class treenode:\n",
    "    def __init__(self,data):\n",
    "        self.data = data\n",
    "        self.children = list()"
   ]
  },
  {
   "cell_type": "code",
   "execution_count": 6,
   "id": "terminal-protocol",
   "metadata": {},
   "outputs": [],
   "source": [
    "def printTreenicely(root):\n",
    "    if root is None:\n",
    "        return\n",
    "    print(root.data,':',end='')\n",
    "    for child in root.children:\n",
    "        print(child.data,',',end='')\n",
    "        \n",
    "    print()\n",
    "        \n",
    "    for child in root.children:\n",
    "        printTreenicely(child)"
   ]
  },
  {
   "cell_type": "code",
   "execution_count": 5,
   "id": "recreational-regard",
   "metadata": {},
   "outputs": [],
   "source": [
    "def takeinput():\n",
    "    print('enter root data: ')\n",
    "    rootdata = int(input())\n",
    "    if rootdata ==-1:\n",
    "        return None\n",
    "    root = treenode(rootdata)\n",
    "    \n",
    "    print('enter number of children for',rootdata)\n",
    "    childrenCount = int(input())\n",
    "    for i in range (childrenCount):\n",
    "        child = takeinput()\n",
    "        root.children.append(child)\n",
    "        \n",
    "    return root\n",
    "        "
   ]
  },
  {
   "cell_type": "code",
   "execution_count": 9,
   "id": "elegant-christmas",
   "metadata": {},
   "outputs": [
    {
     "name": "stdout",
     "output_type": "stream",
     "text": [
      "enter root data: \n",
      "5\n",
      "enter number of children for 5\n",
      "4\n",
      "enter root data: \n",
      "2\n",
      "enter number of children for 2\n",
      "0\n",
      "enter root data: \n",
      "9\n",
      "enter number of children for 9\n",
      "2\n",
      "enter root data: \n",
      "1\n",
      "enter number of children for 1\n",
      "0\n",
      "enter root data: \n",
      "15\n",
      "enter number of children for 15\n",
      "0\n",
      "enter root data: \n",
      "8\n",
      "enter number of children for 8\n",
      "0\n",
      "enter root data: \n",
      "7\n",
      "enter number of children for 7\n",
      "0\n",
      "5 :2 ,9 ,8 ,7 ,\n",
      "2 :\n",
      "9 :1 ,15 ,\n",
      "1 :\n",
      "15 :\n",
      "8 :\n",
      "7 :\n"
     ]
    }
   ],
   "source": [
    "root = takeinput()\n",
    "printTreenicely(root)"
   ]
  },
  {
   "cell_type": "code",
   "execution_count": null,
   "id": "cubic-guyana",
   "metadata": {},
   "outputs": [],
   "source": []
  }
 ],
 "metadata": {
  "kernelspec": {
   "display_name": "Python 3",
   "language": "python",
   "name": "python3"
  },
  "language_info": {
   "codemirror_mode": {
    "name": "ipython",
    "version": 3
   },
   "file_extension": ".py",
   "mimetype": "text/x-python",
   "name": "python",
   "nbconvert_exporter": "python",
   "pygments_lexer": "ipython3",
   "version": "3.9.1"
  }
 },
 "nbformat": 4,
 "nbformat_minor": 5
}
