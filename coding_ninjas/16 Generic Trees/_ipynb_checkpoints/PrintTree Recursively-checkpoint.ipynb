{
 "cells": [
  {
   "cell_type": "code",
   "execution_count": 1,
   "id": "intensive-blond",
   "metadata": {},
   "outputs": [],
   "source": [
    "class treenode:\n",
    "    def __init__(self,data):\n",
    "        self.data = data\n",
    "        self.children = list()\n",
    "        \n",
    "\n"
   ]
  },
  {
   "cell_type": "code",
   "execution_count": 6,
   "id": "three-membrane",
   "metadata": {},
   "outputs": [],
   "source": [
    "def printTree(root):\n",
    "    #Not a base case, but an edge case\n",
    "    if root is None:\n",
    "        return\n",
    "    \n",
    "    print(root.data)\n",
    "    for child in root.children:\n",
    "        printTree(child)"
   ]
  },
  {
   "cell_type": "code",
   "execution_count": 9,
   "id": "broken-surgery",
   "metadata": {},
   "outputs": [],
   "source": [
    "def printTreenicely(root):\n",
    "    \n",
    "    if root is None:\n",
    "        return\n",
    "    \n",
    "    print(root.data,':',end='')\n",
    "    for child in root.children:\n",
    "        print(child.data,',',end='')\n",
    "    print()\n",
    "    \n",
    "    for child in root.children:\n",
    "        \n",
    "        printTreenicely(child)"
   ]
  },
  {
   "cell_type": "code",
   "execution_count": 10,
   "id": "elegant-citizenship",
   "metadata": {},
   "outputs": [
    {
     "name": "stdout",
     "output_type": "stream",
     "text": [
      "5 :2 ,9 ,8 ,7 ,\n",
      "2 :\n",
      "9 :15 ,1 ,\n",
      "15 :\n",
      "1 :\n",
      "8 :\n",
      "7 :\n"
     ]
    }
   ],
   "source": [
    "n1 = treenode(5)\n",
    "n2 = treenode(2)\n",
    "n3 = treenode(9)\n",
    "n4 = treenode(8)\n",
    "n5 = treenode(7)\n",
    "n6 = treenode(15)\n",
    "n7 = treenode(1)\n",
    "\n",
    "n1.children.append(n2)\n",
    "n1.children.append(n3)\n",
    "n1.children.append(n4)\n",
    "n1.children.append(n5)\n",
    "\n",
    "n3.children.append(n6)\n",
    "n3.children.append(n7)\n",
    "\n",
    "printTreenicely(n1)"
   ]
  },
  {
   "cell_type": "code",
   "execution_count": null,
   "id": "variable-retirement",
   "metadata": {},
   "outputs": [],
   "source": []
  }
 ],
 "metadata": {
  "kernelspec": {
   "display_name": "Python 3",
   "language": "python",
   "name": "python3"
  },
  "language_info": {
   "codemirror_mode": {
    "name": "ipython",
    "version": 3
   },
   "file_extension": ".py",
   "mimetype": "text/x-python",
   "name": "python",
   "nbconvert_exporter": "python",
   "pygments_lexer": "ipython3",
   "version": "3.9.1"
  }
 },
 "nbformat": 4,
 "nbformat_minor": 5
}
