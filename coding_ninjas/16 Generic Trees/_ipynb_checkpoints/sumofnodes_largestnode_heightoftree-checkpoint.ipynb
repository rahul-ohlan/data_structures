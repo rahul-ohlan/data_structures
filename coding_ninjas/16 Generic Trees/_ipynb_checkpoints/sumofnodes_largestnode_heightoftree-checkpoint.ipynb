{
 "cells": [
  {
   "cell_type": "code",
   "execution_count": 1,
   "id": "herbal-wireless",
   "metadata": {},
   "outputs": [],
   "source": [
    "from sys import setrecursionlimit\n",
    "setrecursionlimit(10**7)\n",
    "class treenode:\n",
    "    def __init__(self,data):\n",
    "        self.data = data\n",
    "        self.children = list()"
   ]
  },
  {
   "cell_type": "code",
   "execution_count": 2,
   "id": "literary-prayer",
   "metadata": {},
   "outputs": [],
   "source": [
    "def printnicely(root):\n",
    "    \n",
    "    if root is None:\n",
    "        return\n",
    "    \n",
    "    print(root.data,end=':')\n",
    "    for child in root.children:\n",
    "        print(child.data,end=',')\n",
    "    print()\n",
    "    for child in root.children:\n",
    "        printnicely(child)"
   ]
  },
  {
   "cell_type": "code",
   "execution_count": 3,
   "id": "harmful-better",
   "metadata": {},
   "outputs": [],
   "source": [
    "def takeinput():\n",
    "    \n",
    "    print('enter root data: ')\n",
    "    rootdata = int(input())\n",
    "    if rootdata == -1:\n",
    "        return None\n",
    "    root = treenode(rootdata)\n",
    "    \n",
    "    print('enter number of children of:',root.data)\n",
    "    childcount = int(input())\n",
    "    for i in range(childcount):\n",
    "        child = takeinput()\n",
    "        root.children.append(child)\n",
    "        \n",
    "    return root"
   ]
  },
  {
   "cell_type": "code",
   "execution_count": 4,
   "id": "lightweight-liquid",
   "metadata": {},
   "outputs": [],
   "source": [
    "def sumofnodes(root):\n",
    "    if root is None:\n",
    "        return 0\n",
    "    total = root.data\n",
    "    for child in root.children:\n",
    "        total+= sumofnodes(child)\n",
    "    return total"
   ]
  },
  {
   "cell_type": "code",
   "execution_count": 15,
   "id": "distributed-measurement",
   "metadata": {},
   "outputs": [],
   "source": [
    "def largestnodedata(root):\n",
    "    if root is None:\n",
    "        return None\n",
    "    large = root\n",
    "    for child in root.children:\n",
    "        childnode = largestnodedata(child)\n",
    "        if childnode.data>=large.data:\n",
    "            large = childnode\n",
    "        \n",
    "    return large"
   ]
  },
  {
   "cell_type": "code",
   "execution_count": 19,
   "id": "timely-istanbul",
   "metadata": {},
   "outputs": [
    {
     "name": "stdout",
     "output_type": "stream",
     "text": [
      "enter root data: \n",
      "10\n",
      "enter number of children of: 10\n",
      "3\n",
      "enter root data: \n",
      "20\n",
      "enter number of children of: 20\n",
      "2\n",
      "enter root data: \n",
      "40\n",
      "enter number of children of: 40\n",
      "0\n",
      "enter root data: \n",
      "50\n",
      "enter number of children of: 50\n",
      "0\n",
      "enter root data: \n",
      "30\n",
      "enter number of children of: 30\n",
      "0\n",
      "enter root data: \n",
      "40\n",
      "enter number of children of: 40\n",
      "0\n",
      "50\n"
     ]
    }
   ],
   "source": [
    "root = takeinput()\n",
    "print(largestnodedata(root).data)"
   ]
  },
  {
   "cell_type": "code",
   "execution_count": 23,
   "id": "polish-advertiser",
   "metadata": {},
   "outputs": [],
   "source": [
    "def heightoftree(root):\n",
    "    if root is None:\n",
    "        return 0\n",
    "    childheight = 0\n",
    "    for child in root.children:\n",
    "        childheight = max(childheight,heightoftree(child))\n",
    "    \n",
    "    return 1 + childheight"
   ]
  },
  {
   "cell_type": "code",
   "execution_count": 26,
   "id": "universal-gates",
   "metadata": {},
   "outputs": [
    {
     "name": "stdout",
     "output_type": "stream",
     "text": [
      "enter root data: \n",
      "10\n",
      "enter number of children of: 10\n",
      "3\n",
      "enter root data: \n",
      "20\n",
      "enter number of children of: 20\n",
      "2\n",
      "enter root data: \n",
      "40\n",
      "enter number of children of: 40\n",
      "0\n",
      "enter root data: \n",
      "50\n",
      "enter number of children of: 50\n",
      "0\n",
      "enter root data: \n",
      "30\n",
      "enter number of children of: 30\n",
      "0\n",
      "enter root data: \n",
      "40\n",
      "enter number of children of: 40\n",
      "0\n",
      "height of given tree is: 3\n"
     ]
    }
   ],
   "source": [
    "root = takeinput()\n",
    "print('height of given tree is:',heightoftree(root))"
   ]
  },
  {
   "cell_type": "code",
   "execution_count": null,
   "id": "finished-leadership",
   "metadata": {},
   "outputs": [],
   "source": []
  }
 ],
 "metadata": {
  "kernelspec": {
   "display_name": "Python 3",
   "language": "python",
   "name": "python3"
  },
  "language_info": {
   "codemirror_mode": {
    "name": "ipython",
    "version": 3
   },
   "file_extension": ".py",
   "mimetype": "text/x-python",
   "name": "python",
   "nbconvert_exporter": "python",
   "pygments_lexer": "ipython3",
   "version": "3.9.1"
  }
 },
 "nbformat": 4,
 "nbformat_minor": 5
}
