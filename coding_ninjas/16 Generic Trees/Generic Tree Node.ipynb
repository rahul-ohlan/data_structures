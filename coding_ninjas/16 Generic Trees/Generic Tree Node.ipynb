{
 "cells": [
  {
   "cell_type": "code",
   "execution_count": 1,
   "id": "german-blues",
   "metadata": {},
   "outputs": [],
   "source": [
    "class GenericTreeNode:\n",
    "    def __init__(self,data):\n",
    "        self.data = data\n",
    "        self.children = list()"
   ]
  },
  {
   "cell_type": "code",
   "execution_count": null,
   "id": "junior-humidity",
   "metadata": {},
   "outputs": [],
   "source": [
    "n1 = GenericTreeNode(6)\n",
    "n2 = GenericTreeNode(1)\n",
    "n3 = GenericTreeNode(3)\n",
    "n4 = GenericTreeNode(7)\n",
    "n5 = GenericTreeNode(9)\n",
    "n6 = GenericTreeNode(15)\n",
    "n7 = GenericTreeNode(11)\n",
    "n8 = GenericTreeNode(12)\n",
    "n9 = GenericTreeNode(18)\n",
    "\n",
    "\n",
    "n1.children.append(n2)\n",
    "n1.children.append(n3)\n",
    "n1.children.append(n4)\n",
    "n1.children.append(n5)\n",
    "\n",
    "n3.children.append(n6)\n",
    "n3.children.append(n7)\n",
    "n5.children.append(n8)\n",
    "n5.children.append(n9)"
   ]
  }
 ],
 "metadata": {
  "kernelspec": {
   "display_name": "Python 3",
   "language": "python",
   "name": "python3"
  },
  "language_info": {
   "codemirror_mode": {
    "name": "ipython",
    "version": 3
   },
   "file_extension": ".py",
   "mimetype": "text/x-python",
   "name": "python",
   "nbconvert_exporter": "python",
   "pygments_lexer": "ipython3",
   "version": "3.9.1"
  }
 },
 "nbformat": 4,
 "nbformat_minor": 5
}
