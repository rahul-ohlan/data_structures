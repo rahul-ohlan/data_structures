{
 "cells": [
  {
   "cell_type": "code",
   "execution_count": 6,
   "id": "seven-invite",
   "metadata": {},
   "outputs": [],
   "source": [
    "import queue\n",
    "class treenode:\n",
    "    def __init__(self,data):\n",
    "        self.data = data\n",
    "        self.children = list()\n",
    "        \n",
    "def takeinput():\n",
    "    print('enter root data')\n",
    "    root_data = int(input())\n",
    "    if root_data == -1:\n",
    "        return None\n",
    "    root = treenode(root_data)\n",
    "    que = queue.Queue()\n",
    "    que.put(root)\n",
    "    while not que.empty():\n",
    "        currentnode = que.get()\n",
    "        print('enter the number of children of:',currentnode.data)\n",
    "        childcount = int(input())\n",
    "        for i in range(childcount):\n",
    "            print('enter next child of:',currentnode.data)\n",
    "            child_data = int(input())\n",
    "            child = treenode(child_data)\n",
    "            currentnode.children.append(child)\n",
    "            que.put(child)\n",
    "    return root\n",
    "\n",
    "def printleveltree(root):\n",
    "    if root is None:\n",
    "        return\n",
    "    que = queue.Queue()\n",
    "    que.put(root)\n",
    "    while not que.empty():\n",
    "        current = que.get()\n",
    "        print(current.data,end=':')\n",
    "        for child in current.children:\n",
    "            if child!= current.children[-1]:\n",
    "                print(child.data,end=',')\n",
    "                que.put(child)\n",
    "            else:\n",
    "                print(child.data,end='')\n",
    "                que.put(child)\n",
    "        print()\n",
    "        \n",
    "    return"
   ]
  },
  {
   "cell_type": "code",
   "execution_count": 12,
   "id": "mexican-consultancy",
   "metadata": {},
   "outputs": [],
   "source": [
    "def nextlargehelper(root,k):\n",
    "    if root is None:\n",
    "        return None\n",
    "    if root.data > k:\n",
    "        diff = root.data - k\n",
    "        node = root\n",
    "    else:\n",
    "        diff = 10000000\n",
    "        node = None\n",
    "    for child in root.children:\n",
    "        childiff,childnode = nextlargehelper(child,k)\n",
    "        if childiff < diff:\n",
    "            diff = childiff\n",
    "            node = childnode\n",
    "    return diff,node\n",
    "    "
   ]
  },
  {
   "cell_type": "code",
   "execution_count": 11,
   "id": "fifty-velvet",
   "metadata": {},
   "outputs": [],
   "source": [
    "def nextlarger(root,k):\n",
    "    diff,node = nextlargehelper(root,k)\n",
    "    return node"
   ]
  },
  {
   "cell_type": "code",
   "execution_count": 15,
   "id": "earned-assets",
   "metadata": {},
   "outputs": [
    {
     "name": "stdout",
     "output_type": "stream",
     "text": [
      "enter root data\n",
      "10\n",
      "enter the number of children of: 10\n",
      "3\n",
      "enter next child of: 10\n",
      "20\n",
      "enter next child of: 10\n",
      "30\n",
      "enter next child of: 10\n",
      "40\n",
      "enter the number of children of: 20\n",
      "2\n",
      "enter next child of: 20\n",
      "40\n",
      "enter next child of: 20\n",
      "50\n",
      "enter the number of children of: 30\n",
      "0\n",
      "enter the number of children of: 40\n",
      "0\n",
      "enter the number of children of: 40\n",
      "0\n",
      "enter the number of children of: 50\n",
      "0\n",
      "None sorry, no larger node present in tree\n"
     ]
    }
   ],
   "source": [
    "ruchika = takeinput()\n",
    "rahul = nextlarger(ruchika,50)\n",
    "if rahul:\n",
    "    print('next larger node is:',rahul.data)\n",
    "else:\n",
    "    print(rahul,'sorry, no larger node present in tree')"
   ]
  },
  {
   "cell_type": "code",
   "execution_count": null,
   "id": "optimum-player",
   "metadata": {},
   "outputs": [],
   "source": []
  }
 ],
 "metadata": {
  "kernelspec": {
   "display_name": "Python 3",
   "language": "python",
   "name": "python3"
  },
  "language_info": {
   "codemirror_mode": {
    "name": "ipython",
    "version": 3
   },
   "file_extension": ".py",
   "mimetype": "text/x-python",
   "name": "python",
   "nbconvert_exporter": "python",
   "pygments_lexer": "ipython3",
   "version": "3.9.1"
  }
 },
 "nbformat": 4,
 "nbformat_minor": 5
}
