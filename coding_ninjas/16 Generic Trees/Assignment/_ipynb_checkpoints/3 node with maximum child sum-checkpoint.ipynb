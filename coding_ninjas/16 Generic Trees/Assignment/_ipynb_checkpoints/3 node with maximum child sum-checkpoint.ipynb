{
 "cells": [
  {
   "cell_type": "code",
   "execution_count": 1,
   "id": "civic-productivity",
   "metadata": {},
   "outputs": [],
   "source": [
    "import queue\n",
    "class treenode:\n",
    "    def __init__(self,data):\n",
    "        self.data = data\n",
    "        self.children = list()\n",
    "        \n",
    "def takeinput():\n",
    "    que = queue.Queue()\n",
    "    print('enter root data')\n",
    "    root_data = int(input())\n",
    "    if root_data == -1:\n",
    "        return None\n",
    "    root = treenode(root_data)\n",
    "    que.put(root)\n",
    "    while not que.empty():\n",
    "        current = que.get()\n",
    "        print('enter number of children of ',current.data)\n",
    "        childcount = int(input())\n",
    "        for i in range(childcount):\n",
    "            print('enter next child of ',current.data)\n",
    "            child_data = int(input())\n",
    "            child = treenode(child_data)\n",
    "            current.children.append(child)\n",
    "            que.put(child)\n",
    "    return root\n",
    "\n",
    "def printlevelwise(root):\n",
    "    if root is None:\n",
    "        return \n",
    "    que = queue.Queue()\n",
    "    que.put(root)\n",
    "    while not que.empty():\n",
    "        curr = que.get()\n",
    "        print(curr.data,end=':')\n",
    "        for child in curr.children:\n",
    "            if child!= curr.children[-1]:\n",
    "                print(child.data,end=',')\n",
    "                que.put(child)\n",
    "            else:\n",
    "                print(child.data,end='')\n",
    "                que.put(child)\n",
    "        print()\n",
    "        \n",
    "    return"
   ]
  },
  {
   "cell_type": "code",
   "execution_count": 2,
   "id": "celtic-chart",
   "metadata": {},
   "outputs": [],
   "source": [
    "def maxnodesum(root):\n",
    "    if root is None:\n",
    "        return None,0\n",
    "    max_node = root\n",
    "    max_node_val = root.data\n",
    "    for child in root.children:\n",
    "        max_node_val+= child.data\n",
    "        \n",
    "    for child in root.children:\n",
    "        newchild,childvalue = maxnodesum(child)\n",
    "        if childvalue >= max_node_val:\n",
    "            max_node = newchild\n",
    "            max_node_val = childvalue\n",
    "            \n",
    "    return max_node,max_node_val"
   ]
  },
  {
   "cell_type": "code",
   "execution_count": 4,
   "id": "major-essay",
   "metadata": {},
   "outputs": [
    {
     "name": "stdout",
     "output_type": "stream",
     "text": [
      "enter root data\n",
      "10\n",
      "enter number of children of  10\n",
      "3\n",
      "enter next child of  10\n",
      "20\n",
      "enter next child of  10\n",
      "30\n",
      "enter next child of  10\n",
      "40\n",
      "enter number of children of  20\n",
      "2\n",
      "enter next child of  20\n",
      "40\n",
      "enter next child of  20\n",
      "50\n",
      "enter number of children of  30\n",
      "0\n",
      "enter number of children of  40\n",
      "0\n",
      "enter number of children of  40\n",
      "0\n",
      "enter number of children of  50\n",
      "0\n",
      "10:20,30,40\n",
      "20:40,50\n",
      "30:\n",
      "40:\n",
      "40:\n",
      "50:\n",
      "node with max value in the tree is: 20\n"
     ]
    }
   ],
   "source": [
    "root = takeinput()\n",
    "printlevelwise(root)\n",
    "maxnode,nodeval = maxnodesum(root)\n",
    "print('node with max value in the tree is:',maxnode.data)"
   ]
  },
  {
   "cell_type": "code",
   "execution_count": null,
   "id": "false-sleep",
   "metadata": {},
   "outputs": [],
   "source": []
  }
 ],
 "metadata": {
  "kernelspec": {
   "display_name": "Python 3",
   "language": "python",
   "name": "python3"
  },
  "language_info": {
   "codemirror_mode": {
    "name": "ipython",
    "version": 3
   },
   "file_extension": ".py",
   "mimetype": "text/x-python",
   "name": "python",
   "nbconvert_exporter": "python",
   "pygments_lexer": "ipython3",
   "version": "3.9.1"
  }
 },
 "nbformat": 4,
 "nbformat_minor": 5
}
