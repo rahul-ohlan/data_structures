{
 "cells": [
  {
   "cell_type": "code",
   "execution_count": 1,
   "id": "filled-knowing",
   "metadata": {},
   "outputs": [],
   "source": [
    "import queue\n",
    "class treenode:\n",
    "    def __init__(self,data):\n",
    "        self.data = data\n",
    "        self.children = list()\n",
    "        \n",
    "def takeinput():\n",
    "    print('enter root data')\n",
    "    root_data = int(input())\n",
    "    if root_data == -1:\n",
    "        return None\n",
    "    root = treenode(root_data)\n",
    "    que = queue.Queue()\n",
    "    que.put(root)\n",
    "    while not que.empty():\n",
    "        currentnode = que.get()\n",
    "        print('enter the number of children of:',currentnode.data)\n",
    "        childcount = int(input())\n",
    "        for i in range(childcount):\n",
    "            print('enter next child of:',currentnode.data)\n",
    "            child_data = int(input())\n",
    "            child = treenode(child_data)\n",
    "            currentnode.children.append(child)\n",
    "            que.put(child)\n",
    "    return root\n",
    "\n",
    "def printleveltree(root):\n",
    "    if root is None:\n",
    "        return\n",
    "    que = queue.Queue()\n",
    "    que.put(root)\n",
    "    while not que.empty():\n",
    "        current = que.get()\n",
    "        print(current.data,end=':')\n",
    "        for child in current.children:\n",
    "            if child!= current.children[-1]:\n",
    "                print(child.data,end=',')\n",
    "                que.put(child)\n",
    "            else:\n",
    "                print(child.data,end='')\n",
    "                que.put(child)\n",
    "        print()\n",
    "        \n",
    "    return"
   ]
  },
  {
   "cell_type": "code",
   "execution_count": 2,
   "id": "adolescent-companion",
   "metadata": {},
   "outputs": [],
   "source": [
    "def replacewithdepth(root,depth=0):\n",
    "    if root is None:\n",
    "        return\n",
    "    root.data = depth\n",
    "    \n",
    "    for child in root.children:\n",
    "        child = replacewithdepth(child,depth+1)\n",
    "        \n",
    "    return root"
   ]
  },
  {
   "cell_type": "code",
   "execution_count": 3,
   "id": "rational-debate",
   "metadata": {},
   "outputs": [
    {
     "name": "stdout",
     "output_type": "stream",
     "text": [
      "enter root data\n",
      "10\n",
      "enter the number of children of: 10\n",
      "3\n",
      "enter next child of: 10\n",
      "20\n",
      "enter next child of: 10\n",
      "30\n",
      "enter next child of: 10\n",
      "40\n",
      "enter the number of children of: 20\n",
      "2\n",
      "enter next child of: 20\n",
      "40\n",
      "enter next child of: 20\n",
      "50\n",
      "enter the number of children of: 30\n",
      "0\n",
      "enter the number of children of: 40\n",
      "0\n",
      "enter the number of children of: 40\n",
      "0\n",
      "enter the number of children of: 50\n",
      "0\n",
      "10:20,30,40\n",
      "20:40,50\n",
      "30:\n",
      "40:\n",
      "40:\n",
      "50:\n",
      "0:1,1,1\n",
      "1:2,2\n",
      "1:\n",
      "1:\n",
      "2:\n",
      "2:\n"
     ]
    }
   ],
   "source": [
    "root = takeinput()\n",
    "printleveltree(root)\n",
    "replacewithdepth(root)\n",
    "printleveltree(root)"
   ]
  },
  {
   "cell_type": "code",
   "execution_count": null,
   "id": "verbal-minimum",
   "metadata": {},
   "outputs": [],
   "source": []
  }
 ],
 "metadata": {
  "kernelspec": {
   "display_name": "Python 3",
   "language": "python",
   "name": "python3"
  },
  "language_info": {
   "codemirror_mode": {
    "name": "ipython",
    "version": 3
   },
   "file_extension": ".py",
   "mimetype": "text/x-python",
   "name": "python",
   "nbconvert_exporter": "python",
   "pygments_lexer": "ipython3",
   "version": "3.9.1"
  }
 },
 "nbformat": 4,
 "nbformat_minor": 5
}
