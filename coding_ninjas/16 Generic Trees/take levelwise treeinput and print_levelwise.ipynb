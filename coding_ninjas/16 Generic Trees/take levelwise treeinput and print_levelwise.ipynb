{
 "cells": [
  {
   "cell_type": "code",
   "execution_count": 5,
   "id": "informative-satisfaction",
   "metadata": {},
   "outputs": [],
   "source": [
    "from sys import setrecursionlimit\n",
    "setrecursionlimit(10**6)\n",
    "\n",
    "class treenode:\n",
    "    def __init__(self,data):\n",
    "        self.data = data\n",
    "        self.children = list()\n",
    "        \n",
    "def takeinput():\n",
    "    print('enter the root data: ')\n",
    "    root_data = int(input())\n",
    "    if root_data == -1:\n",
    "        return None\n",
    "    root = treenode(root_data)\n",
    "    \n",
    "    print('enter number of children of:',root.data)\n",
    "    childcount = int(input())\n",
    "    \n",
    "    for i in range(childcount):\n",
    "        child = takeinput()\n",
    "        root.children.append(child)\n",
    "        \n",
    "    return root\n",
    "\n",
    "def printnicely(root):\n",
    "    if root is None:\n",
    "        return\n",
    "    print(root.data,end=':')\n",
    "    for child in root.children:\n",
    "        print(child.data,end=',')\n",
    "    print()\n",
    "    for child in root.children:\n",
    "        printnicely(child)"
   ]
  },
  {
   "cell_type": "code",
   "execution_count": 2,
   "id": "necessary-thesis",
   "metadata": {},
   "outputs": [
    {
     "name": "stdout",
     "output_type": "stream",
     "text": [
      "enter the root data: \n",
      "10\n",
      "enter number of children of: 10\n",
      "2\n",
      "enter the root data: \n",
      "20\n",
      "enter number of children of: 20\n",
      "0\n",
      "enter the root data: \n",
      "30\n",
      "enter number of children of: 30\n",
      "0\n"
     ]
    }
   ],
   "source": [
    "root = takeinput()"
   ]
  },
  {
   "cell_type": "code",
   "execution_count": 6,
   "id": "fossil-value",
   "metadata": {},
   "outputs": [
    {
     "name": "stdout",
     "output_type": "stream",
     "text": [
      "10:20,30,\n",
      "20:\n",
      "30:\n"
     ]
    }
   ],
   "source": [
    "printnicely(root)"
   ]
  },
  {
   "cell_type": "code",
   "execution_count": 8,
   "id": "colonial-carrier",
   "metadata": {},
   "outputs": [],
   "source": [
    "import queue\n",
    "def takeinputlevelwise():\n",
    "    que = queue.Queue()\n",
    "    print('enter root: ')\n",
    "    root_data = int(input())\n",
    "    if root_data == -1:\n",
    "        return None\n",
    "    root = treenode(root_data)\n",
    "    que.put(root)\n",
    "    while not que.empty():\n",
    "        current_node = que.get()\n",
    "        print('enter number of children for:',current_node.data)\n",
    "        childcount = int(input())\n",
    "        for i in range(childcount):\n",
    "            print('enter next child for:',current_node.data)\n",
    "            child_data = int(input())\n",
    "            child = treenode(child_data)\n",
    "            current_node.children.append(child)\n",
    "            que.put(child)\n",
    "    return root\n",
    "    "
   ]
  },
  {
   "cell_type": "code",
   "execution_count": 10,
   "id": "engaging-radical",
   "metadata": {},
   "outputs": [],
   "source": [
    "def printlevelwise(root):\n",
    "    if root is None:\n",
    "        return None\n",
    "    que = queue.Queue()\n",
    "    que.put(root)\n",
    "    while not que.empty():\n",
    "        curr = que.get()\n",
    "        print(curr.data,end=':')\n",
    "        for child in curr.children:\n",
    "            if child == curr.children[-1]:\n",
    "                print(child.data,end='')\n",
    "                que.put(child)\n",
    "            else:\n",
    "                print(child.data,end=',')\n",
    "                que.put(child)\n",
    "        print()\n",
    "    return"
   ]
  },
  {
   "cell_type": "code",
   "execution_count": 11,
   "id": "chinese-frontier",
   "metadata": {},
   "outputs": [
    {
     "name": "stdout",
     "output_type": "stream",
     "text": [
      "enter root: \n",
      "10\n",
      "enter number of children for: 10\n",
      "3\n",
      "enter next child for: 10\n",
      "20\n",
      "enter next child for: 10\n",
      "30\n",
      "enter next child for: 10\n",
      "40\n",
      "enter number of children for: 20\n",
      "2\n",
      "enter next child for: 20\n",
      "40\n",
      "enter next child for: 20\n",
      "50\n",
      "enter number of children for: 30\n",
      "0\n",
      "enter number of children for: 40\n",
      "0\n",
      "enter number of children for: 40\n",
      "0\n",
      "enter number of children for: 50\n",
      "0\n",
      "10:20,30,40\n",
      "20:40,50\n",
      "30:\n",
      "40:\n",
      "40:\n",
      "50:\n"
     ]
    }
   ],
   "source": [
    "output = takeinputlevelwise()\n",
    "printlevelwise(output)"
   ]
  },
  {
   "cell_type": "code",
   "execution_count": null,
   "id": "authentic-arthritis",
   "metadata": {},
   "outputs": [],
   "source": []
  }
 ],
 "metadata": {
  "kernelspec": {
   "display_name": "Python 3",
   "language": "python",
   "name": "python3"
  },
  "language_info": {
   "codemirror_mode": {
    "name": "ipython",
    "version": 3
   },
   "file_extension": ".py",
   "mimetype": "text/x-python",
   "name": "python",
   "nbconvert_exporter": "python",
   "pygments_lexer": "ipython3",
   "version": "3.9.1"
  }
 },
 "nbformat": 4,
 "nbformat_minor": 5
}
