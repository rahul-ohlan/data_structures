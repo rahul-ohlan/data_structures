{
 "cells": [
  {
   "cell_type": "code",
   "execution_count": 1,
   "id": "aboriginal-breath",
   "metadata": {},
   "outputs": [],
   "source": [
    "class treenode:\n",
    "    def __init__(self,data):\n",
    "        self.data = data\n",
    "        self.children = list()"
   ]
  },
  {
   "cell_type": "code",
   "execution_count": 2,
   "id": "quiet-appearance",
   "metadata": {},
   "outputs": [],
   "source": [
    "def printTreenicely(root):\n",
    "    if root is None:\n",
    "        return\n",
    "    \n",
    "    print(root.data,end=':')\n",
    "    for child in root.children:\n",
    "        print(child.data,end=',')\n",
    "    print()\n",
    "    for child in root.children:\n",
    "        printTreenicely(child)"
   ]
  },
  {
   "cell_type": "code",
   "execution_count": 5,
   "id": "effective-wallet",
   "metadata": {},
   "outputs": [],
   "source": [
    "def takeinput():\n",
    "    print('enter the root data: ')\n",
    "    rootdata = int(input())\n",
    "    if rootdata == -1:\n",
    "        return None\n",
    "    root = treenode(rootdata)\n",
    "    print('enter number of chidren of',rootdata)\n",
    "    childrenCount = int(input())\n",
    "    for i in range(childrenCount):\n",
    "        child = takeinput()\n",
    "        root.children.append(child)\n",
    "    return root\n"
   ]
  },
  {
   "cell_type": "code",
   "execution_count": 6,
   "id": "lasting-strength",
   "metadata": {},
   "outputs": [],
   "source": [
    "def numnodes(root):\n",
    "    \n",
    "    if root == None:\n",
    "        return 0\n",
    "    \n",
    "    count =1\n",
    "    for child in root.children:\n",
    "        count+= numnodes(child)\n",
    "        \n",
    "    return count"
   ]
  },
  {
   "cell_type": "code",
   "execution_count": 7,
   "id": "australian-monte",
   "metadata": {},
   "outputs": [
    {
     "name": "stdout",
     "output_type": "stream",
     "text": [
      "enter the root data: \n",
      "1\n",
      "enter number of chidren of 1\n",
      "3\n",
      "enter the root data: \n",
      "2\n",
      "enter number of chidren of 2\n",
      "0\n",
      "enter the root data: \n",
      "3\n",
      "enter number of chidren of 3\n",
      "2\n",
      "enter the root data: \n",
      "5\n",
      "enter number of chidren of 5\n",
      "0\n",
      "enter the root data: \n",
      "6\n",
      "enter number of chidren of 6\n",
      "3\n",
      "enter the root data: \n",
      "7\n",
      "enter number of chidren of 7\n",
      "0\n",
      "enter the root data: \n",
      "8\n",
      "enter number of chidren of 8\n",
      "0\n",
      "enter the root data: \n",
      "9\n",
      "enter number of chidren of 9\n",
      "0\n",
      "enter the root data: \n",
      "4\n",
      "enter number of chidren of 4\n",
      "0\n",
      "1:2,3,4,\n",
      "2:\n",
      "3:5,6,\n",
      "5:\n",
      "6:7,8,9,\n",
      "7:\n",
      "8:\n",
      "9:\n",
      "4:\n",
      "9\n"
     ]
    }
   ],
   "source": [
    "root = takeinput()\n",
    "printTreenicely(root)\n",
    "print(numnodes(root))"
   ]
  },
  {
   "cell_type": "code",
   "execution_count": null,
   "id": "demonstrated-hepatitis",
   "metadata": {},
   "outputs": [],
   "source": []
  }
 ],
 "metadata": {
  "kernelspec": {
   "display_name": "Python 3",
   "language": "python",
   "name": "python3"
  },
  "language_info": {
   "codemirror_mode": {
    "name": "ipython",
    "version": 3
   },
   "file_extension": ".py",
   "mimetype": "text/x-python",
   "name": "python",
   "nbconvert_exporter": "python",
   "pygments_lexer": "ipython3",
   "version": "3.9.1"
  }
 },
 "nbformat": 4,
 "nbformat_minor": 5
}
