{
 "cells": [
  {
   "cell_type": "code",
   "execution_count": null,
   "id": "essential-murray",
   "metadata": {},
   "outputs": [],
   "source": [
    "class Student:\n",
    "    def __init__(self,name,age):\n",
    "        self.name = \"rohan\"\n",
    "        self.age = 20\n",
    "        \n",
    "    def print_details():\n",
    "        print(self.name)\n",
    "        print(self.age)\n",
    "        \n",
    "s = Student('Rahul',21)\n",
    "s.print_details()"
   ]
  },
  {
   "cell_type": "code",
   "execution_count": 1,
   "id": "experimental-commons",
   "metadata": {},
   "outputs": [],
   "source": [
    "class Vehicle:\n",
    "    def __init__(self,color,maxSpeed):\n",
    "        self.color = color\n",
    "        self.__maxSpeed = maxSpeed\n",
    "        \n",
    "    def getMaxSpeed(self):\n",
    "        return self.__maxSpeed\n",
    "    \n",
    "    def setMaxSpeed(self,maxSpeed):\n",
    "        self.__maxSpeed = maxSpeed\n",
    "        \n",
    "    def print(self):\n",
    "        print('color: ',self.color)\n",
    "        print('MaxSpeed: ',self.__maxSpeed)\n",
    "        \n",
    "class Car(Vehicle):\n",
    "    def __init__(self,color,maxSpeed,numGears,isConvertible):\n",
    "        super().__init__(color,maxSpeed)\n",
    "        self.numGears = numGears\n",
    "        self.isConvertible = isConvertible\n",
    "        \n",
    "    def print(self):\n",
    "#         print('color: ',self.color)\n",
    "#         print('maxSpeed:',self.getMaxSpeed())\n",
    "#         self.print()\n",
    "        print('numGears: ',self.numGears)\n",
    "        print('isConvertible: ',self.isConvertible)\n",
    "        \n"
   ]
  },
  {
   "cell_type": "code",
   "execution_count": 2,
   "id": "alive-mandate",
   "metadata": {},
   "outputs": [
    {
     "name": "stdout",
     "output_type": "stream",
     "text": [
      "numGears:  3\n",
      "isConvertible:  False\n"
     ]
    }
   ],
   "source": [
    "c = Car('red',45,3,False)\n",
    "c.print()\n",
    "v = Vehicle('black',80)\n"
   ]
  },
  {
   "cell_type": "code",
   "execution_count": 3,
   "id": "recognized-singer",
   "metadata": {},
   "outputs": [],
   "source": [
    "# MULTIPLE INHERITENCE"
   ]
  },
  {
   "cell_type": "code",
   "execution_count": 11,
   "id": "universal-earthquake",
   "metadata": {},
   "outputs": [
    {
     "name": "stdout",
     "output_type": "stream",
     "text": [
      "name of child is: ACBD\n"
     ]
    }
   ],
   "source": [
    "class Mother:\n",
    "    \n",
    "    def __init__(self):\n",
    "        self.name = 'XYX'\n",
    "        \n",
    "    def print(self):\n",
    "        \n",
    "        print('Print of Mother Called ')\n",
    "        \n",
    "class Father:\n",
    "    \n",
    "    def __init__(self):\n",
    "        \n",
    "        self.name = 'ACBD'\n",
    "        \n",
    "    def print(self):\n",
    "        \n",
    "        print('Print of Father Called')\n",
    "        \n",
    "class Child(Father,Mother): # depends on the order in which classes are inherited in the child class\n",
    "    def __init__(self):\n",
    "        \n",
    "        super().__init__()\n",
    "        \n",
    "    def printChild(self):\n",
    "        \n",
    "        print('name of child is:',self.name)\n",
    "        \n",
    "        \n",
    "c = Child()\n",
    "c.printChild()"
   ]
  },
  {
   "cell_type": "code",
   "execution_count": 12,
   "id": "connected-pharmacology",
   "metadata": {},
   "outputs": [],
   "source": [
    "# method resolution order"
   ]
  },
  {
   "cell_type": "code",
   "execution_count": 1,
   "id": "searching-suspension",
   "metadata": {},
   "outputs": [
    {
     "name": "stdout",
     "output_type": "stream",
     "text": [
      "name of child is: kaley\n"
     ]
    }
   ],
   "source": [
    "class Mother:\n",
    "    \n",
    "    def __init__(self):\n",
    "        self.name = 'kaley'\n",
    "        \n",
    "    def print(self):\n",
    "        \n",
    "        print('Print of Mother Called ')\n",
    "        \n",
    "class Father:\n",
    "    \n",
    "    def __init__(self):\n",
    "        \n",
    "        self.name = 'cook'\n",
    "        super().__init__()\n",
    "        \n",
    "    def print(self):\n",
    "        \n",
    "        print('Print of Father Called')\n",
    "        \n",
    "class Child(Father,Mother): # depends on the order in which classes are inherited in the child class\n",
    "    def __init__(self):\n",
    "        \n",
    "        super().__init__()\n",
    "        \n",
    "    def print(self):\n",
    "        \n",
    "        print('name of child is:',self.name)\n",
    "        \n",
    "        \n",
    "c = Child()\n",
    "c.print()"
   ]
  },
  {
   "cell_type": "code",
   "execution_count": 18,
   "id": "enabling-audio",
   "metadata": {},
   "outputs": [],
   "source": [
    "class Formula:\n",
    "    \n",
    "    def __init__(self,tyre,engine,track):\n",
    "        \n",
    "        self.tyre = tyre\n",
    "        self.engine = engine\n",
    "        self.track = track\n",
    "        \n",
    "    def printquote(self):\n",
    "        print('using this in redbull class')\n",
    "        \n",
    "class redbull(Formula):\n",
    "    \n",
    "    def __init__(self,chassis,wheels,powerUnit,circuit):\n",
    "        \n",
    "        super().__init__(wheels,powerUnit,circuit)\n",
    "        self.chassis = chassis\n",
    "        \n",
    "    def printCar(self):\n",
    "        \n",
    "        print(self.chassis)\n",
    "        print(self.tyre)\n",
    "        print(self.engine)\n",
    "        print(self.track)\n",
    "        \n",
    "        "
   ]
  },
  {
   "cell_type": "code",
   "execution_count": 19,
   "id": "classified-registrar",
   "metadata": {},
   "outputs": [
    {
     "name": "stdout",
     "output_type": "stream",
     "text": [
      "rb16\n",
      "pirelli\n",
      "honda\n",
      "baku\n",
      "using this in redbull class\n"
     ]
    }
   ],
   "source": [
    "car = redbull('rb16','pirelli','honda','baku')\n",
    "car.printCar()\n",
    "car.printquote()"
   ]
  },
  {
   "cell_type": "code",
   "execution_count": null,
   "id": "adverse-clarity",
   "metadata": {},
   "outputs": [],
   "source": []
  }
 ],
 "metadata": {
  "kernelspec": {
   "display_name": "Python 3",
   "language": "python",
   "name": "python3"
  },
  "language_info": {
   "codemirror_mode": {
    "name": "ipython",
    "version": 3
   },
   "file_extension": ".py",
   "mimetype": "text/x-python",
   "name": "python",
   "nbconvert_exporter": "python",
   "pygments_lexer": "ipython3",
   "version": "3.9.1"
  }
 },
 "nbformat": 4,
 "nbformat_minor": 5
}
