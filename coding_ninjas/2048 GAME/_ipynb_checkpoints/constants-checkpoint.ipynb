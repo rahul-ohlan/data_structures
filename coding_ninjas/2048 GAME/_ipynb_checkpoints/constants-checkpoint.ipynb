{
 "cells": [
  {
   "cell_type": "code",
   "execution_count": null,
   "id": "significant-cosmetic",
   "metadata": {},
   "outputs": [],
   "source": [
    "SIZE = 100\n",
    "GRID_LEN = 4\n",
    "GRID_PADDING = 10\n",
    "\n",
    "BACKGROUND_COLOR_GAME = \"#92877d\"\n",
    "BACKGROUND_COLOR_CELL_EMPTY = \"#9e948a\"\n",
    "\n",
    "BACKGROUND_COLOR_DICT = {2 : \"#eee4da\", 4: \"#ede0c8\", 8: \"#f2b179\", 16: \"#f59563\", 32: \"#f67c5f\", 64: \"#f65e3b\", 128: \"#edcf72\"\n",
    "                        256: \"#edcc61\", 512: \"#edc850\", 1024: \"#edc53f\", 2048: \"edc22e\"}\n",
    "\n",
    "CELL_COLOR_DICT = {2 : \"#776e65\", 4: \"#776e65\", 8: \"#f9f6f2\", 16: \"#f9f6f2\", 32: \"#f9f6f2\", 64: \"#f9f6f2\", 128: \"#f9f6f2\"\n",
    "                        256: \"#f9f6f2\", 512: \"#f9f6f2\", 1024: \"#f9f6f2\", 2048: \"f9f6f2\"}\n",
    "\n",
    "\n",
    "FONT = {\"Verdana\", 40, \"bold\"}\n",
    "\n",
    "KEY_UP = \"w\"\n",
    "KEY_DOWN = \"s\"\n",
    "KEY_LEFT = \"a\"\n",
    "KEY_RIGHT = \"d\""
   ]
  }
 ],
 "metadata": {
  "kernelspec": {
   "display_name": "Python 3",
   "language": "python",
   "name": "python3"
  },
  "language_info": {
   "codemirror_mode": {
    "name": "ipython",
    "version": 3
   },
   "file_extension": ".py",
   "mimetype": "text/x-python",
   "name": "python",
   "nbconvert_exporter": "python",
   "pygments_lexer": "ipython3",
   "version": "3.9.1"
  }
 },
 "nbformat": 4,
 "nbformat_minor": 5
}
