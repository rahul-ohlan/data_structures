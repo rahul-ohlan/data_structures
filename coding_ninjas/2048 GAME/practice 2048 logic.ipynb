(function (wa, $) {
  var ui = wa.UI = wa.UI || {};
  var _window = wa.Core.Window;
  var _external = wa.Utils.External;
  var _instrument = wa.Utils.Instrument;
  var _settings = wa.Utils.Settings;
  const TOGGLE_COUNT = "toggle_count";

  ui.accept_extension = function () {
    var $el = {
      cardImage: $(".card__image"),
      cardContent: $(".card__content"),
      contentInfoTitle: $("#info-title"),
      contentInfoText: $("#info-text"),
      checkboxQuestion: $("#checkbox-question"),
      checkboxInput: $("#set-secure-search-checkbox"),
      doneButton: $("#done"),
      toast: $(".toast"),
      setSecureSearchLabel: $("#set-secure-search-label"),
    };

    var variantsMap = {
      // Toast variation phase 2
      1: {
        InfoTitle: "TOAST_VARIANT_1_TITLE",
        InfoText: "TOAST_VARIANT_1_INFO",
        Question: "TOAST_VARIANT_QUESTION",
        Label: "TOAST_VARIANT_CHECKLIST",
        ButtonText: "TOAST_VARIANT_BUTTON",
        ToastType: "variantOne",
      },
      2: {
        InfoTitle: "TOAST_VARIANT_2_TITLE",
        InfoText: "TOAST_VARIANT_2_INFO",
        Question: "TOAST_VARIANT_QUESTION",
        Label: "TOAST_VARIANT_CHECKLIST",
        ButtonText: "TOAST_VARIANT_BUTTON",
        ToastType: "variantTwo",
      },
      // Toast variation phase 3 cohort: 1
      8: {
        InfoTitle: "TOAST_VARIANT_TITLE_NOT_SETUP",
        InfoText: "TOAST_VARIANT_1_INFO",
        Question: "TOAST_VARIANT_QUESTION",
        Label: "TOAST_VARIANT_CHECKLIST",        
        ButtonText: "TOAST_VARIANT_BUTTON",
        BtnTxtChangable: {
          Checked: "TOAST_VARIANT_BUTTON",
          Unchecked: "TOAST_VARIANT_BUTTON_UNPROTECTED",
        },
        ToastType: "variantOne",
      },
      10: {
        InfoTitle: "TOAST_VARIANT_TITLE_FINISH_SETUP",
        InfoText: "TOAST_VARIANT_2_INFO",
        Question: "TOAST_VARIANT_QUESTION",
        Label: "TOAST_VARIANT_CHECKLIST",
        ButtonText: "TOAST_VARIANT_BUTTON",
        BtnTxtChangable: {
          Checked: "TOAST_VARIANT_BUTTON",
          Unchecked: "TOAST_VARIANT_BUTTON_UNPROTECTED",
        },
        ToastType: "variantTwo",
      },
      12: {
        InfoTitle: "TOAST_VARIANT_12_TITLE",
        InfoText: "TOAST_VARIANT_1_INFO",
        Question: "TOAST_VARIANT_QUESTION",
        Label: "TOAST_VARIANT_CHECKLIST",
        ButtonText: "TOAST_VARIANT_BUTTON",
        BtnTxtChangable: {
          Checked: "TOAST_VARIANT_BUTTON",
          Unchecked: "TOAST_VARIANT_BUTTON_NOT_WANT",
        },
        ToastType: "RegularToast",
      },
      // Toast variation phase 3 cohort: 2
      14: {
        InfoTitle: "TOAST_VARIANT_TITLE_NOT_SETUP",
        InfoText: "TOAST_VARIANT_1_INFO",
        Question: "TOAST_VARIANT_QUESTION",
        Label: "TOAST_VARIANT_CHECKLIST",
        ButtonText: "TOAST_VARIANT_BUTTON",
        ToastType: "variantOne",
      },
      16: {
        InfoTitle: "TOAST_VARIANT_TITLE_FINISH_SETUP",
        InfoText: "TOAST_VARIANT_2_INFO",
        Question: "TOAST_VARIANT_QUESTION",
        Label: "TOAST_VARIANT_CHECKLIST",
        ButtonText: "TOAST_VARIANT_BUTTON",
        ToastType: "variantTwo",
      },
      18: {
        InfoTitle: "TOAST_VARIANT_12_TITLE",
        InfoText: "TOAST_VARIANT_1_INFO",
        Question: "TOAST_VARIANT_QUESTION",
        Label: "TOAST_VARIANT_CHECKLIST",
        ButtonText: "TOAST_VARIANT_BUTTON",
        ToastType: "RegularToast",
      },
      // Toast variation phase 3 cohort: 3
      20: {
        InfoTitle: "TOAST_VARIANT_TITLE_NOT_SETUP",
        InfoText: "TOAST_VARIANT_1_INFO",
        Question: "TOAST_VARIANT_QUESTION",
        Label: "TOAST_VARIANT_CHECKLIST",
        ButtonText: "TOAST_VARIANT_BUTTON",
        BtnTxtChangable: {
          Checked: "TOAST_VARIANT_BUTTON",
          Unchecked: "TOAST_VARIANT_BUTTON_UNPROTECTED",
        },
        ToastType: "variantOne",
      },
      22: {
        InfoTitle: "TOAST_VARIANT_TITLE_FINISH_SETUP",
        InfoText: "TOAST_VARIANT_2_INFO",
        Question: "TOAST_VARIANT_QUESTION",
        Label: "TOAST_VARIANT_CHECKLIST",
        ButtonText: "TOAST_VARIANT_BUTTON",
        BtnTxtChangable: {
          Checked: "TOAST_VARIANT_BUTTON",
          Unchecked: "TOAST_VARIANT_BUTTON_UNPROTECTED",
        },
        ToastType: "variantTwo",
      },
      // Toast variation phase 3 cohort: 4
      24: {
        InfoTitle: "TOAST_VARIANT_TITLE_NOT_SETUP",
        InfoText: "TOAST_VARIANT_1_INFO",