{
 "cells": [
  {
   "cell_type": "code",
   "execution_count": 1,
   "id": "elementary-young",
   "metadata": {},
   "outputs": [
    {
     "name": "stdout",
     "output_type": "stream",
     "text": [
      "Name:= pilot\n",
      "Age: =  21\n",
      "percentage= 82\n"
     ]
    }
   ],
   "source": [
    "from datetime import date\n",
    "class Student:\n",
    "    \n",
    "    passingPercentage = 80\n",
    "    \n",
    "    def __init__(self,name,age=15,percentage=80):\n",
    "        self.name = name\n",
    "        self.age =age\n",
    "        self.percentage = percentage\n",
    "    def studentdetails(self):\n",
    "        print('Name:=',self.name)\n",
    "        print('Age: = ',self.age)\n",
    "        print('percentage=',self.percentage)\n",
    "        pass\n",
    "    @classmethod\n",
    "    def BirthYear(cls,name,year,percentage):\n",
    "        return cls(name,date.today().year-year,percentage)\n",
    "    \n",
    "    \n",
    "    def isPassed(self):\n",
    "        if self.percentage > Student.passingPercentage:\n",
    "            print('student is passed')\n",
    "        else:\n",
    "            print('student is not passed')\n",
    "    \n",
    "    @staticmethod\n",
    "    def welcomeToSchool():\n",
    "        print('hey! welcome to school')\n",
    "    \n",
    "    @staticmethod\n",
    "    def isTeen(age):\n",
    "        return age>16 \n",
    "s1 = Student('Rahul')\n",
    "s1 = Student.BirthYear('pilot',2000,82)\n",
    "s1.studentdetails()"
   ]
  },
  {
   "cell_type": "code",
   "execution_count": null,
   "id": "accurate-definition",
   "metadata": {},
   "outputs": [],
   "source": []
  }
 ],
 "metadata": {
  "kernelspec": {
   "display_name": "Python 3",
   "language": "python",
   "name": "python3"
  },
  "language_info": {
   "codemirror_mode": {
    "name": "ipython",
    "version": 3
   },
   "file_extension": ".py",
   "mimetype": "text/x-python",
   "name": "python",
   "nbconvert_exporter": "python",
   "pygments_lexer": "ipython3",
   "version": "3.9.1"
  }
 },
 "nbformat": 4,
 "nbformat_minor": 5
}
