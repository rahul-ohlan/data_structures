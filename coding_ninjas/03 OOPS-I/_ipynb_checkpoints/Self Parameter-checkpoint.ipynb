{
 "cells": [
  {
   "cell_type": "code",
   "execution_count": 8,
   "id": "chief-terror",
   "metadata": {},
   "outputs": [
    {
     "name": "stdout",
     "output_type": "stream",
     "text": [
      "name= rahul\n",
      "percentage= 40\n",
      "name= rahul\n",
      "percentage= 40\n",
      "student not passed\n"
     ]
    }
   ],
   "source": [
    "class Student:\n",
    "    passingpercentage = 80\n",
    "    def studentdetails(self):\n",
    "        self.name = 'rahul'\n",
    "        self.rollnumber = 30\n",
    "        self.percentage = 40\n",
    "        print('name=',self.name)\n",
    "        print('percentage=',self.percentage)\n",
    "        pass\n",
    "    def ispassed(self):\n",
    "        if self.percentage > Student.passingpercentage:\n",
    "            print('student is passed')\n",
    "        else:\n",
    "            print('student not passed')\n",
    "        pass\n",
    "s1 = Student()\n",
    "s1.studentdetails()\n",
    "Student.studentdetails(s1)\n",
    "s1.ispassed()\n",
    "#Class_name.fucntion(object_name)"
   ]
  },
  {
   "cell_type": "code",
   "execution_count": 17,
   "id": "included-flood",
   "metadata": {},
   "outputs": [
    {
     "name": "stdout",
     "output_type": "stream",
     "text": [
      "rahul ohlan 60\n"
     ]
    }
   ],
   "source": [
    "class Student:\n",
    "    name = 'rahul ohlan'\n",
    "    def store_details(self):\n",
    "        self.age = 60\n",
    "    def print_details(self):\n",
    "        print(self.name, end=' ')\n",
    "        print(self.age)\n",
    "s = Student()\n",
    "s.store_details()\n",
    "s.print_details()"
   ]
  },
  {
   "cell_type": "code",
   "execution_count": 23,
   "id": "stable-madison",
   "metadata": {},
   "outputs": [
    {
     "name": "stdout",
     "output_type": "stream",
     "text": [
      "60\n"
     ]
    }
   ],
   "source": [
    "class Student:\n",
    "    name = 'rahul'\n",
    "    def store_details(self):\n",
    "        self.age = 60\n",
    "    def print_age(self):\n",
    "        print(self.age)\n",
    "s = Student()\n",
    "s.store_details()\n",
    "s1 = Student()\n",
    "s1.store_details()\n",
    "s1.print_age()"
   ]
  },
  {
   "cell_type": "code",
   "execution_count": 30,
   "id": "mexican-morocco",
   "metadata": {},
   "outputs": [
    {
     "name": "stdout",
     "output_type": "stream",
     "text": [
      "name= rahul\n",
      "percentage= 40\n",
      "name= rahul\n",
      "percentage= 40\n",
      "student not passed\n",
      "hey! welcome to school\n"
     ]
    }
   ],
   "source": [
    "class Student:\n",
    "    passingpercentage = 80\n",
    "    def studentdetails(self):\n",
    "        self.name = 'rahul'\n",
    "        self.rollnumber = 30\n",
    "        self.percentage = 40\n",
    "        print('name=',self.name)\n",
    "        print('percentage=',self.percentage)\n",
    "        pass\n",
    "    def ispassed(self):\n",
    "        if self.percentage > Student.passingpercentage:\n",
    "            print('student is passed')\n",
    "        else:\n",
    "            print('student not passed')\n",
    "        pass\n",
    "    @staticmethod\n",
    "    def welcomeToSchool():\n",
    "        print('hey! welcome to school')\n",
    "        \n",
    "s1 = Student()\n",
    "s1.studentdetails()\n",
    "Student.studentdetails(s1)\n",
    "s1.ispassed()\n",
    "s1.welcomeToSchool()\n",
    "#Class_name.fucntion(object_name)"
   ]
  },
  {
   "cell_type": "code",
   "execution_count": null,
   "id": "recent-mouth",
   "metadata": {},
   "outputs": [],
   "source": []
  }
 ],
 "metadata": {
  "kernelspec": {
   "display_name": "Python 3",
   "language": "python",
   "name": "python3"
  },
  "language_info": {
   "codemirror_mode": {
    "name": "ipython",
    "version": 3
   },
   "file_extension": ".py",
   "mimetype": "text/x-python",
   "name": "python",
   "nbconvert_exporter": "python",
   "pygments_lexer": "ipython3",
   "version": "3.9.1"
  }
 },
 "nbformat": 4,
 "nbformat_minor": 5
}
