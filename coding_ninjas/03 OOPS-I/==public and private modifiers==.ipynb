{
 "cells": [
  {
   "cell_type": "code",
   "execution_count": 5,
   "id": "disciplinary-adolescent",
   "metadata": {},
   "outputs": [
    {
     "name": "stdout",
     "output_type": "stream",
     "text": [
      "Rahul\n",
      "hey! welcome to school\n"
     ]
    }
   ],
   "source": [
    "class Student:\n",
    "    \n",
    "    passingPercentage = 80\n",
    "    def __init__(self,name,age=15,percentage=80):\n",
    "        self.__name = name\n",
    "        self.age = age\n",
    "        self.percentage = percentage\n",
    "    def studentdetails(self):\n",
    "        print('Name:',self.__name)\n",
    "        print('Age',self.age)\n",
    "        print('Percentage',self.percentage)\n",
    "    def isPassed(self):\n",
    "        if self.percentage > Student.passingPercentage:\n",
    "            print('student is passed')\n",
    "        else:\n",
    "            print('student is not passed')\n",
    "            \n",
    "    @staticmethod\n",
    "    def welcomeToSchool():\n",
    "        print('hey! welcome to school')\n",
    "        \n",
    "s1 = Student('Rahul')\n",
    "print(s1._Student__name)\n",
    "s1.welcomeToSchool()\n",
    "# print(s1.studentdetails())\n",
    "# print(s1.age)\n",
    "# s1.name = 'Ohlan'\n",
    "# s1.age = 21\n",
    "# print(s1.name)\n",
    "# print(s1.age)\n",
    "\n",
    "# Name Mangling : You can access the private variables using this SYNTAX: object._classname__variable"
   ]
  },
  {
   "cell_type": "code",
   "execution_count": null,
   "id": "ambient-ceiling",
   "metadata": {},
   "outputs": [],
   "source": []
  }
 ],
 "metadata": {
  "kernelspec": {
   "display_name": "Python 3",
   "language": "python",
   "name": "python3"
  },
  "language_info": {
   "codemirror_mode": {
    "name": "ipython",
    "version": 3
   },
   "file_extension": ".py",
   "mimetype": "text/x-python",
   "name": "python",
   "nbconvert_exporter": "python",
   "pygments_lexer": "ipython3",
   "version": "3.9.1"
  }
 },
 "nbformat": 4,
 "nbformat_minor": 5
}
