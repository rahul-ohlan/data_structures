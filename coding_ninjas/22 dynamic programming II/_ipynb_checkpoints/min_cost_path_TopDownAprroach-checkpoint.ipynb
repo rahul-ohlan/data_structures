{
 "cells": [
  {
   "cell_type": "code",
   "execution_count": 12,
   "id": "orange-necessity",
   "metadata": {},
   "outputs": [],
   "source": [
    "def minCost_recursive(cost,i,j,n,m):\n",
    "    \n",
    "    \n",
    "    if i==n-1 and j == m-1:\n",
    "        return cost[i][j]\n",
    "    \n",
    "    if i>= n or j>=m:\n",
    "        return float('inf')\n",
    "    \n",
    "    a = minCost_recursive(cost,i+1,j,n,m)\n",
    "    \n",
    "    b = minCost_recursive(cost,i,j+1,n,m)\n",
    "    \n",
    "    c = minCost_recursive(cost,i+1,j+1,n,m)\n",
    "    \n",
    "    \n",
    "    res = cost[i][j] + min(a,b,c)\n",
    "    \n",
    "    return res"
   ]
  },
  {
   "cell_type": "code",
   "execution_count": 13,
   "id": "formal-formation",
   "metadata": {},
   "outputs": [
    {
     "name": "stdout",
     "output_type": "stream",
     "text": [
      "30\n"
     ]
    }
   ],
   "source": [
    "cost = [[1,7,5],[8,13,21],[10,14,16]]\n",
    "i,j = 0,0\n",
    "n = len(cost)\n",
    "m = len(cost[0])\n",
    "print(minCost_recursive(cost,i,j,n,m))"
   ]
  },
  {
   "cell_type": "code",
   "execution_count": 18,
   "id": "satisfactory-occasions",
   "metadata": {},
   "outputs": [],
   "source": [
    "def minCost_memoisation(cost,i,j,n,m,dp_arr):\n",
    "    \n",
    "    if i==n-1 and j==m-1:\n",
    "        return cost[i][j]\n",
    "    \n",
    "    if i>=n or j>= m:\n",
    "        return float('inf')\n",
    "    \n",
    "    if dp_arr[i+1][j] == float('inf'):\n",
    "        a = minCost_memoisation(cost,i+1,j,n,m,dp_arr)\n",
    "        dp_arr[i+1][j] = a\n",
    "    else:\n",
    "        a = dp_arr[i+1][j]\n",
    "        \n",
    "    if dp_arr[i][j+1] == float('inf'):\n",
    "        b = minCost_memoisation(cost,i,j+1,n,m,dp_arr)\n",
    "        dp_arr[i][j+1] = b\n",
    "    else:\n",
    "        b = dp_arr[i][j+1]\n",
    "        \n",
    "    if dp_arr[i+1][j+1] == float('inf'):\n",
    "        c = minCost_memoisation(cost,i+1,j+1,n,m,dp_arr)\n",
    "        dp_arr[i+1][j+1] = c\n",
    "    else:\n",
    "        c = dp_arr[i+1][j+1]\n",
    "        \n",
    "    res = cost[i][j] + min(a,b,c)\n",
    "    \n",
    "    return res\n",
    "    \n",
    "\n",
    "    # to take care of negative integers, instead of \"-1\" in dp_array, use float('inf')"
   ]
  },
  {
   "cell_type": "code",
   "execution_count": 19,
   "id": "second-roberts",
   "metadata": {},
   "outputs": [
    {
     "name": "stdout",
     "output_type": "stream",
     "text": [
      "30\n"
     ]
    }
   ],
   "source": [
    "cost = [[1,7,5],[8,13,21],[10,14,16]]\n",
    "i,j = 0,0\n",
    "n = len(cost)\n",
    "m = len(cost[0])\n",
    "dp = [[float('inf') for j in range(m+1)] for i in range(n+1)]\n",
    "print(minCost_memoisation(cost,i,j,n,m,dp))"
   ]
  },
  {
   "cell_type": "code",
   "execution_count": 1,
   "id": "aware-burton",
   "metadata": {},
   "outputs": [],
   "source": [
    "def minCostIteratively_TD(cost,n,m):\n",
    "    \n",
    "    res_array = [[float('inf') for j in range(m+1)] for i in range(n+1)]\n",
    "    \n",
    "    for i in range(1,n+1):\n",
    "        \n",
    "        for j in range(1,m+1):\n",
    "            if i == 1 and j== 1:\n",
    "                res_array[i][j] = cost[0][0]\n",
    "                continue\n",
    "            a = res_array[i][j-1]\n",
    "            b = res_array[i-1][j]\n",
    "            c = res_array[i-1][j-1]\n",
    "            \n",
    "            res_array[i][j] = cost[i-1][j-1] + min(a,b,c)\n",
    "            \n",
    "    return res_array[n][m]\n",
    "    "
   ]
  },
  {
   "cell_type": "code",
   "execution_count": 2,
   "id": "hispanic-picnic",
   "metadata": {},
   "outputs": [
    {
     "name": "stdout",
     "output_type": "stream",
     "text": [
      "30\n"
     ]
    }
   ],
   "source": [
    "cost = [[1,7,5],[8,13,21],[10,14,16]]\n",
    "n = len(cost)\n",
    "m = len(cost[0])\n",
    "print(minCostIteratively_TD(cost,n,m))"
   ]
  },
  {
   "cell_type": "code",
   "execution_count": null,
   "id": "western-headset",
   "metadata": {},
   "outputs": [],
   "source": []
  }
 ],
 "metadata": {
  "kernelspec": {
   "display_name": "Python 3",
   "language": "python",
   "name": "python3"
  },
  "language_info": {
   "codemirror_mode": {
    "name": "ipython",
    "version": 3
   },
   "file_extension": ".py",
   "mimetype": "text/x-python",
   "name": "python",
   "nbconvert_exporter": "python",
   "pygments_lexer": "ipython3",
   "version": "3.9.1"
  }
 },
 "nbformat": 4,
 "nbformat_minor": 5
}
