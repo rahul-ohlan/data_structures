{
 "cells": [
  {
   "cell_type": "code",
   "execution_count": 28,
   "id": "stone-garbage",
   "metadata": {},
   "outputs": [],
   "source": [
    "def LCS_recursive(string1,string2,n,m,i,j):\n",
    "    \n",
    "    \n",
    "    if i>=n or j>=m:\n",
    "        return 0\n",
    "    \n",
    "    if string1[i]!=string2[j]:\n",
    "        \n",
    "        a = LCS_recursive(string1,string2,n,m,i+1,j)\n",
    "\n",
    "        b = LCS_recursive(string1,string2,n,m,i,j+1)\n",
    "        \n",
    "        res = max(a,b)\n",
    "        return res\n",
    "    \n",
    "    else:\n",
    "        res = 1 + LCS_recursive(string1,string2,n,m,i+1,j+1)\n",
    "        \n",
    "        return res\n",
    "    \n",
    "    "
   ]
  },
  {
   "cell_type": "code",
   "execution_count": 29,
   "id": "ethical-ending",
   "metadata": {},
   "outputs": [
    {
     "name": "stdout",
     "output_type": "stream",
     "text": [
      "5\n"
     ]
    }
   ],
   "source": [
    "s1 = 'asfjiehvalsd'\n",
    "s2 = 'adlfkaelfad'\n",
    "i,j = 0,0\n",
    "n = len(s1)\n",
    "m = len(s2)\n",
    "print(LCS_recursive(s1,s2,n,m,i,j))"
   ]
  },
  {
   "cell_type": "code",
   "execution_count": 30,
   "id": "suspected-hartford",
   "metadata": {},
   "outputs": [],
   "source": [
    "def LCS_Memoisation(string1,string2,n,m,i,j,dp_arr):\n",
    "    \n",
    "    \n",
    "    if i>=n or j>=m:\n",
    "        return 0\n",
    "    \n",
    "    if string1[i]!=string2[j]:\n",
    "        if dp_arr[i+1][j] == -1:\n",
    "            a = LCS_Memoisation(string1,string2,n,m,i+1,j,dp_arr)\n",
    "            dp_arr[i+1][j] = a\n",
    "        else:\n",
    "            a = dp_arr[i+1][j]\n",
    "        \n",
    "        if dp_arr[i][j+1] == -1:\n",
    "            b = LCS_Memoisation(string1,string2,n,m,i,j+1,dp_arr)\n",
    "            dp_arr[i][j+1] = b\n",
    "        else:\n",
    "            b = dp_arr[i][j+1]\n",
    "        \n",
    "        res = max(a,b)\n",
    "        return res\n",
    "    \n",
    "    else:\n",
    "        if dp_arr[i+1][j+1] == -1:\n",
    "            dp_arr[i+1][j+1] = LCS_Memoisation(string1,string2,n,m,i+1,j+1,dp_arr)\n",
    "            res = 1 + dp_arr[i+1][j+1]\n",
    "        else:\n",
    "            res = 1 + dp_arr[i+1][j+1]\n",
    "        return res\n",
    "    \n",
    "    "
   ]
  },
  {
   "cell_type": "code",
   "execution_count": 33,
   "id": "flush-input",
   "metadata": {},
   "outputs": [
    {
     "name": "stdout",
     "output_type": "stream",
     "text": [
      "3\n"
     ]
    }
   ],
   "source": [
    "str1 = 'akjelfajlkdsf'\n",
    "str2 = 'adavjeioajfldf'\n",
    "n1 = len(str1)\n",
    "n2 = len(str2)\n",
    "dp_arr = [[-1 for j in range(n2+1)]for i in range(n1+1)]\n",
    "i,j = 0,0\n",
    "print(LCS_Memoisation(str1,str2,n1,n2,i,j,dp_arr))"
   ]
  },
  {
   "cell_type": "code",
   "execution_count": 34,
   "id": "willing-barrel",
   "metadata": {},
   "outputs": [],
   "source": [
    "def LCS_Iteratively(string1,string2,i,j):\n",
    "    \n",
    "    m = len(string1)\n",
    "    n = len(string2)\n",
    "    dp_arr = [[0 for j in range(n+1)] for i in range(m+1)]\n",
    "    \n",
    "    for i in range (m-1,-1,-1):\n",
    "        \n",
    "        for j in range(n-1,-1,-1):\n",
    "            \n",
    "            if string1[i] == string2[j]:\n",
    "                dp_arr[i][j] = 1 + dp_arr[i+1][j+1]\n",
    "                \n",
    "            else:\n",
    "                dp_arr[i][j] = max(dp_arr[i+1][j],dp_arr[i][j+1])\n",
    "                \n",
    "    return dp_arr[0][0]\n",
    "    "
   ]
  },
  {
   "cell_type": "code",
   "execution_count": 37,
   "id": "foreign-fifty",
   "metadata": {},
   "outputs": [
    {
     "name": "stdout",
     "output_type": "stream",
     "text": [
      "4\n"
     ]
    }
   ],
   "source": [
    "st1 = 'astrazeneca'\n",
    "st2 = 'zkehfwekfakwelf'\n",
    "i,j = 0,0\n",
    "print(LCS_Iteratively(st1,st2,i,j))"
   ]
  },
  {
   "cell_type": "code",
   "execution_count": null,
   "id": "statewide-investing",
   "metadata": {},
   "outputs": [],
   "source": []
  }
 ],
 "metadata": {
  "kernelspec": {
   "display_name": "Python 3",
   "language": "python",
   "name": "python3"
  },
  "language_info": {
   "codemirror_mode": {
    "name": "ipython",
    "version": 3
   },
   "file_extension": ".py",
   "mimetype": "text/x-python",
   "name": "python",
   "nbconvert_exporter": "python",
   "pygments_lexer": "ipython3",
   "version": "3.9.1"
  }
 },
 "nbformat": 4,
 "nbformat_minor": 5
}
