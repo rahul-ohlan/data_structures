{
 "cells": [
  {
   "cell_type": "code",
   "execution_count": 13,
   "id": "alike-requirement",
   "metadata": {},
   "outputs": [],
   "source": [
    "def knapsack_recursive(w,wt,val,i):\n",
    "    \n",
    "    \n",
    "    if i >= len(val):\n",
    "        return 0\n",
    "    \n",
    "    if wt[i] <= w:\n",
    "        # excluding ith item\n",
    "        a = knapsack_recursive(w,wt,val,i+1)\n",
    "        # including ith item\n",
    "        b = val[i] + knapsack_recursive(w-wt[i],wt,val,i+1)\n",
    "        \n",
    "        res = max(a,b)\n",
    "        return res\n",
    "        \n",
    "    else:\n",
    "        res = knapsack_recursive(w,wt,val,i+1)\n",
    "        return res"
   ]
  },
  {
   "cell_type": "code",
   "execution_count": 14,
   "id": "quarterly-roommate",
   "metadata": {},
   "outputs": [
    {
     "name": "stdout",
     "output_type": "stream",
     "text": [
      "700\n"
     ]
    }
   ],
   "source": [
    "val = [200,300,500]\n",
    "wt = [20,25,30]\n",
    "i = 0\n",
    "w = 50\n",
    "print(knapsack_recursive(w,wt,val,i))"
   ]
  },
  {
   "cell_type": "code",
   "execution_count": 20,
   "id": "compliant-transparency",
   "metadata": {},
   "outputs": [],
   "source": [
    "# top-down approach\n",
    "def knapsackIteratively(W,val,wt):\n",
    "    \n",
    "    n = len(val)\n",
    "    \n",
    "    dp_arr = [[0 for j in range(W+1)] for i in range(n+1)]\n",
    "    \n",
    "        \n",
    "    for i in range(1,n+1):\n",
    "        \n",
    "        for j in range(1,W+1):\n",
    "            \n",
    "            if wt[i-1] > j:\n",
    "                dp_arr[i][j] = dp_arr[i-1][j]\n",
    "            \n",
    "            else:\n",
    "                # including i-1 th item\n",
    "                a = val[i-1] + dp_arr[i-1][j-wt[i-1]]\n",
    "                # excluding i-1 th item\n",
    "                b = dp_arr[i-1][j]\n",
    "                \n",
    "                dp_arr[i][j] = max(a,b)\n",
    "                \n",
    "    return dp_arr[n][W]\n",
    "    "
   ]
  },
  {
   "cell_type": "code",
   "execution_count": 21,
   "id": "spoken-venue",
   "metadata": {},
   "outputs": [
    {
     "name": "stdout",
     "output_type": "stream",
     "text": [
      "500\n"
     ]
    }
   ],
   "source": [
    "val = [200,300,100]\n",
    "wt = [20,25,30]\n",
    "W = 50\n",
    "\n",
    "res = knapsackIteratively(W,val,wt)\n",
    "print(res)"
   ]
  },
  {
   "cell_type": "code",
   "execution_count": 22,
   "id": "considered-consolidation",
   "metadata": {},
   "outputs": [],
   "source": []
  },
  {
   "cell_type": "code",
   "execution_count": null,
   "id": "opening-chart",
   "metadata": {},
   "outputs": [],
   "source": []
  }
 ],
 "metadata": {
  "kernelspec": {
   "display_name": "Python 3",
   "language": "python",
   "name": "python3"
  },
  "language_info": {
   "codemirror_mode": {
    "name": "ipython",
    "version": 3
   },
   "file_extension": ".py",
   "mimetype": "text/x-python",
   "name": "python",
   "nbconvert_exporter": "python",
   "pygments_lexer": "ipython3",
   "version": "3.8.8"
  }
 },
 "nbformat": 4,
 "nbformat_minor": 5
}
