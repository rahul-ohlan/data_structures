{
 "cells": [
  {
   "cell_type": "code",
   "execution_count": 4,
   "id": "positive-holly",
   "metadata": {},
   "outputs": [
    {
     "name": "stdout",
     "output_type": "stream",
     "text": [
      "90\n"
     ]
    }
   ],
   "source": [
    "def mcp_recursive(array,j,k):\n",
    "    \n",
    "    if j==k:\n",
    "        return 0\n",
    "    curr_min = float('inf')\n",
    "    for i in range(j,k):\n",
    "        \n",
    "        a1 = mcp_recursive(array,j,i)\n",
    "        a2 = mcp_recursive(array,i+1,k)\n",
    "        \n",
    "        opers = a1 + a2 + array[j-1] * array[i] * array[k]\n",
    "        \n",
    "        curr_min = min(opers,curr_min)\n",
    "        \n",
    "    return curr_min\n",
    "\n",
    "\n",
    "\n",
    "array = [2,3,5,6]\n",
    "k = len(array)-1\n",
    "print(mcp_recursive(array,1,k))"
   ]
  },
  {
   "cell_type": "code",
   "execution_count": 5,
   "id": "opponent-orbit",
   "metadata": {},
   "outputs": [
    {
     "name": "stdout",
     "output_type": "stream",
     "text": [
      "90\n"
     ]
    }
   ],
   "source": [
    "# memoisation of above solution\n",
    "def mcp_memoised(array,j,k,dp_arr):\n",
    "    \n",
    "    if j==k:\n",
    "        return 0\n",
    "    curr_min = float('inf')\n",
    "    for i in range(j,k):\n",
    "        \n",
    "        if dp_arr[j][i] == -1:\n",
    "            dp_arr[j][i] = mcp_memoised(array,j,i,dp_arr)\n",
    "            a1 = dp_arr[j][i]\n",
    "        else:\n",
    "            a1 = dp_arr[j][i]\n",
    "            \n",
    "        if dp_arr[i+1][k] == -1:\n",
    "            dp_arr[i+1][k] = mcp_memoised(array,i+1,k,dp_arr)\n",
    "            a2 = dp_arr[i+1][k]\n",
    "        else:\n",
    "            a2 = dp_arr[i+1][k]\n",
    "            \n",
    "        opers = a1 + a2 + array[j-1]*array[i]*array[k]\n",
    "        curr_min = min(curr_min,opers)\n",
    "    return curr_min\n",
    "        \n",
    "\n",
    "array = [2,3,5,6]\n",
    "n = len(array)-1\n",
    "dp_arr = [[-1 for j in range(n+1)] for i in range(n+1)]\n",
    "print(mcp_memoised(array,1,n,dp_arr))"
   ]
  },
  {
   "cell_type": "code",
   "execution_count": null,
   "id": "elegant-admission",
   "metadata": {},
   "outputs": [],
   "source": [
    "def mcp_iteratively(arr,j,k,dp_arr):\n",
    "    "
   ]
  }
 ],
 "metadata": {
  "kernelspec": {
   "display_name": "Python 3",
   "language": "python",
   "name": "python3"
  },
  "language_info": {
   "codemirror_mode": {
    "name": "ipython",
    "version": 3
   },
   "file_extension": ".py",
   "mimetype": "text/x-python",
   "name": "python",
   "nbconvert_exporter": "python",
   "pygments_lexer": "ipython3",
   "version": "3.9.1"
  }
 },
 "nbformat": 4,
 "nbformat_minor": 5
}
