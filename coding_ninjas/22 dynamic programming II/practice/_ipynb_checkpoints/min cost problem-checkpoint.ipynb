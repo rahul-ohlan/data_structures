{
 "cells": [
  {
   "cell_type": "code",
   "execution_count": 5,
   "id": "alternate-attendance",
   "metadata": {},
   "outputs": [
    {
     "name": "stdout",
     "output_type": "stream",
     "text": [
      "27\n"
     ]
    }
   ],
   "source": [
    "def mincost_rec(cost,i,j,n,m):\n",
    "    \n",
    "    if i==n or j ==m:\n",
    "        return float('inf')\n",
    "    \n",
    "    if i==n-1 and j==m-1:\n",
    "        return cost[j][j]\n",
    "    \n",
    "    a1 = mincost_rec(cost,i+1,j,n,m)\n",
    "    a2 = mincost_rec(cost,i,j+1,n,m)\n",
    "    a3 = mincost_rec(cost,i+1,j+1,n,m)\n",
    "    \n",
    "    res = cost[i][j] + min(a1,a2,a3)\n",
    "    \n",
    "    return res\n",
    " \n",
    "cost = [[3,9,7],[15,23,45],[12,34,1]]\n",
    "n = len(cost)\n",
    "m = len(cost[0])\n",
    "print(mincost_rec(cost,0,0,n,m))"
   ]
  },
  {
   "cell_type": "code",
   "execution_count": 4,
   "id": "returning-intranet",
   "metadata": {},
   "outputs": [
    {
     "name": "stdout",
     "output_type": "stream",
     "text": [
      "27\n"
     ]
    }
   ],
   "source": [
    "def mincost_memoised(cost,i,j,n,m,dp_arr):\n",
    "    \n",
    "    if i==n or j==m:\n",
    "        return float('inf')\n",
    "    if i==n-1 and j==m-1:\n",
    "        return cost[i][j]\n",
    "    \n",
    "    if dp_arr[i+1][j] == float('inf'):\n",
    "        dp_arr[i+1][j] = mincost_memoised(cost,i+1,j,n,m,dp_arr)\n",
    "        a1 = dp_arr[i+1][j]\n",
    "    else:\n",
    "        a1 = dp_arr[i+1][j]\n",
    "        \n",
    "    if dp_arr[i][j+1] == float('inf'):\n",
    "        dp_arr[i][j+1] = mincost_memoised(cost,i,j+1,n,m,dp_arr)\n",
    "        a2 = dp_arr[i][j+1]\n",
    "    else:\n",
    "        a2 = dp_arr[i][j+1]\n",
    "        \n",
    "    if dp_arr[i+1][j+1] == float('inf'):\n",
    "        dp_arr[i+1][j+1] = mincost_memoised(cost,i+1,j+1,n,m,dp_arr)\n",
    "        a3 = dp_arr[i+1][j+1]\n",
    "    else:\n",
    "        a3 = dp_arr[i+1][j+1]\n",
    "        \n",
    "    res = cost[i][j] + min(a1,a2,a3)\n",
    "    return res\n",
    "    \n",
    "    pass\n",
    "\n",
    "\n",
    "cost = [[3,9,7],[15,23,45],[12,34,1]]\n",
    "n = len(cost)\n",
    "m = len(cost[0])\n",
    "dp_arr = [[float('inf') for j in range(m+1)] for i in range(n+1)]\n",
    "print(mincost_memoised(cost,0,0,n,m,dp_arr))"
   ]
  },
  {
   "cell_type": "code",
   "execution_count": 6,
   "id": "roman-president",
   "metadata": {},
   "outputs": [
    {
     "name": "stdout",
     "output_type": "stream",
     "text": [
      "27\n"
     ]
    }
   ],
   "source": [
    "def mincost_iteratively(cost,i,j,n,m):\n",
    "    \n",
    "    dp_arr = [[float('inf') for j in range(m+1)] for i in range(n+1)]\n",
    "    \n",
    "    dp_arr[n-1][m-1] = cost[n-1][m-1]\n",
    "    \n",
    "    for i in range(n-1,-1,-1):\n",
    "        \n",
    "        for j in range(m-2,-1,-1):\n",
    "            \n",
    "            a1 = dp_arr[i+1][j]\n",
    "            a2 = dp_arr[i][j+1]\n",
    "            a3 = dp_arr[i+1][j+1]\n",
    "            \n",
    "            dp_arr[i][j] = cost[i][j] + min(a1,a2,a3)\n",
    "    return dp_arr[0][0]\n",
    "\n",
    "cost = [[3,9,7],[15,23,45],[12,34,1]]\n",
    "n = len(cost)\n",
    "m = len(cost[0])\n",
    "print(mincost_iteratively(cost,0,0,n,m))"
   ]
  },
  {
   "cell_type": "code",
   "execution_count": null,
   "id": "positive-quantity",
   "metadata": {},
   "outputs": [],
   "source": []
  }
 ],
 "metadata": {
  "kernelspec": {
   "display_name": "Python 3",
   "language": "python",
   "name": "python3"
  },
  "language_info": {
   "codemirror_mode": {
    "name": "ipython",
    "version": 3
   },
   "file_extension": ".py",
   "mimetype": "text/x-python",
   "name": "python",
   "nbconvert_exporter": "python",
   "pygments_lexer": "ipython3",
   "version": "3.9.1"
  }
 },
 "nbformat": 4,
 "nbformat_minor": 5
}
