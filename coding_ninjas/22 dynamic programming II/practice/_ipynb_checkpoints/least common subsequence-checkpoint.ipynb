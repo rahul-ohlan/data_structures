{
 "cells": [
  {
   "cell_type": "code",
   "execution_count": 2,
   "id": "champion-yemen",
   "metadata": {},
   "outputs": [],
   "source": [
    "def LCS_recursive(str1,str2,i,j,n,m):\n",
    "    \n",
    "    if i>=n or j>=m:\n",
    "        return 0\n",
    "    \n",
    "    if str1[i] == str2[j]:\n",
    "        res = 1 + LCS_recursive(str1,str2,i+1,j+1,n,m)\n",
    "        \n",
    "    else:\n",
    "        a1 = LCS_recursive(str1,str2,i+1,j,n,m)\n",
    "        a2 = LCS_recursive(str1,str2,i,j+1,n,m)\n",
    "        \n",
    "        res = max(a1,a2)\n",
    "        \n",
    "    return res"
   ]
  },
  {
   "cell_type": "code",
   "execution_count": 3,
   "id": "elegant-sponsorship",
   "metadata": {},
   "outputs": [
    {
     "name": "stdout",
     "output_type": "stream",
     "text": [
      "3\n"
     ]
    }
   ],
   "source": [
    "string1 = 'beargrylls'\n",
    "string2 = 'rahulohlan'\n",
    "n = len(string1)\n",
    "m = len(string2)\n",
    "print(LCS_recursive(string1,string2,0,0,n,m))"
   ]
  },
  {
   "cell_type": "code",
   "execution_count": 42,
   "id": "nearby-measure",
   "metadata": {},
   "outputs": [
    {
     "name": "stdout",
     "output_type": "stream",
     "text": [
      "2\n"
     ]
    }
   ],
   "source": [
    "def LCS_memoised(str1,str2,i,j,dp_arr):\n",
    "    \n",
    "    if i >= len(str1) or j >= len(str2):\n",
    "        return 0\n",
    "    if str1[i] == str2[j]:\n",
    "        if dp_arr[i+1][j+1] == -1:\n",
    "            dp_arr[i+1][j+1] = LCS_memoised(str1,str2,i+1,j+1,dp_arr)\n",
    "            res = 1 + dp_arr[i+1][j+1]\n",
    "        else: \n",
    "            res = 1 + dp_arr[i+1][j+1]\n",
    "            \n",
    "    else:\n",
    "        if dp_arr[i+1][j] == -1:\n",
    "            dp_arr[i+1][j] = LCS_memoised(str1,str2,i+1,j,dp_arr)\n",
    "            a1 = dp_arr[i+1][j]\n",
    "        else:\n",
    "            a1 = dp_arr[i+1][j]\n",
    "            \n",
    "        if dp_arr[i][j+1] == -1:\n",
    "            dp_arr[i][j+1] = LCS_memoised(str1,str2,i,j+1,dp_arr)\n",
    "            a2 = dp_arr[i][j+1]\n",
    "        else:\n",
    "            a2 = dp_arr[i][j+1]\n",
    "        res = max(a1,a2)\n",
    "        \n",
    "    return res\n",
    "            \n",
    "str1 = 'rahul'\n",
    "str2 = 'ohlan'\n",
    "\n",
    "dp_arr = [[-1 for j in range(len(str2)+1)] for i in range(len(str1)+1)]\n",
    "\n",
    "print(LCS_memoised(str1,str2,0,0,dp_arr))"
   ]
  },
  {
   "cell_type": "code",
   "execution_count": 51,
   "id": "owned-biotechnology",
   "metadata": {},
   "outputs": [
    {
     "name": "stdout",
     "output_type": "stream",
     "text": [
      "2\n"
     ]
    }
   ],
   "source": [
    "# bottoms up approach\n",
    "def LCS_iterative(string1,string2,i,j):\n",
    "    \n",
    "    n = len(string1)\n",
    "    m = len(string2)\n",
    "    dp_arr = [[0 for j in range(m+1)] for i in range(n+1)]\n",
    "    \n",
    "    for i in range(n-1,-1,-1):\n",
    "        \n",
    "        for j in range(m-1,-1,-1):\n",
    "            \n",
    "            if string1[i] == string2[j]:\n",
    "                dp_arr[i][j] = 1 + dp_arr[i+1][j+1]\n",
    "            \n",
    "            else:\n",
    "                a1 = dp_arr[i+1][j]\n",
    "                a2 = dp_arr[i][j+1]\n",
    "                \n",
    "                dp_arr[i][j] = max(a1,a2)\n",
    "                \n",
    "    return dp_arr[0][0]\n",
    "\n",
    "str1 = 'ohlan'\n",
    "str2 = 'rahul'\n",
    "print(LCS_iterative(str1,str2,0,0))"
   ]
  },
  {
   "cell_type": "code",
   "execution_count": null,
   "id": "thorough-lawsuit",
   "metadata": {},
   "outputs": [],
   "source": []
  }
 ],
 "metadata": {
  "kernelspec": {
   "display_name": "Python 3",
   "language": "python",
   "name": "python3"
  },
  "language_info": {
   "codemirror_mode": {
    "name": "ipython",
    "version": 3
   },
   "file_extension": ".py",
   "mimetype": "text/x-python",
   "name": "python",
   "nbconvert_exporter": "python",
   "pygments_lexer": "ipython3",
   "version": "3.9.1"
  }
 },
 "nbformat": 4,
 "nbformat_minor": 5
}
