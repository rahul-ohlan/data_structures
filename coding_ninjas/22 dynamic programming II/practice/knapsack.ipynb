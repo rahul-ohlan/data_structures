{
 "cells": [
  {
   "cell_type": "code",
   "execution_count": 3,
   "id": "genetic-johnston",
   "metadata": {},
   "outputs": [],
   "source": [
    "def ks_rec(W,wt,val,si,n):\n",
    "    \n",
    "    if si >= n:\n",
    "        return 0\n",
    "    \n",
    "    if wt[si] <= W:\n",
    "        \n",
    "        # including element at si\n",
    "        a1 = val[si] + ks_rec(W-wt[si],wt,val,si+1,n)\n",
    "        # excluding element at si\n",
    "        a2 = ks_rec(W,wt,val,si+1,n)\n",
    "        \n",
    "        res = max(a1,a2)\n",
    "        \n",
    "    else:\n",
    "        \n",
    "        res = ks_rec(W,wt,val,si+1,n)\n",
    "        \n",
    "    return res"
   ]
  },
  {
   "cell_type": "code",
   "execution_count": 5,
   "id": "spare-powell",
   "metadata": {},
   "outputs": [
    {
     "name": "stdout",
     "output_type": "stream",
     "text": [
      "1000\n"
     ]
    }
   ],
   "source": [
    "val = [200,300,400,100,50]\n",
    "wt = [1,2,3,4,6]\n",
    "W = 10\n",
    "n = len(val)\n",
    "print(ks_rec(W,wt,val,0,n))"
   ]
  },
  {
   "cell_type": "code",
   "execution_count": 8,
   "id": "sunrise-gentleman",
   "metadata": {},
   "outputs": [
    {
     "name": "stdout",
     "output_type": "stream",
     "text": [
      "500\n"
     ]
    }
   ],
   "source": [
    "def ks_memoised(W,wt,val,si,n,dp_arr):\n",
    "    \n",
    "    if si>=n:\n",
    "        return 0\n",
    "    \n",
    "    if wt[si] <= W:\n",
    "        \n",
    "        # including\n",
    "        if dp_arr[si+1][W-wt[si]] == 0:\n",
    "            dp_arr[si+1][W-wt[si]] = ks_memoised(W-wt[si],wt,val,si+1,n,dp_arr)\n",
    "            a1 = val[si] + dp_arr[si+1][W-wt[si]]\n",
    "        else:\n",
    "            a1 = val[si] + dp_arr[si+1][W-wt[si]]\n",
    "            \n",
    "        # excluding\n",
    "        if dp_arr[si+1][W] == 0:\n",
    "            dp_arr[si+1][W] = ks_memoised(W,wt,val,si+1,n,dp_arr)\n",
    "            a2 = dp_arr[si+1][W]\n",
    "        else:\n",
    "            a2 = dp_arr[si+1][W]\n",
    "            \n",
    "        res = max(a1,a2)\n",
    "        \n",
    "    else:\n",
    "        if dp_arr[si+1][W] == 0:\n",
    "            dp_arr[si+1][W] = ks_memoised(W,wt,val,si+1,n,dp_arr)\n",
    "            res = dp_arr[si+1][W]\n",
    "        else:\n",
    "            res = dp_arr[si+1][W]\n",
    "    return res\n",
    "    \n",
    "\n",
    "dp_arr = [[0 for j in range(W+1)] for i in range(n+1)]\n",
    "W = 50\n",
    "wt = [20,25,30]\n",
    "val = [200,250,300]\n",
    "n = len(val)\n",
    "print(ks_memoised(W,wt,val,0,n,dp_arr))"
   ]
  },
  {
   "cell_type": "code",
   "execution_count": 13,
   "id": "separated-attention",
   "metadata": {},
   "outputs": [
    {
     "name": "stdout",
     "output_type": "stream",
     "text": [
      "1000\n"
     ]
    }
   ],
   "source": [
    "# bottoms up approach\n",
    "def ks_iteratively(W,wt,val,n):\n",
    "    \n",
    "    dp_arr = [[0 for j in range(W+1)] for i in range(n+1)]\n",
    "    \n",
    "    for i in range(n-1,-1,-1):\n",
    "        \n",
    "        for j in range(W,-1,-1):\n",
    "            \n",
    "            if wt[i] <= j:\n",
    "                a1 = val[i] + dp_arr[i+1][j-wt[i]]\n",
    "                a2 = dp_arr[i+1][j]\n",
    "                dp_arr[i][j] = max(a1,a2)\n",
    "                \n",
    "            else:\n",
    "                dp_arr[i][j] = dp_arr[i+1][j]\n",
    "    return dp_arr[0][W]\n",
    "\n",
    "W = 10\n",
    "wt = [1,2,3,4,6]\n",
    "n = len(wt)\n",
    "val = [200,300,400,100,50]\n",
    "print(ks_iteratively(W,wt,val,n))\n",
    "            "
   ]
  },
  {
   "cell_type": "code",
   "execution_count": null,
   "id": "connected-selection",
   "metadata": {},
   "outputs": [],
   "source": []
  }
 ],
 "metadata": {
  "kernelspec": {
   "display_name": "Python 3",
   "language": "python",
   "name": "python3"
  },
  "language_info": {
   "codemirror_mode": {
    "name": "ipython",
    "version": 3
   },
   "file_extension": ".py",
   "mimetype": "text/x-python",
   "name": "python",
   "nbconvert_exporter": "python",
   "pygments_lexer": "ipython3",
   "version": "3.9.1"
  }
 },
 "nbformat": 4,
 "nbformat_minor": 5
}
