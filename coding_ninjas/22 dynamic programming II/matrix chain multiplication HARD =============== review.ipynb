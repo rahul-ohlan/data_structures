{
 "cells": [
  {
   "cell_type": "code",
   "execution_count": 2,
   "id": "sustainable-swimming",
   "metadata": {},
   "outputs": [
    {
     "name": "stdout",
     "output_type": "stream",
     "text": [
      "124\n"
     ]
    }
   ],
   "source": [
    "import sys\n",
    "def mcm(p,i,j,dp_arr):\n",
    "    \n",
    "    if i==j:\n",
    "        return 0\n",
    "    \n",
    "    min_val = sys.maxsize\n",
    "    for k in range(i,j):\n",
    "        \n",
    "        if dp_arr[i][k] == -1:\n",
    "            a = mcm(p,i,k,dp_arr)\n",
    "            dp_arr[i][k] = a\n",
    "        else:\n",
    "            a = dp_arr[i][k]\n",
    "            \n",
    "        if dp_arr[k+1][j] == -1:\n",
    "            b = mcm(p,k+1,j,dp_arr)\n",
    "            dp_arr[k+1][j] = b\n",
    "        else:\n",
    "            b = dp_arr[k+1][j]\n",
    "        \n",
    "        mCost = p[i-1]*p[k]*p[j]\n",
    "        \n",
    "        curr_val = a + b + mCost\n",
    "        \n",
    "        min_val = min(min_val,curr_val)\n",
    "    \n",
    "    return min_val\n",
    "\n",
    "\n",
    "\n",
    "\n",
    "p = [2,3,4,5,6]\n",
    "n = len(p)-1\n",
    "dp_arr = [[-1 for j in range(n+1)] for i in range(n+1)]\n",
    "res = mcm(p,1,n,dp_arr)\n",
    "print(res)"
   ]
  },
  {
   "cell_type": "code",
   "execution_count": null,
   "id": "polar-cycling",
   "metadata": {},
   "outputs": [],
   "source": []
  }
 ],
 "metadata": {
  "kernelspec": {
   "display_name": "Python 3",
   "language": "python",
   "name": "python3"
  },
  "language_info": {
   "codemirror_mode": {
    "name": "ipython",
    "version": 3
   },
   "file_extension": ".py",
   "mimetype": "text/x-python",
   "name": "python",
   "nbconvert_exporter": "python",
   "pygments_lexer": "ipython3",
   "version": "3.9.1"
  }
 },
 "nbformat": 4,
 "nbformat_minor": 5
}
