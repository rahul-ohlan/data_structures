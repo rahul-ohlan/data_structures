{
 "cells": [
  {
   "cell_type": "code",
   "execution_count": 4,
   "id": "egyptian-pillow",
   "metadata": {},
   "outputs": [],
   "source": [
    "def takeinput():\n",
    "    \n",
    "    board = list()\n",
    "    for i in range(9):\n",
    "        row = [int(x) for x in input().split()]\n",
    "        board.append(row)\n",
    "    return board"
   ]
  },
  {
   "cell_type": "code",
   "execution_count": 7,
   "id": "accredited-majority",
   "metadata": {
    "scrolled": true
   },
   "outputs": [
    {
     "name": "stdout",
     "output_type": "stream",
     "text": [
      "9 0 0 0 2 0 7 5 0 \n",
      "6 0 0 0 5 0 0 4 0 \n",
      "0 2 0 4 0 0 0 1 0\n",
      "2 0 8 0 0 0 0 0 0 \n",
      "0 7 0 5 0 9 0 6 0\n",
      "0 0 0 0 0 0 4 0 1\n",
      "0 1 0 0 0 5 0 8 0\n",
      "0 9 0 0 7 0 0 0 4\n",
      "0 8 2 0 4 0 0 0 6\n"
     ]
    }
   ],
   "source": [
    "bo = takeinput()"
   ]
  },
  {
   "cell_type": "code",
   "execution_count": 13,
   "id": "sitting-public",
   "metadata": {},
   "outputs": [],
   "source": [
    "def print_board(board):\n",
    "    \n",
    "    for i in range(len(board)):\n",
    "        \n",
    "        if i%3==0 and i!=0:\n",
    "            print('____________________')\n",
    "            \n",
    "        for j in range(len(board[0])):\n",
    "            \n",
    "            if j%3==0 and j!=0:\n",
    "                print('|',end='')\n",
    "            \n",
    "            if j==8:\n",
    "                print(board[i][j])\n",
    "            else:\n",
    "                print(board[i][j],end=' ')\n",
    "    return"
   ]
  },
  {
   "cell_type": "code",
   "execution_count": 14,
   "id": "greenhouse-ready",
   "metadata": {},
   "outputs": [
    {
     "name": "stdout",
     "output_type": "stream",
     "text": [
      "9 0 0 |0 2 0 |7 5 0\n",
      "6 0 0 |0 5 0 |0 4 0\n",
      "0 2 0 |4 0 0 |0 1 0\n",
      "____________________\n",
      "2 0 8 |0 0 0 |0 0 0\n",
      "0 7 0 |5 0 9 |0 6 0\n",
      "0 0 0 |0 0 0 |4 0 1\n",
      "____________________\n",
      "0 1 0 |0 0 5 |0 8 0\n",
      "0 9 0 |0 7 0 |0 0 4\n",
      "0 8 2 |0 4 0 |0 0 6\n"
     ]
    }
   ],
   "source": [
    "print_board(bo)"
   ]
  },
  {
   "cell_type": "code",
   "execution_count": 16,
   "id": "removable-elephant",
   "metadata": {},
   "outputs": [],
   "source": [
    "def find_empty(board):\n",
    "    \n",
    "    for i in range(len(board)):\n",
    "        for j in range(len(board[0])):\n",
    "            if board[i][j] == 0:\n",
    "                return (i,j) # row,column\n",
    "    return None"
   ]
  },
  {
   "cell_type": "code",
   "execution_count": 33,
   "id": "beneficial-georgia",
   "metadata": {},
   "outputs": [],
   "source": [
    "def isValid(board,num,pos):\n",
    "    \n",
    "    # check in row\n",
    "    for i in range(len(board[0])):\n",
    "        if board[pos[0]][i] == num and pos[1]!=i:\n",
    "            return False\n",
    "        \n",
    "    # check in column\n",
    "    for i in range(len(board)):\n",
    "        if board[i][pos[1]] == num and pos[0]!=i:\n",
    "            return False\n",
    "        \n",
    "    # identify 3x3 grid\n",
    "    box_row = pos[0]//3\n",
    "    box_col = pos[1]//3\n",
    "    \n",
    "    # check in box\n",
    "    for i in range(box_row*3,box_row*3 + 3):\n",
    "        for j in range(box_col*3,box_col*3+3):\n",
    "            if board[i][j]==num and (i,j)!=pos:\n",
    "                return False\n",
    "    \n",
    "    return True\n",
    "    "
   ]
  },
  {
   "cell_type": "code",
   "execution_count": 34,
   "id": "partial-sight",
   "metadata": {},
   "outputs": [],
   "source": [
    "def solveSudoku(board):\n",
    "    \n",
    "    pos_emp = find_empty(board)\n",
    "    \n",
    "    if pos_emp:\n",
    "        row,col = pos_emp\n",
    "    else:\n",
    "        return True\n",
    "    \n",
    "    for i in range(1,10):\n",
    "        if isValid(board,i,(row,col)):\n",
    "            board[row][col] = i\n",
    "            if solveSudoku(board):\n",
    "                return True\n",
    "            board[row][col] = 0\n",
    "    return False"
   ]
  },
  {
   "cell_type": "code",
   "execution_count": 35,
   "id": "guilty-junior",
   "metadata": {},
   "outputs": [
    {
     "name": "stdout",
     "output_type": "stream",
     "text": [
      "9 0 0 |0 2 0 |7 5 0\n",
      "6 0 0 |0 5 0 |0 4 0\n",
      "0 2 0 |4 0 0 |0 1 0\n",
      "____________________\n",
      "2 0 8 |0 0 0 |0 0 0\n",
      "0 7 0 |5 0 9 |0 6 0\n",
      "0 0 0 |0 0 0 |4 0 1\n",
      "____________________\n",
      "0 1 0 |0 0 5 |0 8 0\n",
      "0 9 0 |0 7 0 |0 0 4\n",
      "0 8 2 |0 4 0 |0 0 6\n",
      "True\n",
      "\n",
      "9 4 1 |3 2 6 |7 5 8\n",
      "6 3 7 |1 5 8 |2 4 9\n",
      "8 2 5 |4 9 7 |6 1 3\n",
      "____________________\n",
      "2 6 8 |7 1 4 |3 9 5\n",
      "1 7 4 |5 3 9 |8 6 2\n",
      "3 5 9 |6 8 2 |4 7 1\n",
      "____________________\n",
      "4 1 3 |2 6 5 |9 8 7\n",
      "5 9 6 |8 7 3 |1 2 4\n",
      "7 8 2 |9 4 1 |5 3 6\n"
     ]
    }
   ],
   "source": [
    "print_board(bo)\n",
    "\n",
    "print(solveSudoku(bo))\n",
    "\n",
    "print()\n",
    "print_board(bo)"
   ]
  },
  {
   "cell_type": "code",
   "execution_count": null,
   "id": "champion-surgeon",
   "metadata": {},
   "outputs": [],
   "source": []
  }
 ],
 "metadata": {
  "kernelspec": {
   "display_name": "Python 3",
   "language": "python",
   "name": "python3"
  },
  "language_info": {
   "codemirror_mode": {
    "name": "ipython",
    "version": 3
   },
   "file_extension": ".py",
   "mimetype": "text/x-python",
   "name": "python",
   "nbconvert_exporter": "python",
   "pygments_lexer": "ipython3",
   "version": "3.9.1"
  }
 },
 "nbformat": 4,
 "nbformat_minor": 5
}
