{
 "cells": [
  {
   "cell_type": "code",
   "execution_count": 2,
   "id": "heated-conservation",
   "metadata": {},
   "outputs": [
    {
     "name": "stdout",
     "output_type": "stream",
     "text": [
      "4\n",
      "1 1 1 1\n",
      "1 0 1 1\n",
      "1 1 0 1\n",
      "1 1 1 1\n",
      "[[1, 0, 0, 0], [1, 0, 0, 0], [1, 0, 0, 0], [1, 1, 1, 1]]\n",
      "[[1, 0, 0, 0], [1, 0, 0, 0], [1, 1, 0, 0], [0, 1, 1, 1]]\n",
      "[[1, 1, 1, 0], [0, 0, 1, 1], [0, 0, 0, 1], [0, 0, 0, 1]]\n",
      "[[1, 1, 1, 1], [0, 0, 0, 1], [0, 0, 0, 1], [0, 0, 0, 1]]\n"
     ]
    }
   ],
   "source": [
    "def printPathHelper(x,y,maze,n,solution):\n",
    "    \n",
    "    if x==n-1 and y==n-1:\n",
    "        solution[x][y] = 1\n",
    "        print(solution)\n",
    "        return\n",
    "    \n",
    "    if x<0 or y<0 or x>=n or y>=n or maze[x][y] == 0 or solution[x][y]==1:\n",
    "        return\n",
    "    \n",
    "    solution[x][y] = 1\n",
    "    printPathHelper(x+1,y,maze,n,solution)\n",
    "    printPathHelper(x,y+1,maze,n,solution)\n",
    "    printPathHelper(x-1,y,maze,n,solution)\n",
    "    printPathHelper(x,y-1,maze,n,solution)\n",
    "    \n",
    "    solution[x][y] = 0\n",
    "    return\n",
    "\n",
    "def printPath(maze):\n",
    "    n = len(maze)\n",
    "    solution = [[0 for j in range(n)] for i in range(n)]\n",
    "    printPathHelper(0,0,maze,n,solution)\n",
    "\n",
    "\n",
    "n = int(input())\n",
    "maze = list()\n",
    "\n",
    "for i in range(n):\n",
    "    row = [int(x) for x in input().split()]\n",
    "    maze.append(row)\n",
    "printPath(maze)"
   ]
  },
  {
   "cell_type": "code",
   "execution_count": null,
   "id": "tired-healing",
   "metadata": {},
   "outputs": [],
   "source": []
  }
 ],
 "metadata": {
  "kernelspec": {
   "display_name": "Python 3",
   "language": "python",
   "name": "python3"
  },
  "language_info": {
   "codemirror_mode": {
    "name": "ipython",
    "version": 3
   },
   "file_extension": ".py",
   "mimetype": "text/x-python",
   "name": "python",
   "nbconvert_exporter": "python",
   "pygments_lexer": "ipython3",
   "version": "3.9.1"
  }
 },
 "nbformat": 4,
 "nbformat_minor": 5
}
