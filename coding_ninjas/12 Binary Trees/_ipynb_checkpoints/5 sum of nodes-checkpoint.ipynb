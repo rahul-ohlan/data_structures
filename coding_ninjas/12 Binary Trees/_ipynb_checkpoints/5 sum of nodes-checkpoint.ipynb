{
 "cells": [
  {
   "cell_type": "code",
   "execution_count": 1,
   "id": "vanilla-neighborhood",
   "metadata": {},
   "outputs": [],
   "source": [
    "class BinaryTreeNode:\n",
    "    def __init__(self,data):\n",
    "        self.data = data\n",
    "        self.left = None\n",
    "        self.right = None\n",
    "def printTreeDetailed(root):\n",
    "    if root is None:\n",
    "        return\n",
    "    print(root.data,end=': ')\n",
    "    if root.left!=None:\n",
    "        print('L',root.left.data,end=',')\n",
    "    if root.right!=None:\n",
    "        print('R',root.right.data,end='')\n",
    "    print()\n",
    "    printTreeDetailed(root.left)\n",
    "    printTreeDetailed(root.right)"
   ]
  },
  {
   "cell_type": "code",
   "execution_count": null,
   "id": "decreased-holiday",
   "metadata": {},
   "outputs": [],
   "source": [
    "def taketreeinput():\n",
    "    rootdata = int(input())\n",
    "    if rootdata == -1:\n",
    "        return None\n",
    "    root = BinaryTreeNode(rootdata)\n",
    "    leftTree = taketreeinput()\n",
    "    rightTree = taketreeinput()\n",
    "    root.left = leftTree\n",
    "    root.right = rightTree\n",
    "    return root\n",
    "\n",
    "def numNodes(root):\n",
    "    if root is None:\n",
    "        return 0\n",
    "    leftcount = numNodes(root.left)\n",
    "    rightcount = numNodes(root.right)\n",
    "    return 1 + leftcount + rightcount\n"
   ]
  }
 ],
 "metadata": {
  "kernelspec": {
   "display_name": "Python 3",
   "language": "python",
   "name": "python3"
  },
  "language_info": {
   "codemirror_mode": {
    "name": "ipython",
    "version": 3
   },
   "file_extension": ".py",
   "mimetype": "text/x-python",
   "name": "python",
   "nbconvert_exporter": "python",
   "pygments_lexer": "ipython3",
   "version": "3.9.1"
  }
 },
 "nbformat": 4,
 "nbformat_minor": 5
}
