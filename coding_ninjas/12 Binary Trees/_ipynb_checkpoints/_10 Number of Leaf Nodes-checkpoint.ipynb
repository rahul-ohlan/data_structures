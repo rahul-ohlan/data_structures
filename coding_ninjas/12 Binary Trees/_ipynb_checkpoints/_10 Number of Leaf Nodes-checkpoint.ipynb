{
 "cells": [
  {
   "cell_type": "code",
   "execution_count": 3,
   "id": "tired-beverage",
   "metadata": {},
   "outputs": [],
   "source": [
    "class binarytree:\n",
    "    def __init__(self,data):\n",
    "        self.data = data\n",
    "        self.left = None\n",
    "        self.right = None\n",
    "def takeinput():\n",
    "    rootdata = int(input())\n",
    "    if rootdata == -1:\n",
    "        return None\n",
    "    root = binarytree(rootdata)\n",
    "    left = takeinput()\n",
    "    right = takeinput()\n",
    "    root.left = left\n",
    "    root.right = right\n",
    "    return root\n",
    "\n",
    "def printnicely(root):\n",
    "    if root is None:\n",
    "        return\n",
    "    print(root.data,end=': ')\n",
    "    if root.left!=None:\n",
    "        print('L',root.left.data,end=',')\n",
    "    if root.right!=None:\n",
    "        print('R',root.right.data,end='')\n",
    "    print()\n",
    "    printnicely(root.left)\n",
    "    printnicely(root.right)"
   ]
  },
  {
   "cell_type": "code",
   "execution_count": 2,
   "id": "professional-campus",
   "metadata": {},
   "outputs": [],
   "source": [
    "def numleafnodes(root):\n",
    "    if root is None:\n",
    "        return 0\n",
    "    if root.left is None and root.right is None:\n",
    "        return 1\n",
    "    leftleaf = numleafnodes(root.left)\n",
    "    rightleaf = numleafnodes(root.right)\n",
    "    return leftleaf + rightleaf"
   ]
  },
  {
   "cell_type": "code",
   "execution_count": 4,
   "id": "center-colombia",
   "metadata": {},
   "outputs": [
    {
     "name": "stdout",
     "output_type": "stream",
     "text": [
      "1\n",
      "2\n",
      "3\n",
      "-1\n",
      "-1\n",
      "4\n",
      "-1\n",
      "-1\n",
      "5\n",
      "-1\n",
      "-1\n",
      "leaf nodes in tree: 3\n",
      "1: L 2,R 5\n",
      "2: L 3,R 4\n",
      "3: \n",
      "4: \n",
      "5: \n"
     ]
    }
   ],
   "source": [
    "rahul = takeinput()\n",
    "print('leaf nodes in tree:',numleafnodes(rahul))\n",
    "printnicely(rahul)"
   ]
  },
  {
   "cell_type": "code",
   "execution_count": null,
   "id": "breathing-gross",
   "metadata": {},
   "outputs": [],
   "source": []
  }
 ],
 "metadata": {
  "kernelspec": {
   "display_name": "Python 3",
   "language": "python",
   "name": "python3"
  },
  "language_info": {
   "codemirror_mode": {
    "name": "ipython",
    "version": 3
   },
   "file_extension": ".py",
   "mimetype": "text/x-python",
   "name": "python",
   "nbconvert_exporter": "python",
   "pygments_lexer": "ipython3",
   "version": "3.9.1"
  }
 },
 "nbformat": 4,
 "nbformat_minor": 5
}
