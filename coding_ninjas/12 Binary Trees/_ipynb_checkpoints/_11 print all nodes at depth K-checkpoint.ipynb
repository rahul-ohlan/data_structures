{
 "cells": [
  {
   "cell_type": "code",
   "execution_count": 1,
   "id": "deadly-corporation",
   "metadata": {},
   "outputs": [],
   "source": [
    "class binarytree:\n",
    "    def __init__(self,data):\n",
    "        self.data = data\n",
    "        self.left = None\n",
    "        self.right = None\n",
    "def takeinput():\n",
    "    rootdata = int(input())\n",
    "    if rootdata == -1:\n",
    "        return None\n",
    "    root = binarytree(rootdata)\n",
    "    left = takeinput()\n",
    "    right = takeinput()\n",
    "    root.left = left\n",
    "    root.right = right\n",
    "    return root\n",
    "\n",
    "def printnicely(root):\n",
    "    if root is None:\n",
    "        return\n",
    "    print(root.data,end=': ')\n",
    "    if root.left!=None:\n",
    "        print('L',root.left.data,end=',')\n",
    "    if root.right!=None:\n",
    "        print('R',root.right.data,end='')\n",
    "    print()\n",
    "    printnicely(root.left)\n",
    "    printnicely(root.right)\n"
   ]
  },
  {
   "cell_type": "code",
   "execution_count": 4,
   "id": "celtic-software",
   "metadata": {},
   "outputs": [],
   "source": [
    "def printdepthK(root,k):\n",
    "    if root == None:\n",
    "        return\n",
    "    if k==0:\n",
    "        print(root.data)\n",
    "        return\n",
    "    printdepthK(root.left,k-1)\n",
    "    printdepthK(root.right,k-1)\n"
   ]
  },
  {
   "cell_type": "code",
   "execution_count": 6,
   "id": "furnished-beast",
   "metadata": {},
   "outputs": [],
   "source": [
    "def printdepthKV2(root,k,d=0):\n",
    "    if root == None:\n",
    "        return\n",
    "    if k==d:\n",
    "        print(root.data)\n",
    "        return\n",
    "    printdepthKV2(root.left,k,d+1)\n",
    "    printdepthKV2(root.right,k,d+1)\n",
    "    "
   ]
  },
  {
   "cell_type": "code",
   "execution_count": null,
   "id": "tired-treasury",
   "metadata": {},
   "outputs": [],
   "source": []
  }
 ],
 "metadata": {
  "kernelspec": {
   "display_name": "Python 3",
   "language": "python",
   "name": "python3"
  },
  "language_info": {
   "codemirror_mode": {
    "name": "ipython",
    "version": 3
   },
   "file_extension": ".py",
   "mimetype": "text/x-python",
   "name": "python",
   "nbconvert_exporter": "python",
   "pygments_lexer": "ipython3",
   "version": "3.9.1"
  }
 },
 "nbformat": 4,
 "nbformat_minor": 5
}
