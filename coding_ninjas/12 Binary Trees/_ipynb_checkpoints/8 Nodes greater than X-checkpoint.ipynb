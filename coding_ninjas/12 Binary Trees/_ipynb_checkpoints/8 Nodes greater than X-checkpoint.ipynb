{
 "cells": [
  {
   "cell_type": "code",
   "execution_count": 1,
   "id": "equivalent-primary",
   "metadata": {},
   "outputs": [],
   "source": [
    "class BinaryTreeNode:\n",
    "    def __init__(self,data):\n",
    "        self.data = data\n",
    "        self.left = None\n",
    "        self.right = None\n",
    "    \n",
    "def takeinput():\n",
    "    rootdata = int(input())\n",
    "    if rootdata == -1:\n",
    "        return None\n",
    "    root = BinaryTreeNode(rootdata)\n",
    "    left = takeinput()\n",
    "    right = takeinput()\n",
    "    root.left = left\n",
    "    root.right = right\n",
    "    return root\n",
    "\n",
    "def printnicely(root):\n",
    "    if root is None:\n",
    "        return\n",
    "    print(root.data,end=': ')\n",
    "    if root.left!=None:\n",
    "        print('L',root.left.data,end=',')\n",
    "    if root.right!=None:\n",
    "        print('R',root.right.data,end='')\n",
    "    print()\n",
    "    printnicely(root.left)\n",
    "    printnicely(root.right)\n"
   ]
  },
  {
   "cell_type": "code",
   "execution_count": 4,
   "id": "medieval-young",
   "metadata": {},
   "outputs": [],
   "source": [
    "def nodesmorethanX(root,X):\n",
    "    if root is None:\n",
    "        return 0\n",
    "    left = nodesmorethanX(root.left,X)\n",
    "    right = nodesmorethanX(root.right,X)\n",
    "    if root.data>X:\n",
    "        return 1 + left + right\n",
    "    else:\n",
    "        return left + right"
   ]
  },
  {
   "cell_type": "code",
   "execution_count": 5,
   "id": "aquatic-december",
   "metadata": {},
   "outputs": [
    {
     "name": "stdout",
     "output_type": "stream",
     "text": [
      "1\n",
      "4\n",
      "3\n",
      "-1\n",
      "-1\n",
      "-1\n",
      "2\n",
      "-1\n",
      "-1\n",
      "enter target: 2\n",
      "2\n"
     ]
    }
   ],
   "source": [
    "rahul = takeinput()\n",
    "X = int(input('enter target: '))\n",
    "print(nodesmorethanX(rahul,X))"
   ]
  },
  {
   "cell_type": "code",
   "execution_count": null,
   "id": "assigned-understanding",
   "metadata": {},
   "outputs": [],
   "source": []
  }
 ],
 "metadata": {
  "kernelspec": {
   "display_name": "Python 3",
   "language": "python",
   "name": "python3"
  },
  "language_info": {
   "codemirror_mode": {
    "name": "ipython",
    "version": 3
   },
   "file_extension": ".py",
   "mimetype": "text/x-python",
   "name": "python",
   "nbconvert_exporter": "python",
   "pygments_lexer": "ipython3",
   "version": "3.9.1"
  }
 },
 "nbformat": 4,
 "nbformat_minor": 5
}
