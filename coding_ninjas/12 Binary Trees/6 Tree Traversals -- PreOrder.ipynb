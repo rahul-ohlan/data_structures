{
 "cells": [
  {
   "cell_type": "code",
   "execution_count": 27,
   "id": "liked-blogger",
   "metadata": {},
   "outputs": [],
   "source": [
    "class BinaryTreeNode:\n",
    "    def __init__(self,data):\n",
    "        self.data = data\n",
    "        self.left = None\n",
    "        self.right = None\n",
    "\n",
    "def taketreeinput():\n",
    "    rootdata = int(input())\n",
    "    if rootdata ==-1:\n",
    "        return None\n",
    "    root = BinaryTreeNode(rootdata)\n",
    "    left = taketreeinput()\n",
    "    right = taketreeinput()\n",
    "    root.left = left\n",
    "    root.right = right\n",
    "    return root\n",
    "def printpreorder(root):\n",
    "    if root == None:\n",
    "        return\n",
    "    print(root.data,end=' ')\n",
    "    printpreorder(root.left)\n",
    "    printpreorder(root.right)"
   ]
  },
  {
   "cell_type": "code",
   "execution_count": 30,
   "id": "composite-gateway",
   "metadata": {},
   "outputs": [
    {
     "name": "stdout",
     "output_type": "stream",
     "text": [
      "5\n",
      "6\n",
      "2\n",
      "-1\n",
      "-1\n",
      "3\n",
      "-1\n",
      "9\n",
      "-1\n",
      "-1\n",
      "10\n",
      "01\n",
      "-1\n",
      "-1\n",
      "-1\n",
      "5 6 2 3 9 10 1 "
     ]
    }
   ],
   "source": [
    "rahul = taketreeinput()\n",
    "printpreorder(rahul)"
   ]
  },
  {
   "cell_type": "code",
   "execution_count": 29,
   "id": "maritime-laundry",
   "metadata": {},
   "outputs": [],
   "source": [
    "def postorderprint(root):\n",
    "    if root is None:\n",
    "        return\n",
    "    postorderprint(root.left)\n",
    "    postorderprint(root.right)\n",
    "    print(root.data,end=' ')"
   ]
  },
  {
   "cell_type": "code",
   "execution_count": 31,
   "id": "looking-colorado",
   "metadata": {},
   "outputs": [
    {
     "name": "stdout",
     "output_type": "stream",
     "text": [
      "2 9 3 6 1 10 5 "
     ]
    }
   ],
   "source": [
    "postorderprint(rahul)"
   ]
  },
  {
   "cell_type": "code",
   "execution_count": 32,
   "id": "common-october",
   "metadata": {},
   "outputs": [],
   "source": [
    "def inorderprint(root):\n",
    "    if root is None:\n",
    "        return \n",
    "    inorderprint(root.left)\n",
    "    print(root.data,end=' ')\n",
    "    inorderprint(root.right)"
   ]
  },
  {
   "cell_type": "code",
   "execution_count": 33,
   "id": "typical-purchase",
   "metadata": {},
   "outputs": [
    {
     "name": "stdout",
     "output_type": "stream",
     "text": [
      "2 6 3 9 5 1 10 "
     ]
    }
   ],
   "source": [
    "inorderprint(rahul)"
   ]
  },
  {
   "cell_type": "code",
   "execution_count": null,
   "id": "front-processor",
   "metadata": {},
   "outputs": [],
   "source": []
  }
 ],
 "metadata": {
  "kernelspec": {
   "display_name": "Python 3",
   "language": "python",
   "name": "python3"
  }
 },
 "nbformat": 4,
 "nbformat_minor": 5
}
