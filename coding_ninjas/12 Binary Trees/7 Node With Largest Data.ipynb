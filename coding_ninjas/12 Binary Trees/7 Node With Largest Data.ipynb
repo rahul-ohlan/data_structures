{
 "cells": [
  {
   "cell_type": "code",
   "execution_count": 1,
   "id": "special-render",
   "metadata": {},
   "outputs": [],
   "source": [
    "class BinaryTreeNode:\n",
    "    def __init__(self,data):\n",
    "        self.data = data\n",
    "        self.left = None\n",
    "        self.right = None\n",
    "\n",
    "def takeinput():\n",
    "    rootdata = int(input())\n",
    "    if rootdata == -1:\n",
    "        return None\n",
    "    root = BinaryTreeNode(rootdata)\n",
    "    left = takeinput()\n",
    "    right = takeinput()\n",
    "    root.left = left\n",
    "    root.right = right\n",
    "    return root\n",
    "def printTreeNicely(root):\n",
    "    if root is None:\n",
    "        return\n",
    "    print(root.data,end=': ')\n",
    "    if root.left!=None:\n",
    "        print('L',root.left.data,end=',')\n",
    "    if root.right!=None:\n",
    "        print('R',root.right.data,end='')\n",
    "    print()\n",
    "    printTreeNicely(root.left)\n",
    "    printTreeNicely(root.right)"
   ]
  },
  {
   "cell_type": "code",
   "execution_count": 6,
   "id": "constant-championship",
   "metadata": {},
   "outputs": [],
   "source": [
    "def largestnode(root):\n",
    "    if root is None:\n",
    "        return -1 # ideally -inf\n",
    "    leftlar = largestnode(root.left)\n",
    "    rightlar = largestnode(root.right)\n",
    "    largest = max(leftlar,rightlar,root.data)\n",
    "    return largest"
   ]
  },
  {
   "cell_type": "code",
   "execution_count": 7,
   "id": "taken-offset",
   "metadata": {
    "scrolled": true
   },
   "outputs": [
    {
     "name": "stdout",
     "output_type": "stream",
     "text": [
      "10\n",
      "20\n",
      "9\n",
      "-1\n",
      "-1\n",
      "3\n",
      "-1\n",
      "-1\n",
      "5\n",
      "-1\n",
      "-1\n",
      "10: L 20,R 5\n",
      "20: L 9,R 3\n",
      "9: \n",
      "3: \n",
      "5: \n",
      "largest data in tree is: 20\n"
     ]
    }
   ],
   "source": [
    "rahul = takeinput()\n",
    "printTreeNicely(rahul)\n",
    "print('largest data in tree is:',largestnode(rahul))"
   ]
  },
  {
   "cell_type": "code",
   "execution_count": null,
   "id": "unsigned-alert",
   "metadata": {},
   "outputs": [],
   "source": []
  }
 ],
 "metadata": {
  "kernelspec": {
   "display_name": "Python 3",
   "language": "python",
   "name": "python3"
  },
  "language_info": {
   "codemirror_mode": {
    "name": "ipython",
    "version": 3
   },
   "file_extension": ".py",
   "mimetype": "text/x-python",
   "name": "python",
   "nbconvert_exporter": "python",
   "pygments_lexer": "ipython3",
   "version": "3.9.1"
  }
 },
 "nbformat": 4,
 "nbformat_minor": 5
}
