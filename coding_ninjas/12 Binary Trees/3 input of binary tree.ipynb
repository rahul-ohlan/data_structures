{
 "cells": [
  {
   "cell_type": "code",
   "execution_count": 37,
   "id": "comparable-extent",
   "metadata": {},
   "outputs": [],
   "source": [
    "class BinaryTreeNode:\n",
    "    def __init__(self,data):\n",
    "        self.data = data\n",
    "        self.left = None\n",
    "        self.right = None\n"
   ]
  },
  {
   "cell_type": "code",
   "execution_count": 38,
   "id": "ambient-toilet",
   "metadata": {},
   "outputs": [],
   "source": [
    "def printTreeDetailed(root):\n",
    "    if root == None:\n",
    "        return\n",
    "    print(root.data,end=': ')\n",
    "    if root.left!=None:\n",
    "        print(\"L\",root.left.data,end=',')\n",
    "    if root.right!=None:\n",
    "        print(\"R\",root.right.data,end='')\n",
    "    print()\n",
    "    \n",
    "    printTreeDetailed(root.left)\n",
    "    printTreeDetailed(root.right)"
   ]
  },
  {
   "cell_type": "code",
   "execution_count": 43,
   "id": "radical-ensemble",
   "metadata": {},
   "outputs": [],
   "source": [
    "def treeInput():\n",
    "    rootdata = int(input())\n",
    "    if rootdata == -1:\n",
    "        return None\n",
    "    rootNode = BinaryTreeNode(rootdata)\n",
    "    leftTree = treeInput()\n",
    "    rightTree = treeInput()\n",
    "    rootNode.left = leftTree\n",
    "    rootNode.right = rightTree\n",
    "    return rootNode"
   ]
  },
  {
   "cell_type": "code",
   "execution_count": 45,
   "id": "opening-judges",
   "metadata": {},
   "outputs": [
    {
     "name": "stdout",
     "output_type": "stream",
     "text": [
      "1\n",
      "2\n",
      "4\n",
      "-1\n",
      "-1\n",
      "5\n",
      "-1\n",
      "-1\n",
      "3\n",
      "-1\n",
      "7\n",
      "-1\n",
      "-1\n",
      "1: L 2,R 3\n",
      "2: L 4,R 5\n",
      "4: \n",
      "5: \n",
      "3: R 7\n",
      "7: \n"
     ]
    }
   ],
   "source": [
    "rahul = treeInput()\n",
    "printTreeDetailed(rahul)"
   ]
  },
  {
   "cell_type": "code",
   "execution_count": null,
   "id": "modern-substitute",
   "metadata": {},
   "outputs": [],
   "source": []
  }
 ],
 "metadata": {
  "kernelspec": {
   "display_name": "Python 3",
   "language": "python",
   "name": "python3"
  },
  "language_info": {
   "codemirror_mode": {
    "name": "ipython",
    "version": 3
   },
   "file_extension": ".py",
   "mimetype": "text/x-python",
   "name": "python",
   "nbconvert_exporter": "python",
   "pygments_lexer": "ipython3",
   "version": "3.9.1"
  }
 },
 "nbformat": 4,
 "nbformat_minor": 5
}
