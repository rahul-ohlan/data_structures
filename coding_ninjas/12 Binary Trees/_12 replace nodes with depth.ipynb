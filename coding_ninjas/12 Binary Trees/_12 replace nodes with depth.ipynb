{
 "cells": [
  {
   "cell_type": "code",
   "execution_count": 2,
   "id": "orange-school",
   "metadata": {},
   "outputs": [
    {
     "name": "stdout",
     "output_type": "stream",
     "text": [
      "10\n",
      "20\n",
      "-1\n",
      "-1\n",
      "30\n",
      "-1\n",
      "-1\n",
      "10: L 20,R 30\n",
      "20: \n",
      "30: \n",
      "0: L 1,R 1\n",
      "1: \n",
      "1: \n"
     ]
    }
   ],
   "source": [
    "class binarytree:\n",
    "    def __init__(self,data):\n",
    "        self.data = data\n",
    "        self.left = None\n",
    "        self.right = None\n",
    "def takeinput():\n",
    "    rootdata = int(input())\n",
    "    if rootdata == -1:\n",
    "        return None\n",
    "    root = binarytree(rootdata)\n",
    "    left = takeinput()\n",
    "    right = takeinput()\n",
    "    root.left = left\n",
    "    root.right = right\n",
    "    return root\n",
    "\n",
    "def printnicely(root):\n",
    "    if root is None:\n",
    "        return\n",
    "    print(root.data,end=': ')\n",
    "    if root.left!=None:\n",
    "        print('L',root.left.data,end=',')\n",
    "    if root.right!=None:\n",
    "        print('R',root.right.data,end='')\n",
    "    print()\n",
    "    printnicely(root.left)\n",
    "    printnicely(root.right)\n",
    "def replacenodeswithdepth(root,d=0):\n",
    "    if root == None:\n",
    "        return\n",
    "    root.data = d\n",
    "    replacenodeswithdepth(root.left,d+1)\n",
    "    replacenodeswithdepth(root.right,d+1)\n",
    "rahul = takeinput()\n",
    "printnicely(rahul)\n",
    "replacenodeswithdepth(rahul)\n",
    "printnicely(rahul)"
   ]
  },
  {
   "cell_type": "code",
   "execution_count": null,
   "id": "fleet-sauce",
   "metadata": {},
   "outputs": [],
   "source": []
  }
 ],
 "metadata": {
  "kernelspec": {
   "display_name": "Python 3",
   "language": "python",
   "name": "python3"
  },
  "language_info": {
   "codemirror_mode": {
    "name": "ipython",
    "version": 3
   },
   "file_extension": ".py",
   "mimetype": "text/x-python",
   "name": "python",
   "nbconvert_exporter": "python",
   "pygments_lexer": "ipython3",
   "version": "3.9.1"
  }
 },
 "nbformat": 4,
 "nbformat_minor": 5
}
