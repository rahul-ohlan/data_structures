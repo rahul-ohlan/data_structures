{
 "cells": [
  {
   "cell_type": "code",
   "execution_count": 24,
   "id": "international-check",
   "metadata": {},
   "outputs": [],
   "source": [
    "import queue\n",
    "class Graph:\n",
    "    \n",
    "    def __init__(self,nVertices):\n",
    "        \n",
    "        self.nVertices = nVertices\n",
    "        self.adjMatrix = [[0 for j in range(nVertices)] for i in range(nVertices)]\n",
    "        \n",
    "    def addEdge(self,v1,v2):\n",
    "        \n",
    "        self.adjMatrix[v1][v2] = 1\n",
    "        self.adjMatrix[v2][v1] = 1\n",
    "        \n",
    "    \n",
    "    def __getPath_bfsHelper(self,v1,v2,visited):\n",
    "        \n",
    "        que = queue.Queue()\n",
    "        que.put(v1)\n",
    "        Map = dict()\n",
    "        while not que.empty():\n",
    "            curr = que.get()\n",
    "            visited[curr] = True\n",
    "            for i in range(self.nVertices):\n",
    "                if self.adjMatrix[curr][i] > 0 and visited[i] == False:\n",
    "                    que.put(i)\n",
    "                    Map[i] = curr\n",
    "                    if i==v2:\n",
    "                        path = list()\n",
    "                        ele = i\n",
    "                        path.append(ele)\n",
    "                        while ele!=v1:\n",
    "                            path.append(Map[ele])\n",
    "                            ele = Map[ele]\n",
    "                        return path\n",
    "        return None\n",
    "            \n",
    "        \n",
    "    \n",
    "    def getPath_bfs(self,v1,v2):\n",
    "        \n",
    "        visited = [False for i in range(self.nVertices)]\n",
    "        \n",
    "        return self.__getPath_bfsHelper(v1,v2,visited)"
   ]
  },
  {
   "cell_type": "code",
   "execution_count": 34,
   "id": "excellent-wesley",
   "metadata": {},
   "outputs": [
    {
     "name": "stdout",
     "output_type": "stream",
     "text": [
      "None\n"
     ]
    }
   ],
   "source": [
    "g = Graph(7)\n",
    "g.addEdge(0,1)\n",
    "g.addEdge(0,2)\n",
    "g.addEdge(1,3)\n",
    "g.addEdge(2,4)\n",
    "g.addEdge(3,4)\n",
    "g.addEdge(5,6)\n",
    "new = g.getPath_bfs(3,6)\n",
    "print(new)"
   ]
  },
  {
   "cell_type": "code",
   "execution_count": null,
   "id": "biological-turtle",
   "metadata": {},
   "outputs": [],
   "source": []
  }
 ],
 "metadata": {
  "kernelspec": {
   "display_name": "Python 3",
   "language": "python",
   "name": "python3"
  },
  "language_info": {
   "codemirror_mode": {
    "name": "ipython",
    "version": 3
   },
   "file_extension": ".py",
   "mimetype": "text/x-python",
   "name": "python",
   "nbconvert_exporter": "python",
   "pygments_lexer": "ipython3",
   "version": "3.9.1"
  }
 },
 "nbformat": 4,
 "nbformat_minor": 5
}
