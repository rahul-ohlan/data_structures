{
 "cells": [
  {
   "cell_type": "code",
   "execution_count": 20,
   "id": "appointed-biology",
   "metadata": {},
   "outputs": [],
   "source": [
    "class Graph:\n",
    "    \n",
    "    def __init__(self,nVertices):\n",
    "        self.nVertices = nVertices\n",
    "        self.adjMatrix = [[0 for j in range(nVertices)] for i in range(nVertices)]\n",
    "        \n",
    "    def addEdge(self,v1,v2):\n",
    "        \n",
    "        self.adjMatrix[v1][v2] = 1\n",
    "        self.adjMatrix[v2][v1] = 1\n",
    "        \n",
    "    def paths_dfs(self,v1,visited,new):\n",
    "        visited[v1] = True\n",
    "        new.append(v1)\n",
    "        \n",
    "        for i in range(self.nVertices):\n",
    "            if self.adjMatrix[v1][i] > 0 and visited[i] == False:\n",
    "                self.paths_dfs(i,visited,new)\n",
    "        return new\n",
    "    \n",
    "    def connected(self):\n",
    "        \n",
    "        visited = [False for i in range(self.nVertices)]\n",
    "        final_list = list()\n",
    "        for i in range(self.nVertices):\n",
    "            if visited[i] == False:\n",
    "                new = list()\n",
    "                short_list = self.paths_dfs(i,visited,new)\n",
    "                final_list.append(short_list)\n",
    "        return final_list\n",
    "    "
   ]
  },
  {
   "cell_type": "code",
   "execution_count": 21,
   "id": "roman-description",
   "metadata": {},
   "outputs": [
    {
     "name": "stdout",
     "output_type": "stream",
     "text": [
      "[[0, 6, 1, 7, 3, 4, 8, 5, 2]]\n"
     ]
    }
   ],
   "source": [
    "g = Graph(9)\n",
    "g.addEdge(0,8)\n",
    "g.addEdge(1,6)\n",
    "g.addEdge(1,7)\n",
    "g.addEdge(1,8)\n",
    "g.addEdge(8,5)\n",
    "g.addEdge(0,6)\n",
    "g.addEdge(7,3)\n",
    "g.addEdge(7,4)\n",
    "g.addEdge(8,7)\n",
    "g.addEdge(2,5)\n",
    "print(g.connected())"
   ]
  },
  {
   "cell_type": "code",
   "execution_count": 17,
   "id": "coastal-roads",
   "metadata": {},
   "outputs": [
    {
     "name": "stdout",
     "output_type": "stream",
     "text": [
      "[1, 2, 5, 6, 7, 8, 9]\n"
     ]
    }
   ],
   "source": [
    "a= [1,7,8,5,2,6,9]\n",
    "b = sorted(a)\n",
    "print(b)"
   ]
  },
  {
   "cell_type": "code",
   "execution_count": null,
   "id": "opened-diagnosis",
   "metadata": {},
   "outputs": [],
   "source": [
    "# Write your code here\n",
    "from sys import setrecursionlimit\n",
    "setrecursionlimit(10**7)\n",
    "class Graph:\n",
    "    \n",
    "    def __init__(self,nVertices):\n",
    "        \n",
    "        self.nVertices = nVertices\n",
    "        self.adjMatrix = [[0 for i in range(nVertices)] for j in range(nVertices)]\n",
    "        \n",
    "    def addEdge(self,v1,v2):\n",
    "        self.adjMatrix[v1][v2] = 1\n",
    "        self.adjMatrix[v2][v1] = 1\n",
    "        \n",
    "    def paths_dfs(self,v1,visited,new):\n",
    "        \n",
    "        new.append(v1)\n",
    "        visited[v1] = True\n",
    "        \n",
    "        for i in range(self.nVertices):\n",
    "            if self.adjMatrix[v1][i] > 0 and visited[i]==False:\n",
    "                self.paths_dfs(i,visited,new)\n",
    "        return new\n",
    "    \n",
    "    def connected(self):\n",
    "        \n",
    "        visited = [False for i in range(nVertices)]\n",
    "        final_list = list()\n",
    "        \n",
    "        for i in range(self.nVertices):\n",
    "            if visited[i] == False:\n",
    "                new = list()\n",
    "                short_list = self.paths_dfs(i,visited,new)\n",
    "                final_list.append(sorted(short_list))\n",
    "        return final_list\n",
    "    \n",
    "nVertices,nEdges = map(int,input().split())\n",
    "g = Graph(nVertices)\n",
    "for i in range(nEdges):\n",
    "    v1,v2 = map(int,input().split())\n",
    "    g.addEdge(v1,v2)\n",
    "    \n",
    "res = g.connected()\n",
    "\n",
    "for s_list in res:\n",
    "    for ele in s_list:\n",
    "        print(ele,end=' ')\n",
    "    print()"
   ]
  }
 ],
 "metadata": {
  "kernelspec": {
   "display_name": "Python 3",
   "language": "python",
   "name": "python3"
  },
  "language_info": {
   "codemirror_mode": {
    "name": "ipython",
    "version": 3
   },
   "file_extension": ".py",
   "mimetype": "text/x-python",
   "name": "python",
   "nbconvert_exporter": "python",
   "pygments_lexer": "ipython3",
   "version": "3.9.1"
  }
 },
 "nbformat": 4,
 "nbformat_minor": 5
}
