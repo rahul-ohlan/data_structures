{
 "cells": [
  {
   "cell_type": "code",
   "execution_count": 12,
   "id": "forbidden-retreat",
   "metadata": {},
   "outputs": [
    {
     "name": "stdout",
     "output_type": "stream",
     "text": [
      "0\n",
      "1\n",
      "2\n",
      "3\n"
     ]
    }
   ],
   "source": [
    "import queue\n",
    "class Graph:\n",
    "    def __init__(self,nVertices):\n",
    "        self.nVertices = nVertices\n",
    "        self.adjMatrix = [[0 for j in range(nVertices)] for i in range(nVertices)]\n",
    "        \n",
    "    def addEdge(self,v1,v2):\n",
    "        self.adjMatrix[v1][v2] = 1\n",
    "        self.adjMatrix[v2][v1] = 1\n",
    "        \n",
    "    def removeEdge(self,v1,v2):\n",
    "        if self.containsEdge(v1,v2) is False:\n",
    "            return\n",
    "        self.adjMatrix[v1][v2] = 0\n",
    "        self.adjMatrix[v2][v1] = 0\n",
    "        \n",
    "    def containsEdge(self,v1,v2):\n",
    "        return True if self.adjMatrix[v1][v2]>0 else False\n",
    "    \n",
    "    \n",
    "    def __dfsHelper(self,sv,visited):\n",
    "        \n",
    "        print(sv)\n",
    "        visited[sv] = True\n",
    "        for i in range(self.nVertices):\n",
    "            if self.adjMatrix[sv][i] > 0 and visited[i] is False:\n",
    "                self.__dfsHelper(i,visited)\n",
    "        return\n",
    "    def __bfsHelper(self,root,visited):\n",
    "        \n",
    "        que = queue.Queue()\n",
    "        visited[root] = True\n",
    "        que.put(root)\n",
    "        while not que.empty():\n",
    "            curr = que.get()\n",
    "            print(curr)\n",
    "            for i in range(self.nVertices):\n",
    "                if self.adjMatrix[curr][i] > 0 and visited[i] is False:\n",
    "                    visited[i] = True\n",
    "                    que.put(i)\n",
    "        return\n",
    "    \n",
    "    def bfs(self):\n",
    "        \n",
    "        visited = [False for i in range(self.nVertices)]\n",
    "        for i in range(len(visited)):\n",
    "            if visited[i] == False:\n",
    "                self.__bfsHelper(i,visited)\n",
    "                \n",
    "    \n",
    "    def dfs(self):\n",
    "        visited = [False for i in range(self.nVertices)]\n",
    "        self.__dfsHelper(0,visited)\n",
    "        pass\n",
    "    \n",
    "    def __str__(self):\n",
    "        return str(self.adjMatrix)\n",
    "    \n",
    "    \n",
    "g = Graph(4)\n",
    "g.addEdge(0,1)\n",
    "g.addEdge(2,3)\n",
    "# g.addEdge(1,3)\n",
    "# g.addEdge(1,3)\n",
    "# g.addEdge(3,4)\n",
    "# g.addEdge(4,5)\n",
    "# g.addEdge(5,6)\n",
    "g.bfs()\n",
    "\n",
    "        "
   ]
  },
  {
   "cell_type": "code",
   "execution_count": null,
   "id": "starting-steam",
   "metadata": {},
   "outputs": [],
   "source": []
  }
 ],
 "metadata": {
  "kernelspec": {
   "display_name": "Python 3",
   "language": "python",
   "name": "python3"
  },
  "language_info": {
   "codemirror_mode": {
    "name": "ipython",
    "version": 3
   },
   "file_extension": ".py",
   "mimetype": "text/x-python",
   "name": "python",
   "nbconvert_exporter": "python",
   "pygments_lexer": "ipython3",
   "version": "3.9.1"
  }
 },
 "nbformat": 4,
 "nbformat_minor": 5
}
