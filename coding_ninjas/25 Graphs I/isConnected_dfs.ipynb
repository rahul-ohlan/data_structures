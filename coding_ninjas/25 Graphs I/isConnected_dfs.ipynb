{
 "cells": [
  {
   "cell_type": "code",
   "execution_count": null,
   "id": "textile-period",
   "metadata": {},
   "outputs": [],
   "source": [
    "# Write your code here\n",
    "from sys import setrecursionlimit\n",
    "setrecursionlimit(10**7)\n",
    "class Graph:\n",
    "    \n",
    "    def __init__(self,nVertices):\n",
    "        \n",
    "        self.nVertices = nVertices\n",
    "        self.adjMatrix = [[0 for j in range(nVertices)] for i in range(nVertices)]\n",
    "        \n",
    "    def addEdge(self,v1,v2):\n",
    "        \n",
    "        self.adjMatrix[v1][v2] = 1\n",
    "        self.adjMatrix[v2][v1] = 1\n",
    "        \n",
    "    def __isConnected_dfsHelper(self,sv,visited):\n",
    "        \n",
    "\n",
    "        visited[sv] = True\n",
    "        for i in range(self.nVertices):\n",
    "            if self.adjMatrix[sv][i] > 0 and visited[i] == False:\n",
    "                self.__isConnected_dfsHelper(i,visited)\n",
    "        return\n",
    "        \n",
    "    def isConnected_dfs(self):\n",
    "        \n",
    "        if self.nVertices ==0:\n",
    "            return True\n",
    "        visited = [False for i in range(nVertices)]\n",
    "        self.__isConnected_dfsHelper(0,visited)\n",
    "        \n",
    "        for i in range(self.nVertices):\n",
    "            if visited[i] == False:\n",
    "                return False\n",
    "        return True\n",
    "    \n",
    "nVertices,nEdges = map(int,input().split())\n",
    "g = Graph(nVertices)\n",
    "for i in range(nEdges):\n",
    "    v1,v2 = map(int,input().split())\n",
    "    g.addEdge(v1,v2)\n",
    "    \n",
    "res = g.isConnected_dfs()\n",
    "if res:\n",
    "    print('true')\n",
    "else:\n",
    "    print('false')"
   ]
  }
 ],
 "metadata": {
  "kernelspec": {
   "display_name": "Python 3",
   "language": "python",
   "name": "python3"
  },
  "language_info": {
   "codemirror_mode": {
    "name": "ipython",
    "version": 3
   },
   "file_extension": ".py",
   "mimetype": "text/x-python",
   "name": "python",
   "nbconvert_exporter": "python",
   "pygments_lexer": "ipython3",
   "version": "3.9.1"
  }
 },
 "nbformat": 4,
 "nbformat_minor": 5
}
