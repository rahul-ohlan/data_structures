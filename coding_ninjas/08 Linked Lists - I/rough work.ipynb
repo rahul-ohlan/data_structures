{
 "cells": [
  {
   "cell_type": "code",
   "execution_count": 2,
   "id": "covered-consumer",
   "metadata": {},
   "outputs": [
    {
     "name": "stdout",
     "output_type": "stream",
     "text": [
      "20 10 "
     ]
    }
   ],
   "source": [
    "class Node:\n",
    "    def __init__(self, data):\n",
    "        self.data = data\n",
    "        self.next = None\n",
    "def printLL(head):\n",
    "    while head is not None:\n",
    "        print(head.data,end=\" \")\n",
    "        head = head.next\n",
    "\n",
    "\n",
    "\n",
    "node1 = Node(10)\n",
    "node2 = Node(20)\n",
    "node2.next = node1\n",
    "printLL(node2)"
   ]
  },
  {
   "cell_type": "code",
   "execution_count": 6,
   "id": "applied-ordering",
   "metadata": {},
   "outputs": [
    {
     "name": "stdout",
     "output_type": "stream",
     "text": [
      "20 30 40 "
     ]
    }
   ],
   "source": [
    "class Node:\n",
    "    def __init__(self,data):\n",
    "        self.data = data\n",
    "        self.next = None\n",
    "def printLL(head):\n",
    "    while head is not None:\n",
    "        print(head.data,end=' ')\n",
    "        head = head.next\n",
    "        \n",
    "node1 = Node(10)\n",
    "node2 = Node(20)\n",
    "node3 = Node(30)\n",
    "node4 = Node(40)\n",
    "\n",
    "node1.next = node1\n",
    "node2.next = node3\n",
    "node3.next = node4\n",
    "\n",
    "printLL(node2)"
   ]
  },
  {
   "cell_type": "code",
   "execution_count": 7,
   "id": "quiet-panel",
   "metadata": {},
   "outputs": [
    {
     "name": "stdout",
     "output_type": "stream",
     "text": [
      "11 21 "
     ]
    }
   ],
   "source": [
    "class Node:\n",
    "    def __init__(self,data):\n",
    "        self.data = data\n",
    "        self.next = None\n",
    "def prinLL(head):\n",
    "    while head is not None:\n",
    "        print(head.data, end = ' ')\n",
    "        head = head.next\n",
    "        \n",
    "def increment(head):\n",
    "    temp = head\n",
    "    while temp is not None:\n",
    "        temp.data+=1\n",
    "        temp = temp.next\n",
    "        \n",
    "node1 = Node(10)\n",
    "node2 = Node(20)\n",
    "node1.next = node2\n",
    "increment(node1)\n",
    "printLL(node1)"
   ]
  },
  {
   "cell_type": "code",
   "execution_count": null,
   "id": "public-automation",
   "metadata": {},
   "outputs": [],
   "source": []
  }
 ],
 "metadata": {
  "kernelspec": {
   "display_name": "Python 3",
   "language": "python",
   "name": "python3"
  },
  "language_info": {
   "codemirror_mode": {
    "name": "ipython",
    "version": 3
   },
   "file_extension": ".py",
   "mimetype": "text/x-python",
   "name": "python",
   "nbconvert_exporter": "python",
   "pygments_lexer": "ipython3",
   "version": "3.9.1"
  }
 },
 "nbformat": 4,
 "nbformat_minor": 5
}
