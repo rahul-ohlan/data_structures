{
 "cells": [
  {
   "cell_type": "code",
   "execution_count": 14,
   "id": "rough-kennedy",
   "metadata": {},
   "outputs": [],
   "source": [
    "class Node:\n",
    "    def __init__(self,data):\n",
    "        self.data = data\n",
    "        self.next = None\n",
    "        \n",
    "class LinkedList:\n",
    "    \n",
    "    def __init__(self):\n",
    "        self.head = None\n",
    "        \n",
    "    def printlist(self):\n",
    "        cur_node = self.head\n",
    "        while cur_node:\n",
    "            print(cur_node.data,end=' ')\n",
    "            cur_node = cur_node.next\n",
    "        print()\n",
    "        \n",
    "    def append(self,data):\n",
    "        new_node = Node(data)\n",
    "        if self.head is None:\n",
    "            self.head = new_node\n",
    "            return\n",
    "        tail = self.head\n",
    "        while tail.next is not None:\n",
    "            tail = tail.next\n",
    "        tail.next = new_node\n",
    "        \n",
    "    def prepend(self,data):\n",
    "        new_node = Node(data)\n",
    "        new_node.next = self.head\n",
    "        self.head = new_node\n",
    "        \n",
    "    def insert_after_node(self,prev_node,data):\n",
    "        if not prev_node:\n",
    "            print('Previous node is not in the list')\n",
    "            return\n",
    "        new_node = Node(data)\n",
    "        new_node.next = prev_node.next\n",
    "        prev_node.next = new_node\n",
    "        \n",
    "    def deletenode(self,key):\n",
    "        cur_node = self.head\n",
    "        if cur_node is not None and cur_node.data == key:\n",
    "            self.head = cur_node.next\n",
    "            cur_node = None\n",
    "            return\n",
    "        prev = None\n",
    "        while cur_node is not None and cur_node.data!=key:\n",
    "            prev = cur_node\n",
    "            cur_node = cur_node.next\n",
    "        if cur_node is None:\n",
    "            return\n",
    "        prev.next = cur_node.next\n",
    "        cur_node = None\n",
    "        \n",
    "    def deletenode_at_pos(self,pos):\n",
    "        cur_node = self.head\n",
    "        \n",
    "        if pos==0:\n",
    "            self.head = cur_node.next\n",
    "            cur_node = None\n",
    "            return\n",
    "        prev = None\n",
    "        count = 1\n",
    "        while cur_node is not None and count!=pos:\n",
    "            prev = cur_node\n",
    "            cur_node = cur_node.next\n",
    "            count+=1\n",
    "        \n",
    "        if cur_node is None:\n",
    "            return\n",
    "        prev.next = cur_node.next\n",
    "        cur_node = None\n",
    "        \n",
    "    def len_iterative(self):\n",
    "        count = 0\n",
    "        cur_node = self.head\n",
    "        while cur_node:\n",
    "            count+=1\n",
    "            cur_node = cur_node.next\n",
    "        return count\n",
    "    \n",
    "    \n",
    "    def len_recursive(self,node):\n",
    "        if node is None:\n",
    "            return 0\n",
    "        return 1 + self.len_recursive(node.next)\n",
    "    \n",
    "    def swap_nodes(self,key_1,key_2):\n",
    "        if key_1 == key_2:\n",
    "            return\n",
    "        prev_1 = None\n",
    "        curr_1 = self.head\n",
    "        \n",
    "        while curr_1 is not None and curr_1.data!= key_1:\n",
    "            prev_1 = curr_1\n",
    "            curr_1 = curr_1.next\n",
    "#         print(prev_1.data)\n",
    "#         print(curr_1.data)\n",
    "        \n",
    "        prev_2 = None\n",
    "        curr_2 = self.head\n",
    "        \n",
    "        while curr_2 and curr_2.data!= key_2:\n",
    "            prev_2 = curr_2\n",
    "            curr_2 = curr_2.next\n",
    "        if curr_1 is None or curr_2 is None:\n",
    "            return\n",
    "        if prev_1:\n",
    "            prev_1.next = curr_2\n",
    "        else:\n",
    "            self.head = curr_2\n",
    "        if prev_2:\n",
    "            prev_2.next = curr_1\n",
    "        else:\n",
    "            self.head = curr_1\n",
    "            \n",
    "        curr_1.next,curr_2.next = curr_2.next,curr_1.next\n",
    "        \n",
    "    def printhelper(self,node,name):\n",
    "        if node is None:\n",
    "            print(name + ': None')\n",
    "        else:\n",
    "            print(name + ':' + node.data)\n",
    "    # A-->B-->C-->D--> -1\n",
    "    # D-->C-->B-->A--> -1\n",
    "    def reverse_iterative(self):\n",
    "        prev = None\n",
    "        cur = self.head\n",
    "        while cur is not None:\n",
    "            nxt = cur.next\n",
    "            cur.next = prev\n",
    "            \n",
    "            self.printhelper(prev,'PREVIOUS')\n",
    "            self.printhelper(cur,'CURRENT')\n",
    "            self.printhelper(nxt, 'NEXT')\n",
    "            \n",
    "            \n",
    "            prev = cur\n",
    "            cur = nxt\n",
    "        self.head = prev\n",
    "        \n",
    "    def reverse_recursive(self):\n",
    "        def _reverse_recursive(cur,prev):\n",
    "            if cur is None:\n",
    "                return prev\n",
    "            nxt = cur.next\n",
    "            cur.next = prev\n",
    "            prev = cur\n",
    "            cur = nxt\n",
    "            return _reverse_recursive(cur,prev)\n",
    "        self.head = _reverse_recursive(cur=self.head, prev=None)\n",
    "        \n",
    "    def isPalindrome(self):\n",
    "        # Method 1\n",
    "        s = \"\"\n",
    "        p = self.head\n",
    "        while p is not None:\n",
    "            s+= p.data\n",
    "            p = p.next\n",
    "        return s == s[::-1]\n",
    "        \n",
    "        #Method 2\n",
    "        p = self.head\n",
    "        s=[]\n",
    "        while p is not None:\n",
    "            s.append(p.data)\n",
    "            p = p.next\n",
    "        p = self.head\n",
    "        while p:\n",
    "            data = s.pop()\n",
    "            if p.data!=data:\n",
    "                return False\n",
    "            p = p.next\n",
    "        return True\n",
    "        #METHOD 3\n",
    "        p = self.head\n",
    "        q = self.head\n",
    "        prev = []\n",
    "        i = 0\n",
    "        while q:\n",
    "            prev.append(q)\n",
    "            q = q.next\n",
    "            i+=1\n",
    "        q = prev[i-1]\n",
    "        \n",
    "        count = 1\n",
    "        while count <= i//2 +1:\n",
    "            if prev[-count].data !=p.data:\n",
    "                return False\n",
    "            p = p.next\n",
    "            count+=1\n",
    "        return True"
   ]
  },
  {
   "cell_type": "code",
   "execution_count": 15,
   "id": "developing-juvenile",
   "metadata": {},
   "outputs": [
    {
     "name": "stdout",
     "output_type": "stream",
     "text": [
      "PREVIOUS: None\n",
      "CURRENT:A\n",
      "NEXT:B\n",
      "PREVIOUS:A\n",
      "CURRENT:B\n",
      "NEXT:C\n",
      "PREVIOUS:B\n",
      "CURRENT:C\n",
      "NEXT:D\n",
      "PREVIOUS:C\n",
      "CURRENT:D\n",
      "NEXT: None\n",
      "D C B A \n"
     ]
    }
   ],
   "source": [
    "llist = LinkedList()\n",
    "llist.append('A')\n",
    "llist.append('B')\n",
    "llist.append('C')\n",
    "llist.append('D')\n",
    "llist.reverse_iterative()\n",
    "llist.printlist()"
   ]
  },
  {
   "cell_type": "code",
   "execution_count": 4,
   "id": "final-emphasis",
   "metadata": {},
   "outputs": [],
   "source": [
    "llist = LinkedList()\n",
    "llist.append(1)"
   ]
  },
  {
   "cell_type": "code",
   "execution_count": 5,
   "id": "prime-warehouse",
   "metadata": {},
   "outputs": [
    {
     "name": "stdout",
     "output_type": "stream",
     "text": [
      "1 \n"
     ]
    }
   ],
   "source": [
    "llist.printlist()"
   ]
  },
  {
   "cell_type": "code",
   "execution_count": 6,
   "id": "ceramic-wireless",
   "metadata": {},
   "outputs": [
    {
     "name": "stdout",
     "output_type": "stream",
     "text": [
      "1 2 3 4 5 \n"
     ]
    }
   ],
   "source": [
    "llist.append(2)\n",
    "llist.append(3)\n",
    "llist.append(4)\n",
    "llist.append(5)\n",
    "llist.printlist()"
   ]
  },
  {
   "cell_type": "code",
   "execution_count": 7,
   "id": "banned-anthropology",
   "metadata": {},
   "outputs": [
    {
     "name": "stdout",
     "output_type": "stream",
     "text": [
      "5\n"
     ]
    }
   ],
   "source": [
    "print(llist.len_recursive(llist.head))"
   ]
  },
  {
   "cell_type": "code",
   "execution_count": 8,
   "id": "governmental-introduction",
   "metadata": {},
   "outputs": [
    {
     "name": "stdout",
     "output_type": "stream",
     "text": [
      "1 2 3 E 4 5 \n"
     ]
    }
   ],
   "source": [
    "llist.insert_after_node(llist.head.next.next,'E')\n",
    "llist.printlist()"
   ]
  },
  {
   "cell_type": "code",
   "execution_count": 9,
   "id": "based-raleigh",
   "metadata": {},
   "outputs": [
    {
     "name": "stdout",
     "output_type": "stream",
     "text": [
      "1 2 3 5 4 E \n"
     ]
    }
   ],
   "source": [
    "llist.swap_nodes('E',5)\n",
    "llist.printlist()"
   ]
  }
 ],
 "metadata": {
  "kernelspec": {
   "display_name": "Python 3",
   "language": "python",
   "name": "python3"
  },
  "language_info": {
   "codemirror_mode": {
    "name": "ipython",
    "version": 3
   },
   "file_extension": ".py",
   "mimetype": "text/x-python",
   "name": "python",
   "nbconvert_exporter": "python",
   "pygments_lexer": "ipython3",
   "version": "3.9.1"
  }
 },
 "nbformat": 4,
 "nbformat_minor": 5
}
