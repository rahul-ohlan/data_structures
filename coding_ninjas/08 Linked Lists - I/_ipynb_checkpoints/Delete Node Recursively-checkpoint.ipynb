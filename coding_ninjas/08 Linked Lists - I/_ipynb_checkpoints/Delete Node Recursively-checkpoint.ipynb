{
 "cells": [
  {
   "cell_type": "code",
   "execution_count": 7,
   "id": "binary-flexibility",
   "metadata": {},
   "outputs": [],
   "source": [
    "class Node:\n",
    "    def __init__(self,data):\n",
    "        self.data = data\n",
    "        self.next = None\n",
    "        \n",
    "        \n",
    "def printLL(head):\n",
    "    current = head\n",
    "    while current is not None:\n",
    "        print(str(current.data) + '-->', end ='')\n",
    "        current = current.next\n",
    "    print('None')\n",
    "    \n",
    "def length(head):\n",
    "    if head is None:\n",
    "        return 0\n",
    "    count = 0\n",
    "    while head is not None:\n",
    "        count+=1\n",
    "        head = head.next\n",
    "    return count\n",
    "\n",
    "def removeRecursively(head,pos):\n",
    "    if head is None:\n",
    "        return None\n",
    "    if pos == 0:\n",
    "        head = head.next\n",
    "        return head\n",
    "    \n",
    "    \n",
    "    smallhead = removeRecursively(head.next,pos-1)\n",
    "    head.next = smallhead\n",
    "    return head\n",
    "        \n",
    "        \n",
    "        \n",
    "def takeinput():\n",
    "    inputList = [int(x) for x in input().split()]\n",
    "    head = None\n",
    "    tail = None\n",
    "    for item in inputList:\n",
    "        if item == -1:\n",
    "            break\n",
    "        newNode = Node(item)\n",
    "    \n",
    "        if head is None:\n",
    "            head = newNode\n",
    "            tail = newNode\n",
    "        else:\n",
    "            tail.next = newNode\n",
    "            tail = tail.next\n",
    "    return head\n",
    "    "
   ]
  },
  {
   "cell_type": "code",
   "execution_count": 24,
   "id": "checked-creator",
   "metadata": {},
   "outputs": [
    {
     "name": "stdout",
     "output_type": "stream",
     "text": [
      "1 2 3 4 5 6\n",
      "1-->2-->4-->5-->6-->None\n"
     ]
    }
   ],
   "source": [
    "inputlist = takeinput()\n",
    "newlist = removeRecursively(inputlist,2)\n",
    "printLL(newlist)"
   ]
  },
  {
   "cell_type": "code",
   "execution_count": null,
   "id": "fatal-motion",
   "metadata": {},
   "outputs": [],
   "source": []
  }
 ],
 "metadata": {
  "kernelspec": {
   "display_name": "Python 3",
   "language": "python",
   "name": "python3"
  },
  "language_info": {
   "codemirror_mode": {
    "name": "ipython",
    "version": 3
   },
   "file_extension": ".py",
   "mimetype": "text/x-python",
   "name": "python",
   "nbconvert_exporter": "python",
   "pygments_lexer": "ipython3",
   "version": "3.9.1"
  }
 },
 "nbformat": 4,
 "nbformat_minor": 5
}
