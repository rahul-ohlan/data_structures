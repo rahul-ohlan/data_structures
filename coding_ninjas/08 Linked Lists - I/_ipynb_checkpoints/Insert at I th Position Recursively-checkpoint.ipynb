{
 "cells": [
  {
   "cell_type": "code",
   "execution_count": 2,
   "id": "electronic-territory",
   "metadata": {},
   "outputs": [],
   "source": [
    "class Node:\n",
    "    def __init__(self,data):\n",
    "        self.data = data\n",
    "        self.next = None\n",
    "\n",
    "\n",
    "def printLL(head):\n",
    "    while head is not None:\n",
    "        print(head.data, end = ' ')\n",
    "        head = head.next\n",
    "    print()\n",
    "        \n",
    "def length(head):\n",
    "    if head is None:\n",
    "        return 0\n",
    "    count = 0\n",
    "    while head is not None:\n",
    "        count+=1\n",
    "        head = head.next\n",
    "    return count\n",
    "        \n",
    "        \n",
    "def insertRecursively(head,pos,data):\n",
    "    \n",
    "    if pos < 0:\n",
    "        return head\n",
    "    \n",
    "    if pos ==0:\n",
    "        newNode = Node(data)\n",
    "        newNode.next = head\n",
    "        return newNode\n",
    "    \n",
    "    if head is None:\n",
    "        return None\n",
    "    smallhead = insertRecursively(head.next,pos-1,data)\n",
    "    head.next = smallhead\n",
    "    return head\n",
    "        \n",
    "        \n",
    "def takeinput():\n",
    "    inputList = [int(x) for x in input().split()]\n",
    "    head = None\n",
    "    tail = None\n",
    "    \n",
    "    for item in inputList:\n",
    "        if item ==-1:\n",
    "            break\n",
    "        newNode = Node(item)\n",
    "        if head is None:\n",
    "            head = newNode\n",
    "            tail = newNode\n",
    "        else:\n",
    "            tail.next = newNode\n",
    "            tail = newNode\n",
    "    return head\n",
    "\n",
    "        "
   ]
  },
  {
   "cell_type": "code",
   "execution_count": 3,
   "id": "recent-majority",
   "metadata": {},
   "outputs": [
    {
     "name": "stdout",
     "output_type": "stream",
     "text": [
      "1 2 3 4 5 -1\n",
      "1 2 3 4 5 \n",
      "1 2 6 3 4 5 \n",
      "9 1 2 6 3 4 5 \n",
      "9 1 2 6 3 4 5 10 \n"
     ]
    }
   ],
   "source": [
    "head = takeinput()\n",
    "printLL(head)\n",
    "head = insertRecursively(head,2,6)\n",
    "printLL(head)\n",
    "head = insertRecursively(head,0,9)\n",
    "printLL(head)\n",
    "head = insertRecursively(head,7,10)\n",
    "printLL(head)"
   ]
  },
  {
   "cell_type": "code",
   "execution_count": null,
   "id": "ideal-ghana",
   "metadata": {},
   "outputs": [],
   "source": []
  }
 ],
 "metadata": {
  "kernelspec": {
   "display_name": "Python 3",
   "language": "python",
   "name": "python3"
  },
  "language_info": {
   "codemirror_mode": {
    "name": "ipython",
    "version": 3
   },
   "file_extension": ".py",
   "mimetype": "text/x-python",
   "name": "python",
   "nbconvert_exporter": "python",
   "pygments_lexer": "ipython3",
   "version": "3.9.1"
  }
 },
 "nbformat": 4,
 "nbformat_minor": 5
}
