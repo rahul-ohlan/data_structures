{
 "cells": [
  {
   "cell_type": "code",
   "execution_count": 3,
   "id": "curious-perception",
   "metadata": {},
   "outputs": [
    {
     "name": "stdout",
     "output_type": "stream",
     "text": [
      "1 2 3 4 5 -1\n",
      "1 2 3 4 5 None\n",
      "1 2 6 3 4 5 None\n",
      "9 1 2 6 3 4 5 None\n",
      "9 1 2 6 3 4 5 9 None\n"
     ]
    }
   ],
   "source": [
    "class Node:\n",
    "    def __init__(self,data):\n",
    "        self.data = data\n",
    "        self.next = None\n",
    "\n",
    "def length(head):\n",
    "    \n",
    "    if head is not None:\n",
    "        counter = head\n",
    "        count = 1\n",
    "        while counter.next is not None:\n",
    "            count+=1\n",
    "            counter = counter.next\n",
    "        return count\n",
    "    else:\n",
    "        return 0\n",
    "        \n",
    "        \n",
    "        \n",
    "        \n",
    "def insertAtI(head,i,data):\n",
    "    \n",
    "    if i < 0 or i > length(head):\n",
    "        return head\n",
    "    count = 0\n",
    "    prev = None\n",
    "    curr = head\n",
    "    \n",
    "    while count <i:\n",
    "        prev = curr\n",
    "        curr = curr.next\n",
    "        count +=1\n",
    "    \n",
    "    newNode = Node(data)\n",
    "    if prev is not None:\n",
    "        prev.next = newNode\n",
    "    else:\n",
    "        head = newNode\n",
    "    newNode.next = curr\n",
    "    \n",
    "    return head\n",
    "        \n",
    "def printLL(head):\n",
    "    while head is not None:\n",
    "        print(head.data, end = ' ')\n",
    "        head = head.next\n",
    "    print('None')\n",
    "        \n",
    "def takeinput():\n",
    "    inputList = [int(x) for x in input().split()]\n",
    "    head = None\n",
    "    tail = None\n",
    "    for item in inputList:\n",
    "        if item == -1:\n",
    "            break\n",
    "        newNode = Node(item)\n",
    "        if head is None:\n",
    "            head = newNode\n",
    "            tail = newNode\n",
    "        else:\n",
    "            tail.next = newNode\n",
    "            tail = newNode\n",
    "    \n",
    "    return head\n",
    "\n",
    "head = takeinput()\n",
    "printLL(head)\n",
    "head = insertAtI(head,2,6)\n",
    "printLL(head)\n",
    "head = insertAtI(head,0,9)\n",
    "printLL(head)\n",
    "head = insertAtI(head,7,9)\n",
    "printLL(head)"
   ]
  },
  {
   "cell_type": "code",
   "execution_count": null,
   "id": "lovely-defense",
   "metadata": {},
   "outputs": [],
   "source": []
  }
 ],
 "metadata": {
  "kernelspec": {
   "display_name": "Python 3",
   "language": "python",
   "name": "python3"
  },
  "language_info": {
   "codemirror_mode": {
    "name": "ipython",
    "version": 3
   },
   "file_extension": ".py",
   "mimetype": "text/x-python",
   "name": "python",
   "nbconvert_exporter": "python",
   "pygments_lexer": "ipython3",
   "version": "3.9.1"
  }
 },
 "nbformat": 4,
 "nbformat_minor": 5
}
