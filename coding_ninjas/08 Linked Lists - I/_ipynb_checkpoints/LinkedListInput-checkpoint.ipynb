{
 "cells": [
  {
   "cell_type": "code",
   "execution_count": null,
   "id": "supreme-tower",
   "metadata": {},
   "outputs": [],
   "source": [
    "class Node:\n",
    "    def __init__(self,data):\n",
    "        self.data = data\n",
    "        self.next = None\n",
    "def takeinput():\n",
    "    inputlist = [int(x) for x in input().split()]\n",
    "    for item in inputlist:\n",
    "        if item==-1:\n",
    "            break\n",
    "        newNode = Node(item)\n",
    "        head = None\n",
    "        if head is None:\n",
    "            head = newNode\n",
    "        else:\n",
    "            curr = head\n",
    "            while curr.next is not None:\n",
    "                curr = curr.next\n",
    "            curr.next = newNode\n",
    "\n",
    "head = takeinput()"
   ]
  }
 ],
 "metadata": {
  "kernelspec": {
   "display_name": "Python 3",
   "language": "python",
   "name": "python3"
  },
  "language_info": {
   "codemirror_mode": {
    "name": "ipython",
    "version": 3
   },
   "file_extension": ".py",
   "mimetype": "text/x-python",
   "name": "python",
   "nbconvert_exporter": "python",
   "pygments_lexer": "ipython3",
   "version": "3.9.1"
  }
 },
 "nbformat": 4,
 "nbformat_minor": 5
}
