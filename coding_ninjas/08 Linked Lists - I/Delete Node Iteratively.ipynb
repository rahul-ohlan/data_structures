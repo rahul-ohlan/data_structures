{
 "cells": [
  {
   "cell_type": "code",
   "execution_count": 44,
   "id": "legal-difficulty",
   "metadata": {},
   "outputs": [
    {
     "name": "stdout",
     "output_type": "stream",
     "text": [
      "1 2 3 45 5 6 \n",
      "1 2 3 5 6 \n"
     ]
    }
   ],
   "source": [
    "class Node:\n",
    "    def __init__(self,data):\n",
    "        self.data = data\n",
    "        self.next = None\n",
    "\n",
    "        \n",
    "def length(head):\n",
    "    if head is None:\n",
    "        return 0\n",
    "    count = 0\n",
    "    while head is not None:\n",
    "        count+=1\n",
    "        head = head.next\n",
    "    return count\n",
    "\n",
    "def printLL(head):\n",
    "    while head is not None:\n",
    "        print(head.data, end = ' ')\n",
    "        head = head.next\n",
    "    print()\n",
    "\n",
    "\n",
    "def deleteNode(head,pos):\n",
    "    if pos < 0 or pos >= length(head):\n",
    "        return head\n",
    "    prev = None\n",
    "    curr = head\n",
    "    count=0\n",
    "    while count < pos:\n",
    "        count+=1\n",
    "        prev = curr\n",
    "        curr = curr.next\n",
    "    if prev is not None and curr.next is not None:\n",
    "        prev.next = curr.next\n",
    "        curr.next = None\n",
    "    elif prev is not None and curr.next is None:\n",
    "        prev.next = None\n",
    "    else:\n",
    "        head = curr.next\n",
    "    \n",
    "    return head\n",
    "    \n",
    "    \n",
    "        \n",
    "        \n",
    "def takeinput():\n",
    "    inputList = [int(x) for x in input().split()]\n",
    "    head = None\n",
    "    tail = None\n",
    "    for item in inputList:\n",
    "        if item == -1:\n",
    "            break\n",
    "        newNode = Node(item)\n",
    "        if head is None:\n",
    "            head = newNode\n",
    "            tail = newNode\n",
    "        else:\n",
    "            tail.next = newNode\n",
    "            tail = newNode\n",
    "    return head\n",
    "\n",
    "HEAD = takeinput()\n",
    "rahul = deleteNode(HEAD,3)\n",
    "printLL(rahul)"
   ]
  },
  {
   "cell_type": "code",
   "execution_count": null,
   "id": "judicial-calendar",
   "metadata": {},
   "outputs": [],
   "source": []
  }
 ],
 "metadata": {
  "kernelspec": {
   "display_name": "Python 3",
   "language": "python",
   "name": "python3"
  },
  "language_info": {
   "codemirror_mode": {
    "name": "ipython",
    "version": 3
   },
   "file_extension": ".py",
   "mimetype": "text/x-python",
   "name": "python",
   "nbconvert_exporter": "python",
   "pygments_lexer": "ipython3",
   "version": "3.9.1"
  }
 },
 "nbformat": 4,
 "nbformat_minor": 5
}
