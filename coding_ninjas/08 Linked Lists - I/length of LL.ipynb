{
 "cells": [
  {
   "cell_type": "code",
   "execution_count": 5,
   "id": "settled-onion",
   "metadata": {},
   "outputs": [
    {
     "name": "stdout",
     "output_type": "stream",
     "text": [
      "1\n",
      "5 6 78 90 45 77 23\n",
      "7\n"
     ]
    }
   ],
   "source": [
    "from sys import stdin\n",
    "\n",
    "class Node:\n",
    "    def __init__(self,data):\n",
    "        self.data = data\n",
    "        self.next = None\n",
    "\n",
    "def length(head):\n",
    "    if head is not None:\n",
    "        count = 1\n",
    "        counter = head\n",
    "        while counter.next is not None:\n",
    "            count+=1\n",
    "            counter = counter.next\n",
    "        return count\n",
    "    else:\n",
    "        return 0\n",
    "\n",
    "\n",
    "# taking input \n",
    "def takeinput():\n",
    "    head = None\n",
    "    tail = None\n",
    "    inputList = [int(x) for x in input().split()]\n",
    "    for item in inputList:\n",
    "        if item == -1:\n",
    "            break\n",
    "        newNode = Node(item)\n",
    "        if head is None:\n",
    "            head = newNode\n",
    "            tail = newNode\n",
    "        else:\n",
    "            tail.next = newNode\n",
    "            tail = newNode\n",
    "            \n",
    "    return head\n",
    "\n",
    "def printLL(head):\n",
    "    \n",
    "    while head is not None:\n",
    "        print(head.data, end = ' ')\n",
    "        head = head.next\n",
    "    print()\n",
    "    \n",
    "# number of test cases: \n",
    "t = int(input())\n",
    "\n",
    "for i in range(t):\n",
    "    head = takeinput()\n",
    "    print(length(head))"
   ]
  },
  {
   "cell_type": "code",
   "execution_count": null,
   "id": "present-montreal",
   "metadata": {},
   "outputs": [],
   "source": []
  }
 ],
 "metadata": {
  "kernelspec": {
   "display_name": "Python 3",
   "language": "python",
   "name": "python3"
  },
  "language_info": {
   "codemirror_mode": {
    "name": "ipython",
    "version": 3
   },
   "file_extension": ".py",
   "mimetype": "text/x-python",
   "name": "python",
   "nbconvert_exporter": "python",
   "pygments_lexer": "ipython3",
   "version": "3.9.1"
  }
 },
 "nbformat": 4,
 "nbformat_minor": 5
}
