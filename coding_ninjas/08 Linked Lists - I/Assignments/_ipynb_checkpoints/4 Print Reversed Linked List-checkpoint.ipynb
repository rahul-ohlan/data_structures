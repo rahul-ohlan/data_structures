{
 "cells": [
  {
   "cell_type": "markdown",
   "id": "helpful-tunisia",
   "metadata": {},
   "source": [
    "I am using Recursion Here"
   ]
  },
  {
   "cell_type": "code",
   "execution_count": 4,
   "id": "alpine-culture",
   "metadata": {},
   "outputs": [
    {
     "name": "stdout",
     "output_type": "stream",
     "text": [
      "1 2 34 5 6\n",
      "6 5 34 2 1 "
     ]
    }
   ],
   "source": [
    "class Node:\n",
    "    def __init__(self,data):\n",
    "        self.data = data\n",
    "        self.next = None\n",
    "\n",
    "        \n",
    "        \n",
    "def printLL(head):\n",
    "    count =0\n",
    "    while head is not None:\n",
    "        print(head.data, end =' ')\n",
    "        head = head.next\n",
    "    print()\n",
    "\n",
    "def reverseLL(head):\n",
    "    if head is None:\n",
    "        return None\n",
    "    value = reverseLL(head.next)\n",
    "    print(head.data,end = ' ')\n",
    "    return value\n",
    "    \n",
    "    \n",
    "def takeinput():\n",
    "    inputList = [int(x) for x in input().split()]\n",
    "    head = None\n",
    "    tail = None\n",
    "    for item in inputList:\n",
    "        if item == -1:\n",
    "            break\n",
    "        newNode = Node(item)\n",
    "        if head is None:\n",
    "            head = newNode\n",
    "            tail = newNode\n",
    "        else:\n",
    "            tail.next = newNode\n",
    "            tail = newNode\n",
    "    return head\n",
    "\n",
    "rahul = takeinput()\n",
    "reverseLL(rahul)"
   ]
  },
  {
   "cell_type": "code",
   "execution_count": null,
   "id": "subject-gospel",
   "metadata": {},
   "outputs": [],
   "source": []
  }
 ],
 "metadata": {
  "kernelspec": {
   "display_name": "Python 3",
   "language": "python",
   "name": "python3"
  },
  "language_info": {
   "codemirror_mode": {
    "name": "ipython",
    "version": 3
   },
   "file_extension": ".py",
   "mimetype": "text/x-python",
   "name": "python",
   "nbconvert_exporter": "python",
   "pygments_lexer": "ipython3",
   "version": "3.9.1"
  }
 },
 "nbformat": 4,
 "nbformat_minor": 5
}
