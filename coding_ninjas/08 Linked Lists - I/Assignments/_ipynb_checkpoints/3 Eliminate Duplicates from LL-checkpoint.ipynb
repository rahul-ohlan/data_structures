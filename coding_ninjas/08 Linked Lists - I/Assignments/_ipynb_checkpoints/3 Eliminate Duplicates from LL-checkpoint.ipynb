{
 "cells": [
  {
   "cell_type": "code",
   "execution_count": 10,
   "id": "satellite-nothing",
   "metadata": {},
   "outputs": [
    {
     "name": "stdout",
     "output_type": "stream",
     "text": [
      "1 1 1 2 2 1 2 1 1 3\n",
      "1 2 1 2 1 3 \n"
     ]
    }
   ],
   "source": [
    "class Node:\n",
    "    def __init__(self,data):\n",
    "        self.data = data\n",
    "        self.next = None\n",
    "\n",
    "\n",
    "def printLL(head):\n",
    "    while head is not None:\n",
    "        print(head.data,end=' ')\n",
    "        head = head.next\n",
    "    print()\n",
    "\n",
    "def length(head):\n",
    "    count = 0\n",
    "    while head is not None:\n",
    "        count+=1\n",
    "        head = head.next\n",
    "    return count\n",
    "\n",
    "def removeDups(head):\n",
    "    if head is None or head.next is None:\n",
    "        return head\n",
    "    t1 = head\n",
    "    t2 = head.next\n",
    "    while t2 is not None:\n",
    "        if t1.data != t2.data:\n",
    "            t1.next = t2\n",
    "            t1 = t2\n",
    "            t2 = t2.next\n",
    "        else:\n",
    "            t2 = t2.next\n",
    "    else:\n",
    "        t1.next = t2\n",
    "    return head\n",
    "        \n",
    "        \n",
    "def takeinput():\n",
    "    inputList = [int(x) for x in input().split()]\n",
    "    head = None\n",
    "    tail = None\n",
    "    for item in inputList:\n",
    "        newNode = Node(item)\n",
    "        if item == -1:\n",
    "            break\n",
    "        if head is None:\n",
    "            head = newNode\n",
    "            tail = newNode\n",
    "        else:\n",
    "            tail.next = newNode\n",
    "            tail = newNode\n",
    "    return head\n",
    "\n",
    "rahul = takeinput()\n",
    "ruchika = removeDups(rahul)\n",
    "printLL(ruchika)\n"
   ]
  },
  {
   "cell_type": "code",
   "execution_count": null,
   "id": "conditional-respondent",
   "metadata": {},
   "outputs": [],
   "source": []
  }
 ],
 "metadata": {
  "kernelspec": {
   "display_name": "Python 3",
   "language": "python",
   "name": "python3"
  },
  "language_info": {
   "codemirror_mode": {
    "name": "ipython",
    "version": 3
   },
   "file_extension": ".py",
   "mimetype": "text/x-python",
   "name": "python",
   "nbconvert_exporter": "python",
   "pygments_lexer": "ipython3",
   "version": "3.9.1"
  }
 },
 "nbformat": 4,
 "nbformat_minor": 5
}
