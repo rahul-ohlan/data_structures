{
 "cells": [
  {
   "cell_type": "code",
   "execution_count": 24,
   "id": "reported-lightweight",
   "metadata": {},
   "outputs": [
    {
     "name": "stdout",
     "output_type": "stream",
     "text": [
      "1 2 3 2 1\n",
      "True\n"
     ]
    }
   ],
   "source": [
    "class Node:\n",
    "    def __init__(self,data):\n",
    "        self.data = data\n",
    "        self.next = None\n",
    "\n",
    "def length(head):\n",
    "    count=0\n",
    "    while head:\n",
    "        count+=1\n",
    "        head = head.next\n",
    "    return count\n",
    "        \n",
    "# METHOD 1: by making a string of input and then by checking if reverse of string is same        \n",
    "def isPalindrome(head):\n",
    "    L = length(head)\n",
    "    if head is None or L ==1:\n",
    "        return True\n",
    "    string = ''\n",
    "    start = head\n",
    "    while start:\n",
    "        string+=str(start.data)\n",
    "        start = start.next\n",
    "    return string == string[::-1]\n",
    "\n",
    "\n",
    "# METHOD 2: by appending entire nodes to a list and then comparing head.next from end of list\n",
    "def isPalindrome1(head):\n",
    "    if head is None:\n",
    "        return True\n",
    "    pt = head\n",
    "    i=0\n",
    "    new = list()\n",
    "    while pt:\n",
    "        i+=1\n",
    "        new.append(pt)\n",
    "        pt = pt.next\n",
    "    count = 1\n",
    "    pt = head\n",
    "    while count <= (i//2)+1:\n",
    "        if new[-count].data != pt.data:\n",
    "            return False\n",
    "        pt = pt.next\n",
    "        count+=1\n",
    "    return True\n",
    "# Method 3: Using POP function and storing each pop in a variable and then comparing with head.next\n",
    "def isPalindrome2(head):\n",
    "    if head is None:\n",
    "        return True\n",
    "    new = list()\n",
    "    poi = head\n",
    "    while poi is not None:\n",
    "        new.append(poi.data)\n",
    "        poi = poi.next\n",
    "    poi = head\n",
    "    while poi is not None:\n",
    "        data = new.pop()\n",
    "        if poi.data!=data:\n",
    "            return False\n",
    "        poi = poi.next\n",
    "    return True\n",
    "        \n",
    "        \n",
    "def takeinput():\n",
    "    inputList = [int(x) for x in input().split()]\n",
    "    head = None\n",
    "    tail = None\n",
    "    for item in inputList:\n",
    "        if item == -1:\n",
    "            break\n",
    "        newNode = Node(item)\n",
    "        if head is None:\n",
    "            head = newNode\n",
    "            tail = newNode\n",
    "        else:\n",
    "            tail.next = newNode\n",
    "            tail = newNode\n",
    "    return head\n",
    "\n",
    "rahul = takeinput()\n",
    "print(isPalindrome2(rahul))\n",
    "# print(length(rahul))"
   ]
  },
  {
   "cell_type": "code",
   "execution_count": 14,
   "id": "supposed-carter",
   "metadata": {},
   "outputs": [
    {
     "name": "stdout",
     "output_type": "stream",
     "text": [
      "54321\n"
     ]
    }
   ],
   "source": [
    "rahul = '12345'\n",
    "print(rahul[::-1])"
   ]
  },
  {
   "cell_type": "code",
   "execution_count": null,
   "id": "rapid-twins",
   "metadata": {},
   "outputs": [],
   "source": []
  }
 ],
 "metadata": {
  "kernelspec": {
   "display_name": "Python 3",
   "language": "python",
   "name": "python3"
  },
  "language_info": {
   "codemirror_mode": {
    "name": "ipython",
    "version": 3
   },
   "file_extension": ".py",
   "mimetype": "text/x-python",
   "name": "python",
   "nbconvert_exporter": "python",
   "pygments_lexer": "ipython3",
   "version": "3.9.1"
  }
 },
 "nbformat": 4,
 "nbformat_minor": 5
}
