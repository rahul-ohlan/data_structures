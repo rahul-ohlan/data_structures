{
 "cells": [
  {
   "cell_type": "code",
   "execution_count": 12,
   "id": "bronze-burton",
   "metadata": {},
   "outputs": [
    {
     "name": "stdout",
     "output_type": "stream",
     "text": [
      "10 20 30 40 50 60 -1\n",
      "20 30 40 50 60 10 \n"
     ]
    }
   ],
   "source": [
    "class Node:\n",
    "    def __init__(self,data):\n",
    "        self.data = data\n",
    "        self.next = None\n",
    "    \n",
    "def length(head):\n",
    "    count = 0\n",
    "    while head is not None:\n",
    "        count+=1\n",
    "        head = head.next\n",
    "    return count\n",
    "\n",
    "\n",
    "def printLL(head):\n",
    "    while head is not None:\n",
    "        print(head.data, end= ' ')\n",
    "        head = head.next\n",
    "    print()\n",
    "\n",
    "\n",
    "\n",
    "def appendLast(head,N):\n",
    "    L = length(head)\n",
    "    if N==0 or N==L:\n",
    "        return head\n",
    "    if head is None:\n",
    "        return None\n",
    "    count = 0\n",
    "    curr = head\n",
    "    tail = head\n",
    "    while tail.next is not None:\n",
    "        tail = tail.next\n",
    "    \n",
    "    while count < L-N-1:\n",
    "        curr = curr.next\n",
    "        count+=1\n",
    "    tail.next = head\n",
    "    head = curr.next\n",
    "    curr.next = None\n",
    "    return head\n",
    "    \n",
    "    \n",
    "    \n",
    "def takeinput():\n",
    "    inputList = [int(x) for x in input().split()]\n",
    "    head = None\n",
    "    tail = None\n",
    "    for item in inputList:\n",
    "        if item == -1:\n",
    "            break\n",
    "        newNode = Node(item)\n",
    "        if head is None:\n",
    "            head = newNode\n",
    "            tail = newNode\n",
    "        else:\n",
    "            tail.next = newNode\n",
    "            tail = newNode\n",
    "    return head\n",
    "\n",
    "\n",
    "rahul = takeinput()\n",
    "ruchika = appendLast(rahul,5)\n",
    "printLL(ruchika)"
   ]
  },
  {
   "cell_type": "code",
   "execution_count": null,
   "id": "sticky-guest",
   "metadata": {},
   "outputs": [],
   "source": []
  }
 ],
 "metadata": {
  "kernelspec": {
   "display_name": "Python 3",
   "language": "python",
   "name": "python3"
  },
  "language_info": {
   "codemirror_mode": {
    "name": "ipython",
    "version": 3
   },
   "file_extension": ".py",
   "mimetype": "text/x-python",
   "name": "python",
   "nbconvert_exporter": "python",
   "pygments_lexer": "ipython3",
   "version": "3.9.1"
  }
 },
 "nbformat": 4,
 "nbformat_minor": 5
}
