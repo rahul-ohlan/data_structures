{
 "cells": [
  {
   "cell_type": "code",
   "execution_count": 4,
   "id": "express-qualification",
   "metadata": {},
   "outputs": [
    {
     "name": "stdout",
     "output_type": "stream",
     "text": [
      "10 20 30 40 50 60 -1\n",
      "-1\n"
     ]
    }
   ],
   "source": [
    "class Node:\n",
    "    def __init__(self,data):\n",
    "        self.data = data\n",
    "        self.next = None\n",
    "\n",
    "        \n",
    "def length(head):\n",
    "    count = 0\n",
    "    while head is not None:\n",
    "        count+=1\n",
    "        head = head.next\n",
    "    return count\n",
    "        \n",
    "def printLL(head):\n",
    "    while head is not None:\n",
    "        print(head.data, end='')\n",
    "        head = head.next\n",
    "    print()\n",
    "    \n",
    "def findNum(head,num):\n",
    "    L = length(head)\n",
    "    count = 0\n",
    "    while count < L:\n",
    "        if head.data == num:\n",
    "            return count\n",
    "        head = head.next \n",
    "        count+=1\n",
    "    else:\n",
    "        return -1\n",
    "        \n",
    "        \n",
    "def takeinput():\n",
    "    inputList = [int(x) for x in input().split()]\n",
    "    head = None\n",
    "    tail = None\n",
    "    for item in inputList:\n",
    "        if item == -1:\n",
    "            break\n",
    "        newNode = Node(item)\n",
    "        if head is None:\n",
    "            head = newNode\n",
    "            tail = newNode\n",
    "        else:\n",
    "            tail.next = newNode\n",
    "            tail = newNode\n",
    "    return head\n",
    "\n",
    "rahul = takeinput()\n",
    "index = findNum(rahul,6)\n",
    "print(index)"
   ]
  },
  {
   "cell_type": "code",
   "execution_count": null,
   "id": "decent-bunny",
   "metadata": {},
   "outputs": [],
   "source": []
  }
 ],
 "metadata": {
  "kernelspec": {
   "display_name": "Python 3",
   "language": "python",
   "name": "python3"
  },
  "language_info": {
   "codemirror_mode": {
    "name": "ipython",
    "version": 3
   },
   "file_extension": ".py",
   "mimetype": "text/x-python",
   "name": "python",
   "nbconvert_exporter": "python",
   "pygments_lexer": "ipython3",
   "version": "3.9.1"
  }
 },
 "nbformat": 4,
 "nbformat_minor": 5
}
