{
 "cells": [
  {
   "cell_type": "code",
   "execution_count": 4,
   "id": "desirable-medium",
   "metadata": {},
   "outputs": [
    {
     "name": "stdout",
     "output_type": "stream",
     "text": [
      "4 5 3 2 1\n",
      "1 2 3 4 5 \n"
     ]
    }
   ],
   "source": [
    "class Node:\n",
    "    def __init__(self,data):\n",
    "        self.data = data\n",
    "        self.next = None\n",
    "\n",
    "def lengthLL(head):\n",
    "    count = 0\n",
    "    while head is not None:\n",
    "        count+=1\n",
    "        head = head.next\n",
    "    return count\n",
    "        \n",
    "def printLL(head):\n",
    "    while head:\n",
    "        print(head.data, end = ' ')\n",
    "        head = head.next\n",
    "    print()\n",
    "        \n",
    "# doing iteratively first\n",
    "def bubbleSort(head):\n",
    "    if head is None or head.next is None:\n",
    "        return head\n",
    "    L = lengthLL(head)\n",
    "    for i in range(L):\n",
    "        prev = None\n",
    "        curr = head\n",
    "        while curr.next is not None:\n",
    "            if curr.data > curr.next.data:\n",
    "                nex = curr.next\n",
    "                if prev is None:\n",
    "                    curr.next = nex.next\n",
    "                    nex.next = curr\n",
    "                    prev = nex\n",
    "                    head = prev\n",
    "                else:\n",
    "                    prev.next = curr.next\n",
    "                    curr.next = nex.next\n",
    "                    nex.next = curr\n",
    "                    prev = nex\n",
    "            else:\n",
    "                prev = curr\n",
    "                curr = curr.next\n",
    "    return head\n",
    "            \n",
    "            \n",
    "\n",
    "        \n",
    "        \n",
    "        \n",
    "        \n",
    "        \n",
    "def takeinput():\n",
    "    inputlist = [int(x) for x in input().split()]\n",
    "    head = None\n",
    "    tail = None\n",
    "    for item in inputlist:\n",
    "        if item == -1:\n",
    "            break\n",
    "        newnode = Node(item)\n",
    "        if head is None:\n",
    "            head = newnode\n",
    "            tail = newnode\n",
    "        else:\n",
    "            tail.next = newnode\n",
    "            tail = newnode\n",
    "    return head\n",
    "rahul = takeinput()\n",
    "output = bubbleSort(rahul)\n",
    "printLL(output)"
   ]
  },
  {
   "cell_type": "code",
   "execution_count": null,
   "id": "existing-credits",
   "metadata": {},
   "outputs": [],
   "source": []
  }
 ],
 "metadata": {
  "kernelspec": {
   "display_name": "Python 3",
   "language": "python",
   "name": "python3"
  },
  "language_info": {
   "codemirror_mode": {
    "name": "ipython",
    "version": 3
   },
   "file_extension": ".py",
   "mimetype": "text/x-python",
   "name": "python",
   "nbconvert_exporter": "python",
   "pygments_lexer": "ipython3",
   "version": "3.9.1"
  }
 },
 "nbformat": 4,
 "nbformat_minor": 5
}
