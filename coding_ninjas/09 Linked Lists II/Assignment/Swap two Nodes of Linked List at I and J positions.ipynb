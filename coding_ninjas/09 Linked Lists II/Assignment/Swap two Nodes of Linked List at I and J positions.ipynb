{
 "cells": [
  {
   "cell_type": "code",
   "execution_count": 5,
   "id": "accepting-administration",
   "metadata": {},
   "outputs": [
    {
     "name": "stdout",
     "output_type": "stream",
     "text": [
      "3 4 5 2 6 1 9\n",
      "3 4 5 6 2 1 9 \n"
     ]
    }
   ],
   "source": [
    "class Node:\n",
    "    def __init__(self,data):\n",
    "        self.data = data\n",
    "        self.next = None\n",
    "        pass\n",
    "\n",
    "def printLL(head):\n",
    "    while head:\n",
    "        print(head.data, end = ' ')\n",
    "        head = head.next\n",
    "    print()\n",
    "    \n",
    "def swapNodes(head,i,j):\n",
    "    if i==j:\n",
    "        return head\n",
    "    prev1 = None\n",
    "    curr1 = head\n",
    "    fcount = 0\n",
    "    while fcount < i:\n",
    "        prev1 = curr1\n",
    "        curr1 = curr1.next\n",
    "        fcount+=1\n",
    "    prev2 = None\n",
    "    curr2 = head\n",
    "    scount = 0\n",
    "    while scount < j:\n",
    "        prev2 = curr2\n",
    "        curr2 = curr2.next\n",
    "        scount+=1\n",
    "    if curr1 is None or curr2 is None:\n",
    "        return head\n",
    "    if prev1 is not None:\n",
    "        prev1.next = curr2\n",
    "    else:\n",
    "        head = curr2\n",
    "    if prev2 is not None:\n",
    "        prev2.next = curr1\n",
    "    else:\n",
    "        head = curr1\n",
    "    curr1.next,curr2.next = curr2.next,curr1.next\n",
    "    return head\n",
    "\n",
    "\n",
    "    \n",
    "def takeinput():\n",
    "    inputlist = [int(x) for x in input().split()]\n",
    "    head = None\n",
    "    tail = None\n",
    "    for item in inputlist:\n",
    "        if item == -1:\n",
    "            break\n",
    "        newnode = Node(item)\n",
    "        if head is None:\n",
    "            head = newnode\n",
    "            tail = newnode\n",
    "        else:\n",
    "            tail.next = newnode\n",
    "            tail = newnode\n",
    "    return head\n",
    "rahul = takeinput()\n",
    "newhead = swapNodes(rahul,3,4)\n",
    "printLL(newhead)"
   ]
  },
  {
   "cell_type": "code",
   "execution_count": null,
   "id": "treated-reward",
   "metadata": {},
   "outputs": [],
   "source": []
  }
 ],
 "metadata": {
  "kernelspec": {
   "display_name": "Python 3",
   "language": "python",
   "name": "python3"
  },
  "language_info": {
   "codemirror_mode": {
    "name": "ipython",
    "version": 3
   },
   "file_extension": ".py",
   "mimetype": "text/x-python",
   "name": "python",
   "nbconvert_exporter": "python",
   "pygments_lexer": "ipython3",
   "version": "3.9.1"
  }
 },
 "nbformat": 4,
 "nbformat_minor": 5
}
