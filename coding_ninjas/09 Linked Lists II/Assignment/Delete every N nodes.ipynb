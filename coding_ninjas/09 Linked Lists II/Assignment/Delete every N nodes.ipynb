{
 "cells": [
  {
   "cell_type": "code",
   "execution_count": 15,
   "id": "catholic-winner",
   "metadata": {},
   "outputs": [
    {
     "name": "stdout",
     "output_type": "stream",
     "text": [
      "1 2 3 4 5 6 7 8 9 10 11\n",
      "1 2 6 7 11 \n"
     ]
    }
   ],
   "source": [
    "class Node:\n",
    "    def __init__(self,data):\n",
    "        self.data = data\n",
    "        self.next = None\n",
    "        pass\n",
    "    \n",
    "\n",
    "\n",
    "def printLL(head):\n",
    "    while head:\n",
    "        print(head.data,end=' ')\n",
    "        head= head.next\n",
    "    print()\n",
    "    \n",
    "def skipMdeleteN(head,M,N):\n",
    "    if head is None or M==0:\n",
    "        return\n",
    "    counter = head\n",
    "#     mcount = 0\n",
    "#     ncount = 0\n",
    "    while counter is not None:\n",
    "        # starting with m as 1 because counter should move one less, than the M to reach the last\n",
    "        # node that's required to be saved.\n",
    "        mcount = 1\n",
    "        temp = counter\n",
    "        while mcount<M and counter is not None:\n",
    "            counter = counter.next\n",
    "            temp = counter\n",
    "            mcount+=1\n",
    "        \n",
    "        ncount = 0\n",
    "        while ncount < N+1 and counter is not None:\n",
    "            counter = counter.next\n",
    "            ncount+=1\n",
    "        # in case the counter reaches None while in M loop, temp will also be none;\n",
    "        # then temp.next will give attribute error, hence using if statement\n",
    "        if temp is not None:\n",
    "            temp.next = counter\n",
    "    return head\n",
    "            \n",
    "        \n",
    "\n",
    "\n",
    "    \n",
    "def takeinput():\n",
    "    inputlist = [int(x) for x in input().split()]\n",
    "    head = None\n",
    "    tail = None\n",
    "    for item in inputlist:\n",
    "        if item == -1:\n",
    "            break\n",
    "        newnode = Node(item)\n",
    "        if head is None:\n",
    "            head = newnode\n",
    "            tail = newnode\n",
    "        else:\n",
    "            tail.next = newnode\n",
    "            tail = newnode\n",
    "    return head\n",
    "\n",
    "head = takeinput()\n",
    "rahul = skipMdeleteN(head,2,3)\n",
    "printLL(rahul)\n",
    "# index = findNodeRecursively(hed,5)\n",
    "# print(index)\n"
   ]
  },
  {
   "cell_type": "code",
   "execution_count": null,
   "id": "compressed-laundry",
   "metadata": {},
   "outputs": [],
   "source": []
  }
 ],
 "metadata": {
  "kernelspec": {
   "display_name": "Python 3",
   "language": "python",
   "name": "python3"
  },
  "language_info": {
   "codemirror_mode": {
    "name": "ipython",
    "version": 3
   },
   "file_extension": ".py",
   "mimetype": "text/x-python",
   "name": "python",
   "nbconvert_exporter": "python",
   "pygments_lexer": "ipython3",
   "version": "3.9.1"
  }
 },
 "nbformat": 4,
 "nbformat_minor": 5
}
