{
 "cells": [
  {
   "cell_type": "code",
   "execution_count": 2,
   "id": "illegal-briefs",
   "metadata": {},
   "outputs": [
    {
     "name": "stdout",
     "output_type": "stream",
     "text": [
      "1 2 3 4 -1\n",
      "-1\n"
     ]
    }
   ],
   "source": [
    "class Node:\n",
    "    def __init__(self,data):\n",
    "        self.data = data\n",
    "        self.next = None\n",
    "        pass\n",
    "    \n",
    "def findNodeRecursively(head,n):\n",
    "    \n",
    "    if head is None:\n",
    "        return -1\n",
    "    \n",
    "    if head.data == n:\n",
    "        return 0\n",
    "    \n",
    "    index = 1 + findNodeRecursively(head.next,n)\n",
    "#  The Catch is to return -1 if index is zero, since index will become zero automatically \n",
    "#  if the element is not found in the list and first \"if\" loop returns -1 to previous call, making\n",
    "#  the index to be zero. From here, we don't want index, we only want -1. \n",
    "    if index == 0:\n",
    "        return -1\n",
    "    else:\n",
    "        return index\n",
    "\n",
    "\n",
    "\n",
    "    \n",
    "def takeinput():\n",
    "    inputlist = [int(x) for x in input().split()]\n",
    "    head = None\n",
    "    tail = None\n",
    "    for item in inputlist:\n",
    "        if item == -1:\n",
    "            break\n",
    "        newnode = Node(item)\n",
    "        if head is None:\n",
    "            head = newnode\n",
    "            tail = newnode\n",
    "        else:\n",
    "            tail.next = newnode\n",
    "            tail = newnode\n",
    "    return head\n",
    "\n",
    "ruchika = takeinput()\n",
    "index = findNodeRecursively(ruchika,5)\n",
    "print(index)\n"
   ]
  },
  {
   "cell_type": "code",
   "execution_count": null,
   "id": "organized-karen",
   "metadata": {},
   "outputs": [],
   "source": []
  }
 ],
 "metadata": {
  "kernelspec": {
   "display_name": "Python 3",
   "language": "python",
   "name": "python3"
  },
  "language_info": {
   "codemirror_mode": {
    "name": "ipython",
    "version": 3
   },
   "file_extension": ".py",
   "mimetype": "text/x-python",
   "name": "python",
   "nbconvert_exporter": "python",
   "pygments_lexer": "ipython3",
   "version": "3.9.1"
  }
 },
 "nbformat": 4,
 "nbformat_minor": 5
}
