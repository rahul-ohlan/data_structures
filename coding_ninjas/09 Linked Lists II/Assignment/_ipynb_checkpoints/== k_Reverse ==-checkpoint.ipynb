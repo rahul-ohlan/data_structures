{
 "cells": [
  {
   "cell_type": "code",
   "execution_count": 19,
   "id": "assisted-baltimore",
   "metadata": {},
   "outputs": [
    {
     "name": "stdout",
     "output_type": "stream",
     "text": [
      "1 2 3 4\n",
      "4 3 2 1 \n"
     ]
    }
   ],
   "source": [
    "class Node:\n",
    "    def __init__(self,data):\n",
    "        self.data = data\n",
    "        self.next = None\n",
    "        pass\n",
    "    \n",
    "def printLL(head):\n",
    "    while head:\n",
    "        print(head.data,end=' ')\n",
    "        head = head.next\n",
    "    print()\n",
    "\n",
    "def reverseRecursively(head):\n",
    "    if head is None or head.next is None:\n",
    "        return head,head\n",
    "    \n",
    "    smallhead,tail = reverseRecursively(head.next)\n",
    "    tail.next = head\n",
    "    head.next = None\n",
    "    return smallhead,head\n",
    "\n",
    "def kreverse(head,k):\n",
    "    if head is None or head.next is None:\n",
    "        return head\n",
    "    h1 = head\n",
    "    t1 = head\n",
    "    count = 1\n",
    "    while count < k and t1.next is not None:\n",
    "        t1 = t1.next\n",
    "        count+=1\n",
    "    h2 = t1.next\n",
    "    t1.next = None\n",
    "    h1,t1 = reverseRecursively(head)\n",
    "    newhead = kreverse(h2,k)\n",
    "    t1.next = newhead\n",
    "    return h1\n",
    "def takeinput():\n",
    "    inputlist = [int(x) for x in input().split()]\n",
    "    head = None\n",
    "    tail = None\n",
    "    for item in inputlist:\n",
    "        if item == -1:\n",
    "            break\n",
    "        newnode = Node(item)\n",
    "        if head is None:\n",
    "            head = newnode\n",
    "            tail = newnode\n",
    "        else:\n",
    "            tail.next = newnode\n",
    "            tail = newnode\n",
    "    return head\n",
    "\n",
    "rahul = takeinput()\n",
    "reversedlist = kreverse(rahul,4)\n",
    "printLL(reversedlist)"
   ]
  },
  {
   "cell_type": "code",
   "execution_count": null,
   "id": "micro-verification",
   "metadata": {},
   "outputs": [],
   "source": []
  }
 ],
 "metadata": {
  "kernelspec": {
   "display_name": "Python 3",
   "language": "python",
   "name": "python3"
  },
  "language_info": {
   "codemirror_mode": {
    "name": "ipython",
    "version": 3
   },
   "file_extension": ".py",
   "mimetype": "text/x-python",
   "name": "python",
   "nbconvert_exporter": "python",
   "pygments_lexer": "ipython3",
   "version": "3.9.1"
  }
 },
 "nbformat": 4,
 "nbformat_minor": 5
}
