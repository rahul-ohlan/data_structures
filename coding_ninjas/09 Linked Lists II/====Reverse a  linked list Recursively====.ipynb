{
 "cells": [
  {
   "cell_type": "code",
   "execution_count": 2,
   "id": "suspended-madness",
   "metadata": {},
   "outputs": [],
   "source": [
    "class Node:\n",
    "    def __init__(self,data):\n",
    "        self.data = data\n",
    "        self.next = None\n",
    "        \n",
    "        \n",
    "def printLL(head):\n",
    "    while head is not None:\n",
    "        print(str(head.data) + '-->',end='')\n",
    "        head = head.next\n",
    "    print('None')\n",
    "        \n",
    "        \n",
    "        \n",
    "        \n",
    "def reverseRecursiveLL(head):\n",
    "    if head is None or head.next is None:\n",
    "        return head,head\n",
    "    # Returning both, head and tail from the recursion will reduce time complexity drastically\n",
    "    smallhead,smalltail = reverseRecursiveLL(head.next)\n",
    "    smalltail.next = head\n",
    "    head.next = None\n",
    "    # since the original head has now become the tail of the linked list, return head as tail\n",
    "    return smallhead, head\n",
    "\n",
    "# METHOD II \n",
    "\n",
    "# picking up tail from the recursion is not really required, as head is already pointing to it\n",
    "# just putin tail as head.next : it's an even more efficient way than the previous method\n",
    "def reverseRecursiveLL2(head):\n",
    "    \n",
    "    if head is None or head.next is None:\n",
    "        return head\n",
    "    \n",
    "    smallhead = reverseRecursiveLL2(head.next)\n",
    "    tail = head.next\n",
    "    tail.next = head\n",
    "    head.next = None\n",
    "    return smallhead\n",
    "        \n",
    "        \n",
    "        \n",
    "def takeinput():\n",
    "    inputList = [int(x) for x in input().split()]\n",
    "    head = None\n",
    "    tail = None\n",
    "    for item in inputList:\n",
    "        if item == -1:\n",
    "            break\n",
    "        newNode = Node(item)\n",
    "        if head is None:\n",
    "            head = newNode\n",
    "            tail = newNode\n",
    "        else:\n",
    "            tail.next = newNode\n",
    "            tail = newNode\n",
    "    return head"
   ]
  },
  {
   "cell_type": "code",
   "execution_count": 3,
   "id": "major-converter",
   "metadata": {},
   "outputs": [
    {
     "name": "stdout",
     "output_type": "stream",
     "text": [
      "1 2 3 4 5 6\n",
      "6-->5-->4-->3-->2-->1-->None\n"
     ]
    }
   ],
   "source": [
    "data = takeinput()\n",
    "output= reverseRecursiveLL2(data)\n",
    "printLL(output)\n"
   ]
  },
  {
   "cell_type": "code",
   "execution_count": null,
   "id": "bigger-familiar",
   "metadata": {},
   "outputs": [],
   "source": []
  }
 ],
 "metadata": {
  "kernelspec": {
   "display_name": "Python 3",
   "language": "python",
   "name": "python3"
  },
  "language_info": {
   "codemirror_mode": {
    "name": "ipython",
    "version": 3
   },
   "file_extension": ".py",
   "mimetype": "text/x-python",
   "name": "python",
   "nbconvert_exporter": "python",
   "pygments_lexer": "ipython3",
   "version": "3.9.1"
  }
 },
 "nbformat": 4,
 "nbformat_minor": 5
}
