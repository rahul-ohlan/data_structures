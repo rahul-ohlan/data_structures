{
 "cells": [
  {
   "cell_type": "code",
   "execution_count": 1,
   "id": "supported-germany",
   "metadata": {},
   "outputs": [],
   "source": [
    "class Node:\n",
    "    def __init__(self,data):\n",
    "        self.data = data\n",
    "        self.next = None\n",
    "\n",
    "        \n",
    "def printLL(head):\n",
    "    while head is not None:\n",
    "        print(str(head.data) + '-->', end= '')\n",
    "        head = head.next\n",
    "    print('none')\n",
    "\n",
    "# Take two pointers, slow and fast: fast moves two times slow; so, when fast reaches the end of \n",
    "#  the list, slow will reach the mid point of the list\n",
    "# in case of odd length of list: while fast.next is not None\n",
    "# in case of the even length of the list: while fast.next.next is not None\n",
    "def midpoint(head):\n",
    "    slow = head\n",
    "    fast = head\n",
    "    while fast.next is not None and fast.next.next is not None:\n",
    "        slow = slow.next\n",
    "        fast = fast.next.next\n",
    "    return slow\n",
    "    \n",
    "    \n",
    "\n",
    "def reverseIteratively(head):\n",
    "    prev = None\n",
    "    current = head\n",
    "    while current is not None:\n",
    "        nxt = current.next\n",
    "        current.next = prev\n",
    "        prev = current\n",
    "        current = nxt\n",
    "    head = prev\n",
    "    return head\n",
    "        \n",
    "        \n",
    "def takeinput():\n",
    "    inputList = [int(x) for x in input().split()]\n",
    "    head = None\n",
    "    tail = None\n",
    "    for item in inputList:\n",
    "        if item == -1:\n",
    "            break\n",
    "        newNode = Node(item)\n",
    "        if head is None:\n",
    "            head = newNode\n",
    "            tail = newNode\n",
    "        else:\n",
    "            tail.next = newNode\n",
    "            tail = newNode\n",
    "    return head"
   ]
  },
  {
   "cell_type": "code",
   "execution_count": 4,
   "id": "fitted-solution",
   "metadata": {},
   "outputs": [
    {
     "name": "stdout",
     "output_type": "stream",
     "text": [
      "1 2\n",
      "1\n"
     ]
    }
   ],
   "source": [
    "rahul = takeinput()\n",
    "req = midpoint(rahul)\n",
    "print(req.data)"
   ]
  },
  {
   "cell_type": "code",
   "execution_count": null,
   "id": "interpreted-laptop",
   "metadata": {},
   "outputs": [],
   "source": []
  }
 ],
 "metadata": {
  "kernelspec": {
   "display_name": "Python 3",
   "language": "python",
   "name": "python3"
  },
  "language_info": {
   "codemirror_mode": {
    "name": "ipython",
    "version": 3
   },
   "file_extension": ".py",
   "mimetype": "text/x-python",
   "name": "python",
   "nbconvert_exporter": "python",
   "pygments_lexer": "ipython3",
   "version": "3.9.1"
  }
 },
 "nbformat": 4,
 "nbformat_minor": 5
}
