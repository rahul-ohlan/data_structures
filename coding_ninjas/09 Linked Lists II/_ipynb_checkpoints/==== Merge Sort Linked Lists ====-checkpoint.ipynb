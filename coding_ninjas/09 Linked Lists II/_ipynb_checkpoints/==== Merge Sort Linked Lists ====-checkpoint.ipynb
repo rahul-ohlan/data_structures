{
 "cells": [
  {
   "cell_type": "code",
   "execution_count": 1,
   "id": "growing-paper",
   "metadata": {},
   "outputs": [],
   "source": [
    "class Node:\n",
    "    def __init__(self,data):\n",
    "        self.data = data\n",
    "        self.next = None\n",
    "        \n",
    "        \n",
    "def mergeSort(h1):\n",
    "    if h1 is None:\n",
    "        return h1\n",
    "    if h1.next is None:\n",
    "        return h1\n",
    "    slow = h1\n",
    "    fast = h1\n",
    "    while fast.next is not None and fast.next.next is not None:\n",
    "        slow = slow.next\n",
    "        fast = fast.next.next\n",
    "    h2 = slow.next\n",
    "    slow.next = None\n",
    "    \n",
    "    h1 = mergeSort(h1)\n",
    "    h2 = mergeSort(h2)\n",
    "    \n",
    "    fh = None\n",
    "    ft = None\n",
    "    if h1.data <= h2.data:\n",
    "        fh = h1\n",
    "        ft = h1\n",
    "        h1 = h1.next\n",
    "    else:\n",
    "        fh = h2\n",
    "        ft = h2\n",
    "        h2 = h2.next\n",
    "    \n",
    "    while h1 is not None and h2 is not None:\n",
    "        if h1.data <= h2.data:\n",
    "            ft.next = h1\n",
    "            ft = ft.next\n",
    "            h1 = h1.next\n",
    "        else:\n",
    "            ft.next = h2\n",
    "            ft = ft.next\n",
    "            h2 = h2.next\n",
    "            \n",
    "    while h1 is not None:\n",
    "        ft.next = h1\n",
    "        ft = ft.next\n",
    "        h1 = h1.next\n",
    "    \n",
    "    while h2 is not None:\n",
    "        ft.next = h2\n",
    "        ft = ft.next\n",
    "        h2 = h2.next\n",
    "        \n",
    "    return fh\n",
    "\n",
    "def printLL(head):\n",
    "    while head is not None:\n",
    "        print(str(head.data)+ '-->', end =' ')\n",
    "        head = head.next\n",
    "    print('none')\n",
    "\n",
    "        \n",
    "        \n",
    "        \n",
    "def takeinput():\n",
    "    inputList = [int(x) for x in input().split()]\n",
    "    head = None\n",
    "    tail = None\n",
    "    for item in inputList:\n",
    "        if item ==-1:\n",
    "            break\n",
    "        newnode = Node(item)\n",
    "        if head is None:\n",
    "            head = newnode\n",
    "            tail = newnode\n",
    "        else:\n",
    "            tail.next = newnode\n",
    "            tail = newnode\n",
    "    return head"
   ]
  },
  {
   "cell_type": "code",
   "execution_count": 2,
   "id": "applied-drama",
   "metadata": {},
   "outputs": [
    {
     "name": "stdout",
     "output_type": "stream",
     "text": [
      "4 5 7 8 3 36 -1\n",
      "3--> 4--> 5--> 7--> 8--> 36--> none\n"
     ]
    }
   ],
   "source": [
    "rahul = takeinput()\n",
    "output = mergeSort(rahul)\n",
    "printLL(output)"
   ]
  },
  {
   "cell_type": "code",
   "execution_count": null,
   "id": "fluid-picnic",
   "metadata": {},
   "outputs": [],
   "source": []
  }
 ],
 "metadata": {
  "kernelspec": {
   "display_name": "Python 3",
   "language": "python",
   "name": "python3"
  },
  "language_info": {
   "codemirror_mode": {
    "name": "ipython",
    "version": 3
   },
   "file_extension": ".py",
   "mimetype": "text/x-python",
   "name": "python",
   "nbconvert_exporter": "python",
   "pygments_lexer": "ipython3",
   "version": "3.9.1"
  }
 },
 "nbformat": 4,
 "nbformat_minor": 5
}
