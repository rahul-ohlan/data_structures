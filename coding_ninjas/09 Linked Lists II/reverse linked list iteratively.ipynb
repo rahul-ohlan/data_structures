{
 "cells": [
  {
   "cell_type": "code",
   "execution_count": 2,
   "id": "fifty-louis",
   "metadata": {},
   "outputs": [],
   "source": [
    "class Node:\n",
    "    def __init__(self,data):\n",
    "        self.data = data\n",
    "        self.next = None\n",
    "\n",
    "        \n",
    "def printLL(head):\n",
    "    while head is not None:\n",
    "        print(str(head.data) + '-->', end= '')\n",
    "        head = head.next\n",
    "    print('none')\n",
    "\n",
    "\n",
    "\n",
    "\n",
    "def reverseIteratively(head):\n",
    "    prev = None\n",
    "    current = head\n",
    "    while current is not None:\n",
    "        nxt = current.next\n",
    "        current.next = prev\n",
    "        prev = current\n",
    "        current = nxt\n",
    "    head = prev\n",
    "    return head\n",
    "        \n",
    "        \n",
    "def takeinput():\n",
    "    inputList = [int(x) for x in input().split()]\n",
    "    head = None\n",
    "    tail = None\n",
    "    for item in inputList:\n",
    "        if item == -1:\n",
    "            break\n",
    "        newNode = Node(item)\n",
    "        if head is None:\n",
    "            head = newNode\n",
    "            tail = newNode\n",
    "        else:\n",
    "            tail.next = newNode\n",
    "            tail = newNode\n",
    "    return head"
   ]
  },
  {
   "cell_type": "code",
   "execution_count": 3,
   "id": "mineral-newark",
   "metadata": {},
   "outputs": [
    {
     "name": "stdout",
     "output_type": "stream",
     "text": [
      "1 2 3\n",
      "3-->2-->1-->none\n"
     ]
    }
   ],
   "source": [
    "rahul = takeinput()\n",
    "output = reverseIteratively(rahul)\n",
    "printLL(output)"
   ]
  },
  {
   "cell_type": "code",
   "execution_count": null,
   "id": "colonial-quarter",
   "metadata": {},
   "outputs": [],
   "source": []
  }
 ],
 "metadata": {
  "kernelspec": {
   "display_name": "Python 3",
   "language": "python",
   "name": "python3"
  },
  "language_info": {
   "codemirror_mode": {
    "name": "ipython",
    "version": 3
   },
   "file_extension": ".py",
   "mimetype": "text/x-python",
   "name": "python",
   "nbconvert_exporter": "python",
   "pygments_lexer": "ipython3",
   "version": "3.9.1"
  }
 },
 "nbformat": 4,
 "nbformat_minor": 5
}
