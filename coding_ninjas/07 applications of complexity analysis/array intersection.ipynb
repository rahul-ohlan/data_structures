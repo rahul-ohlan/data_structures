{
 "cells": [
  {
   "cell_type": "code",
   "execution_count": 32,
   "id": "cubic-knitting",
   "metadata": {},
   "outputs": [],
   "source": [
    "def merge(a1,a2,a):\n",
    "    i,j,k=0,0,0\n",
    "    while i<len(a1) and j<len(a2):\n",
    "        if a1[i]<a2[j]:\n",
    "            a[k]=a1[i]\n",
    "            i+=1\n",
    "            k+=1\n",
    "        else:\n",
    "            a[k]=a2[j]\n",
    "            j+=1\n",
    "            k+=1\n",
    "    while i<len(a1):\n",
    "            a[k]=a1[i]\n",
    "            i+=1\n",
    "            k+=1\n",
    "    while j<len(a2):\n",
    "            a[k]=a2[j]\n",
    "            j+=1\n",
    "            k+=1        \n",
    "      \n"
   ]
  },
  {
   "cell_type": "code",
   "execution_count": 31,
   "id": "guided-return",
   "metadata": {},
   "outputs": [],
   "source": [
    "def mergesort(arr):\n",
    "    if len(arr)==0 or len(arr)==1:\n",
    "        return arr\n",
    "    mid = len(arr)//2\n",
    "    s1 = arr[0:mid]\n",
    "    s2 = arr[mid:]\n",
    "    mergesort(s1)\n",
    "    mergesort(s2)\n",
    "    merge(s1,s2,arr)"
   ]
  },
  {
   "cell_type": "code",
   "execution_count": 28,
   "id": "rolled-welcome",
   "metadata": {},
   "outputs": [],
   "source": [
    "def intersection(arr1,arr2,n,m):\n",
    "    if n==0 or m==0:\n",
    "        return\n",
    "    mergesort(arr1)\n",
    "    mergesort(arr2)\n",
    "    i,j=0,0\n",
    "    while i< n and j< m:\n",
    "        if arr1[i] < arr2[j]:\n",
    "            i+=1\n",
    "        elif arr1[i]>arr2[j]:\n",
    "            j+=1\n",
    "        else:\n",
    "            print(arr1[i],end=' ')\n",
    "            i+=1\n",
    "            j+=1"
   ]
  },
  {
   "cell_type": "code",
   "execution_count": 33,
   "id": "electric-consequence",
   "metadata": {},
   "outputs": [
    {
     "name": "stdout",
     "output_type": "stream",
     "text": [
      "4 5 8 "
     ]
    }
   ],
   "source": [
    "arr1 = [5,8,7,4,8]\n",
    "n = 5\n",
    "arr2 = [4,6,6,10,8,5,5,1]\n",
    "m = 8\n",
    "intersection(arr1,arr2,n,m)"
   ]
  },
  {
   "cell_type": "code",
   "execution_count": 24,
   "id": "wooden-analyst",
   "metadata": {},
   "outputs": [
    {
     "data": {
      "text/plain": [
       "[1, 4, 5, 5, 6, 6, 8, 10]"
      ]
     },
     "execution_count": 24,
     "metadata": {},
     "output_type": "execute_result"
    }
   ],
   "source": [
    "mergesort(arr2)\n",
    "arr2"
   ]
  },
  {
   "cell_type": "code",
   "execution_count": null,
   "id": "united-article",
   "metadata": {},
   "outputs": [],
   "source": []
  }
 ],
 "metadata": {
  "kernelspec": {
   "display_name": "Python 3",
   "language": "python",
   "name": "python3"
  },
  "language_info": {
   "codemirror_mode": {
    "name": "ipython",
    "version": 3
   },
   "file_extension": ".py",
   "mimetype": "text/x-python",
   "name": "python",
   "nbconvert_exporter": "python",
   "pygments_lexer": "ipython3",
   "version": "3.9.1"
  }
 },
 "nbformat": 4,
 "nbformat_minor": 5
}
