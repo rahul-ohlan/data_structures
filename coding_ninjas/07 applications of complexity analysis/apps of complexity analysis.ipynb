{
 "cells": [
  {
   "cell_type": "markdown",
   "id": "distributed-chemistry",
   "metadata": {},
   "source": [
    "### power of a number"
   ]
  },
  {
   "cell_type": "code",
   "execution_count": 4,
   "id": "funded-omaha",
   "metadata": {},
   "outputs": [
    {
     "name": "stdout",
     "output_type": "stream",
     "text": [
      "3 3\n",
      "27\n"
     ]
    }
   ],
   "source": [
    "def power(x,n):\n",
    "    if n==0:\n",
    "        return 1\n",
    "    elif n==1:\n",
    "        return x\n",
    "    return x**2*(power(x,n-2))\n",
    "x,n = [int(x) for x in input().split()]\n",
    "print(power(x,n))"
   ]
  },
  {
   "cell_type": "markdown",
   "id": "false-resident",
   "metadata": {},
   "source": [
    "Better Approach for reducing the time and space complexity in above solution:"
   ]
  },
  {
   "cell_type": "code",
   "execution_count": 7,
   "id": "satisfied-hobby",
   "metadata": {},
   "outputs": [
    {
     "name": "stdout",
     "output_type": "stream",
     "text": [
      "3 6\n",
      "729\n"
     ]
    }
   ],
   "source": [
    "def powwer(x,n):\n",
    "    if n==0:\n",
    "        return 1\n",
    "    small = powwer(x,n//2)\n",
    "    if n%2==0:\n",
    "        return small*small\n",
    "    else:\n",
    "        return x*small*small\n",
    "x,n = [int(x) for x in input().split()]\n",
    "print(powwer(x,n))"
   ]
  },
  {
   "cell_type": "code",
   "execution_count": null,
   "id": "incomplete-caution",
   "metadata": {},
   "outputs": [],
   "source": []
  }
 ],
 "metadata": {
  "kernelspec": {
   "display_name": "Python 3",
   "language": "python",
   "name": "python3"
  },
  "language_info": {
   "codemirror_mode": {
    "name": "ipython",
    "version": 3
   },
   "file_extension": ".py",
   "mimetype": "text/x-python",
   "name": "python",
   "nbconvert_exporter": "python",
   "pygments_lexer": "ipython3",
   "version": "3.9.1"
  }
 },
 "nbformat": 4,
 "nbformat_minor": 5
}
