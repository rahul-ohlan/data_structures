{
 "cells": [
  {
   "cell_type": "code",
   "execution_count": 23,
   "id": "excessive-possibility",
   "metadata": {},
   "outputs": [
    {
     "name": "stdout",
     "output_type": "stream",
     "text": [
      "8\n"
     ]
    }
   ],
   "source": [
    "arr = [6,1,6,5,3,2,5,0,5,6,0]\n",
    "n = len(arr)\n",
    "num = 5\n",
    "print(tripletsum(arr,n,num))"
   ]
  },
  {
   "cell_type": "code",
   "execution_count": 18,
   "id": "polar-trigger",
   "metadata": {},
   "outputs": [
    {
     "name": "stdout",
     "output_type": "stream",
     "text": [
      "[0, 0, 1, 2, 3, 5, 5, 5, 6, 6, 6]\n"
     ]
    }
   ],
   "source": [
    "arr.sort()\n",
    "print(arr)"
   ]
  },
  {
   "cell_type": "code",
   "execution_count": 8,
   "id": "automotive-locking",
   "metadata": {},
   "outputs": [],
   "source": [
    "def tripletsum(arr,n,num):\n",
    "    if n<3:\n",
    "        return 0\n",
    "    arr.sort()\n",
    "    threes = 0\n",
    "    for i in range(n-2):\n",
    "        count = 0\n",
    "        si = i+1\n",
    "        ei = n-1\n",
    "        pairsum = num - arr[i]\n",
    "        count=0\n",
    "        if arr[i]<=num:\n",
    "            while si<ei:\n",
    "                if arr[si]+arr[ei]<pairsum:\n",
    "                    si+=1\n",
    "                elif arr[si]+arr[ei]>pairsum:\n",
    "                    ei-=1\n",
    "                else:\n",
    "                    # if all the elements between si and ei are same:\n",
    "                    if arr[si]==arr[ei]:\n",
    "                        elements = ei-si+1\n",
    "                        count+= elements*(elements-1)//2\n",
    "                        return count\n",
    "                    temp_si = si+1\n",
    "                    temp_ei = ei-1\n",
    "                    while temp_si<=temp_ei and arr[temp_si] == arr[si]:\n",
    "                        temp_si+=1\n",
    "                    while temp_ei>=temp_si and arr[temp_ei]==arr[ei]:\n",
    "                        temp_ei-=1\n",
    "                    ele_start = temp_si-si\n",
    "                    ele_end = ei-temp_ei\n",
    "                    count+= ele_start*ele_end\n",
    "                    si = temp_si\n",
    "                    ei = temp_ei\n",
    "            threes+= count\n",
    "        else:\n",
    "            continue\n",
    "    return threes"
   ]
  },
  {
   "cell_type": "code",
   "execution_count": 9,
   "id": "acquired-assets",
   "metadata": {},
   "outputs": [
    {
     "name": "stdout",
     "output_type": "stream",
     "text": [
      "0\n",
      "[5, 6, 7, 8]\n"
     ]
    }
   ],
   "source": [
    "arr = [5,6,7,8]\n",
    "n = len(arr)\n",
    "num = 5\n",
    "print(tripletsum(arr,n,num))\n",
    "print(arr)"
   ]
  },
  {
   "cell_type": "markdown",
   "id": "crazy-discrimination",
   "metadata": {},
   "source": [
    "### TA RESOLVED"
   ]
  },
  {
   "cell_type": "code",
   "execution_count": null,
   "id": "compact-gospel",
   "metadata": {},
   "outputs": [],
   "source": [
    "    arr.sort()\n",
    "\n",
    "    numTriplets = 0;\n",
    "\n",
    "    for i in range(n) :\n",
    "        pairSumFor = num - arr[i]\n",
    "        numPairs = pairSum(arr, (i + 1), (n - 1), pairSumFor)\n",
    "\n",
    "        numTriplets += numPairs\n",
    "\n",
    "    return numTriplets\n",
    "\n",
    "\n",
    "def pairSum(arr, startIndex, endIndex, num) :\n",
    "\n",
    "    numPair = 0\n",
    "\n",
    "    while startIndex < endIndex :\n",
    "\n",
    "        if arr[startIndex] + arr[endIndex] < num :\n",
    "            startIndex += 1\n",
    "\n",
    "        elif arr[startIndex] + arr[endIndex] > num :\n",
    "            endIndex -= 1\n",
    "\n",
    "        else :\n",
    "\n",
    "            elementAtStart = arr[startIndex]\n",
    "            elementAtEnd = arr[endIndex]\n",
    "\n",
    "            if elementAtStart == elementAtEnd :\n",
    "                totalElementsFromStartToEnd = (endIndex - startIndex) + 1\n",
    "                numPair += (totalElementsFromStartToEnd * (totalElementsFromStartToEnd - 1) // 2)\n",
    "\n",
    "                return numPair\n",
    "\n",
    "            tempStartIndex = startIndex + 1\n",
    "            tempEndIndex = endIndex - 1\n",
    "\n",
    "            while (tempStartIndex <= tempEndIndex) and (arr[tempStartIndex] == elementAtStart) :\n",
    "                tempStartIndex += 1\n",
    "\n",
    "            while (tempEndIndex >= tempStartIndex) and (arr[tempEndIndex] == elementAtEnd) :\n",
    "                tempEndIndex -= 1            \n",
    "\n",
    "            totalElementsFromStart = (tempStartIndex - startIndex)\n",
    "            totalElementsFromEnd = (endIndex - tempEndIndex)\n",
    "\n",
    "            numPair += (totalElementsFromStart * totalElementsFromEnd)\n",
    "\n",
    "            startIndex = tempStartIndex\n",
    "            endIndex = tempEndIndex\n",
    "\n",
    "\n",
    "    return numPair\n",
    "\n",
    "\n"
   ]
  }
 ],
 "metadata": {
  "kernelspec": {
   "display_name": "Python 3",
   "language": "python",
   "name": "python3"
  },
  "language_info": {
   "codemirror_mode": {
    "name": "ipython",
    "version": 3
   },
   "file_extension": ".py",
   "mimetype": "text/x-python",
   "name": "python",
   "nbconvert_exporter": "python",
   "pygments_lexer": "ipython3",
   "version": "3.9.1"
  }
 },
 "nbformat": 4,
 "nbformat_minor": 5
}
