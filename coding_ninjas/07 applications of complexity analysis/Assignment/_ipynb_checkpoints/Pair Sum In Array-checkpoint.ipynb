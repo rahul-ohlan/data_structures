{
 "cells": [
  {
   "cell_type": "code",
   "execution_count": 8,
   "id": "reported-germany",
   "metadata": {},
   "outputs": [],
   "source": [
    "def merge(a1,a2,a):\n",
    "    i,j,k=0,0,0\n",
    "    while i<len(a1) and j<len(a2):\n",
    "        if a1[i]<a2[j]:\n",
    "            a[k]=a1[i]\n",
    "            i+=1\n",
    "            k+=1\n",
    "        else:\n",
    "            a[k]=a2[j]\n",
    "            j+=1\n",
    "            k+=1\n",
    "    while i<len(a1):\n",
    "        a[k]=a1[i]\n",
    "        i+=1\n",
    "        k+=1\n",
    "    while j<len(a2):\n",
    "        a[k]=a2[j]\n",
    "        j+=1\n",
    "        k+=1"
   ]
  },
  {
   "cell_type": "code",
   "execution_count": 6,
   "id": "nuclear-being",
   "metadata": {},
   "outputs": [],
   "source": [
    "def mergesort(arr):\n",
    "    if len(arr)==0 or len(arr)==1:\n",
    "        return arr\n",
    "    mid = len(arr)//2\n",
    "    \n",
    "    s1 = arr[0:mid]\n",
    "    s2 = arr[mid:]\n",
    "    mergesort(s1)\n",
    "    mergesort(s2)\n",
    "    \n",
    "    merge(s1,s2,arr)\n",
    "    "
   ]
  },
  {
   "cell_type": "code",
   "execution_count": 26,
   "id": "future-concentration",
   "metadata": {},
   "outputs": [],
   "source": [
    "def pairSum(arr,n,num):\n",
    "    \n",
    "    if n==0 or n==1:\n",
    "        return 0\n",
    "    # Ist, sort the array using mergesort algo\n",
    "    mergesort(arr)\n",
    "    # now check if the array is like (2,2,2,2,2) and sum is give as 4, if yes, return nC2\n",
    "    Flag = False\n",
    "    for i in range(n-1):\n",
    "        if arr[i]==arr[i+1]:\n",
    "            Flag = True\n",
    "        else:\n",
    "            Flag = False\n",
    "    if Flag == True:\n",
    "        if arr[i]+arr[i+1]==num:\n",
    "            return int(0.5*n*(n-1))\n",
    "        else:\n",
    "            return 0\n",
    "    # a normal array, with possibility of repeated elements, count represents number of pairs found\n",
    "    i=0\n",
    "    j=n-1\n",
    "    count=0\n",
    "    while i<j:\n",
    "        if arr[i]+arr[j]==num:\n",
    "  \n",
    "            # ic is counter for 'i' if there are repeated elements, after the if statement, i will jump next\n",
    "            # to the repeated element and ic will give number of repeated elements\n",
    "            ic=1\n",
    "            if arr[i]==arr[i+1] and arr[i]!=arr[j]:\n",
    "                while arr[i]==arr[i+1]:\n",
    "                    ic+=1\n",
    "                    i+=1\n",
    "                i+=1\n",
    "            # same process goes on from 'j' side\n",
    "            jc=1\n",
    "            if arr[j]==arr[j-1] and arr[j]!=arr[i]:\n",
    "                while arr[j]==arr[j-1]:\n",
    "                    jc+=1\n",
    "                    j-=1\n",
    "                j-=1\n",
    "            # if repeated elements found, pairs will be their multiplication\n",
    "            if ic>1 or jc>1:\n",
    "                count+= ic*jc\n",
    "            # else if there is no repetition, i and j will jump to right and left and increase the pair count\n",
    "            else:\n",
    "                count+=1\n",
    "                i +=1\n",
    "                j -=1\n",
    "        # when sum of elements is less than 'sum', we'll increase it by moving i to right side\n",
    "        elif arr[i]+arr[j]<num:\n",
    "            i+=1\n",
    "        # when sum of elements is greater than 'sum', we'll reduce the sum by moving j to left side\n",
    "        else:\n",
    "            j-=1\n",
    "    return count\n",
    "    "
   ]
  },
  {
   "cell_type": "code",
   "execution_count": 27,
   "id": "consistent-vancouver",
   "metadata": {},
   "outputs": [
    {
     "name": "stdout",
     "output_type": "stream",
     "text": [
      "2\n"
     ]
    }
   ],
   "source": [
    "arr = [2,8,10,5,-2,5]\n",
    "n = len(arr)\n",
    "num = 10\n",
    "print(pairSum(arr,n,num))"
   ]
  },
  {
   "cell_type": "code",
   "execution_count": 21,
   "id": "smaller-tonight",
   "metadata": {},
   "outputs": [
    {
     "name": "stdout",
     "output_type": "stream",
     "text": [
      "[-2, 2, 5, 5, 8, 10]\n"
     ]
    }
   ],
   "source": [
    "mergesort(arr)\n",
    "print(arr)"
   ]
  },
  {
   "cell_type": "markdown",
   "id": "handy-hopkins",
   "metadata": {},
   "source": [
    "### CORRECT CODE: PAIRsum"
   ]
  },
  {
   "cell_type": "code",
   "execution_count": 34,
   "id": "apparent-addiction",
   "metadata": {},
   "outputs": [],
   "source": [
    "def pairSum(arr, n, num) :\n",
    "    arr.sort()\n",
    "\n",
    "    startIndex = 0\n",
    "    endIndex = (n - 1)\n",
    "\n",
    "    numPair = 0\n",
    "\n",
    "    while startIndex < endIndex :\n",
    "\n",
    "        if arr[startIndex] + arr[endIndex] < num :\n",
    "            startIndex += 1\n",
    "\n",
    "        elif arr[startIndex] + arr[endIndex] > num :\n",
    "            endIndex -= 1\n",
    "\n",
    "        else :\n",
    "\n",
    "            elementAtStart = arr[startIndex]\n",
    "            elementAtEnd = arr[endIndex]\n",
    "\n",
    "            # check if array is a set of identical elements from start till end; if yes, return nc2\n",
    "            if elementAtStart == elementAtEnd :\n",
    "                totalElementsFromStartToEnd = (endIndex - startIndex) + 1\n",
    "                numPair += (totalElementsFromStartToEnd * (totalElementsFromStartToEnd - 1) // 2)\n",
    "\n",
    "                return numPair\n",
    "\n",
    "            tempStartIndex = startIndex + 1\n",
    "            tempEndIndex = endIndex - 1\n",
    "\n",
    "            # checking number of duplicate elements at from start index and end index; return their multiplication\n",
    "            while (tempStartIndex <= tempEndIndex) and (arr[tempStartIndex] == elementAtStart) :\n",
    "                tempStartIndex += 1\n",
    "\n",
    "            while (tempEndIndex >= tempStartIndex) and (arr[tempEndIndex] == elementAtEnd) :\n",
    "                tempEndIndex -= 1\n",
    "\n",
    "            totalElementsFromStart = (tempStartIndex - startIndex)\n",
    "            totalElementsFromEnd = (endIndex - tempEndIndex)\n",
    "\n",
    "            numPair += (totalElementsFromStart * totalElementsFromEnd)\n",
    "\n",
    "            startIndex = tempStartIndex\n",
    "            endIndex = tempEndIndex\n",
    "\n",
    "\n",
    "    return numPair"
   ]
  },
  {
   "cell_type": "code",
   "execution_count": 37,
   "id": "smaller-harris",
   "metadata": {},
   "outputs": [
    {
     "name": "stdout",
     "output_type": "stream",
     "text": [
      "4\n"
     ]
    }
   ],
   "source": [
    "arr = [1,2,2,3,3,4,4,5,6]\n",
    "n = len(arr)\n",
    "num = 7\n",
    "print(pairSumMine(arr,n,num))"
   ]
  },
  {
   "cell_type": "code",
   "execution_count": null,
   "id": "processed-shopping",
   "metadata": {},
   "outputs": [],
   "source": []
  }
 ],
 "metadata": {
  "kernelspec": {
   "display_name": "Python 3",
   "language": "python",
   "name": "python3"
  },
  "language_info": {
   "codemirror_mode": {
    "name": "ipython",
    "version": 3
   },
   "file_extension": ".py",
   "mimetype": "text/x-python",
   "name": "python",
   "nbconvert_exporter": "python",
   "pygments_lexer": "ipython3",
   "version": "3.9.1"
  }
 },
 "nbformat": 4,
 "nbformat_minor": 5
}
