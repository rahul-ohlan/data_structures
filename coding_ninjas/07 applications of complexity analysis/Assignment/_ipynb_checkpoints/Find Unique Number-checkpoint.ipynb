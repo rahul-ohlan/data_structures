{
 "cells": [
  {
   "cell_type": "markdown",
   "id": "pretty-illinois",
   "metadata": {},
   "source": [
    "### Find Unique Number"
   ]
  },
  {
   "cell_type": "code",
   "execution_count": 11,
   "id": "heavy-strike",
   "metadata": {},
   "outputs": [
    {
     "name": "stdout",
     "output_type": "stream",
     "text": [
      "3\n"
     ]
    }
   ],
   "source": [
    "arr = [1,2,2,3,1]\n",
    "new = {}\n",
    "for i in arr:\n",
    "    new[i] = new.get(i,0)+1\n",
    "for item in new:\n",
    "    if new[item]==1:\n",
    "        print(item)\n",
    "# time complexity = O(n)"
   ]
  },
  {
   "cell_type": "markdown",
   "id": "african-district",
   "metadata": {},
   "source": [
    "### find Duplicate"
   ]
  },
  {
   "cell_type": "code",
   "execution_count": null,
   "id": "skilled-exclusive",
   "metadata": {},
   "outputs": [],
   "source": [
    "def findDuplicate(arr, n) :\n",
    "    new = {}\n",
    "    for i in arr:\n",
    "        new[i] = new.get(i,0) + 1\n",
    "    for item in new:\n",
    "        if new[item]>1:\n",
    "            return item\n"
   ]
  }
 ],
 "metadata": {
  "kernelspec": {
   "display_name": "Python 3",
   "language": "python",
   "name": "python3"
  },
  "language_info": {
   "codemirror_mode": {
    "name": "ipython",
    "version": 3
   },
   "file_extension": ".py",
   "mimetype": "text/x-python",
   "name": "python",
   "nbconvert_exporter": "python",
   "pygments_lexer": "ipython3",
   "version": "3.9.1"
  }
 },
 "nbformat": 4,
 "nbformat_minor": 5
}
