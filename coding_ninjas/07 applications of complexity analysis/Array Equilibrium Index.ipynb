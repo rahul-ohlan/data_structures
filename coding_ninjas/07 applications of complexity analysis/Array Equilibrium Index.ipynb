{
 "cells": [
  {
   "cell_type": "code",
   "execution_count": 4,
   "id": "light-recognition",
   "metadata": {},
   "outputs": [],
   "source": [
    "arr = [1,4,7,3,8,9,5]"
   ]
  },
  {
   "cell_type": "code",
   "execution_count": 31,
   "id": "unexpected-greece",
   "metadata": {},
   "outputs": [],
   "source": [
    "def arrayEquilibriumIndex(arr,n):\n",
    "    if n==0:\n",
    "        return -1\n",
    "    elif n==1:\n",
    "        return 0\n",
    "    ls = 0\n",
    "    rs = sum(arr[1:])\n",
    "    for i in range(n):\n",
    "        if ls==rs:\n",
    "            return i\n",
    "        elif i!=n-1:\n",
    "            ls+=arr[i]\n",
    "            rs-=arr[i+1]\n",
    "    else:\n",
    "        return -1"
   ]
  },
  {
   "cell_type": "code",
   "execution_count": 37,
   "id": "associate-storm",
   "metadata": {},
   "outputs": [
    {
     "name": "stdout",
     "output_type": "stream",
     "text": [
      "-1\n"
     ]
    }
   ],
   "source": [
    "ary = [1,2,4,0,4,4]\n",
    "n = len(ary)\n",
    "print(arrayEquilibriumIndex(ary,n))"
   ]
  },
  {
   "cell_type": "code",
   "execution_count": null,
   "id": "received-design",
   "metadata": {},
   "outputs": [],
   "source": []
  }
 ],
 "metadata": {
  "kernelspec": {
   "display_name": "Python 3",
   "language": "python",
   "name": "python3"
  },
  "language_info": {
   "codemirror_mode": {
    "name": "ipython",
    "version": 3
   },
   "file_extension": ".py",
   "mimetype": "text/x-python",
   "name": "python",
   "nbconvert_exporter": "python",
   "pygments_lexer": "ipython3",
   "version": "3.9.1"
  }
 },
 "nbformat": 4,
 "nbformat_minor": 5
}
