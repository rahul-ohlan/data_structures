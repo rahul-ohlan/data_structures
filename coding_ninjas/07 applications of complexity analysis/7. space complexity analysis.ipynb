{
 "cells": [
  {
   "cell_type": "code",
   "execution_count": 1,
   "id": "broken-wallpaper",
   "metadata": {},
   "outputs": [
    {
     "data": {
      "text/plain": [
       "[2, 4, 6, 7, 9]"
      ]
     },
     "execution_count": 1,
     "metadata": {},
     "output_type": "execute_result"
    }
   ],
   "source": [
    "def bybsort(arr):\n",
    "    n = len(arr)\n",
    "    if n==1:\n",
    "        return arr\n",
    "    for j in range(n):\n",
    "        for i in range(n-1):\n",
    "            if arr[i]>arr[i+1]:\n",
    "                arr[i],arr[i+1]=arr[i+1],arr[i]\n",
    "    return arr\n",
    "arr = [9,6,4,2,7]\n",
    "bybsort(arr)"
   ]
  },
  {
   "cell_type": "code",
   "execution_count": 3,
   "id": "stupid-commons",
   "metadata": {},
   "outputs": [
    {
     "name": "stdout",
     "output_type": "stream",
     "text": [
      "4\n",
      "1 2 3 4\n",
      "4 3 2 1 "
     ]
    }
   ],
   "source": [
    "def Reverse(arr,n):\n",
    "    if n==0:\n",
    "        return 0\n",
    "    copy_arr=[]\n",
    "    for i in range(n):\n",
    "        a = arr[n-i-1]\n",
    "        copy_arr.append(a)\n",
    "    return (copy_arr)\n",
    "# no of test cases\n",
    "t = int(input())\n",
    "for i in range(t):\n",
    "    n=int(input())\n",
    "    arr=list(int(i) for i in input().strip().split(' '))\n",
    "    for item in Reverse(arr,n):\n",
    "        print(item,end=' ')"
   ]
  },
  {
   "cell_type": "code",
   "execution_count": null,
   "id": "coupled-indie",
   "metadata": {},
   "outputs": [],
   "source": []
  }
 ],
 "metadata": {
  "kernelspec": {
   "display_name": "Python 3",
   "language": "python",
   "name": "python3"
  },
  "language_info": {
   "codemirror_mode": {
    "name": "ipython",
    "version": 3
   },
   "file_extension": ".py",
   "mimetype": "text/x-python",
   "name": "python",
   "nbconvert_exporter": "python",
   "pygments_lexer": "ipython3",
   "version": "3.9.1"
  }
 },
 "nbformat": 4,
 "nbformat_minor": 5
}
