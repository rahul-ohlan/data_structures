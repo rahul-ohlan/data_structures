{
 "cells": [
  {
   "cell_type": "code",
   "execution_count": 8,
   "id": "incorporated-springer",
   "metadata": {},
   "outputs": [],
   "source": [
    "\n",
    "class Solution:\n",
    "    \n",
    "    def heapsort(self,array):\n",
    "        \n",
    "        n = len(array)\n",
    "        \n",
    "        for i in range(1,n):\n",
    "            childindex = i\n",
    "            \n",
    "            while childindex > 0:\n",
    "                parentindex = (childindex-1)//2\n",
    "                \n",
    "                if array[childindex] < array[parentindex]:\n",
    "                    array[childindex],array[parentindex] = array[parentindex],array[childindex]\n",
    "                    \n",
    "                childindex = parentindex\n",
    "                \n",
    "        for j in range(n-1,-1,-1):\n",
    "            \n",
    "            array[0],array[j] = array[j],array[0]\n",
    "            \n",
    "            pindex = 0\n",
    "            cindex1 = 2*pindex + 1\n",
    "            cindex2 = 2*pindex + 2\n",
    "            mini = cindex1\n",
    "            while cindex1 < j:\n",
    "                if cindex2 < j and array[cindex2] < array[cindex1]:\n",
    "                    mini = cindex2\n",
    "                    \n",
    "                if array[pindex] > array[mini]:\n",
    "                    array[pindex],array[mini] = array[mini],array[pindex]\n",
    "                pindex = mini\n",
    "                cindex1 = 2*pindex+1\n",
    "                cindex2 = 2*pindex+2\n",
    "                mini = cindex1\n"
   ]
  },
  {
   "cell_type": "code",
   "execution_count": 9,
   "id": "accepted-inclusion",
   "metadata": {},
   "outputs": [
    {
     "name": "stdout",
     "output_type": "stream",
     "text": [
      "enter array to be heap-sorted\n",
      "1 5 3 2 6 4\n",
      "[6, 5, 4, 3, 2, 1]\n"
     ]
    }
   ],
   "source": [
    "print('enter array to be heap-sorted')\n",
    "array = [int(x) for x in input().split()]\n",
    "rahul = Solution()\n",
    "rahul.heapsort(array)\n",
    "print(array)\n"
   ]
  },
  {
   "cell_type": "code",
   "execution_count": null,
   "id": "contemporary-negative",
   "metadata": {},
   "outputs": [],
   "source": []
  }
 ],
 "metadata": {
  "kernelspec": {
   "display_name": "Python 3",
   "language": "python",
   "name": "python3"
  },
  "language_info": {
   "codemirror_mode": {
    "name": "ipython",
    "version": 3
   },
   "file_extension": ".py",
   "mimetype": "text/x-python",
   "name": "python",
   "nbconvert_exporter": "python",
   "pygments_lexer": "ipython3",
   "version": "3.9.1"
  }
 },
 "nbformat": 4,
 "nbformat_minor": 5
}
