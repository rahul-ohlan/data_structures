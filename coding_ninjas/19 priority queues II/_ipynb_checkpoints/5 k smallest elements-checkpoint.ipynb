{
 "cells": [
  {
   "cell_type": "code",
   "execution_count": 1,
   "id": "wireless-claim",
   "metadata": {},
   "outputs": [],
   "source": [
    "# # You are given with an integer k and an array of integers that contain numbers in random order.\n",
    "# Write a program to find k smallest numbers from given array. You need to save them in an array and return it.\n",
    "# # Time complexity should be O(n * logk) and space complexity should not be more than O(k).\n",
    "# # Note: Order of elements in the output is not important."
   ]
  },
  {
   "cell_type": "code",
   "execution_count": 5,
   "id": "hispanic-devil",
   "metadata": {},
   "outputs": [],
   "source": [
    "import heapq\n",
    "def ksmallest(array,k):\n",
    "    \n",
    "    n = len(array)\n",
    "    heap = array[:k]\n",
    "    heapq._heapify_max(heap)\n",
    "    for i in range(k,n):\n",
    "        if array[i] < heap[0]:\n",
    "            heapq._heapreplace_max(heap,array[i])\n",
    "            \n",
    "    return heap\n",
    "# time complexity = O(klogk) + O((n-k)log(n-k) = O(nlogk)\n",
    "#            for creating heap   for replacing (n-k) elements each having O(h) complexity i.e O(log(n-k))\n",
    "# space complexity = k ( new array)"
   ]
  },
  {
   "cell_type": "code",
   "execution_count": 6,
   "id": "lyric-objective",
   "metadata": {},
   "outputs": [
    {
     "name": "stdout",
     "output_type": "stream",
     "text": [
      "[4, 1, 3]\n"
     ]
    }
   ],
   "source": [
    "array = [1,5,4,3,6]\n",
    "k = 3\n",
    "print(ksmallest(array,k))"
   ]
  },
  {
   "cell_type": "code",
   "execution_count": null,
   "id": "enclosed-amendment",
   "metadata": {},
   "outputs": [],
   "source": []
  }
 ],
 "metadata": {
  "kernelspec": {
   "display_name": "Python 3",
   "language": "python",
   "name": "python3"
  },
  "language_info": {
   "codemirror_mode": {
    "name": "ipython",
    "version": 3
   },
   "file_extension": ".py",
   "mimetype": "text/x-python",
   "name": "python",
   "nbconvert_exporter": "python",
   "pygments_lexer": "ipython3",
   "version": "3.9.1"
  }
 },
 "nbformat": 4,
 "nbformat_minor": 5
}
