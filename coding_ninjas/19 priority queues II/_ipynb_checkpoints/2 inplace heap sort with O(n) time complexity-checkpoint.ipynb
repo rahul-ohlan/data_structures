{
 "cells": [
  {
   "cell_type": "code",
   "execution_count": 5,
   "id": "metallic-tattoo",
   "metadata": {},
   "outputs": [],
   "source": [
    "class Solution:\n",
    "    \n",
    "    def heapsort(self,array):\n",
    "        \n",
    "        n = len(array)\n",
    "        # TIME COMPLEXITY IS O(N) BY THIS METHOD AND NOT O(LOGN)\n",
    "        for i in range((n//2)-1,-1,-1):\n",
    "            \n",
    "                \n",
    "            parent = i\n",
    "            child1 = 2*parent + 1\n",
    "            child2 = 2*parent + 2\n",
    "            mini = child1\n",
    "\n",
    "            while child1 < n:\n",
    "                if child2 < n and array[child2] < array[child1]:\n",
    "                    mini = child2\n",
    "                if array[parent] > array[mini]:\n",
    "                    array[parent],array[mini] = array[mini],array[parent]\n",
    "\n",
    "                parent = mini\n",
    "                child1 = 2*parent + 1\n",
    "                child2 = 2*parent + 2\n",
    "                mini = child1\n",
    "                \n",
    "        # now sort the heapified array\n",
    "        for i in range(n-1,-1,-1):\n",
    "            \n",
    "            array[0],array[i] = array[i],array[0]\n",
    "            \n",
    "            parentindex = 0\n",
    "            childindex1 = 2*parentindex+1\n",
    "            childindex2 = 2*parentindex+2\n",
    "            mini = childindex1\n",
    "            \n",
    "            while childindex1 < i :\n",
    "                \n",
    "                if childindex2 < i and array[childindex2] < array[childindex1]:\n",
    "                    mini = childindex2\n",
    "                    \n",
    "                if array[parentindex] > array[mini]:\n",
    "                    array[parentindex],array[mini] = array[mini],array[parentindex]\n",
    "                    \n",
    "                parentindex = mini\n",
    "                childindex1 = 2*parentindex+1\n",
    "                childindex2 = 2*parentindex+2\n",
    "                mini = childindex1\n",
    "                \n",
    "        \n",
    "        "
   ]
  },
  {
   "cell_type": "code",
   "execution_count": 7,
   "id": "political-wilson",
   "metadata": {},
   "outputs": [
    {
     "name": "stdout",
     "output_type": "stream",
     "text": [
      "[1, 2, 3, 4, 5, 6]\n"
     ]
    }
   ],
   "source": [
    "rahul = Solution()\n",
    "array = [1,5,3,2,6,4]\n",
    "rahul.heapsort(array)\n",
    "print(array[::-1])"
   ]
  },
  {
   "cell_type": "code",
   "execution_count": null,
   "id": "large-cologne",
   "metadata": {},
   "outputs": [],
   "source": []
  }
 ],
 "metadata": {
  "kernelspec": {
   "display_name": "Python 3",
   "language": "python",
   "name": "python3"
  },
  "language_info": {
   "codemirror_mode": {
    "name": "ipython",
    "version": 3
   },
   "file_extension": ".py",
   "mimetype": "text/x-python",
   "name": "python",
   "nbconvert_exporter": "python",
   "pygments_lexer": "ipython3",
   "version": "3.9.1"
  }
 },
 "nbformat": 4,
 "nbformat_minor": 5
}
