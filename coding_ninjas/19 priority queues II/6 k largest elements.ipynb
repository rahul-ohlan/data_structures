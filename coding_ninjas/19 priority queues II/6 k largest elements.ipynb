{
 "cells": [
  {
   "cell_type": "code",
   "execution_count": 1,
   "id": "monetary-project",
   "metadata": {},
   "outputs": [],
   "source": [
    "import heapq\n",
    "\n",
    "def klargest(array,k):\n",
    "    \n",
    "    heap = array[:k]\n",
    "    heapq.heapify(heap)\n",
    "    for element in array[k:]:\n",
    "        if element > heap[0]:\n",
    "            heapq.heapreplace(heap,element)\n",
    "    return heap"
   ]
  },
  {
   "cell_type": "code",
   "execution_count": 2,
   "id": "guilty-formation",
   "metadata": {},
   "outputs": [
    {
     "name": "stdout",
     "output_type": "stream",
     "text": [
      "[8, 9, 10]\n"
     ]
    }
   ],
   "source": [
    "array = [10,7,5,4,6,8,9]\n",
    "k = 3\n",
    "print(klargest(array,k))"
   ]
  },
  {
   "cell_type": "code",
   "execution_count": null,
   "id": "proof-carolina",
   "metadata": {},
   "outputs": [],
   "source": []
  }
 ],
 "metadata": {
  "kernelspec": {
   "display_name": "Python 3",
   "language": "python",
   "name": "python3"
  },
  "language_info": {
   "codemirror_mode": {
    "name": "ipython",
    "version": 3
   },
   "file_extension": ".py",
   "mimetype": "text/x-python",
   "name": "python",
   "nbconvert_exporter": "python",
   "pygments_lexer": "ipython3",
   "version": "3.9.1"
  }
 },
 "nbformat": 4,
 "nbformat_minor": 5
}
