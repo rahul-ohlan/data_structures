{
 "cells": [
  {
   "cell_type": "code",
   "execution_count": 3,
   "id": "remarkable-following",
   "metadata": {},
   "outputs": [
    {
     "ename": "SyntaxError",
     "evalue": "invalid syntax (<ipython-input-3-637f4ad20aa3>, line 92)",
     "output_type": "error",
     "traceback": [
      "\u001b[1;36m  File \u001b[1;32m\"<ipython-input-3-637f4ad20aa3>\"\u001b[1;36m, line \u001b[1;32m92\u001b[0m\n\u001b[1;33m    for i in range(1,self.nVertices)\u001b[0m\n\u001b[1;37m                                    ^\u001b[0m\n\u001b[1;31mSyntaxError\u001b[0m\u001b[1;31m:\u001b[0m invalid syntax\n"
     ]
    }
   ],
   "source": [
    "import queue\n",
    "import sys\n",
    "class Graph:\n",
    "    \n",
    "    def __init__(self,nVertices):\n",
    "        \n",
    "        self.nVertices = nVertices\n",
    "        self.adjMatrix = [[0 for j in range(nVertices)] for i in range(nVertices) ]\n",
    "        \n",
    "    def addEdge(self,v1,v2,wt):\n",
    "        \n",
    "        self.adjMatrix[v1][v2] = wt\n",
    "        self.adjMatrix[v2][v1] = wt\n",
    "        \n",
    "    def removeEdge(self,v1,v2):\n",
    "        \n",
    "        if self.containsEdge(v1,v2) is False:\n",
    "            return\n",
    "        self.adjMatrix[v1][v2] = 0\n",
    "        self.adjMatrix[v2][v1] = 0\n",
    "        \n",
    "    def containsEdge(self,v1,v2):\n",
    "        \n",
    "        return True if self.adjMatrix[v1][v2] > 0 else False\n",
    "        \n",
    "    def __dfsHelper(self,v1,visited):\n",
    "        \n",
    "        print(v1)\n",
    "        visited[v1] = True\n",
    "        for i in range(self.nVertices):\n",
    "            if self.adjMatrix[v1][i] > 0 and visited[i] == False:\n",
    "                self.__dfsHelper(i,visited)\n",
    "                \n",
    "    def dfs(self):\n",
    "        \n",
    "        visited = [False for i in range(self.nVertices)]\n",
    "        \n",
    "        for i in range(self.nVertices):\n",
    "            if visited[i] == False:\n",
    "                self.__dfsHelper(i,visited)\n",
    "                \n",
    "    def __bfsHelper(self,sv,visited):\n",
    "        \n",
    "        que = queue.Queue()\n",
    "        que.put(sv)\n",
    "        \n",
    "        while not que.empty():\n",
    "            curr = que.get()\n",
    "            print(curr)\n",
    "            for i in range(self.nVertices):\n",
    "                if self.adjMatrix[curr][i] > 0 and visited[i] == False:\n",
    "                    que.put(i)\n",
    "                    visited[i] = True\n",
    "    \n",
    "    def bfs(self):\n",
    "        \n",
    "        visited = [False for i in range(self.nVertices)]\n",
    "        for i in range(self.nVertices):\n",
    "            if visited[i] == False:\n",
    "                self.__bfsHelper(i,visited)\n",
    "    \n",
    "    \n",
    "    def __get_minVertex(self,visited,weight):\n",
    "        \n",
    "        min_vertex = -1\n",
    "        for i in range(self.nVertices):\n",
    "            if visited[i] == False and (min_vertex == -1 or weight[min_vertex] > weight[i]):\n",
    "                min_vertex = i\n",
    "                \n",
    "        return min_vertex\n",
    "                \n",
    "            \n",
    "                \n",
    "    def prims(self):\n",
    "        \n",
    "        visited = [False for i in range(self.nVertices)]\n",
    "        parent = [-1 for i in range(self.nVertices)]\n",
    "        weight = [sys.maxsize for i in range(self.nVertices)]\n",
    "        weight[0] = 0\n",
    "        for i in range(self.nVertices -1):\n",
    "            min_vertex = self.__get_minVertex(visited,weight)\n",
    "            visited[min_vertex] = True\n",
    "            \n",
    "            # explore the neighbours of minVertex which are not visited and update the weight\n",
    "            # corresponding to them if required\n",
    "            for j in range(self.nVertices):\n",
    "                if self.adjMatrix[min_vertex][j] > 0 and visited[j] == False:\n",
    "                    if weight[j] > self.adjMatrix[min_vertex][j]:\n",
    "                        weight[j] = self.adjMatrix[min_vertex][j]\n",
    "                        parent[j] = min_vertex\n",
    "                        \n",
    "        for i in range(1,self.nVertices):\n",
    "            if i < parent[i]:\n",
    "                print(str(i) + \" \" + str(parent[i]) + \" \" + str(weight[i]))\n",
    "            else:\n",
    "                print(str(parent[i]) + \" \" + str(i) + \" \" + str(weight[i]))\n",
    "                \n",
    "                \n",
    "    def __str__(self):\n",
    "        \n",
    "        return str(self.adjMatrix)\n",
    "              "
   ]
  },
  {
   "cell_type": "code",
   "execution_count": 2,
   "id": "unlimited-sweet",
   "metadata": {},
   "outputs": [
    {
     "ename": "IndentationError",
     "evalue": "expected an indented block (<ipython-input-2-28e056d4adc5>, line 2)",
     "output_type": "error",
     "traceback": [
      "\u001b[1;36m  File \u001b[1;32m\"<ipython-input-2-28e056d4adc5>\"\u001b[1;36m, line \u001b[1;32m2\u001b[0m\n\u001b[1;33m    for i in range(nEdges):\u001b[0m\n\u001b[1;37m                           ^\u001b[0m\n\u001b[1;31mIndentationError\u001b[0m\u001b[1;31m:\u001b[0m expected an indented block\n"
     ]
    }
   ],
   "source": [
    "nVertices,nEdges = map(int,input().split())\n",
    "g = Graph(nVertices)\n",
    "for i in range(nEdges):\n",
    "    v1,v2,wt = map(int,input().split())\n",
    "    g.addEdge(v1,v2,wt)\n",
    "    \n",
    "g.prims()"
   ]
  },
  {
   "cell_type": "code",
   "execution_count": null,
   "id": "chief-reader",
   "metadata": {},
   "outputs": [],
   "source": []
  }
 ],
 "metadata": {
  "kernelspec": {
   "display_name": "Python 3",
   "language": "python",
   "name": "python3"
  },
  "language_info": {
   "codemirror_mode": {
    "name": "ipython",
    "version": 3
   },
   "file_extension": ".py",
   "mimetype": "text/x-python",
   "name": "python",
   "nbconvert_exporter": "python",
   "pygments_lexer": "ipython3",
   "version": "3.9.1"
  }
 },
 "nbformat": 4,
 "nbformat_minor": 5
}
