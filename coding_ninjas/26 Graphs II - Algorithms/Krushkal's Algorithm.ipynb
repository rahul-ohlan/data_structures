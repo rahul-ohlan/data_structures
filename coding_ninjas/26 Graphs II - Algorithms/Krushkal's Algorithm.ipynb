{
 "cells": [
  {
   "cell_type": "markdown",
   "id": "honey-payroll",
   "metadata": {},
   "source": [
    "Minimum Spanning Tree: A tree in a graph which has the minimum weight of all possible trees from the graph"
   ]
  },
  {
   "cell_type": "markdown",
   "id": "requested-lingerie",
   "metadata": {},
   "source": [
    "# Kruskal's Algrorithm:\n",
    "\n",
    "1. Pick all the edges with starting with those having MINIMUM WEIGHT\n",
    "2. SKIP the edges which form the LOOP\n",
    "3. If number of vertices are \"n\", there must not be more than \"n-1\" edges"
   ]
  },
  {
   "cell_type": "markdown",
   "id": "adapted-documentary",
   "metadata": {},
   "source": [
    "# DETECTING THE LOOP:\n",
    "\n",
    " If any two vertices have  a 'path' between them, using them again will lead\n",
    " \n",
    " to a loop, so DO NOT USE vertices having a path between them\n",
    " \n",
    " but the complexity is O(vertices**2) "
   ]
  },
  {
   "cell_type": "markdown",
   "id": "effective-surrey",
   "metadata": {},
   "source": [
    "### Union Find Algorithm\n",
    "1. If two vertices v1 and v2 are in the same component, they will have a path and hence using them again will lead to loop\n",
    "2. So check for each of the vertices pairs if they are in the same component\n",
    "3. for this take a PARENT ARRAY and keep updating the parent array accordingy -- this is vague, refer code\n",
    "4. stop when count reaches n-1"
   ]
  },
  {
   "cell_type": "code",
   "execution_count": 29,
   "id": "decimal-edmonton",
   "metadata": {},
   "outputs": [],
   "source": [
    "class Edge:\n",
    "    \n",
    "    def __init__(self,src,dest,wt):\n",
    "        \n",
    "        self.src = src\n",
    "        self.dest = dest\n",
    "        self.wt = wt\n",
    "        \n",
    "    def __lt__(self,other):\n",
    "        \n",
    "        return self.wt < other.wt\n",
    "        \n",
    "class kruskal:\n",
    "    \n",
    "    def __init__(self,nVertices):\n",
    "        \n",
    "        self.nVertices = nVertices\n",
    "        self.edgeMat = list()\n",
    "        \n",
    "    def addEdge(self,edge):\n",
    "        \n",
    "        self.edgeMat.append(edge)\n",
    "        self.edgeMat.sort()\n",
    "        \n",
    "    def __getParent(self,ele,parentmatrix):\n",
    "        \n",
    "        if parentmatrix[ele] == ele:\n",
    "            return ele\n",
    "        else:\n",
    "            return self.__getParent(parentmatrix[ele],parentmatrix)\n",
    "        \n",
    "    def unionfind(self):\n",
    "        \n",
    "        final_edges = list()\n",
    "        parentMat = list()\n",
    "        for i in range(self.nVertices):\n",
    "            parentMat.append(i)\n",
    "        \n",
    "        count = 0\n",
    "        while count < self.nVertices-1:\n",
    "            for edge in self.edgeMat:\n",
    "                p1 = self.__getParent(edge.src,parentMat)\n",
    "                p2 = self.__getParent(edge.dest,parentMat)\n",
    "                if p1 != p2:\n",
    "                    count+=1\n",
    "                    final_edges.append(sorted([edge.src,edge.dest]))\n",
    "                    parentMat[p1] = p2\n",
    "                else:\n",
    "                    continue\n",
    "        return final_edges"
   ]
  },
  {
   "cell_type": "code",
   "execution_count": 30,
   "id": "monthly-curtis",
   "metadata": {},
   "outputs": [
    {
     "name": "stdout",
     "output_type": "stream",
     "text": [
      "6 11\n",
      "1 2 11\n",
      "2 3 10\n",
      "2 5 9\n",
      "2 4 8\n",
      "3 4 7\n",
      "3 5 6\n",
      "0 2 5\n",
      "0 3 4\n",
      "1 3 3\n",
      "5 4 2\n",
      "0 1 1\n",
      "[0, 1]\n",
      "[4, 5]\n",
      "[1, 3]\n",
      "[0, 2]\n",
      "[3, 5]\n"
     ]
    }
   ],
   "source": [
    "nVertices,nEdges = map(int,input().split())\n",
    "k = kruskal(nVertices)\n",
    "for i in range(nEdges):\n",
    "    v1,v2,wt = map(int,input().split())\n",
    "    edge = Edge(v1,v2,wt)\n",
    "    k.addEdge(edge)\n",
    "# for item in k.edgeMat:\n",
    "#     print(item.wt)\n",
    "    \n",
    "res = k.unionfind()\n",
    "for item in res:\n",
    "    print(item)\n"
   ]
  },
  {
   "cell_type": "code",
   "execution_count": 10,
   "id": "experienced-preliminary",
   "metadata": {},
   "outputs": [
    {
     "name": "stdout",
     "output_type": "stream",
     "text": [
      "5\n"
     ]
    }
   ],
   "source": [
    "# practice sort method in class\n",
    "\n",
    "class rahul:\n",
    "    \n",
    "    def __init__(self,a1,a2,a3):\n",
    "        self.a1 = a1\n",
    "        self.a2 = a2\n",
    "        self.a3 = a3\n",
    "        \n",
    "    def __lt__(self,other):\n",
    "        return self.a3 < other.a3\n",
    "    \n",
    "array = list()\n",
    "a = rahul(1,2,3)\n",
    "b = rahul(3,4,5)\n",
    "c = rahul(2,4,1)\n",
    "array.append(a)\n",
    "array.append(b)\n",
    "array.append(c)\n",
    "array.sort()\n",
    "print(array[2].a3)\n",
    " # wow !! it works !!!"
   ]
  },
  {
   "cell_type": "code",
   "execution_count": null,
   "id": "different-conservation",
   "metadata": {},
   "outputs": [],
   "source": []
  }
 ],
 "metadata": {
  "kernelspec": {
   "display_name": "Python 3",
   "language": "python",
   "name": "python3"
  },
  "language_info": {
   "codemirror_mode": {
    "name": "ipython",
    "version": 3
   },
   "file_extension": ".py",
   "mimetype": "text/x-python",
   "name": "python",
   "nbconvert_exporter": "python",
   "pygments_lexer": "ipython3",
   "version": "3.9.1"
  }
 },
 "nbformat": 4,
 "nbformat_minor": 5
}
