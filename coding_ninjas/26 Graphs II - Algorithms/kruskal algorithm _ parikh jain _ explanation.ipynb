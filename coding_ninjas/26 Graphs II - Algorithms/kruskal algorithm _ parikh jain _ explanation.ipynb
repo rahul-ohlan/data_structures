{
 "cells": [
  {
   "cell_type": "code",
   "execution_count": null,
   "id": "separated-skirt",
   "metadata": {},
   "outputs": [],
   "source": [
    "class Edge:\n",
    "    \n",
    "    def __init__(self,src,dest,wt):\n",
    "        self.src = src\n",
    "        self.dest = dest\n",
    "        self.wt = wt\n",
    "        \n",
    "\n",
    "        \n",
    "        \n",
    "nVertices,nEdges = map(int,input().split())\n",
    "edges = list()\n",
    "for i in range(nEdges):\n",
    "    v1,v2,w = map(int,input().split())\n",
    "    curr_edge = Edge(v1,v2,w)\n",
    "    edges.append(curr_edge)\n",
    "    \n",
    "def getParent(v,parent):\n",
    "    \n",
    "    if v== parent[v]:\n",
    "        return v\n",
    "    \n",
    "    return getParent(parent[v],parent)\n",
    "    \n",
    "def kurskal(edges,nVertices):\n",
    "    \n",
    "    parentMat = [i for i in range(nVertices)]\n",
    "    edges = sorted(edges,key = lambda edge: edge.wt)\n",
    "    \n",
    "    count = 0\n",
    "    output = list()\n",
    "    i = 0\n",
    "    while count < nVertices-1:\n",
    "        currEdge = edges[i]\n",
    "        srcParent = getParent(currEdge.src,parentMat)\n",
    "        destParent = getParent(currEdge.dest,parentMat)\n",
    "        \n",
    "        if srcParent != destParent:\n",
    "            output.append(currEdge)\n",
    "            count+=1\n",
    "            parentMat[srcParent] = destParent\n",
    "        i+=1\n",
    "        \n",
    "    \n",
    "    \n",
    "    \n",
    "res = kuskal(edges,nVertices)"
   ]
  }
 ],
 "metadata": {
  "kernelspec": {
   "display_name": "Python 3",
   "language": "python",
   "name": "python3"
  },
  "language_info": {
   "codemirror_mode": {
    "name": "ipython",
    "version": 3
   },
   "file_extension": ".py",
   "mimetype": "text/x-python",
   "name": "python",
   "nbconvert_exporter": "python",
   "pygments_lexer": "ipython3",
   "version": "3.9.1"
  }
 },
 "nbformat": 4,
 "nbformat_minor": 5
}
