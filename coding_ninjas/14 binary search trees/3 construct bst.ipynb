{
 "cells": [
  {
   "cell_type": "code",
   "execution_count": 3,
   "id": "comfortable-basic",
   "metadata": {},
   "outputs": [],
   "source": [
    "import queue\n",
    "class binarytree:\n",
    "    def __init__(self,data):\n",
    "        self.data = data\n",
    "        self.left = None\n",
    "        self.right = None\n",
    "        \n",
    "def takeinput():\n",
    "    print('enter root of tree')\n",
    "    rootdata = int(input())\n",
    "    if rootdata == -1:\n",
    "        return None\n",
    "    root = binarytree(rootdata)\n",
    "    qu = queue.Queue()\n",
    "    qu.put(root)\n",
    "    while not qu.empty():\n",
    "        current = qu.get()\n",
    "        print('enter left child of',current.data)\n",
    "        leftchilddata = int(input())\n",
    "        if leftchilddata!=-1:\n",
    "            leftchild = binarytree(leftchilddata)\n",
    "            current.left = leftchild\n",
    "            qu.put(leftchild)\n",
    "        print('enter right child of',current.data)\n",
    "        rightchilddata = int(input())\n",
    "        if rightchilddata!=-1:\n",
    "            rightchild = binarytree(rightchilddata)\n",
    "            current.right = rightchild\n",
    "            qu.put(rightchild)\n",
    "    return root\n",
    "\n",
    "def leveltraversal(root):\n",
    "    qu = queue.Queue()\n",
    "    if root == None:\n",
    "        return\n",
    "    qu.put(root)\n",
    "    qu.put('NULL')\n",
    "    while not qu.empty():\n",
    "        current = qu.get()\n",
    "        if current!='NULL':\n",
    "            print(current.data,end=' ')\n",
    "            if current.left!=None:\n",
    "                qu.put(current.left)\n",
    "            if current.right!=None:\n",
    "                qu.put(current.right)\n",
    "        else:\n",
    "            if qu.empty():\n",
    "                return\n",
    "            else:\n",
    "                qu.put('NULL')\n",
    "                print()\n",
    "\n",
    "    return"
   ]
  },
  {
   "cell_type": "code",
   "execution_count": 4,
   "id": "collected-government",
   "metadata": {},
   "outputs": [],
   "source": [
    "def constructbst(arraysorted):\n",
    "    if len(arraysorted)==0:\n",
    "        return None\n",
    "    if len(arraysorted)%2!=0:\n",
    "        midindex  = int(len(arraysorted)/2)\n",
    "    else:\n",
    "        midindex  = int(len(arraysorted)/2)-1\n",
    "    root = binarytree(arraysorted[midindex])\n",
    "    leftroot = constructbst(arraysorted[0:midindex])\n",
    "    rightroot = constructbst(arraysorted[midindex+1:])\n",
    "    root.left = leftroot\n",
    "    root.right = rightroot\n",
    "    return root"
   ]
  },
  {
   "cell_type": "code",
   "execution_count": 5,
   "id": "flexible-banking",
   "metadata": {},
   "outputs": [
    {
     "name": "stdout",
     "output_type": "stream",
     "text": [
      "4 \n",
      "2 6 \n",
      "1 3 5 7 \n",
      "8 "
     ]
    }
   ],
   "source": [
    "array = [1,2,3,4,5,6,7,8]\n",
    "rahul = constructbst(array)\n",
    "leveltraversal(rahul)"
   ]
  },
  {
   "cell_type": "code",
   "execution_count": null,
   "id": "secret-standard",
   "metadata": {},
   "outputs": [],
   "source": [
    "array = [1,2,3,4]\n",
    "print(array[3:])"
   ]
  },
  {
   "cell_type": "code",
   "execution_count": null,
   "id": "gross-saudi",
   "metadata": {},
   "outputs": [],
   "source": []
  }
 ],
 "metadata": {
  "kernelspec": {
   "display_name": "Python 3",
   "language": "python",
   "name": "python3"
  },
  "language_info": {
   "codemirror_mode": {
    "name": "ipython",
    "version": 3
   },
   "file_extension": ".py",
   "mimetype": "text/x-python",
   "name": "python",
   "nbconvert_exporter": "python",
   "pygments_lexer": "ipython3",
   "version": "3.9.1"
  }
 },
 "nbformat": 4,
 "nbformat_minor": 5
}
