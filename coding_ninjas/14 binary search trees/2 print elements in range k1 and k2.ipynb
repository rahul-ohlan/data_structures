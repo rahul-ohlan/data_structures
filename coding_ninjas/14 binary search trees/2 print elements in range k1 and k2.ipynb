{
 "cells": [
  {
   "cell_type": "code",
   "execution_count": 1,
   "id": "difficult-latex",
   "metadata": {},
   "outputs": [],
   "source": [
    "import queue\n",
    "class binarytree:\n",
    "    def __init__(self,data):\n",
    "        self.data = data\n",
    "        self.left = None\n",
    "        self.right = None\n",
    "        \n",
    "def takeinput():\n",
    "    print('enter root of tree')\n",
    "    rootdata = int(input())\n",
    "    if rootdata == -1:\n",
    "        return None\n",
    "    root = binarytree(rootdata)\n",
    "    qu = queue.Queue()\n",
    "    qu.put(root)\n",
    "    while not qu.empty():\n",
    "        current = qu.get()\n",
    "        print('enter left child of',current.data)\n",
    "        leftchilddata = int(input())\n",
    "        if leftchilddata!=-1:\n",
    "            leftchild = binarytree(leftchilddata)\n",
    "            current.left = leftchild\n",
    "            qu.put(leftchild)\n",
    "        print('enter right child of',current.data)\n",
    "        rightchilddata = int(input())\n",
    "        if rightchilddata!=-1:\n",
    "            rightchild = binarytree(rightchilddata)\n",
    "            current.right = rightchild\n",
    "            qu.put(rightchild)\n",
    "    return root\n",
    "\n",
    "def leveltraversal(root):\n",
    "    qu = queue.Queue()\n",
    "    if root == None:\n",
    "        return\n",
    "    qu.put(root)\n",
    "    qu.put('NULL')\n",
    "    while not qu.empty():\n",
    "        current = qu.get()\n",
    "        if current!='NULL':\n",
    "            print(current.data,end=' ')\n",
    "            if current.left!=None:\n",
    "                qu.put(current.left)\n",
    "            if current.right!=None:\n",
    "                qu.put(current.right)\n",
    "        else:\n",
    "            if qu.empty():\n",
    "                return\n",
    "            else:\n",
    "                qu.put('NULL')\n",
    "                print()\n",
    "\n",
    "    return\n",
    "                "
   ]
  },
  {
   "cell_type": "code",
   "execution_count": 9,
   "id": "acoustic-irrigation",
   "metadata": {},
   "outputs": [],
   "source": [
    "def printnodesinrange(root,k1,k2):\n",
    "    if root==None:\n",
    "        return\n",
    "    if k2<root.data:\n",
    "        printnodesinrange(root.left,k1,k2)\n",
    "    elif k1<root.data:\n",
    "        printnodesinrange(root.left,k1,k2)\n",
    "        print(root.data,end=' ')\n",
    "        printnodesinrange(root.right,k1,k2)\n",
    "        \n",
    "    else:\n",
    "        if k1==root.data:\n",
    "            print(root.data,end=' ')\n",
    "        printnodesinrange(root.right,k1,k2)\n",
    "    return\n",
    "\n"
   ]
  },
  {
   "cell_type": "code",
   "execution_count": 13,
   "id": "unexpected-baker",
   "metadata": {},
   "outputs": [
    {
     "name": "stdout",
     "output_type": "stream",
     "text": [
      "enter root of tree\n",
      "4\n",
      "enter left child of 4\n",
      "-1\n",
      "enter right child of 4\n",
      "-1\n",
      "4 "
     ]
    }
   ],
   "source": [
    "rahul = takeinput()\n",
    "printnodesinrange(rahul,4,4)"
   ]
  },
  {
   "cell_type": "code",
   "execution_count": null,
   "id": "coated-lambda",
   "metadata": {},
   "outputs": [],
   "source": []
  }
 ],
 "metadata": {
  "kernelspec": {
   "display_name": "Python 3",
   "language": "python",
   "name": "python3"
  },
  "language_info": {
   "codemirror_mode": {
    "name": "ipython",
    "version": 3
   },
   "file_extension": ".py",
   "mimetype": "text/x-python",
   "name": "python",
   "nbconvert_exporter": "python",
   "pygments_lexer": "ipython3",
   "version": "3.9.1"
  }
 },
 "nbformat": 4,
 "nbformat_minor": 5
}
