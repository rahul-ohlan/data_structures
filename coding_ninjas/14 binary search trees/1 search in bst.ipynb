{
 "cells": [
  {
   "cell_type": "code",
   "execution_count": 6,
   "id": "plastic-harris",
   "metadata": {},
   "outputs": [],
   "source": [
    "import queue\n",
    "class binarytree:\n",
    "    def __init__(self,data):\n",
    "        self.data = data\n",
    "        self.left = None\n",
    "        self.right = None\n",
    "        \n",
    "def takeinput():\n",
    "    print('enter root of tree')\n",
    "    rootdata = int(input())\n",
    "    if rootdata == -1:\n",
    "        return None\n",
    "    root = binarytree(rootdata)\n",
    "    qu = queue.Queue()\n",
    "    qu.put(root)\n",
    "    while not qu.empty():\n",
    "        current = qu.get()\n",
    "        print('enter left child of',current.data)\n",
    "        leftchilddata = int(input())\n",
    "        if leftchilddata!=-1:\n",
    "            leftchild = binarytree(leftchilddata)\n",
    "            current.left = leftchild\n",
    "            qu.put(leftchild)\n",
    "        print('enter right child of',current.data)\n",
    "        rightchilddata = int(input())\n",
    "        if rightchilddata!=-1:\n",
    "            rightchild = binarytree(rightchilddata)\n",
    "            current.right = rightchild\n",
    "            qu.put(rightchild)\n",
    "    return root\n",
    "\n",
    "def leveltraversal(root):\n",
    "    qu = queue.Queue()\n",
    "    if root == None:\n",
    "        return\n",
    "    qu.put(root)\n",
    "    qu.put('NULL')\n",
    "    while not qu.empty():\n",
    "        current = qu.get()\n",
    "        if current!='NULL':\n",
    "            print(current.data,end=' ')\n",
    "            if current.left!=None:\n",
    "                qu.put(current.left)\n",
    "            if current.right!=None:\n",
    "                qu.put(current.right)\n",
    "        else:\n",
    "            if qu.empty():\n",
    "                return\n",
    "            else:\n",
    "                qu.put('NULL')\n",
    "                print()\n",
    "\n",
    "    return\n",
    "                "
   ]
  },
  {
   "cell_type": "code",
   "execution_count": 10,
   "id": "acceptable-annual",
   "metadata": {},
   "outputs": [],
   "source": [
    "def searchbst(root,x):\n",
    "    if root==None:\n",
    "        return\n",
    "    if root.data==x:\n",
    "        return True\n",
    "    if x<root.data:\n",
    "        return searchbst(root.left,x)\n",
    "    else:\n",
    "        return searchbst(root.right,x)\n",
    "    "
   ]
  },
  {
   "cell_type": "code",
   "execution_count": 13,
   "id": "changing-distance",
   "metadata": {},
   "outputs": [
    {
     "name": "stdout",
     "output_type": "stream",
     "text": [
      "enter root of tree\n",
      "4\n",
      "enter left child of 4\n",
      "2\n",
      "enter right child of 4\n",
      "6\n",
      "enter left child of 2\n",
      "1\n",
      "enter right child of 2\n",
      "3\n",
      "enter left child of 6\n",
      "-1\n",
      "enter right child of 6\n",
      "-1\n",
      "enter left child of 1\n",
      "-1\n",
      "enter right child of 1\n",
      "-1\n",
      "enter left child of 3\n",
      "-1\n",
      "enter right child of 3\n",
      "-1\n",
      "4 \n",
      "2 6 \n",
      "1 3 "
     ]
    },
    {
     "data": {
      "text/plain": [
       "True"
      ]
     },
     "execution_count": 13,
     "metadata": {},
     "output_type": "execute_result"
    }
   ],
   "source": [
    "rahul = takeinput()\n",
    "leveltraversal(rahul)\n",
    "searchbst(rahul,3)"
   ]
  },
  {
   "cell_type": "code",
   "execution_count": null,
   "id": "german-fellowship",
   "metadata": {},
   "outputs": [],
   "source": []
  }
 ],
 "metadata": {
  "kernelspec": {
   "display_name": "Python 3",
   "language": "python",
   "name": "python3"
  },
  "language_info": {
   "codemirror_mode": {
    "name": "ipython",
    "version": 3
   },
   "file_extension": ".py",
   "mimetype": "text/x-python",
   "name": "python",
   "nbconvert_exporter": "python",
   "pygments_lexer": "ipython3",
   "version": "3.9.1"
  }
 },
 "nbformat": 4,
 "nbformat_minor": 5
}
