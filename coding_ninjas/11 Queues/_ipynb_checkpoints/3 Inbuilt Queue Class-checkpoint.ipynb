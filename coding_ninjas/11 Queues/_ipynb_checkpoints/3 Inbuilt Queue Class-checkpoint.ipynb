{
 "cells": [
  {
   "cell_type": "code",
   "execution_count": 5,
   "id": "prospective-cyprus",
   "metadata": {},
   "outputs": [
    {
     "name": "stdout",
     "output_type": "stream",
     "text": [
      "1\n",
      "2\n",
      "3\n",
      "rahul\n",
      "vanilla\n",
      "michigan\n"
     ]
    }
   ],
   "source": [
    "import queue\n",
    "\n",
    "q = queue.Queue()\n",
    "q.put(1)\n",
    "q.put(2)\n",
    "q.put(3)\n",
    "q.put('rahul')\n",
    "\n",
    "while not q.empty():\n",
    "    print(q.get())\n",
    "    \n",
    "m = queue.LifoQueue()\n",
    "m.put('michigan')\n",
    "m.put('vanilla')\n",
    "m.put('scorio')\n",
    "\n",
    "m.get()\n",
    "while not m.empty():\n",
    "    print(m.get())"
   ]
  },
  {
   "cell_type": "code",
   "execution_count": null,
   "id": "english-encyclopedia",
   "metadata": {},
   "outputs": [],
   "source": []
  }
 ],
 "metadata": {
  "kernelspec": {
   "display_name": "Python 3",
   "language": "python",
   "name": "python3"
  },
  "language_info": {
   "codemirror_mode": {
    "name": "ipython",
    "version": 3
   },
   "file_extension": ".py",
   "mimetype": "text/x-python",
   "name": "python",
   "nbconvert_exporter": "python",
   "pygments_lexer": "ipython3",
   "version": "3.9.1"
  }
 },
 "nbformat": 4,
 "nbformat_minor": 5
}
