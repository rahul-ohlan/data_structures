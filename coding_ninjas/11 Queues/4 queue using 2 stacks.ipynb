{
 "cells": [
  {
   "cell_type": "code",
   "execution_count": 21,
   "id": "removed-allah",
   "metadata": {},
   "outputs": [],
   "source": [
    "# method 1 with O(1) enqueue and O(n) dequeue\n",
    "class QueueUsingStacks:\n",
    "    def __init__(self):\n",
    "        self.__stk1 = []\n",
    "        self.__stk2 = []\n",
    "        \n",
    "    def enqueue(self,data):\n",
    "        self.__stk1.append(data)\n",
    "        \n",
    "    def dequeue(self):\n",
    "        if not self.__stk1:\n",
    "            return \"can't dequeue! queue is empty\"\n",
    "        elif len(self.__stk1)==1:\n",
    "            return self.__stk1.pop()\n",
    "        else:\n",
    "            i = len(self.__stk1)-1\n",
    "            while i>0:\n",
    "                self.__stk2.append(self.__stk1.pop())\n",
    "                i-=1\n",
    "            element = self.__stk1.pop()\n",
    "            j = len(self.__stk2)-1\n",
    "            while j>=0:\n",
    "                self.__stk1.append(self.__stk2.pop())\n",
    "                j-=1\n",
    "            return element\n",
    "    def front(self):\n",
    "        if not self.__stk1:\n",
    "            return \"no element at front! queue is empty\"\n",
    "        else:\n",
    "            return self.__stk1[0]\n",
    "    def size(self):\n",
    "        return len(self.__stk1)\n",
    "    def isEmpty(self):\n",
    "        return self.size() == 0\n",
    "        "
   ]
  },
  {
   "cell_type": "code",
   "execution_count": 24,
   "id": "cosmetic-garage",
   "metadata": {},
   "outputs": [
    {
     "name": "stdout",
     "output_type": "stream",
     "text": [
      "4\n",
      "rahul\n",
      "3\n",
      "likes\n",
      "2\n",
      "to\n",
      "1\n",
      "hike\n",
      "0\n"
     ]
    }
   ],
   "source": [
    "rahul = QueueUsingStacks()\n",
    "rahul.enqueue('rahul')\n",
    "rahul.enqueue('likes')\n",
    "rahul.enqueue('to')\n",
    "rahul.enqueue('hike')\n",
    "print(rahul.size())\n",
    "while not rahul.isEmpty():\n",
    "    print(rahul.dequeue())\n",
    "    print(rahul.size())"
   ]
  },
  {
   "cell_type": "code",
   "execution_count": 27,
   "id": "figured-azerbaijan",
   "metadata": {},
   "outputs": [],
   "source": [
    "# MEthod 02: for enqueue O(n) and dequeue O(1)\n",
    "class queuefromstacks:\n",
    "    def __init__(self):\n",
    "        self.__s1 = list()\n",
    "        self.__s2 = list()\n",
    "    def Enqueue(self,data):\n",
    "        if not self.__s1:\n",
    "            self.__s1.append(data)\n",
    "        else:\n",
    "            for i in range(len(self.__s1)):\n",
    "                self.__s2.append(self.__s1.pop())\n",
    "            self.__s1.append(data)\n",
    "            for i in range(len(self.__s2)):\n",
    "                self.__s1.append(self.__s2.pop())\n",
    "    def Dequeue(self):\n",
    "        if not self.__s1:\n",
    "            return \"sorry! can't dequeue. Queue is empty!\"\n",
    "        else:\n",
    "            element = self.__s1.pop()\n",
    "            return element\n",
    "    def Front(self):\n",
    "        if not self.__s1:\n",
    "            return \" nothing in front, empty queue\"\n",
    "        else:\n",
    "            return self.__s1[-1]\n",
    "    def Size(self):\n",
    "        return len(self.__s1)\n",
    "    def isEmpty(self):\n",
    "        return self.Size() == 0\n",
    "            \n",
    "                \n",
    "        "
   ]
  },
  {
   "cell_type": "code",
   "execution_count": 32,
   "id": "electronic-grain",
   "metadata": {},
   "outputs": [
    {
     "name": "stdout",
     "output_type": "stream",
     "text": [
      "3\n",
      "mountains\n",
      "2\n",
      "5\n",
      "are\n",
      "great\n",
      "rock\n",
      "is\n",
      "great\n"
     ]
    }
   ],
   "source": [
    "kill = queuefromstacks()\n",
    "kill.Enqueue('mountains')\n",
    "kill.Enqueue('are')\n",
    "kill.Enqueue('great')\n",
    "print(kill.Size())\n",
    "print(kill.Dequeue())\n",
    "print(kill.Size())\n",
    "kill.Enqueue('rock')\n",
    "kill.Enqueue('is')\n",
    "kill.Enqueue('great')\n",
    "print(kill.Size())\n",
    "while not kill.isEmpty():\n",
    "    print(kill.Dequeue())"
   ]
  },
  {
   "cell_type": "code",
   "execution_count": null,
   "id": "going-planner",
   "metadata": {},
   "outputs": [],
   "source": []
  }
 ],
 "metadata": {
  "kernelspec": {
   "display_name": "Python 3",
   "language": "python",
   "name": "python3"
  },
  "language_info": {
   "codemirror_mode": {
    "name": "ipython",
    "version": 3
   },
   "file_extension": ".py",
   "mimetype": "text/x-python",
   "name": "python",
   "nbconvert_exporter": "python",
   "pygments_lexer": "ipython3",
   "version": "3.9.1"
  }
 },
 "nbformat": 4,
 "nbformat_minor": 5
}
