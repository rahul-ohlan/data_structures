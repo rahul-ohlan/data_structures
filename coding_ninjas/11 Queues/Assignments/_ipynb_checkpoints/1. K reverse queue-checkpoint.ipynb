{
 "cells": [
  {
   "cell_type": "code",
   "execution_count": null,
   "id": "passive-vitamin",
   "metadata": {},
   "outputs": [],
   "source": [
    "# METHOD 1: jUgaad"
   ]
  },
  {
   "cell_type": "code",
   "execution_count": null,
   "id": "fitted-attempt",
   "metadata": {},
   "outputs": [],
   "source": [
    "import queue\n",
    "def reverseKElements(inputQueue, k) :\n",
    "    if k==0 or k==1:\n",
    "        return inputQueue\n",
    "    qu2 = queue.Queue()\n",
    "    stack = []\n",
    "    i = 0 \n",
    "    while i<k:\n",
    "        stack.append(inputQueue.get())\n",
    "        i+=1\n",
    "    while len(stack)!=0:\n",
    "        qu2.put(stack.pop())\n",
    "    while inputQueue.qsize()!=0:\n",
    "        qu2.put(inputQueue.get())\n",
    "    return qu2\n",
    "    \n",
    "rahul = queue.Queue()\n",
    "arr = [x for x in input().split()]\n",
    "for item in arr:\n",
    "    rahul.put(item)\n",
    "    \n",
    "revQ = reverseKElements(rahul,3)\n",
    "while revQ.qsize!=0:\n",
    "    print(revQ.get(),end = ' ')"
   ]
  },
  {
   "cell_type": "code",
   "execution_count": 1,
   "id": "liable-inventory",
   "metadata": {},
   "outputs": [],
   "source": [
    "# Method 2: Proper Method"
   ]
  },
  {
   "cell_type": "code",
   "execution_count": 31,
   "id": "concrete-retirement",
   "metadata": {},
   "outputs": [
    {
     "name": "stdout",
     "output_type": "stream",
     "text": [
      "1 2 3 4 5 6 7 8 9\n",
      "8 9 7 6 5 4 3 2 1 "
     ]
    }
   ],
   "source": [
    "import queue\n",
    "\n",
    "# def reverseQ_(que,k):\n",
    "    \n",
    "    \n",
    "def reverseQ(que,k):\n",
    "    if que.qsize()==k-1:\n",
    "        return que\n",
    "    first = que.get()\n",
    "    upQ = reverseQ(que,k)\n",
    "    upQ.put(first)\n",
    "\n",
    "    return upQ\n",
    "#     newQ = reverseQ(que,k)\n",
    "#     return newQ\n",
    "\n",
    "rahul = queue.Queue()\n",
    "array = input().split()\n",
    "for item in array:\n",
    "    rahul.put(item)\n",
    "new = reverseQ(rahul,3)\n",
    "while new.qsize()!=0:\n",
    "    print(new.get(),end = ' ')\n"
   ]
  },
  {
   "cell_type": "code",
   "execution_count": null,
   "id": "cubic-collaboration",
   "metadata": {},
   "outputs": [],
   "source": []
  }
 ],
 "metadata": {
  "kernelspec": {
   "display_name": "Python 3",
   "language": "python",
   "name": "python3"
  },
  "language_info": {
   "codemirror_mode": {
    "name": "ipython",
    "version": 3
   },
   "file_extension": ".py",
   "mimetype": "text/x-python",
   "name": "python",
   "nbconvert_exporter": "python",
   "pygments_lexer": "ipython3",
   "version": "3.9.1"
  }
 },
 "nbformat": 4,
 "nbformat_minor": 5
}
