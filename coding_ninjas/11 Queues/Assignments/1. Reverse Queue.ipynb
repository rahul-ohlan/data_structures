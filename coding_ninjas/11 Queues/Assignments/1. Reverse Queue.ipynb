{
 "cells": [
  {
   "cell_type": "code",
   "execution_count": 2,
   "id": "serious-cisco",
   "metadata": {},
   "outputs": [],
   "source": [
    "from sys import setrecursionlimit\n",
    "import queue\n",
    "setrecursionlimit(10**6)\n",
    "\n",
    "def reverseQueue(inputQueue):\n",
    "    if inputQueue.qsize == 1:\n",
    "        return\n",
    "    first = inputQueue.get()\n",
    "    reverseQueue(inputQueue)\n",
    "    inputQueue.put(first)\n",
    "    return inputQueue\n",
    "        "
   ]
  }
 ],
 "metadata": {
  "kernelspec": {
   "display_name": "Python 3",
   "language": "python",
   "name": "python3"
  },
  "language_info": {
   "codemirror_mode": {
    "name": "ipython",
    "version": 3
   },
   "file_extension": ".py",
   "mimetype": "text/x-python",
   "name": "python",
   "nbconvert_exporter": "python",
   "pygments_lexer": "ipython3",
   "version": "3.9.1"
  }
 },
 "nbformat": 4,
 "nbformat_minor": 5
}
