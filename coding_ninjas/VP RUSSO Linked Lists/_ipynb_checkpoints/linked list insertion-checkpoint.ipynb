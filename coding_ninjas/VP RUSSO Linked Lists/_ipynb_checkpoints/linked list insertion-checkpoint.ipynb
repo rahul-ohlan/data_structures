{
 "cells": [
  {
   "cell_type": "code",
   "execution_count": 9,
   "id": "beneficial-ceiling",
   "metadata": {},
   "outputs": [],
   "source": [
    "class Node:\n",
    "    def __init__(self,data):\n",
    "        self.data = data\n",
    "        self.next = None\n",
    "class LinkedList:\n",
    "    def __init__(self):\n",
    "        self.head = None\n",
    "        \n",
    "    def append(self,data):\n",
    "        newnode = Node(data)\n",
    "        if self.head is None:\n",
    "            self.head = newnode\n",
    "            return\n",
    "        tail = self.head\n",
    "        while tail.next is not None:\n",
    "            tail = tail.next\n",
    "        tail.next = newnode\n",
    "        \n",
    "    def prepend(self,data):\n",
    "        newnode = Node(data)\n",
    "        if self.head is None:\n",
    "            self.head = newnode\n",
    "            return\n",
    "        newnode.next = self.head\n",
    "        self.head = newnode\n",
    "        \n",
    "    def insert_before_node(self,data,key):\n",
    "        newnode = Node(data)\n",
    "        prev = None\n",
    "        curr_node = self.head\n",
    "        while curr_node is not None and curr_node.data!=key:\n",
    "            prev = curr_node\n",
    "            curr_node = curr_node.next\n",
    "        if curr_node:\n",
    "            newnode.next = curr_node\n",
    "            prev.next = newnode\n",
    "        else:\n",
    "            print('key not found')\n",
    "        \n",
    "    def printLL(self):\n",
    "        printer = self.head\n",
    "        while printer is not None:\n",
    "            print(printer.data, end = ' ')\n",
    "            printer = printer.next\n",
    "        print()"
   ]
  },
  {
   "cell_type": "code",
   "execution_count": 12,
   "id": "reverse-conflict",
   "metadata": {},
   "outputs": [
    {
     "name": "stdout",
     "output_type": "stream",
     "text": [
      "key not found\n",
      "rock R A H U L \n"
     ]
    }
   ],
   "source": [
    "llist = LinkedList()\n",
    "llist.append('R')\n",
    "llist.append('A')\n",
    "llist.append('H')\n",
    "llist.append('U')\n",
    "llist.append('L')\n",
    "llist.prepend('rock')\n",
    "llist.insert_before_node('nothing','M')\n",
    "llist.printLL()"
   ]
  },
  {
   "cell_type": "code",
   "execution_count": null,
   "id": "middle-skill",
   "metadata": {},
   "outputs": [],
   "source": []
  }
 ],
 "metadata": {
  "kernelspec": {
   "display_name": "Python 3",
   "language": "python",
   "name": "python3"
  },
  "language_info": {
   "codemirror_mode": {
    "name": "ipython",
    "version": 3
   },
   "file_extension": ".py",
   "mimetype": "text/x-python",
   "name": "python",
   "nbconvert_exporter": "python",
   "pygments_lexer": "ipython3",
   "version": "3.9.1"
  }
 },
 "nbformat": 4,
 "nbformat_minor": 5
}
