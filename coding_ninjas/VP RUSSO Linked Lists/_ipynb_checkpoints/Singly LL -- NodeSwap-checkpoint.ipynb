{
 "cells": [
  {
   "cell_type": "code",
   "execution_count": 1,
   "id": "jewish-roommate",
   "metadata": {},
   "outputs": [],
   "source": [
    "class Node:\n",
    "    def __init__(self,data):\n",
    "        self.data = data\n",
    "        self.next = None\n",
    "        \n",
    "class LinkedList:\n",
    "    def __init__(self):\n",
    "        self.head = None\n",
    "        \n",
    "    def printLL(self):\n",
    "        printer = self.head\n",
    "        while printer is not None:\n",
    "            print(printer.data,end=' ')\n",
    "            printer = printer.next\n",
    "        \n",
    "    def append(self,data):\n",
    "        newnode = Node(data)\n",
    "        if self.head is None:\n",
    "            self.head = newnode\n",
    "            return\n",
    "        tail = self.head\n",
    "        while tail.next is not None:\n",
    "            tail = tail.next\n",
    "        tail.next = newnode\n",
    "    def swap_nodes(self,key_1,key_2):\n",
    "#         print('rahul')\n",
    "        if key_1 == key_2:\n",
    "            return\n",
    "        prev1 = None\n",
    "        curr1 = self.head\n",
    "#         print('rahul')\n",
    "        while curr1 is not None and curr1.data!=key_1:\n",
    "            prev1 = curr1\n",
    "            curr1 = curr1.next\n",
    "        prev2 = None\n",
    "        curr2 = self.head\n",
    "        while curr2 is not None and curr2.data!=key_2:\n",
    "            prev2 = curr2\n",
    "            curr2 = curr2.next\n",
    "        if curr1 is None or curr2 is None:\n",
    "            return\n",
    "        if prev1:\n",
    "            prev1.next = curr2\n",
    "        else:\n",
    "            self.head = curr2\n",
    "        if prev2:\n",
    "            prev2.next = curr1\n",
    "        else:\n",
    "            self.head = curr1\n",
    "            \n",
    "        curr1.next,curr2.next = curr2.next,curr1.next\n",
    "#         print('rahul')"
   ]
  },
  {
   "cell_type": "code",
   "execution_count": 2,
   "id": "verbal-affiliation",
   "metadata": {},
   "outputs": [
    {
     "name": "stdout",
     "output_type": "stream",
     "text": [
      "3 2 1 4 "
     ]
    }
   ],
   "source": [
    "liza = LinkedList()\n",
    "liza.append(1)\n",
    "liza.append(2)\n",
    "liza.append(3)\n",
    "liza.append(4)\n",
    "liza.swap_nodes(1,3)\n",
    "liza.printLL()"
   ]
  },
  {
   "cell_type": "code",
   "execution_count": null,
   "id": "hispanic-rebate",
   "metadata": {},
   "outputs": [],
   "source": []
  }
 ],
 "metadata": {
  "kernelspec": {
   "display_name": "Python 3",
   "language": "python",
   "name": "python3"
  },
  "language_info": {
   "codemirror_mode": {
    "name": "ipython",
    "version": 3
   },
   "file_extension": ".py",
   "mimetype": "text/x-python",
   "name": "python",
   "nbconvert_exporter": "python",
   "pygments_lexer": "ipython3",
   "version": "3.9.1"
  }
 },
 "nbformat": 4,
 "nbformat_minor": 5
}
