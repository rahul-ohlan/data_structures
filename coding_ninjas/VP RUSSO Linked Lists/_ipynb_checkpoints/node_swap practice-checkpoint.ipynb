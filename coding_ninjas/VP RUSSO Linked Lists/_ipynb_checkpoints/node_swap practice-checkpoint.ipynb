{
 "cells": [
  {
   "cell_type": "code",
   "execution_count": 17,
   "id": "intimate-praise",
   "metadata": {},
   "outputs": [],
   "source": [
    "class createNode:\n",
    "    def __init__(self,data):\n",
    "        self.data = data\n",
    "        self.next = None\n",
    "\n",
    "def takeinput():\n",
    "    array = [x for x in input().split()]\n",
    "    head = None\n",
    "    tail = None\n",
    "    for item in array:\n",
    "        newnode = createNode(item)\n",
    "\n",
    "        if head is None:\n",
    "            head = newnode\n",
    "            tail = newnode\n",
    "        else:\n",
    "            tail.next = newnode\n",
    "            tail = tail.next\n",
    "    return head\n",
    "\n",
    "def printlinkedlist(head):\n",
    "    if head is None:\n",
    "        return\n",
    "    current = head\n",
    "    while current is not None:\n",
    "        print(current.data,end='-> ')\n",
    "        current = current.next\n",
    "    print('None')\n",
    "    \n",
    "def swapnodes(head,i,j):\n",
    "    if i==j:\n",
    "        return \n",
    "    prev_i = None\n",
    "    curr_i = head\n",
    "    while curr_i !=None:\n",
    "        if curr_i.data == i:\n",
    "            break\n",
    "        prev_i = curr_i\n",
    "        curr_i = curr_i.next\n",
    "    else:\n",
    "        print(i,'not present in linked list')\n",
    "        return head\n",
    "    \n",
    "    prev_j = None\n",
    "    curr_j = head\n",
    "    while curr_j !=None:\n",
    "        if curr_j.data == j:\n",
    "            break\n",
    "        prev_j = curr_j\n",
    "        curr_j = curr_j.next\n",
    "    else:\n",
    "        print(j,'not present in linked list')\n",
    "        return head\n",
    "    if prev_i:\n",
    "        prev_i.next = curr_j\n",
    "    else:\n",
    "        head = curr_j\n",
    "    if prev_j:\n",
    "        prev_j.next = curr_i\n",
    "    else:\n",
    "        head = curr_i\n",
    "    curr_i.next,curr_j.next = curr_j.next,curr_i.next\n",
    "    \n",
    "    return head"
   ]
  },
  {
   "cell_type": "code",
   "execution_count": 19,
   "id": "temporal-cowboy",
   "metadata": {},
   "outputs": [
    {
     "name": "stdout",
     "output_type": "stream",
     "text": [
      "a b c d e\n",
      "a-> b-> c-> d-> e-> None\n",
      "d-> b-> c-> a-> e-> None\n"
     ]
    }
   ],
   "source": [
    "llist = takeinput()\n",
    "printlinkedlist(llist)\n",
    "new = swapnodes(llist,'a','d')\n",
    "printlinkedlist(new)"
   ]
  },
  {
   "cell_type": "code",
   "execution_count": null,
   "id": "second-listening",
   "metadata": {},
   "outputs": [],
   "source": []
  }
 ],
 "metadata": {
  "kernelspec": {
   "display_name": "Python 3",
   "language": "python",
   "name": "python3"
  },
  "language_info": {
   "codemirror_mode": {
    "name": "ipython",
    "version": 3
   },
   "file_extension": ".py",
   "mimetype": "text/x-python",
   "name": "python",
   "nbconvert_exporter": "python",
   "pygments_lexer": "ipython3",
   "version": "3.9.1"
  }
 },
 "nbformat": 4,
 "nbformat_minor": 5
}
