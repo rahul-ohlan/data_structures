{
 "cells": [
  {
   "cell_type": "markdown",
   "id": "disabled-nothing",
   "metadata": {},
   "source": [
    "Polymorphism is ability to take multiple forms"
   ]
  },
  {
   "cell_type": "code",
   "execution_count": 11,
   "id": "decimal-saying",
   "metadata": {},
   "outputs": [
    {
     "name": "stdout",
     "output_type": "stream",
     "text": [
      "color: red\n",
      "topspeed: 150\n",
      "topspeed: 150\n",
      "numgears: 8\n",
      "isconvertible: False\n"
     ]
    }
   ],
   "source": [
    "class Vehicle:\n",
    "    def __init__(self,color,topspeed):\n",
    "        self.color = color\n",
    "#         private attributes specific to this class cannot be accessed in any other class as such\n",
    "#          Hence need to define functions to access or modify the properties, these function can be inherited in any class\n",
    "        self.__topspeed = topspeed\n",
    "    def getTopspeed(self):\n",
    "        return self.__topspeed\n",
    "    def setTopspeed(self,topspeed):\n",
    "        self.__topspeed = topspeed\n",
    "    def Print(self):\n",
    "        print('color:',self.color)\n",
    "        print('topspeed:',self.__topspeed)        \n",
    "        \n",
    "class Car(Vehicle):\n",
    "    def __init__(self,color,topspeed,numgears,isconvertible):\n",
    "#         properties are inherited using the super().+function name+(properties,porperties)\n",
    "        super().__init__(color,topspeed)\n",
    "        self.numgears = numgears\n",
    "        self.isconvertible = isconvertible\n",
    "    def Print(self):\n",
    "#         USING THE SUPER().+FUNCTION+Parenthesis to use the print function from vehicle class\n",
    "        super().Print()\n",
    "        print('topspeed:',self.getTopspeed())\n",
    "        print('numgears:',self.numgears)\n",
    "        print('isconvertible:',self.isconvertible)\n",
    "\n",
    "c = Car('red',150,8,False)\n",
    "c.Print()\n",
    "# print(c.numgears)\n",
    "# c.__dict__\n",
    "\n",
    "# v = Vehicle('black',18)\n",
    "# v.Print()"
   ]
  },
  {
   "cell_type": "code",
   "execution_count": null,
   "id": "packed-soundtrack",
   "metadata": {},
   "outputs": [],
   "source": []
  }
 ],
 "metadata": {
  "kernelspec": {
   "display_name": "Python 3",
   "language": "python",
   "name": "python3"
  },
  "language_info": {
   "codemirror_mode": {
    "name": "ipython",
    "version": 3
   },
   "file_extension": ".py",
   "mimetype": "text/x-python",
   "name": "python",
   "nbconvert_exporter": "python",
   "pygments_lexer": "ipython3",
   "version": "3.9.1"
  }
 },
 "nbformat": 4,
 "nbformat_minor": 5
}
