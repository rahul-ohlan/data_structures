{
 "cells": [
  {
   "cell_type": "code",
   "execution_count": 3,
   "id": "devoted-tunnel",
   "metadata": {},
   "outputs": [
    {
     "name": "stdout",
     "output_type": "stream",
     "text": [
      "color: red\n",
      "topspeed: 150\n",
      "numgears: 8\n",
      "isconvertible: False\n",
      "8\n"
     ]
    },
    {
     "data": {
      "text/plain": [
       "{'color': 'red',\n",
       " '_Vehicle__topspeed': 150,\n",
       " 'numgears': 8,\n",
       " 'isconvertible': False}"
      ]
     },
     "execution_count": 3,
     "metadata": {},
     "output_type": "execute_result"
    }
   ],
   "source": [
    "class Vehicle:\n",
    "    def __init__(self,color,topspeed):\n",
    "        self.color = color\n",
    "#         private attributes specific to this class cannot be accessed in any other class as such\n",
    "#          Hence need to define functions to change and modify the properties, these function can be inherited in any class\n",
    "        self.__topspeed = topspeed\n",
    "    def getTopspeed(self):\n",
    "        return self.__topspeed\n",
    "    def setTopspeed(self,topspeed):\n",
    "        self.__topspeed = topspeed\n",
    "    def print(self):\n",
    "        print('color:',self.color)\n",
    "        print('topspeed:',self.__topspeed)        \n",
    "        \n",
    "class Car(Vehicle):\n",
    "    def __init__(self,color,topspeed,numgears,isconvertible):\n",
    "#         properties are inherited using the super().+function name+(properties,porperties)\n",
    "        super().__init__(color,topspeed)\n",
    "        self.numgears = numgears\n",
    "        self.isconvertible = isconvertible\n",
    "    def PrintCars(self):\n",
    "#         USING THE SUPER().+FUNCTION+Parenthesis to use the print function from vehicle class\n",
    "        super().print()\n",
    "        print('numgears:',self.numgears)\n",
    "        print('isconvertible:',self.isconvertible)\n",
    "\n",
    "c = Car('red',150,8,False)\n",
    "c.PrintCars()\n",
    "print(c.numgears)\n",
    "c.__dict__"
   ]
  },
  {
   "cell_type": "code",
   "execution_count": null,
   "id": "instant-prison",
   "metadata": {},
   "outputs": [],
   "source": []
  }
 ],
 "metadata": {
  "kernelspec": {
   "display_name": "Python 3",
   "language": "python",
   "name": "python3"
  },
  "language_info": {
   "codemirror_mode": {
    "name": "ipython",
    "version": 3
   },
   "file_extension": ".py",
   "mimetype": "text/x-python",
   "name": "python",
   "nbconvert_exporter": "python",
   "pygments_lexer": "ipython3",
   "version": "3.9.1"
  }
 },
 "nbformat": 4,
 "nbformat_minor": 5
}
