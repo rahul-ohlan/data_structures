{
 "cells": [
  {
   "cell_type": "markdown",
   "id": "north-sheet",
   "metadata": {},
   "source": [
    "Having Multiple base classes or Parent Classes for children is known as MULTIPLE INHERITENCE"
   ]
  },
  {
   "cell_type": "code",
   "execution_count": null,
   "id": "level-fifteen",
   "metadata": {},
   "outputs": [],
   "source": [
    "# If same function is there in multiple parents and is called in child, the parent which is declared first in class \n",
    "# (x,y)\n",
    "# will be called: it's a matter of order of calling parents while defining the child class"
   ]
  },
  {
   "cell_type": "code",
   "execution_count": 4,
   "id": "divine-nursing",
   "metadata": {},
   "outputs": [
    {
     "name": "stdout",
     "output_type": "stream",
     "text": [
      "name of child is: ABC\n"
     ]
    }
   ],
   "source": [
    "class Mother:\n",
    "    def __init__(self):\n",
    "        self.name = 'ABC'\n",
    "    def Print(self):\n",
    "        print('Print of Mother called...')\n",
    "class Father:\n",
    "    def __init__(self):\n",
    "        self.name = 'XYZ'\n",
    "    def Print(self):\n",
    "        print('Print of Father called')\n",
    "class Child(Mother,Father):\n",
    "    def __init__(self):\n",
    "        super().__init__()\n",
    "    def PrintChild(self):\n",
    "        print('name of child is:',self.name)\n",
    "\n",
    "c = Child()\n",
    "c.PrintChild()\n"
   ]
  },
  {
   "cell_type": "code",
   "execution_count": null,
   "id": "prompt-chance",
   "metadata": {},
   "outputs": [],
   "source": []
  }
 ],
 "metadata": {
  "kernelspec": {
   "display_name": "Python 3",
   "language": "python",
   "name": "python3"
  },
  "language_info": {
   "codemirror_mode": {
    "name": "ipython",
    "version": 3
   },
   "file_extension": ".py",
   "mimetype": "text/x-python",
   "name": "python",
   "nbconvert_exporter": "python",
   "pygments_lexer": "ipython3",
   "version": "3.9.1"
  }
 },
 "nbformat": 4,
 "nbformat_minor": 5
}
