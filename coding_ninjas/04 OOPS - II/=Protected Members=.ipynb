{
 "cells": [
  {
   "cell_type": "code",
   "execution_count": 3,
   "id": "controversial-destruction",
   "metadata": {},
   "outputs": [],
   "source": [
    "# Adding a single underscore '_' before variable name after self, makes it a protected member"
   ]
  },
  {
   "cell_type": "code",
   "execution_count": 4,
   "id": "operational-patch",
   "metadata": {},
   "outputs": [],
   "source": [
    "# Protected members are just like public variables, absolutely no difference, just to inform the dev to refrain from \n",
    "# accessing it"
   ]
  },
  {
   "cell_type": "code",
   "execution_count": null,
   "id": "centered-track",
   "metadata": {},
   "outputs": [],
   "source": [
    "# Protected members are accessible everywhere, even in inheritence just like public variables"
   ]
  },
  {
   "cell_type": "code",
   "execution_count": 2,
   "id": "shaped-maple",
   "metadata": {},
   "outputs": [
    {
     "name": "stdout",
     "output_type": "stream",
     "text": [
      "8\n",
      "color: red\n",
      "topspeed: 180\n"
     ]
    },
    {
     "data": {
      "text/plain": [
       "{'color': 'red', '_topspeed': 150, 'numgears': 8, 'isconvertible': False}"
      ]
     },
     "execution_count": 2,
     "metadata": {},
     "output_type": "execute_result"
    }
   ],
   "source": [
    "class Vehicle:\n",
    "    def __init__(self,color,topspeed):\n",
    "        self.color = color\n",
    "#         private attributes specific to this class cannot be accessed in any other class as such\n",
    "#          Hence need to define functions to change and modify the properties, these function can be inherited in any class\n",
    "        self._topspeed = topspeed\n",
    "    def getTopspeed(self):\n",
    "        return self._topspeed\n",
    "    def setTopspeed(self,topspeed):\n",
    "        self._topspeed = topspeed\n",
    "    def Print(self):\n",
    "        print('color:',self.color)\n",
    "        print('topspeed:',self._topspeed)        \n",
    "        \n",
    "class Car(Vehicle):\n",
    "    def __init__(self,color,topspeed,numgears,isconvertible):\n",
    "#         properties are inherited using the super().+function name+(properties,porperties)\n",
    "        super().__init__(color,topspeed)\n",
    "        self.numgears = numgears\n",
    "        self.isconvertible = isconvertible\n",
    "    def Print(self):\n",
    "#         USING THE SUPER().+FUNCTION+Parenthesis to use the print function from vehicle class\n",
    "#         super().print()\n",
    "        print('color:',self.color)\n",
    "        print('topspeed:',self._topspeed)\n",
    "        print('numgears:',self.numgears)\n",
    "        print('isconvertible:',self.isconvertible)\n",
    "\n",
    "# c = Car('red',150,8,False)\n",
    "# c.Print()\n",
    "print(c.numgears)\n",
    "v = Vehicle('red',180)\n",
    "v.Print()\n",
    "c.__dict__"
   ]
  },
  {
   "cell_type": "code",
   "execution_count": null,
   "id": "assigned-springer",
   "metadata": {},
   "outputs": [],
   "source": []
  }
 ],
 "metadata": {
  "kernelspec": {
   "display_name": "Python 3",
   "language": "python",
   "name": "python3"
  },
  "language_info": {
   "codemirror_mode": {
    "name": "ipython",
    "version": 3
   },
   "file_extension": ".py",
   "mimetype": "text/x-python",
   "name": "python",
   "nbconvert_exporter": "python",
   "pygments_lexer": "ipython3",
   "version": "3.9.1"
  }
 },
 "nbformat": 4,
 "nbformat_minor": 5
}
