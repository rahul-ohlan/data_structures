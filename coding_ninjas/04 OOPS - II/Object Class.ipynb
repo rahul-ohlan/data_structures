{
 "cells": [
  {
   "cell_type": "code",
   "execution_count": 1,
   "id": "divine-harmony",
   "metadata": {},
   "outputs": [],
   "source": [
    "# These 3 functions are always inherited by default from an object class:\n",
    "#     1. __init__()\n",
    "#     2. __str__() : it's usage is described in next cell\n",
    "#     3. __new__()\n",
    "\n",
    "# class Circle(object): is same as class Circle()"
   ]
  },
  {
   "cell_type": "code",
   "execution_count": 3,
   "id": "ecological-enlargement",
   "metadata": {},
   "outputs": [
    {
     "name": "stdout",
     "output_type": "stream",
     "text": [
      "This is a Circle class which uses radius as an argument\n"
     ]
    }
   ],
   "source": [
    "class Circle(object):\n",
    "    def __init__(self,radius):\n",
    "        self.__radius = radius\n",
    "        \n",
    "    def __str__(self):\n",
    "        return 'This is a Circle class which uses radius as an argument'\n",
    "        \n",
    "c = Circle(3)\n",
    "print(c)"
   ]
  },
  {
   "cell_type": "code",
   "execution_count": null,
   "id": "social-lyric",
   "metadata": {},
   "outputs": [],
   "source": []
  }
 ],
 "metadata": {
  "kernelspec": {
   "display_name": "Python 3",
   "language": "python",
   "name": "python3"
  },
  "language_info": {
   "codemirror_mode": {
    "name": "ipython",
    "version": 3
   },
   "file_extension": ".py",
   "mimetype": "text/x-python",
   "name": "python",
   "nbconvert_exporter": "python",
   "pygments_lexer": "ipython3",
   "version": "3.9.1"
  }
 },
 "nbformat": 4,
 "nbformat_minor": 5
}
