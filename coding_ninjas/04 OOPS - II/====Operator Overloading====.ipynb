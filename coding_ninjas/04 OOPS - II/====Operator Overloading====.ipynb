{
 "cells": [
  {
   "cell_type": "code",
   "execution_count": 13,
   "id": "genetic-dinner",
   "metadata": {},
   "outputs": [
    {
     "ename": "AttributeError",
     "evalue": "'Point' object has no attribute '_Point__x'",
     "output_type": "error",
     "traceback": [
      "\u001b[1;31m---------------------------------------------------------------------------\u001b[0m",
      "\u001b[1;31mAttributeError\u001b[0m                            Traceback (most recent call last)",
      "\u001b[1;32m<ipython-input-13-857a031ff4fe>\u001b[0m in \u001b[0;36m<module>\u001b[1;34m\u001b[0m\n\u001b[0;32m     27\u001b[0m \u001b[0mp1\u001b[0m \u001b[1;33m=\u001b[0m \u001b[0mPoint\u001b[0m\u001b[1;33m(\u001b[0m\u001b[1;36m1\u001b[0m\u001b[1;33m,\u001b[0m\u001b[1;36m2\u001b[0m\u001b[1;33m)\u001b[0m\u001b[1;33m\u001b[0m\u001b[1;33m\u001b[0m\u001b[0m\n\u001b[0;32m     28\u001b[0m \u001b[0mp2\u001b[0m \u001b[1;33m=\u001b[0m \u001b[0mPoint\u001b[0m\u001b[1;33m(\u001b[0m\u001b[1;36m3\u001b[0m\u001b[1;33m,\u001b[0m\u001b[1;36m4\u001b[0m\u001b[1;33m)\u001b[0m\u001b[1;33m\u001b[0m\u001b[1;33m\u001b[0m\u001b[0m\n\u001b[1;32m---> 29\u001b[1;33m \u001b[0mp3\u001b[0m \u001b[1;33m=\u001b[0m \u001b[0mp1\u001b[0m \u001b[1;33m+\u001b[0m \u001b[0mp2\u001b[0m\u001b[1;33m\u001b[0m\u001b[1;33m\u001b[0m\u001b[0m\n\u001b[0m\u001b[0;32m     30\u001b[0m \u001b[0mprint\u001b[0m\u001b[1;33m(\u001b[0m\u001b[0mp3\u001b[0m\u001b[1;33m)\u001b[0m\u001b[1;33m\u001b[0m\u001b[1;33m\u001b[0m\u001b[0m\n\u001b[0;32m     31\u001b[0m \u001b[0mp3\u001b[0m\u001b[1;33m.\u001b[0m\u001b[0mx\u001b[0m\u001b[1;33m\u001b[0m\u001b[1;33m\u001b[0m\u001b[0m\n",
      "\u001b[1;32m<ipython-input-13-857a031ff4fe>\u001b[0m in \u001b[0;36m__add__\u001b[1;34m(first_object, second_object)\u001b[0m\n\u001b[0;32m     19\u001b[0m \u001b[1;33m\u001b[0m\u001b[0m\n\u001b[0;32m     20\u001b[0m     \u001b[1;32mdef\u001b[0m \u001b[0m__add__\u001b[0m\u001b[1;33m(\u001b[0m\u001b[0mfirst_object\u001b[0m\u001b[1;33m,\u001b[0m\u001b[0msecond_object\u001b[0m\u001b[1;33m)\u001b[0m\u001b[1;33m:\u001b[0m\u001b[1;33m\u001b[0m\u001b[1;33m\u001b[0m\u001b[0m\n\u001b[1;32m---> 21\u001b[1;33m         \u001b[1;32mreturn\u001b[0m \u001b[0mPoint\u001b[0m\u001b[1;33m(\u001b[0m\u001b[0mfirst_object\u001b[0m\u001b[1;33m.\u001b[0m\u001b[0m__x\u001b[0m \u001b[1;33m+\u001b[0m \u001b[0msecond_object\u001b[0m\u001b[1;33m.\u001b[0m\u001b[0m__x\u001b[0m\u001b[1;33m,\u001b[0m\u001b[0mfirst_object\u001b[0m\u001b[1;33m.\u001b[0m\u001b[0m__y\u001b[0m \u001b[1;33m+\u001b[0m \u001b[0msecond_object\u001b[0m\u001b[1;33m.\u001b[0m\u001b[0m__y\u001b[0m\u001b[1;33m)\u001b[0m\u001b[1;33m\u001b[0m\u001b[1;33m\u001b[0m\u001b[0m\n\u001b[0m\u001b[0;32m     22\u001b[0m \u001b[1;33m\u001b[0m\u001b[0m\n\u001b[0;32m     23\u001b[0m \u001b[1;33m\u001b[0m\u001b[0m\n",
      "\u001b[1;31mAttributeError\u001b[0m: 'Point' object has no attribute '_Point__x'"
     ]
    }
   ],
   "source": [
    "import math\n",
    "\n",
    "class Point:\n",
    "    \n",
    "    def __init__(self,x,y):\n",
    "        self.__x = x\n",
    "        self.__y = y\n",
    "        \n",
    "    def __str__(self):\n",
    "        \n",
    "        return \"This point is at (\" + str(self.__x) + \",\"+ str(self.__y) + \")\"\n",
    "    \n",
    "    \n",
    "    # these functions are used for adding objects\n",
    "    # __add__(self,pointobject) would take variables from two objects passed to class Point i.e p1 and p2\n",
    "    # p1 and p2, both get their respective self.x and self.y from init\n",
    "    # add function would take self.variables from p1 and pointobject.variables from p2 and return the result\n",
    "    # final results rest in self.__x and self.__y as in str function above\n",
    "    \n",
    "    def __add__(first_object,second_object):\n",
    "        return Point(first_object.__x + second_object.__x,first_object.__y + second_object.__y)\n",
    "    \n",
    "    \n",
    "    def __lt__(self,point_object):\n",
    "        return math.sqrt(self.__x**2+self.__y**2) < math.sqrt(point_object.__x**2+point_object.__y**2)\n",
    "    \n",
    "p1 = Point(1,2)\n",
    "p2 = Point(3,4)\n",
    "p3 = p1 + p2\n",
    "print(p3)\n",
    "print(p1<p2)"
   ]
  },
  {
   "cell_type": "code",
   "execution_count": null,
   "id": "smart-trout",
   "metadata": {},
   "outputs": [],
   "source": []
  }
 ],
 "metadata": {
  "kernelspec": {
   "display_name": "Python 3",
   "language": "python",
   "name": "python3"
  },
  "language_info": {
   "codemirror_mode": {
    "name": "ipython",
    "version": 3
   },
   "file_extension": ".py",
   "mimetype": "text/x-python",
   "name": "python",
   "nbconvert_exporter": "python",
   "pygments_lexer": "ipython3",
   "version": "3.9.1"
  }
 },
 "nbformat": 4,
 "nbformat_minor": 5
}
