{
 "cells": [
  {
   "cell_type": "code",
   "execution_count": 3,
   "id": "amended-franklin",
   "metadata": {},
   "outputs": [
    {
     "name": "stdout",
     "output_type": "stream",
     "text": [
      "color: red\n",
      "topspeed: 150\n",
      "numgears: 8\n",
      "isconvertible: False\n",
      "8\n"
     ]
    },
    {
     "data": {
      "text/plain": [
       "{'color': 'red', 'topspeed': 150, 'numgears': 8, 'isconvertible': False}"
      ]
     },
     "execution_count": 3,
     "metadata": {},
     "output_type": "execute_result"
    }
   ],
   "source": [
    "class Vehicle:\n",
    "    def __init__(self,color,topspeed):\n",
    "        self.color = color\n",
    "        self.topspeed = topspeed\n",
    "        \n",
    "class Car(Vehicle):\n",
    "    def __init__(self,color,topspeed,numgears,isconvertible):\n",
    "#         properties are inherited using the super().+function name+(properties,porperties)\n",
    "        super().__init__(color,topspeed)\n",
    "        self.numgears = numgears\n",
    "        self.isconvertible = isconvertible\n",
    "    def PrintCars(self):\n",
    "        print('color:',self.color)\n",
    "        print('topspeed:',self.topspeed)\n",
    "        print('numgears:',self.numgears)\n",
    "        print('isconvertible:',self.isconvertible)\n",
    "\n",
    "c = Car('red',150,8,False)\n",
    "c.PrintCars()\n",
    "print(c.numgears)\n",
    "c.__dict__"
   ]
  },
  {
   "cell_type": "code",
   "execution_count": null,
   "id": "arbitrary-thumbnail",
   "metadata": {},
   "outputs": [],
   "source": []
  }
 ],
 "metadata": {
  "kernelspec": {
   "display_name": "Python 3",
   "language": "python",
   "name": "python3"
  },
  "language_info": {
   "codemirror_mode": {
    "name": "ipython",
    "version": 3
   },
   "file_extension": ".py",
   "mimetype": "text/x-python",
   "name": "python",
   "nbconvert_exporter": "python",
   "pygments_lexer": "ipython3",
   "version": "3.9.1"
  }
 },
 "nbformat": 4,
 "nbformat_minor": 5
}
