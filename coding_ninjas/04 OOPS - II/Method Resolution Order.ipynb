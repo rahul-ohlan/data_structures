{
 "cells": [
  {
   "cell_type": "code",
   "execution_count": 5,
   "id": "combined-dealer",
   "metadata": {},
   "outputs": [
    {
     "name": "stdout",
     "output_type": "stream",
     "text": [
      "name of child is: Rahul\n",
      "[<class '__main__.Child'>, <class '__main__.Mother'>, <class '__main__.Father'>, <class '__main__.Aunt'>, <class 'object'>]\n"
     ]
    }
   ],
   "source": [
    "class Mother:\n",
    "    def __init__(self):\n",
    "        self.name = 'Manju'\n",
    "        super().__init__()\n",
    "    def Print(self):\n",
    "        print('Print of Mother called...')\n",
    "class Father:\n",
    "    def __init__(self):\n",
    "        self.name = 'Ashutosh'\n",
    "        super().__init__()\n",
    "    def Print(self):\n",
    "        print('Print of Father called')\n",
    "class Aunt:\n",
    "    def __init__(self):\n",
    "        self.name = 'Rahul'\n",
    "class Child(Mother,Father,Aunt):\n",
    "    def __init__(self):\n",
    "        super().__init__()\n",
    "    def Print(self):\n",
    "        print('name of child is:',self.name)\n",
    "\n",
    "c = Child()\n",
    "c.Print()\n",
    "print(Child.mro())\n"
   ]
  },
  {
   "cell_type": "code",
   "execution_count": 6,
   "id": "serial-crazy",
   "metadata": {},
   "outputs": [],
   "source": [
    "class X:\n",
    "    pass\n",
    "class Y:\n",
    "    pass\n",
    "class Z:\n",
    "    pass\n",
    "class A(X,Y):\n",
    "    pass\n",
    "class B(Y,Z):\n",
    "    pass\n",
    "class C(B,A,Y):\n",
    "    pass\n",
    "\n",
    "# What will be the Method Resolution Order of C ?? \n",
    "\n",
    "# CBAZXY "
   ]
  },
  {
   "cell_type": "code",
   "execution_count": null,
   "id": "fleet-watch",
   "metadata": {},
   "outputs": [],
   "source": []
  }
 ],
 "metadata": {
  "kernelspec": {
   "display_name": "Python 3",
   "language": "python",
   "name": "python3"
  },
  "language_info": {
   "codemirror_mode": {
    "name": "ipython",
    "version": 3
   },
   "file_extension": ".py",
   "mimetype": "text/x-python",
   "name": "python",
   "nbconvert_exporter": "python",
   "pygments_lexer": "ipython3",
   "version": "3.9.1"
  }
 },
 "nbformat": 4,
 "nbformat_minor": 5
}
