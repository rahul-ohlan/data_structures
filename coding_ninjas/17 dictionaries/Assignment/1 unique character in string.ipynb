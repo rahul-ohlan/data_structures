{
 "cells": [
  {
   "cell_type": "code",
   "execution_count": 15,
   "id": "educated-stadium",
   "metadata": {},
   "outputs": [],
   "source": [
    "def uniquechar(string):\n",
    "    if len(string) == 0:\n",
    "        return\n",
    "    freq = dict()\n",
    "    newstr = ''\n",
    "    for item in string:\n",
    "        freq[item] = freq.get(item,0) + 1\n",
    "        if freq[item]<2:\n",
    "            newstr+=item\n",
    "    return newstr\n",
    "    "
   ]
  },
  {
   "cell_type": "code",
   "execution_count": 16,
   "id": "documentary-lewis",
   "metadata": {},
   "outputs": [
    {
     "name": "stdout",
     "output_type": "stream",
     "text": [
      "enter the string: ababacd\n",
      "updated string: abcd\n"
     ]
    }
   ],
   "source": [
    "string = input('enter the string: ')\n",
    "print('updated string:',uniquechar(string))"
   ]
  },
  {
   "cell_type": "code",
   "execution_count": null,
   "id": "racial-contributor",
   "metadata": {},
   "outputs": [],
   "source": []
  }
 ],
 "metadata": {
  "kernelspec": {
   "display_name": "Python 3",
   "language": "python",
   "name": "python3"
  },
  "language_info": {
   "codemirror_mode": {
    "name": "ipython",
    "version": 3
   },
   "file_extension": ".py",
   "mimetype": "text/x-python",
   "name": "python",
   "nbconvert_exporter": "python",
   "pygments_lexer": "ipython3",
   "version": "3.9.1"
  }
 },
 "nbformat": 4,
 "nbformat_minor": 5
}
