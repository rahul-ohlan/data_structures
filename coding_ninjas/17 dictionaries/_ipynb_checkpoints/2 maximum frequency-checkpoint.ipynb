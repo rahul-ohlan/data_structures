{
 "cells": [
  {
   "cell_type": "code",
   "execution_count": 2,
   "id": "appreciated-debate",
   "metadata": {},
   "outputs": [],
   "source": [
    "# You are given an array of integers that contain numbers in random order. \n",
    "# Write a program to find and return the number which occurs the maximum times in the given input.\n",
    "# If two or more elements contend for the maximum frequency, \n",
    "# return the element which occurs in the array first"
   ]
  },
  {
   "cell_type": "code",
   "execution_count": 5,
   "id": "unexpected-updating",
   "metadata": {},
   "outputs": [],
   "source": [
    "def takeinput():\n",
    "    array = [int(x) for x in input().split()]\n",
    "    return array\n",
    "\n",
    "def maxfrequency(array):\n",
    "    if len(array)==0:\n",
    "        return 0\n",
    "    \n",
    "    freq = dict()\n",
    "    \n",
    "    for item in array:\n",
    "        freq[item] = freq.get(item,0) + 1\n",
    "        \n",
    "    maxfreq = -1000000\n",
    "        \n",
    "    for item in array:\n",
    "        if freq[item] > maxfreq:\n",
    "            maxfreq = freq[item]\n",
    "            outkey = item\n",
    "            \n",
    "    return outkey"
   ]
  },
  {
   "cell_type": "code",
   "execution_count": 6,
   "id": "sacred-devil",
   "metadata": {},
   "outputs": [
    {
     "name": "stdout",
     "output_type": "stream",
     "text": [
      "1 2 2 3 3 4 5\n",
      "2\n"
     ]
    }
   ],
   "source": [
    "rahul  = takeinput()\n",
    "print(maxfrequency(rahul))"
   ]
  },
  {
   "cell_type": "code",
   "execution_count": null,
   "id": "confident-champagne",
   "metadata": {},
   "outputs": [],
   "source": []
  }
 ],
 "metadata": {
  "kernelspec": {
   "display_name": "Python 3",
   "language": "python",
   "name": "python3"
  },
  "language_info": {
   "codemirror_mode": {
    "name": "ipython",
    "version": 3
   },
   "file_extension": ".py",
   "mimetype": "text/x-python",
   "name": "python",
   "nbconvert_exporter": "python",
   "pygments_lexer": "ipython3",
   "version": "3.9.1"
  }
 },
 "nbformat": 4,
 "nbformat_minor": 5
}
