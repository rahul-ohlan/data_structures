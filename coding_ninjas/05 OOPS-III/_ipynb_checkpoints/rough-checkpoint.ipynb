{
 "cells": [
  {
   "cell_type": "code",
   "execution_count": 1,
   "id": "linear-strategy",
   "metadata": {},
   "outputs": [
    {
     "ename": "TypeError",
     "evalue": "Can't instantiate abstract class B with abstract method fun2",
     "output_type": "error",
     "traceback": [
      "\u001b[1;31m---------------------------------------------------------------------------\u001b[0m",
      "\u001b[1;31mTypeError\u001b[0m                                 Traceback (most recent call last)",
      "\u001b[1;32m<ipython-input-1-8b2b957a0958>\u001b[0m in \u001b[0;36m<module>\u001b[1;34m\u001b[0m\n\u001b[0;32m     14\u001b[0m         \u001b[0mprint\u001b[0m\u001b[1;33m(\u001b[0m\u001b[1;34m'function 1 called'\u001b[0m\u001b[1;33m)\u001b[0m\u001b[1;33m\u001b[0m\u001b[1;33m\u001b[0m\u001b[0m\n\u001b[0;32m     15\u001b[0m \u001b[1;33m\u001b[0m\u001b[0m\n\u001b[1;32m---> 16\u001b[1;33m \u001b[0mo\u001b[0m \u001b[1;33m=\u001b[0m \u001b[0mB\u001b[0m\u001b[1;33m(\u001b[0m\u001b[1;33m)\u001b[0m\u001b[1;33m\u001b[0m\u001b[1;33m\u001b[0m\u001b[0m\n\u001b[0m\u001b[0;32m     17\u001b[0m \u001b[0mo\u001b[0m\u001b[1;33m.\u001b[0m\u001b[0mfun1\u001b[0m\u001b[1;33m(\u001b[0m\u001b[1;33m)\u001b[0m\u001b[1;33m\u001b[0m\u001b[1;33m\u001b[0m\u001b[0m\n",
      "\u001b[1;31mTypeError\u001b[0m: Can't instantiate abstract class B with abstract method fun2"
     ]
    }
   ],
   "source": [
    "from abc import ABC, abstractmethod\n",
    "class A(ABC):\n",
    "    \n",
    "    @abstractmethod\n",
    "    def fun1(self):\n",
    "        pass\n",
    "    @abstractmethod\n",
    "    def fun2(self):\n",
    "        pass\n",
    "    \n",
    "class B(A):\n",
    "    \n",
    "    def fun1(self):\n",
    "        print('function 1 called')\n",
    "    \n",
    "o = B()\n",
    "o.fun1()"
   ]
  },
  {
   "cell_type": "code",
   "execution_count": 2,
   "id": "detected-realtor",
   "metadata": {},
   "outputs": [
    {
     "name": "stdout",
     "output_type": "stream",
     "text": [
      "function 1 called\n"
     ]
    }
   ],
   "source": [
    "from abc import ABC,abstractmethod\n",
    "\n",
    "class A(ABC):\n",
    "    \n",
    "    @abstractmethod\n",
    "    def fun1(self):\n",
    "        pass\n",
    "    @abstractmethod\n",
    "    def fun2(self):\n",
    "        pass\n",
    "    \n",
    "class B(ABC):\n",
    "    \n",
    "    def fun1(self):\n",
    "        print('function 1 called')\n",
    "    def fun2(self):\n",
    "        print('function 2 called')\n",
    "        \n",
    "ob = B()\n",
    "ob.fun1()"
   ]
  },
  {
   "cell_type": "code",
   "execution_count": null,
   "id": "supported-philosophy",
   "metadata": {},
   "outputs": [],
   "source": [
    "from abc import ABC, abstractmethod\n",
    "\n",
    "class A(ABC):\n",
    "    \n",
    "    @abstractmethod\n",
    "    def fun1(self):\n",
    "        print('function of class A called')\n",
    "        \n",
    "    @abstractmethod\n",
    "    def fun2(self):\n",
    "        pass\n",
    "\n",
    "class B(A):\n",
    "    \n",
    "    def fun1(self):\n",
    "        print('function 1 called')\n",
    "    \n",
    "    def fun2(self):\n",
    "        print('function 2 called')\n",
    "        \n",
    "ob = B()\n",
    "ob.fun1()\n",
    "    "
   ]
  },
  {
   "cell_type": "code",
   "execution_count": 13,
   "id": "straight-needle",
   "metadata": {},
   "outputs": [
    {
     "name": "stdout",
     "output_type": "stream",
     "text": [
      "0\n",
      "sorry exception raised\n"
     ]
    }
   ],
   "source": [
    "class zerodenoerror(ZeroDivisionError):\n",
    "    pass\n",
    "a = int(input())\n",
    "try:\n",
    "    if a==0:\n",
    "        raise zerodenoerror(' do not enter zero')\n",
    "    print(a)\n",
    "\n",
    "except zerodenoerror:\n",
    "    print('sorry exception raised')\n",
    "    \n",
    "    \n",
    "except ZeroDivisionError:\n",
    "    print(' zerodeno inherits zerodiverror ')\n",
    "\n",
    "\n"
   ]
  },
  {
   "cell_type": "code",
   "execution_count": 11,
   "id": "acoustic-mainland",
   "metadata": {},
   "outputs": [
    {
     "name": "stdout",
     "output_type": "stream",
     "text": [
      "hello world zero deno raised\n"
     ]
    }
   ],
   "source": [
    "class zerodenoerror(Exception):\n",
    "    pass\n",
    "try:\n",
    "    a=10\n",
    "    b=0\n",
    "    if b==0:\n",
    "        raise zerodenoerror('zero deno no acceptable')\n",
    "    c = a/b\n",
    "except zerodenoerror:\n",
    "    print('hello world zero deno raised')\n",
    "except ZeroDivisionError:\n",
    "    print('zero div raises')"
   ]
  },
  {
   "cell_type": "code",
   "execution_count": null,
   "id": "funded-guitar",
   "metadata": {},
   "outputs": [],
   "source": []
  }
 ],
 "metadata": {
  "kernelspec": {
   "display_name": "Python 3",
   "language": "python",
   "name": "python3"
  },
  "language_info": {
   "codemirror_mode": {
    "name": "ipython",
    "version": 3
   },
   "file_extension": ".py",
   "mimetype": "text/x-python",
   "name": "python",
   "nbconvert_exporter": "python",
   "pygments_lexer": "ipython3",
   "version": "3.9.1"
  }
 },
 "nbformat": 4,
 "nbformat_minor": 5
}
