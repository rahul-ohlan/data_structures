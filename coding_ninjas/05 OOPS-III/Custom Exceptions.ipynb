{
 "cells": [
  {
   "cell_type": "code",
   "execution_count": 6,
   "id": "circular-count",
   "metadata": {
    "scrolled": true
   },
   "outputs": [
    {
     "name": "stdout",
     "output_type": "stream",
     "text": [
      "enter the numerator4\n",
      "enter the denominator0\n"
     ]
    },
    {
     "ename": "ZeroDenominatorError",
     "evalue": "Denominator Should NOT be ZERO",
     "output_type": "error",
     "traceback": [
      "\u001b[1;31m---------------------------------------------------------------------------\u001b[0m",
      "\u001b[1;31mZeroDenominatorError\u001b[0m                      Traceback (most recent call last)",
      "\u001b[1;32m<ipython-input-6-8da776889bfc>\u001b[0m in \u001b[0;36m<module>\u001b[1;34m\u001b[0m\n\u001b[0;32m     11\u001b[0m         \u001b[0mden\u001b[0m \u001b[1;33m=\u001b[0m \u001b[0mint\u001b[0m\u001b[1;33m(\u001b[0m\u001b[0mn\u001b[0m\u001b[1;33m)\u001b[0m\u001b[1;33m\u001b[0m\u001b[1;33m\u001b[0m\u001b[0m\n\u001b[0;32m     12\u001b[0m         \u001b[1;32mif\u001b[0m \u001b[0mden\u001b[0m\u001b[1;33m==\u001b[0m\u001b[1;36m0\u001b[0m\u001b[1;33m:\u001b[0m\u001b[1;33m\u001b[0m\u001b[1;33m\u001b[0m\u001b[0m\n\u001b[1;32m---> 13\u001b[1;33m             \u001b[1;32mraise\u001b[0m \u001b[0mZeroDenominatorError\u001b[0m\u001b[1;33m(\u001b[0m\u001b[1;34m'Denominator Should NOT be ZERO'\u001b[0m\u001b[1;33m)\u001b[0m\u001b[1;33m\u001b[0m\u001b[1;33m\u001b[0m\u001b[0m\n\u001b[0m\u001b[0;32m     14\u001b[0m         \u001b[0mprint\u001b[0m\u001b[1;33m(\u001b[0m\u001b[1;34m'Hi'\u001b[0m\u001b[1;33m)\u001b[0m\u001b[1;33m\u001b[0m\u001b[1;33m\u001b[0m\u001b[0m\n\u001b[0;32m     15\u001b[0m         \u001b[0mvalue\u001b[0m \u001b[1;33m=\u001b[0m \u001b[0mnum\u001b[0m\u001b[1;33m/\u001b[0m\u001b[0mden\u001b[0m\u001b[1;33m\u001b[0m\u001b[1;33m\u001b[0m\u001b[0m\n",
      "\u001b[1;31mZeroDenominatorError\u001b[0m: Denominator Should NOT be ZERO"
     ]
    }
   ],
   "source": [
    "class ZeroDenominatorError(Exception):\n",
    "    pass\n",
    "\n",
    "\n",
    "\n",
    "while True:\n",
    "    try:\n",
    "        n = input('enter the numerator')\n",
    "        num = int(n)\n",
    "        n = input('enter the denominator')\n",
    "        den = int(n)\n",
    "        if den==0:\n",
    "            raise ZeroDenominatorError('Denominator Should NOT be ZERO')\n",
    "        print('Hi')\n",
    "        value = num/den\n",
    "        print(value)\n",
    "        break\n",
    "    except ValueError:\n",
    "        print('Num and Den should be integers')\n",
    "    except ZeroDivisionError:\n",
    "        \n",
    "        print('Denominator should not be zero')"
   ]
  },
  {
   "cell_type": "code",
   "execution_count": null,
   "id": "hundred-stockholm",
   "metadata": {},
   "outputs": [],
   "source": []
  }
 ],
 "metadata": {
  "kernelspec": {
   "display_name": "Python 3",
   "language": "python",
   "name": "python3"
  },
  "language_info": {
   "codemirror_mode": {
    "name": "ipython",
    "version": 3
   },
   "file_extension": ".py",
   "mimetype": "text/x-python",
   "name": "python",
   "nbconvert_exporter": "python",
   "pygments_lexer": "ipython3",
   "version": "3.9.1"
  }
 },
 "nbformat": 4,
 "nbformat_minor": 5
}
