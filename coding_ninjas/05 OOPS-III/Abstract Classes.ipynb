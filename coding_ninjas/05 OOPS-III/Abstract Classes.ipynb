{
 "cells": [
  {
   "cell_type": "code",
   "execution_count": 1,
   "id": "bigger-vulnerability",
   "metadata": {},
   "outputs": [],
   "source": [
    "# abc module stands for abstract base classes: ABC is a class, and abstractmethod is a method "
   ]
  },
  {
   "cell_type": "code",
   "execution_count": null,
   "id": "exposed-personal",
   "metadata": {},
   "outputs": [],
   "source": [
    "# If inheriting from an abstract class, all the \"abstract methods\" in abstract class MUST BE INHERITED:"
   ]
  },
  {
   "cell_type": "code",
   "execution_count": null,
   "id": "under-assembly",
   "metadata": {},
   "outputs": [],
   "source": [
    "# Abstract Methods should not be present in any other class other than an Abstract Class"
   ]
  },
  {
   "cell_type": "code",
   "execution_count": 12,
   "id": "expanded-champion",
   "metadata": {},
   "outputs": [],
   "source": [
    "# Objects of Abstract Class CANNOT be created"
   ]
  },
  {
   "cell_type": "code",
   "execution_count": 21,
   "id": "intellectual-accused",
   "metadata": {},
   "outputs": [
    {
     "name": "stdout",
     "output_type": "stream",
     "text": [
      "car created\n",
      "start of automobile called\n",
      "start of car called\n",
      "BUS Created\n"
     ]
    }
   ],
   "source": [
    "from abc import ABC, abstractmethod\n",
    "class Automobile(ABC):\n",
    "    \n",
    "    def __init__(self):\n",
    "        print('automobile created')\n",
    "    \n",
    "    @abstractmethod\n",
    "    def start(self):\n",
    "        print('start of automobile called')\n",
    "        pass\n",
    "    @abstractmethod\n",
    "    def stop(self):\n",
    "        pass\n",
    "    @abstractmethod\n",
    "    def drive(self):\n",
    "        pass\n",
    "    \n",
    "class Car(Automobile):\n",
    "    \n",
    "    def __init__(self,name):\n",
    "        print('car created')\n",
    "        self.name = name\n",
    "  \n",
    "    def start(self):\n",
    "        super().start()\n",
    "        print('start of car called')\n",
    "        pass\n",
    "    def stop(self):\n",
    "        pass\n",
    "    def drive(self):\n",
    "        pass\n",
    "class Bus(Automobile):\n",
    "    def __init__(self,name):\n",
    "        print('BUS Created')\n",
    "        self.name = name\n",
    "    def start(self):\n",
    "        super().start()\n",
    "        print('start of car called')\n",
    "        pass\n",
    "    def stop(self):\n",
    "        pass\n",
    "    def drive(self):\n",
    "        pass    \n",
    "    \n",
    "    \n",
    "c = Car('AMG')\n",
    "c.start()\n",
    "b = Bus('Delhi Metro Bus')"
   ]
  },
  {
   "cell_type": "code",
   "execution_count": null,
   "id": "ready-briefs",
   "metadata": {},
   "outputs": [],
   "source": []
  }
 ],
 "metadata": {
  "kernelspec": {
   "display_name": "Python 3",
   "language": "python",
   "name": "python3"
  },
  "language_info": {
   "codemirror_mode": {
    "name": "ipython",
    "version": 3
   },
   "file_extension": ".py",
   "mimetype": "text/x-python",
   "name": "python",
   "nbconvert_exporter": "python",
   "pygments_lexer": "ipython3",
   "version": "3.9.1"
  }
 },
 "nbformat": 4,
 "nbformat_minor": 5
}
