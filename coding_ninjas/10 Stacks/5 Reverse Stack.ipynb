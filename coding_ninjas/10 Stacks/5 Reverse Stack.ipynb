{
 "cells": [
  {
   "cell_type": "markdown",
   "id": "affecting-gardening",
   "metadata": {},
   "source": [
    "### same principle as in Hanoi Tower, use Recursion Leap of Faith"
   ]
  },
  {
   "cell_type": "code",
   "execution_count": 1,
   "id": "executed-laugh",
   "metadata": {},
   "outputs": [
    {
     "name": "stdout",
     "output_type": "stream",
     "text": [
      "1 2 3 4\n",
      "[4, 3, 2, 1]\n"
     ]
    }
   ],
   "source": [
    "def reverseStack(arr1,arr2):\n",
    "    if len(arr1)==0 or len(arr1)==1:\n",
    "        return\n",
    "    while len(arr1)!=1:\n",
    "        a = arr1.pop()\n",
    "        arr2.append(a)\n",
    "    ele = arr1[0]\n",
    "    arr1.pop()\n",
    "    while len(arr2)!=0:\n",
    "        b = arr2.pop()\n",
    "        arr1.append(b)\n",
    "    reverseStack(arr1,arr2)\n",
    "    arr1.append(ele)\n",
    "    return arr1\n",
    "arr1 = [int(x) for x in input().split()]\n",
    "arr2 = []\n",
    "print(reverseStack(arr1,arr2))"
   ]
  },
  {
   "cell_type": "code",
   "execution_count": null,
   "id": "satellite-gauge",
   "metadata": {},
   "outputs": [],
   "source": []
  }
 ],
 "metadata": {
  "kernelspec": {
   "display_name": "Python 3",
   "language": "python",
   "name": "python3"
  },
  "language_info": {
   "codemirror_mode": {
    "name": "ipython",
    "version": 3
   },
   "file_extension": ".py",
   "mimetype": "text/x-python",
   "name": "python",
   "nbconvert_exporter": "python",
   "pygments_lexer": "ipython3",
   "version": "3.9.1"
  }
 },
 "nbformat": 4,
 "nbformat_minor": 5
}
