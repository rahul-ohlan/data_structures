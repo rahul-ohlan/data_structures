{
 "cells": [
  {
   "cell_type": "code",
   "execution_count": 9,
   "id": "female-multiple",
   "metadata": {},
   "outputs": [
    {
     "name": "stdout",
     "output_type": "stream",
     "text": [
      "True\n"
     ]
    }
   ],
   "source": [
    "def checkredundancy(arr):\n",
    "    if len(arr)==0 or len(arr)==1:\n",
    "        return False\n",
    "    stack = list()\n",
    "    count = None\n",
    "    for item in arr:\n",
    "        if item!=')':\n",
    "            stack.append(item)\n",
    "        else:\n",
    "            count = 0\n",
    "            while stack[-1]!='(':\n",
    "                stack.pop()\n",
    "                count+=1\n",
    "            else:\n",
    "                stack.pop()\n",
    "                if count <=1:\n",
    "                    return True\n",
    "    return False\n",
    "rahul = 'a+(b)+c'\n",
    "print(checkredundancy(rahul))"
   ]
  },
  {
   "cell_type": "code",
   "execution_count": null,
   "id": "western-withdrawal",
   "metadata": {},
   "outputs": [],
   "source": []
  }
 ],
 "metadata": {
  "kernelspec": {
   "display_name": "Python 3",
   "language": "python",
   "name": "python3"
  },
  "language_info": {
   "codemirror_mode": {
    "name": "ipython",
    "version": 3
   },
   "file_extension": ".py",
   "mimetype": "text/x-python",
   "name": "python",
   "nbconvert_exporter": "python",
   "pygments_lexer": "ipython3",
   "version": "3.9.1"
  }
 },
 "nbformat": 4,
 "nbformat_minor": 5
}
