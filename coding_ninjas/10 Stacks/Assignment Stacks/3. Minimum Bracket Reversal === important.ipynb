{
 "cells": [
  {
   "cell_type": "code",
   "execution_count": 13,
   "id": "commercial-penguin",
   "metadata": {},
   "outputs": [
    {
     "name": "stdout",
     "output_type": "stream",
     "text": [
      "['}', '{']\n"
     ]
    },
    {
     "data": {
      "text/plain": [
       "2"
      ]
     },
     "execution_count": 13,
     "metadata": {},
     "output_type": "execute_result"
    }
   ],
   "source": [
    "def reversebkts(string):\n",
    "    if len(string)==0:\n",
    "        return 0\n",
    "    stack = []\n",
    "    for ch in string:\n",
    "        if ch == '{':\n",
    "            stack.append(ch)\n",
    "        elif ch == '}':\n",
    "            if not stack or stack[-1]=='}':\n",
    "                stack.append(ch)\n",
    "            elif stack[-1]=='{':\n",
    "                stack.pop()\n",
    "    print(stack)\n",
    "    if not stack or len(stack)%2 != 0:\n",
    "        return -1\n",
    "    count = 0\n",
    "    while stack:\n",
    "        C1 = stack[-1]\n",
    "        C2 = stack[-2]\n",
    "        if C1==C2:\n",
    "            count+=1\n",
    "            stack.pop()\n",
    "            stack.pop()\n",
    "#         if C1 != C2: it means that case is like }{, here we'll need to reverse bkts two times:\n",
    "        else:\n",
    "            count+=2\n",
    "            stack.pop()\n",
    "            stack.pop()\n",
    "    return count\n",
    "        \n",
    "    \n",
    "string = '}{'\n",
    "reversebkts(string)\n",
    "            "
   ]
  },
  {
   "cell_type": "code",
   "execution_count": null,
   "id": "brown-security",
   "metadata": {},
   "outputs": [],
   "source": []
  }
 ],
 "metadata": {
  "kernelspec": {
   "display_name": "Python 3",
   "language": "python",
   "name": "python3"
  },
  "language_info": {
   "codemirror_mode": {
    "name": "ipython",
    "version": 3
   },
   "file_extension": ".py",
   "mimetype": "text/x-python",
   "name": "python",
   "nbconvert_exporter": "python",
   "pygments_lexer": "ipython3",
   "version": "3.9.1"
  }
 },
 "nbformat": 4,
 "nbformat_minor": 5
}
