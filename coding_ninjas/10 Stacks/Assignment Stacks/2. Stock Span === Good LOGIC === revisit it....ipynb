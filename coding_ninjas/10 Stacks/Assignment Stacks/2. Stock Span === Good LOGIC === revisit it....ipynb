{
 "cells": [
  {
   "cell_type": "code",
   "execution_count": 9,
   "id": "consistent-blend",
   "metadata": {
    "scrolled": true
   },
   "outputs": [
    {
     "name": "stdout",
     "output_type": "stream",
     "text": [
      "rahul\n",
      "[1, 2]\n",
      "[1]\n",
      "rahul\n",
      "[1, 2, 3]\n",
      "[2]\n",
      "rahul\n",
      "[1, 2, 3, 4]\n",
      "[3]\n",
      "rahul\n",
      "rahul\n",
      "rahul\n",
      "rahul\n",
      "[1, 2, 3, 4, 1, 1, 2, 8]\n",
      "[7]\n",
      "[1, 2, 3, 4, 1, 1, 2, 8]\n"
     ]
    }
   ],
   "source": [
    "def stockSpan(array,size):\n",
    "    stack = list()\n",
    "    span = list()\n",
    "    if size ==0:\n",
    "        return\n",
    "    for i in range(size):\n",
    "        if not stack:\n",
    "            span.append(1+i)\n",
    "            stack.append(i)\n",
    "        elif array[i]<array[stack[-1]]:\n",
    "            span.append(i-stack[-1])\n",
    "            stack.append(i)\n",
    "        else:\n",
    "            while len(stack)!=0 and array[stack[-1]]<array[i]:\n",
    "                print('rahul')\n",
    "                stack.pop()\n",
    "            if stack:\n",
    "                span.append(i-stack[-1])\n",
    "                stack.append(i)\n",
    "            else:\n",
    "                span.append(i+1)\n",
    "                stack.append(i)\n",
    "                print(span)\n",
    "                print(stack)\n",
    "    return span\n",
    "output = [60,70,80,100,90,75,80,120]\n",
    "print(stockSpan(output,len(output)))"
   ]
  },
  {
   "cell_type": "code",
   "execution_count": null,
   "id": "recorded-jones",
   "metadata": {},
   "outputs": [],
   "source": []
  }
 ],
 "metadata": {
  "kernelspec": {
   "display_name": "Python 3",
   "language": "python",
   "name": "python3"
  },
  "language_info": {
   "codemirror_mode": {
    "name": "ipython",
    "version": 3
   },
   "file_extension": ".py",
   "mimetype": "text/x-python",
   "name": "python",
   "nbconvert_exporter": "python",
   "pygments_lexer": "ipython3",
   "version": "3.9.1"
  }
 },
 "nbformat": 4,
 "nbformat_minor": 5
}
