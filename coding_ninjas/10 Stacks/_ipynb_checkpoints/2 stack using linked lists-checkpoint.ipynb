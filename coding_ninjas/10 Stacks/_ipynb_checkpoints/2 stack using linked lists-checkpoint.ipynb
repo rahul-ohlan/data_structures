{
 "cells": [
  {
   "cell_type": "code",
   "execution_count": 41,
   "id": "wrong-wholesale",
   "metadata": {},
   "outputs": [],
   "source": [
    "class Node:\n",
    "    def __init__(self,data):\n",
    "        self.data = data\n",
    "        self.next = None\n",
    "class StackLL:\n",
    "    def __init__(self):\n",
    "        self.__head = None\n",
    "        self.__count = 0\n",
    "        \n",
    "    def push(self,item):\n",
    "        newnode = Node(item)\n",
    "        newnode.next = self.__head\n",
    "        self.__head = newnode\n",
    "        self.__count+=1\n",
    "    def pop(self):\n",
    "        if self.isEmpty():\n",
    "            return 'sorry! stack is empty'\n",
    "        else:\n",
    "            temp = self.__head\n",
    "            self.__head = self.__head.next\n",
    "            self.__count-=1\n",
    "            return temp.data\n",
    "    def top(self):\n",
    "        if self.isEmpty():\n",
    "            return 'sorry! stack is empty'\n",
    "        else:\n",
    "            return self.__head.data\n",
    "    def size(self):\n",
    "        return self.__count\n",
    "        \n",
    "        \n",
    "    def isEmpty(self):\n",
    "        return self.__count==0"
   ]
  },
  {
   "cell_type": "code",
   "execution_count": 45,
   "id": "vocal-pottery",
   "metadata": {},
   "outputs": [
    {
     "name": "stdout",
     "output_type": "stream",
     "text": [
      "5\n",
      "ohlan\n",
      "4\n",
      "rahul\n",
      "4\n",
      "rahul\n",
      "30\n",
      "20\n",
      "10\n"
     ]
    }
   ],
   "source": [
    "ru = StackLL()\n",
    "ru.push(10)\n",
    "ru.push(20)\n",
    "ru.push(30)\n",
    "ru.push('rahul')\n",
    "ru.push('ohlan')\n",
    "print(ru._StackLL__count)\n",
    "print(ru.pop())\n",
    "print(ru._StackLL__count)\n",
    "print(ru.top())\n",
    "print(ru.size())\n",
    "while ru.isEmpty() is False:\n",
    "    print(ru.pop())\n",
    "    \n",
    "\n"
   ]
  },
  {
   "cell_type": "code",
   "execution_count": null,
   "id": "spare-sussex",
   "metadata": {},
   "outputs": [],
   "source": []
  }
 ],
 "metadata": {
  "kernelspec": {
   "display_name": "Python 3",
   "language": "python",
   "name": "python3"
  },
  "language_info": {
   "codemirror_mode": {
    "name": "ipython",
    "version": 3
   },
   "file_extension": ".py",
   "mimetype": "text/x-python",
   "name": "python",
   "nbconvert_exporter": "python",
   "pygments_lexer": "ipython3",
   "version": "3.9.1"
  }
 },
 "nbformat": 4,
 "nbformat_minor": 5
}
