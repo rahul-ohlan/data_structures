{
 "cells": [
  {
   "cell_type": "code",
   "execution_count": 15,
   "id": "approximate-professional",
   "metadata": {},
   "outputs": [
    {
     "name": "stdout",
     "output_type": "stream",
     "text": [
      "enter parenthesis string: ())()(\n",
      "False\n",
      "(\n",
      "(\n",
      ")())\n"
     ]
    }
   ],
   "source": [
    "string = input('enter parenthesis string: ')\n",
    "def balanceparenthesis(string):\n",
    "    n = len(string)\n",
    "    if n==0 or n==1:\n",
    "        return False\n",
    "    if string[n-1] != ')' or string[0] !='(':\n",
    "        return False\n",
    "    count = 0\n",
    "    for item in string[-2:0:-1]:\n",
    "        if item == ')':\n",
    "            count+=1\n",
    "        else:\n",
    "            count-=1\n",
    "    return count==0\n",
    "output = balanceparenthesis(string)\n",
    "print(output)\n",
    "n = len(string)\n",
    "print(string[n-1])\n",
    "print(string[0])\n",
    "print(string[-2:0:-1])\n",
    "    "
   ]
  },
  {
   "cell_type": "markdown",
   "id": "behind-miller",
   "metadata": {},
   "source": [
    "### Correct Solution"
   ]
  },
  {
   "cell_type": "code",
   "execution_count": 16,
   "id": "essential-mixer",
   "metadata": {},
   "outputs": [
    {
     "name": "stderr",
     "output_type": "stream",
     "text": [
      "<>:7: SyntaxWarning: \"is\" with a literal. Did you mean \"==\"?\n",
      "<>:12: SyntaxWarning: \"is\" with a literal. Did you mean \"==\"?\n",
      "<>:17: SyntaxWarning: \"is\" with a literal. Did you mean \"==\"?\n",
      "<>:7: SyntaxWarning: \"is\" with a literal. Did you mean \"==\"?\n",
      "<>:12: SyntaxWarning: \"is\" with a literal. Did you mean \"==\"?\n",
      "<>:17: SyntaxWarning: \"is\" with a literal. Did you mean \"==\"?\n",
      "<ipython-input-16-398062465c8c>:7: SyntaxWarning: \"is\" with a literal. Did you mean \"==\"?\n",
      "  elif char is ')':\n",
      "<ipython-input-16-398062465c8c>:12: SyntaxWarning: \"is\" with a literal. Did you mean \"==\"?\n",
      "  elif char is '}':\n",
      "<ipython-input-16-398062465c8c>:17: SyntaxWarning: \"is\" with a literal. Did you mean \"==\"?\n",
      "  elif char is ']':\n"
     ]
    },
    {
     "name": "stdout",
     "output_type": "stream",
     "text": [
      "{(a+b)}\n",
      "True\n"
     ]
    }
   ],
   "source": [
    "def isbalanced(string):\n",
    "    s = []\n",
    "    for char in string:\n",
    "        \n",
    "        if char in '[{(':\n",
    "            s.append(char)\n",
    "        elif char is ')':\n",
    "            if  not s or s[-1]!='(':\n",
    "                return False\n",
    "            else:\n",
    "                s.pop()\n",
    "        elif char is '}':\n",
    "            if not s or s[-1]!='{':\n",
    "                return False\n",
    "            else:\n",
    "                s.pop()\n",
    "        elif char is ']':\n",
    "            if not s or s[-1]!='[':\n",
    "                return False\n",
    "            else:\n",
    "                s.pop()\n",
    "    if not s:\n",
    "        return True\n",
    "    else:\n",
    "        return False\n",
    "\n",
    "\n",
    "\n",
    "string = input()\n",
    "ans = isbalanced(string)\n",
    "print(ans)"
   ]
  },
  {
   "cell_type": "code",
   "execution_count": null,
   "id": "genetic-staff",
   "metadata": {},
   "outputs": [],
   "source": []
  }
 ],
 "metadata": {
  "kernelspec": {
   "display_name": "Python 3",
   "language": "python",
   "name": "python3"
  },
  "language_info": {
   "codemirror_mode": {
    "name": "ipython",
    "version": 3
   },
   "file_extension": ".py",
   "mimetype": "text/x-python",
   "name": "python",
   "nbconvert_exporter": "python",
   "pygments_lexer": "ipython3",
   "version": "3.9.1"
  }
 },
 "nbformat": 4,
 "nbformat_minor": 5
}
