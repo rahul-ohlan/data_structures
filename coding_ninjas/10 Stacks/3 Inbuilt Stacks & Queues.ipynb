{
 "cells": [
  {
   "cell_type": "code",
   "execution_count": 4,
   "id": "close-weight",
   "metadata": {},
   "outputs": [
    {
     "name": "stdout",
     "output_type": "stream",
     "text": [
      "5\n",
      "4\n",
      "3\n",
      "2\n",
      "1\n"
     ]
    }
   ],
   "source": [
    "import queue\n",
    "\n",
    "# Inbuilt Stacks can be used just like lists | use lists in case of stacks\n",
    "# s = [1,2,3]\n",
    "# s.append(4)\n",
    "# s.append(5)\n",
    "\n",
    "# print(s.pop())\n",
    "# print(s.pop())\n",
    "\n",
    "# For Inbuilt Queues, we need to import the Queue Class\n",
    "# q = queue.Queue()\n",
    "# q.put(1)\n",
    "# q.put(2)\n",
    "# q.put(3)\n",
    "# q.put(4)\n",
    "\n",
    "#  get FUNCTIONS AS POP, IT POPS ELEMENTS FROM THE STARTING OF THE QUEUE\n",
    "\n",
    "# while not q.empty():\n",
    "#     print(q.get())\n",
    "\n",
    "# QUEUE CAN ALSO BE USED AS STACK USING THE LIFO QUE, THAT IS ACTUALLY A STACK: q = queue.LifoQueue\n",
    "#  HERE GET WILL FUNCTION AS THE POP FUNCTION EXACTLY, REMOVING ELEMENTS FROM THE LAST (LIFO)\n",
    "\n",
    "q = queue.LifoQueue()\n",
    "q.put(1)\n",
    "q.put(2)\n",
    "q.put(3)\n",
    "q.put(4)\n",
    "q.put(5)\n",
    "\n",
    "while not q.empty():\n",
    "    print(q.get())\n"
   ]
  },
  {
   "cell_type": "code",
   "execution_count": null,
   "id": "double-insider",
   "metadata": {},
   "outputs": [],
   "source": []
  }
 ],
 "metadata": {
  "kernelspec": {
   "display_name": "Python 3",
   "language": "python",
   "name": "python3"
  },
  "language_info": {
   "codemirror_mode": {
    "name": "ipython",
    "version": 3
   },
   "file_extension": ".py",
   "mimetype": "text/x-python",
   "name": "python",
   "nbconvert_exporter": "python",
   "pygments_lexer": "ipython3",
   "version": "3.9.1"
  }
 },
 "nbformat": 4,
 "nbformat_minor": 5
}
