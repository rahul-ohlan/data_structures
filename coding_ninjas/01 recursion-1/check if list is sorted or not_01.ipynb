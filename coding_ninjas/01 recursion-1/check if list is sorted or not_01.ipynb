{
 "cells": [
  {
   "cell_type": "code",
   "execution_count": 2,
   "id": "patient-focus",
   "metadata": {},
   "outputs": [],
   "source": [
    "'''\n",
    "our base case is that if length of list is 0 or 1, it must already be sorted\n",
    "hypothesis: our function works on a list of size L -1\n",
    "if our first element is not smaller than the second, list will BE UNSORTED.\n",
    "CASE: we shall call recursion for our list from second element till last\n",
    "\n",
    "'''\n",
    "def isSorted(a):\n",
    "    l = len(a)\n",
    "    if l==0 or l==1:\n",
    "        return True\n",
    "    if a[0] > a[1]:\n",
    "        return False\n",
    "    smaller_list = a[1:]\n",
    "    isSmallerListSorted = isSorted(smaller_list)\n",
    "    if isSmallerListSorted:\n",
    "        return True\n",
    "    else:\n",
    "        return False"
   ]
  },
  {
   "cell_type": "code",
   "execution_count": 3,
   "id": "confirmed-charter",
   "metadata": {},
   "outputs": [
    {
     "data": {
      "text/plain": [
       "True"
      ]
     },
     "execution_count": 3,
     "metadata": {},
     "output_type": "execute_result"
    }
   ],
   "source": [
    "a = [1,2,3,4,5,6,7,8,9]\n",
    "isSorted(a)"
   ]
  },
  {
   "cell_type": "code",
   "execution_count": null,
   "id": "boolean-andrews",
   "metadata": {},
   "outputs": [],
   "source": [
    " "
   ]
  }
 ],
 "metadata": {
  "kernelspec": {
   "display_name": "Python 3",
   "language": "python",
   "name": "python3"
  },
  "language_info": {
   "codemirror_mode": {
    "name": "ipython",
    "version": 3
   },
   "file_extension": ".py",
   "mimetype": "text/x-python",
   "name": "python",
   "nbconvert_exporter": "python",
   "pygments_lexer": "ipython3",
   "version": "3.9.1"
  }
 },
 "nbformat": 4,
 "nbformat_minor": 5
}
