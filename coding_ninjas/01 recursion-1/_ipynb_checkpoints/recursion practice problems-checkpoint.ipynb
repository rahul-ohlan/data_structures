{
 "cells": [
  {
   "cell_type": "markdown",
   "id": "large-congress",
   "metadata": {},
   "source": [
    "### 1. To calculate the sum of a list of numbers"
   ]
  },
  {
   "cell_type": "code",
   "execution_count": 2,
   "id": "imperial-theme",
   "metadata": {},
   "outputs": [
    {
     "name": "stdout",
     "output_type": "stream",
     "text": [
      "4 5 7 9 0 3 5 6\n",
      "39\n"
     ]
    }
   ],
   "source": [
    "def sum_array(arr):\n",
    "    l = len(arr)\n",
    "    if l==0:\n",
    "        return 0\n",
    "    newlist = arr[1:]\n",
    "    output = sum_array(newlist)\n",
    "    tot = arr[0] + output\n",
    "    return tot\n",
    "\n",
    "\n",
    "\n",
    "\n",
    "arr1 = [int(x) for x in input().split()]\n",
    "total = sum_array(arr1)\n",
    "print(total)"
   ]
  },
  {
   "cell_type": "code",
   "execution_count": null,
   "id": "olympic-canal",
   "metadata": {},
   "outputs": [],
   "source": []
  }
 ],
 "metadata": {
  "kernelspec": {
   "display_name": "Python 3",
   "language": "python",
   "name": "python3"
  },
  "language_info": {
   "codemirror_mode": {
    "name": "ipython",
    "version": 3
   },
   "file_extension": ".py",
   "mimetype": "text/x-python",
   "name": "python",
   "nbconvert_exporter": "python",
   "pygments_lexer": "ipython3",
   "version": "3.9.1"
  }
 },
 "nbformat": 4,
 "nbformat_minor": 5
}
