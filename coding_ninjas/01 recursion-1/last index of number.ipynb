{
 "cells": [
  {
   "cell_type": "markdown",
   "id": "suburban-rabbit",
   "metadata": {},
   "source": [
    "Copy list Method"
   ]
  },
  {
   "cell_type": "code",
   "execution_count": 1,
   "id": "scheduled-court",
   "metadata": {},
   "outputs": [
    {
     "name": "stdout",
     "output_type": "stream",
     "text": [
      "1 2 3 2 4 5\n",
      "enter the element to be searched2\n"
     ]
    },
    {
     "data": {
      "text/plain": [
       "3"
      ]
     },
     "execution_count": 1,
     "metadata": {},
     "output_type": "execute_result"
    }
   ],
   "source": [
    "def lastsearch(array,x):\n",
    "    l = len(array)\n",
    "    if l==0:\n",
    "        return -1\n",
    "    newlist = array[1:]\n",
    "    output = lastsearch(newlist,x)\n",
    "    if output == -1:\n",
    "        if array[0] ==x:\n",
    "            return 0\n",
    "        else:\n",
    "            return -1\n",
    "    else:\n",
    "        return output+1\n",
    "    \n",
    "\n",
    "\n",
    "\n",
    "\n",
    "\n",
    "array = [int(x) for x in input().split()]\n",
    "x = int(input('enter the element to be searched: '))\n",
    "lastsearch(array,x)"
   ]
  },
  {
   "cell_type": "markdown",
   "id": "expensive-tongue",
   "metadata": {},
   "source": [
    "Better, search Index method\n"
   ]
  },
  {
   "cell_type": "code",
   "execution_count": 4,
   "id": "tender-mongolia",
   "metadata": {},
   "outputs": [
    {
     "name": "stdout",
     "output_type": "stream",
     "text": [
      "1 2 3 2 4 5\n",
      "enter element to be searched from last: 2\n",
      "enter search index: 0\n"
     ]
    },
    {
     "data": {
      "text/plain": [
       "3"
      ]
     },
     "execution_count": 4,
     "metadata": {},
     "output_type": "execute_result"
    }
   ],
   "source": [
    "def lastindexsearch(arr,x,si):\n",
    "    l = len(arr)\n",
    "    if si==l:\n",
    "        return -1\n",
    "    output = lastindexsearch(arr,x,si+1)\n",
    "    if output == -1:\n",
    "        if arr[si] == x:\n",
    "            return si\n",
    "        else:\n",
    "            return -1\n",
    "    else:\n",
    "        return output\n",
    "\n",
    "\n",
    "\n",
    "\n",
    "arr = [int(x) for x in input().split()]\n",
    "x = int(input('enter element to be searched from last: '))\n",
    "si = int(input('enter search index: '))\n",
    "lastindexsearch(arr,x,si)"
   ]
  },
  {
   "cell_type": "code",
   "execution_count": null,
   "id": "educated-august",
   "metadata": {},
   "outputs": [],
   "source": []
  }
 ],
 "metadata": {
  "kernelspec": {
   "display_name": "Python 3",
   "language": "python",
   "name": "python3"
  },
  "language_info": {
   "codemirror_mode": {
    "name": "ipython",
    "version": 3
   },
   "file_extension": ".py",
   "mimetype": "text/x-python",
   "name": "python",
   "nbconvert_exporter": "python",
   "pygments_lexer": "ipython3",
   "version": "3.9.1"
  }
 },
 "nbformat": 4,
 "nbformat_minor": 5
}
