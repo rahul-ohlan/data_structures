{
 "cells": [
  {
   "cell_type": "code",
   "execution_count": 2,
   "id": "potential-husband",
   "metadata": {},
   "outputs": [
    {
     "name": "stdout",
     "output_type": "stream",
     "text": [
      "6\n"
     ]
    },
    {
     "data": {
      "text/plain": [
       "720"
      ]
     },
     "execution_count": 2,
     "metadata": {},
     "output_type": "execute_result"
    }
   ],
   "source": [
    "def factorial(n):\n",
    "    if n==0:\n",
    "        return 1\n",
    "    return n*factorial(n-1)\n",
    "n = int(input())\n",
    "factorial(n)"
   ]
  },
  {
   "cell_type": "code",
   "execution_count": 3,
   "id": "interesting-newspaper",
   "metadata": {
    "scrolled": true
   },
   "outputs": [
    {
     "data": {
      "text/plain": [
       "120"
      ]
     },
     "execution_count": 3,
     "metadata": {},
     "output_type": "execute_result"
    }
   ],
   "source": [
    "factorial(5)"
   ]
  },
  {
   "cell_type": "code",
   "execution_count": 5,
   "id": "abstract-clause",
   "metadata": {},
   "outputs": [],
   "source": [
    "def sum_n(n):\n",
    "    if n==0:\n",
    "        return 0\n",
    "    small_output = sum_n(n-1)\n",
    "    output = n + small_output\n",
    "    return output"
   ]
  },
  {
   "cell_type": "code",
   "execution_count": 7,
   "id": "sustainable-advertiser",
   "metadata": {},
   "outputs": [
    {
     "name": "stdout",
     "output_type": "stream",
     "text": [
      "5\n",
      "15\n",
      "120\n"
     ]
    }
   ],
   "source": [
    "n = int(input())\n",
    "print(sum_n(n))\n",
    "print(factorial(n))"
   ]
  },
  {
   "cell_type": "markdown",
   "id": "handled-polls",
   "metadata": {},
   "source": [
    "### Power of a Number"
   ]
  },
  {
   "cell_type": "code",
   "execution_count": 20,
   "id": "collectible-lunch",
   "metadata": {},
   "outputs": [
    {
     "name": "stdout",
     "output_type": "stream",
     "text": [
      "3 4\n"
     ]
    },
    {
     "data": {
      "text/plain": [
       "81"
      ]
     },
     "execution_count": 20,
     "metadata": {},
     "output_type": "execute_result"
    }
   ],
   "source": [
    "b = input().split()\n",
    "x,n = int(b[0]),int(b[1])\n",
    "def power(x,n):\n",
    "    if n==0:\n",
    "        return 1\n",
    "    return x*power(x,n-1)\n",
    "power(x,n)"
   ]
  },
  {
   "cell_type": "markdown",
   "id": "unnecessary-alberta",
   "metadata": {},
   "source": [
    "### Print First N Natural Numbers"
   ]
  },
  {
   "cell_type": "code",
   "execution_count": 4,
   "id": "elegant-tobago",
   "metadata": {
    "scrolled": true
   },
   "outputs": [
    {
     "name": "stdout",
     "output_type": "stream",
     "text": [
      "1\n",
      "2\n",
      "3\n",
      "4\n",
      "5\n"
     ]
    }
   ],
   "source": [
    "def print_1_n(n):\n",
    "    if n==0:\n",
    "        return\n",
    "    print_1_n(n-1)\n",
    "    print(n)\n",
    "print_1_n(5)    "
   ]
  },
  {
   "cell_type": "code",
   "execution_count": 5,
   "id": "weighted-highway",
   "metadata": {},
   "outputs": [
    {
     "name": "stdout",
     "output_type": "stream",
     "text": [
      "5\n",
      "4\n",
      "3\n",
      "2\n",
      "1\n"
     ]
    }
   ],
   "source": [
    "def print_n_1(n):\n",
    "    if n==0:\n",
    "        return\n",
    "    print(n)\n",
    "    print_n_1(n-1)\n",
    "print_n_1(5)"
   ]
  },
  {
   "cell_type": "code",
   "execution_count": 6,
   "id": "threatened-entrance",
   "metadata": {},
   "outputs": [
    {
     "name": "stdout",
     "output_type": "stream",
     "text": [
      "531"
     ]
    }
   ],
   "source": [
    "def printNumbers(n):\n",
    "    if n<0:\n",
    "        return\n",
    "    print(n,end='')\n",
    "    printNumbers(n-2)\n",
    "num = 5\n",
    "printNumbers(num)"
   ]
  },
  {
   "cell_type": "markdown",
   "id": "green-tablet",
   "metadata": {},
   "source": [
    "### Print Nth Fibonacci Number"
   ]
  },
  {
   "cell_type": "code",
   "execution_count": null,
   "id": "regulated-mattress",
   "metadata": {},
   "outputs": [],
   "source": []
  }
 ],
 "metadata": {
  "kernelspec": {
   "display_name": "Python 3",
   "language": "python",
   "name": "python3"
  },
  "language_info": {
   "codemirror_mode": {
    "name": "ipython",
    "version": 3
   },
   "file_extension": ".py",
   "mimetype": "text/x-python",
   "name": "python",
   "nbconvert_exporter": "python",
   "pygments_lexer": "ipython3",
   "version": "3.9.1"
  }
 },
 "nbformat": 4,
 "nbformat_minor": 5
}
