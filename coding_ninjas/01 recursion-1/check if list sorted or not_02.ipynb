{
 "cells": [
  {
   "cell_type": "code",
   "execution_count": 2,
   "id": "documented-mixer",
   "metadata": {},
   "outputs": [
    {
     "name": "stdout",
     "output_type": "stream",
     "text": [
      "enter the starting index: 0\n",
      "1 2 3 4 8 6 7\n"
     ]
    },
    {
     "data": {
      "text/plain": [
       "False"
      ]
     },
     "execution_count": 2,
     "metadata": {},
     "output_type": "execute_result"
    }
   ],
   "source": [
    "def isSortedBetter(array,si):\n",
    "    l = len(array)\n",
    "    if si == l-1 or si==l:\n",
    "        return True\n",
    "    if array[si]>array[si+1]:\n",
    "        return False\n",
    "    nextcheck = isSortedBetter(array,si+1)\n",
    "    return nextcheck\n",
    "si = int(input('enter the starting index: '))\n",
    "array = [int(x) for x in input().split()]\n",
    "isSortedBetter(array,si)"
   ]
  },
  {
   "cell_type": "code",
   "execution_count": null,
   "id": "greatest-shoot",
   "metadata": {},
   "outputs": [],
   "source": []
  }
 ],
 "metadata": {
  "kernelspec": {
   "display_name": "Python 3",
   "language": "python",
   "name": "python3"
  },
  "language_info": {
   "codemirror_mode": {
    "name": "ipython",
    "version": 3
   },
   "file_extension": ".py",
   "mimetype": "text/x-python",
   "name": "python",
   "nbconvert_exporter": "python",
   "pygments_lexer": "ipython3",
   "version": "3.9.1"
  }
 },
 "nbformat": 4,
 "nbformat_minor": 5
}
