{
 "cells": [
  {
   "cell_type": "markdown",
   "id": "explicit-discrimination",
   "metadata": {},
   "source": [
    "Method 1: by copying list"
   ]
  },
  {
   "cell_type": "code",
   "execution_count": 7,
   "id": "generic-wedding",
   "metadata": {},
   "outputs": [
    {
     "name": "stdout",
     "output_type": "stream",
     "text": [
      "enter length of array: 7 \n",
      "1 2 3 5 6 8 5\n",
      "enter integer to be searched in array: 5\n"
     ]
    },
    {
     "data": {
      "text/plain": [
       "3"
      ]
     },
     "execution_count": 7,
     "metadata": {},
     "output_type": "execute_result"
    }
   ],
   "source": [
    "def indexInArray(array,x):\n",
    "    l = len(array)\n",
    "    if l ==0:\n",
    "        return -1\n",
    "    if array[0] ==x:\n",
    "        return 0\n",
    "    newlist = array[1:]\n",
    "    output = indexInArray(newlist,x)\n",
    "    if output == -1:\n",
    "        return -1\n",
    "    else:\n",
    "        return output+1\n",
    "\n",
    "\n",
    "\n",
    "\n",
    "\n",
    "\n",
    "n = int(input('enter length of array: '))\n",
    "array = [int(x) for x in input().split()]\n",
    "x = int(input('enter integer to be searched in array: '))\n",
    "indexInArray(array,x)\n"
   ]
  },
  {
   "cell_type": "markdown",
   "id": "prerequisite-colorado",
   "metadata": {},
   "source": [
    "Method 02: start index method"
   ]
  },
  {
   "cell_type": "code",
   "execution_count": 8,
   "id": "resident-alert",
   "metadata": {},
   "outputs": [
    {
     "name": "stdout",
     "output_type": "stream",
     "text": [
      "enter length of array: 6\n",
      "1 2 3 4 5 7\n",
      "enter integer to be searched in array: 7\n"
     ]
    },
    {
     "data": {
      "text/plain": [
       "5"
      ]
     },
     "execution_count": 8,
     "metadata": {},
     "output_type": "execute_result"
    }
   ],
   "source": [
    "def searchIndex(array,x,si):\n",
    "    l = len(array)\n",
    "    if  si==l:\n",
    "        return -1\n",
    "    if array[si]==x:\n",
    "        return si\n",
    "    else:\n",
    "        index = searchIndex(array,x,si+1)\n",
    "        return index\n",
    "\n",
    "n = int(input('enter length of array: '))\n",
    "array = [int(x) for x in input().split()]\n",
    "x = int(input('enter integer to be searched in array: '))\n",
    "searchIndex(array,x,si)"
   ]
  },
  {
   "cell_type": "code",
   "execution_count": null,
   "id": "backed-stability",
   "metadata": {},
   "outputs": [],
   "source": []
  }
 ],
 "metadata": {
  "kernelspec": {
   "display_name": "Python 3",
   "language": "python",
   "name": "python3"
  },
  "language_info": {
   "codemirror_mode": {
    "name": "ipython",
    "version": 3
   },
   "file_extension": ".py",
   "mimetype": "text/x-python",
   "name": "python",
   "nbconvert_exporter": "python",
   "pygments_lexer": "ipython3",
   "version": "3.9.1"
  }
 },
 "nbformat": 4,
 "nbformat_minor": 5
}
