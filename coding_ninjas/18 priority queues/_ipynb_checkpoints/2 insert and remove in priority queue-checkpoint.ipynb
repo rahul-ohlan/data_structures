{
 "cells": [
  {
   "cell_type": "code",
   "execution_count": 3,
   "id": "geological-rendering",
   "metadata": {},
   "outputs": [],
   "source": [
    "class priorityQnode:\n",
    "    def __init__(self,value,priority):\n",
    "        self.value = value\n",
    "        self.priority = priority"
   ]
  },
  {
   "cell_type": "code",
   "execution_count": 26,
   "id": "tired-frame",
   "metadata": {
    "scrolled": true
   },
   "outputs": [],
   "source": [
    "class priorityQueue:\n",
    "    def __init__(self):\n",
    "        self.pq = list()\n",
    "        \n",
    "        \n",
    "    def getsize(self):\n",
    "        return len(self.pq)\n",
    "    \n",
    "    def isEmpty(self):\n",
    "        return self.getsize() == 0\n",
    "    def getMin(self):\n",
    "        \n",
    "        if self.isEmpty():\n",
    "            return None\n",
    "        \n",
    "        return self.pq[0].value\n",
    "    \n",
    "    def __percolateUP(self):\n",
    "        childindex = self.getsize()-1\n",
    "        while childindex > 0 :\n",
    "            parentindex = (childindex-1)//2\n",
    "            if self.pq[childindex].priority < self.pq[parentindex].priority:\n",
    "                self.pq[childindex],self.pq[parentindex] = self.pq[parentindex],self.pq[childindex]\n",
    "                childindex = parentindex\n",
    "            else:\n",
    "                break\n",
    "                \n",
    "    def __percolateDown(self):\n",
    "        \n",
    "        parentindex = 0\n",
    "        child1 = 2*parentindex+1\n",
    "        child2 = 2*parentindex+2\n",
    "        while child1 <= self.getsize()-1:\n",
    "            Min = child1\n",
    "            if child2 <= self.getsize()-1 and self.pq[child2].priority < self.pq[child1].priority:\n",
    "                Min = child2\n",
    "            if self.pq[parentindex].priority > self.pq[Min].priority:\n",
    "                self.pq[parentindex],self.pq[Min] = self.pq[Min],self.pq[parentindex]\n",
    "                parentindex = Min\n",
    "                child1 = 2*parentindex+1\n",
    "                child2 = 2*parentindex + 2\n",
    "            else:\n",
    "                break\n",
    "            \n",
    "        \n",
    "        \n",
    "    def insert(self,value,priority):\n",
    "        \n",
    "        pqNode = priorityQnode(value,priority)\n",
    "        self.pq.append(pqNode)\n",
    "        self.__percolateUP()\n",
    "        \n",
    "        pass\n",
    "    \n",
    "    def removeMin(self):\n",
    "        \n",
    "        if self.isEmpty():\n",
    "            return None\n",
    "        res = self.pq[0]\n",
    "        self.pq[0] = self.pq[self.getsize()-1]\n",
    "        self.pq.pop()\n",
    "        self.__percolateDown()\n",
    "        return res.value"
   ]
  },
  {
   "cell_type": "code",
   "execution_count": null,
   "id": "regulated-aspect",
   "metadata": {},
   "outputs": [],
   "source": []
  }
 ],
 "metadata": {
  "kernelspec": {
   "display_name": "Python 3",
   "language": "python",
   "name": "python3"
  },
  "language_info": {
   "codemirror_mode": {
    "name": "ipython",
    "version": 3
   },
   "file_extension": ".py",
   "mimetype": "text/x-python",
   "name": "python",
   "nbconvert_exporter": "python",
   "pygments_lexer": "ipython3",
   "version": "3.9.1"
  }
 },
 "nbformat": 4,
 "nbformat_minor": 5
}
