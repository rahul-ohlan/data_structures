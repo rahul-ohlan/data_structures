{
 "cells": [
  {
   "cell_type": "code",
   "execution_count": null,
   "id": "greenhouse-division",
   "metadata": {},
   "outputs": [],
   "source": [
    "# Algorithm:\n",
    "#     let's say num = 15\n",
    "#     first case is always: 1^2 + 1^2 + ... 15 times\n",
    "#         now try 2^2 + (recursive call for calculating number of minsquares on 15 - 2^2) : that will be 1(for 2^2) + from recursive call\n",
    "#             now 3^2 + (rec call for 15-3^2) and so on...\n",
    "            \n",
    "#             take minimum of all these"
   ]
  },
  {
   "cell_type": "code",
   "execution_count": 1,
   "id": "funky-visit",
   "metadata": {},
   "outputs": [],
   "source": [
    "def minsquares_recursive(num):\n",
    "    \n",
    "    if num==0:\n",
    "        return 0\n",
    "    \n",
    "    i =1 \n",
    "    min_count = float('inf')\n",
    "    while i**2 <= num:\n",
    "        count = 1 + minsquares_recursive(num-i**2)\n",
    "        min_count = min(count,min_count)\n",
    "        i+=1\n",
    "        \n",
    "    return min_count"
   ]
  },
  {
   "cell_type": "code",
   "execution_count": 14,
   "id": "turned-copyright",
   "metadata": {},
   "outputs": [
    {
     "name": "stdout",
     "output_type": "stream",
     "text": [
      "3\n"
     ]
    }
   ],
   "source": [
    "print(minsquares_recursive(35))"
   ]
  },
  {
   "cell_type": "code",
   "execution_count": 7,
   "id": "bridal-access",
   "metadata": {},
   "outputs": [],
   "source": [
    "def minsq_memo(num,dp_arr):\n",
    "    \n",
    "    if num==0:\n",
    "        return 0\n",
    "    \n",
    "    min_count = float('inf')\n",
    "    i = 1\n",
    "    while i**2 <= num:\n",
    "        \n",
    "        if dp_arr[num-i**2] == -1:\n",
    "            count = 1 + minsq_memo(num-i**2,dp_arr)\n",
    "            dp_arr[num-i**2] = count\n",
    "        else:\n",
    "            count = 1 + dp_arr[num-i**2]\n",
    "            \n",
    "        min_count = min(min_count,count)\n",
    "        \n",
    "        i+=1\n",
    "    return min_count"
   ]
  },
  {
   "cell_type": "code",
   "execution_count": 16,
   "id": "eleven-trust",
   "metadata": {},
   "outputs": [
    {
     "name": "stdout",
     "output_type": "stream",
     "text": [
      "50\n",
      "3\n"
     ]
    }
   ],
   "source": [
    "num = int(input())\n",
    "dp_arr = [-1 for i in range(num)]\n",
    "print(minsq_memo(num,dp_arr))"
   ]
  },
  {
   "cell_type": "code",
   "execution_count": 17,
   "id": "common-establishment",
   "metadata": {},
   "outputs": [],
   "source": [
    "def minsq_iteratively(num):\n",
    "    \n",
    "    dp_arr = [-1 for i in range(num+1)]\n",
    "    \n",
    "    dp_arr[0] = 0\n",
    "    dp_arr[1] = 1\n",
    "    for j in range(2,num+1):\n",
    "        i = 1\n",
    "        min_c = float('inf')\n",
    "        while i**2 <= j:\n",
    "            count = 1 + dp_arr[j-i**2]\n",
    "            min_c = min(min_c,count)\n",
    "            i+=1\n",
    "        dp_arr[j] = min_c\n",
    "    \n",
    "    return dp_arr[num]       "
   ]
  },
  {
   "cell_type": "code",
   "execution_count": 23,
   "id": "young-renewal",
   "metadata": {},
   "outputs": [
    {
     "name": "stdout",
     "output_type": "stream",
     "text": [
      "41\n",
      "2\n"
     ]
    }
   ],
   "source": [
    "num = int(input())\n",
    "print(minsq_iteratively(num))"
   ]
  },
  {
   "cell_type": "code",
   "execution_count": null,
   "id": "rocky-purchase",
   "metadata": {},
   "outputs": [],
   "source": []
  }
 ],
 "metadata": {
  "kernelspec": {
   "display_name": "Python 3",
   "language": "python",
   "name": "python3"
  },
  "language_info": {
   "codemirror_mode": {
    "name": "ipython",
    "version": 3
   },
   "file_extension": ".py",
   "mimetype": "text/x-python",
   "name": "python",
   "nbconvert_exporter": "python",
   "pygments_lexer": "ipython3",
   "version": "3.9.1"
  }
 },
 "nbformat": 4,
 "nbformat_minor": 5
}
