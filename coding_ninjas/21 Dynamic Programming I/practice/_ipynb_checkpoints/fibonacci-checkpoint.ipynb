{
 "cells": [
  {
   "cell_type": "code",
   "execution_count": null,
   "id": "monetary-examination",
   "metadata": {},
   "outputs": [],
   "source": [
    "def fiboRecursive(n):\n",
    "    \n",
    "    if n==0:\n",
    "        return 0\n",
    "    if n==1:\n",
    "        return 1\n",
    "    \n",
    "    a = fiboRecursive(n-1)\n",
    "    b = fiboRecursive(n-2)\n",
    "    \n",
    "    res = a + b\n",
    "    \n",
    "    return res"
   ]
  },
  {
   "cell_type": "code",
   "execution_count": 9,
   "id": "standing-utility",
   "metadata": {},
   "outputs": [],
   "source": [
    "def fibo_memo(n,dp_arr):\n",
    "    if n==0:\n",
    "        return 0\n",
    "    if n==1:\n",
    "        return 1\n",
    "    \n",
    "    if dp_arr[n-1] == -1:\n",
    "        a = fibo_memo(n-1,dp_arr)\n",
    "        dp_arr[n-1] = a\n",
    "        \n",
    "    else:\n",
    "        a = dp_arr[n-1]\n",
    "        \n",
    "    if dp_arr[n-2] == -1:\n",
    "        b = fibo_memo(n-2,dp_arr)\n",
    "        dp_arr[n-2] = b\n",
    "    else:\n",
    "        b = dp_arr[n-2]\n",
    "        \n",
    "    return a + b"
   ]
  },
  {
   "cell_type": "code",
   "execution_count": 14,
   "id": "painful-radical",
   "metadata": {},
   "outputs": [
    {
     "name": "stdout",
     "output_type": "stream",
     "text": [
      "50\n",
      "12586269025\n"
     ]
    }
   ],
   "source": [
    "n = int(input())\n",
    "dp_arr = [-1 for i in range(n)]\n",
    "print(fibo_memo(n,dp_arr))"
   ]
  },
  {
   "cell_type": "code",
   "execution_count": 15,
   "id": "extensive-magazine",
   "metadata": {},
   "outputs": [],
   "source": [
    "def fibo_Iteratively(n):\n",
    "    \n",
    "    array = [-1 for i in range(n+1)]\n",
    "    \n",
    "    array[0] = 0\n",
    "    array[1] = 1\n",
    "    for i in range(2,n+1):\n",
    "        array[i] = array[i-1] + array[i-2]\n",
    "        \n",
    "    return array[n]"
   ]
  },
  {
   "cell_type": "code",
   "execution_count": 18,
   "id": "virtual-gather",
   "metadata": {},
   "outputs": [
    {
     "name": "stdout",
     "output_type": "stream",
     "text": [
      "354224848179261915075\n"
     ]
    }
   ],
   "source": [
    "print(fibo_Iteratively(100))"
   ]
  },
  {
   "cell_type": "code",
   "execution_count": null,
   "id": "important-programming",
   "metadata": {},
   "outputs": [],
   "source": []
  }
 ],
 "metadata": {
  "kernelspec": {
   "display_name": "Python 3",
   "language": "python",
   "name": "python3"
  },
  "language_info": {
   "codemirror_mode": {
    "name": "ipython",
    "version": 3
   },
   "file_extension": ".py",
   "mimetype": "text/x-python",
   "name": "python",
   "nbconvert_exporter": "python",
   "pygments_lexer": "ipython3",
   "version": "3.9.1"
  }
 },
 "nbformat": 4,
 "nbformat_minor": 5
}
