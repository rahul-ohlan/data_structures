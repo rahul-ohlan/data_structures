{
 "cells": [
  {
   "cell_type": "code",
   "execution_count": 6,
   "id": "sound-hawaiian",
   "metadata": {},
   "outputs": [],
   "source": [
    "def minsteps_recursive(num):\n",
    "    \n",
    "    if num==1:\n",
    "        return 0\n",
    "    \n",
    "    a1 = 1 + minsteps_recursive(num-1)\n",
    "    \n",
    "    if num%2 == 0:\n",
    "        a2 = 1 + minsteps_recursive(num//2)\n",
    "        \n",
    "    else:\n",
    "        a2 = float('inf')\n",
    "    \n",
    "    if num%3 == 0:\n",
    "        a3 = 1 + minsteps_recursive(num//3)\n",
    "    else:\n",
    "        a3 = float('inf')\n",
    "    \n",
    "    res = min(a1,a2,a3)\n",
    "    \n",
    "    return res"
   ]
  },
  {
   "cell_type": "code",
   "execution_count": 13,
   "id": "grave-flavor",
   "metadata": {},
   "outputs": [
    {
     "name": "stdout",
     "output_type": "stream",
     "text": [
      "300\n",
      "8\n"
     ]
    }
   ],
   "source": [
    "n= int(input())\n",
    "print(minsteps_recursive(n))"
   ]
  },
  {
   "cell_type": "code",
   "execution_count": 14,
   "id": "competent-bulgaria",
   "metadata": {},
   "outputs": [
    {
     "name": "stdout",
     "output_type": "stream",
     "text": [
      "300\n",
      "8\n"
     ]
    }
   ],
   "source": [
    "def mins_memo(num,dp_arr):\n",
    "    \n",
    "    if num==1:\n",
    "        return 0\n",
    "    \n",
    "    if dp_arr[num-1] == -1:\n",
    "        dp_arr[num-1] = mins_memo(num-1,dp_arr)\n",
    "        a1 = 1 + dp_arr[num-1]\n",
    "    else:\n",
    "        a1 = 1 + dp_arr[num-1]\n",
    "        \n",
    "    if num%2 == 0:\n",
    "        if dp_arr[num//2] == -1:\n",
    "            dp_arr[num//2] = mins_memo(num//2,dp_arr)\n",
    "            a2 = 1 + dp_arr[num//2]\n",
    "        else:\n",
    "            a2 = 1 + dp_arr[num//2]\n",
    "    else:\n",
    "        a2 = float('inf')\n",
    "    if num%3 == 0:\n",
    "        if dp_arr[num//3] == -1:\n",
    "            dp_arr[num//3] = mins_memo(num//3,dp_arr)\n",
    "            a3 = 1 + dp_arr[num//3]\n",
    "        else:\n",
    "            a3 = 1 + dp_arr[num//3]\n",
    "    else:\n",
    "        a3 = float('inf')\n",
    "        \n",
    "    res = min(a1,a2,a3)\n",
    "    return res\n",
    "\n",
    "k = int(input())\n",
    "dp_arr = [-1 for i in range(k+1)]\n",
    "print(mins_memo(k,dp_arr))"
   ]
  },
  {
   "cell_type": "code",
   "execution_count": 19,
   "id": "ecological-budapest",
   "metadata": {},
   "outputs": [],
   "source": [
    "def minsteps_iter(num):\n",
    "    \n",
    "    dp_arr = [-1 for i in range(n+1)]\n",
    "    \n",
    "    dp_arr[1] = 0\n",
    "    \n",
    "    for i in range(2,n+1):\n",
    "        \n",
    "        a1 = 1 + dp_arr[i-1]\n",
    "        \n",
    "        if i%2==0:\n",
    "            a2 = 1 + dp_arr[i//2]\n",
    "        else:\n",
    "            a2 = float('inf')\n",
    "        if i%3 ==0:\n",
    "            a3 = 1 + dp_arr[i//3]\n",
    "        else:\n",
    "            a3 = float('inf')\n",
    "        \n",
    "        dp_arr[i] = min(a1,a2,a3)\n",
    "        \n",
    "    return dp_arr[num]"
   ]
  },
  {
   "cell_type": "code",
   "execution_count": 22,
   "id": "hindu-external",
   "metadata": {},
   "outputs": [
    {
     "name": "stdout",
     "output_type": "stream",
     "text": [
      "5\n",
      "3\n"
     ]
    }
   ],
   "source": [
    "k = int(input())\n",
    "print(minsteps_iter(k))"
   ]
  },
  {
   "cell_type": "code",
   "execution_count": null,
   "id": "iraqi-ending",
   "metadata": {},
   "outputs": [],
   "source": []
  }
 ],
 "metadata": {
  "kernelspec": {
   "display_name": "Python 3",
   "language": "python",
   "name": "python3"
  },
  "language_info": {
   "codemirror_mode": {
    "name": "ipython",
    "version": 3
   },
   "file_extension": ".py",
   "mimetype": "text/x-python",
   "name": "python",
   "nbconvert_exporter": "python",
   "pygments_lexer": "ipython3",
   "version": "3.9.1"
  }
 },
 "nbformat": 4,
 "nbformat_minor": 5
}
