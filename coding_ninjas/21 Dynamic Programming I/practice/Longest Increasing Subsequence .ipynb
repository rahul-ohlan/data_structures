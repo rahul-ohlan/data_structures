{
 "cells": [
  {
   "cell_type": "code",
   "execution_count": 2,
   "id": "parental-netherlands",
   "metadata": {},
   "outputs": [],
   "source": [
    "def LIS_recursive(array,si,n):\n",
    "    \n",
    "    if si==n:\n",
    "        return 0,0\n",
    "    including_max = 1\n",
    "    for j in range(si+1,n):\n",
    "        \n",
    "        if array[j] >= array[si]:\n",
    "            next_inc_max = LIS_recursive(array,j,n)[0]\n",
    "            \n",
    "            including_max = max(including_max,1 + next_inc_max)\n",
    "            \n",
    "    excluding_max = LIS_recursive(array,si+1,n)[1]\n",
    "    \n",
    "    overall_max = max(including_max,excluding_max)\n",
    "    \n",
    "    return including_max,overall_max"
   ]
  },
  {
   "cell_type": "code",
   "execution_count": 4,
   "id": "proprietary-sheriff",
   "metadata": {},
   "outputs": [
    {
     "name": "stdout",
     "output_type": "stream",
     "text": [
      "5\n"
     ]
    }
   ],
   "source": [
    "array = [6,3,2,1,5,6,8,9]\n",
    "n = len(array)\n",
    "print(LIS_recursive(array,0,n)[1])"
   ]
  },
  {
   "cell_type": "code",
   "execution_count": 9,
   "id": "altered-glory",
   "metadata": {},
   "outputs": [],
   "source": [
    "def LIS_memo(array,si,n,dp_arr):\n",
    "    \n",
    "    if si == n:\n",
    "        return 0,0\n",
    "    inc_max = 1\n",
    "    for j in range(si+1,n):\n",
    "        \n",
    "        if array[j] >= array[si]:\n",
    "            \n",
    "            if dp_arr[j] == 0:\n",
    "                next_inc_max = LIS_memo(array,j,n,dp_arr)\n",
    "                dp_arr[j] = next_inc_max\n",
    "                inc_max = max(inc_max,1+dp_arr[j][0])\n",
    "            else:\n",
    "                inc_max = max(inc_max,1+dp_arr[j][0])\n",
    "    if dp_arr[si+1] == 0:\n",
    "        dp_arr[si+1] = LIS_memo(array,si+1,n,dp_arr)\n",
    "        excluding_max = dp_arr[si+1][1]\n",
    "    else:\n",
    "        excluding_max = dp_arr[si+1][1]\n",
    "        \n",
    "    overall_max = max(inc_max,excluding_max)\n",
    "    return inc_max,overall_max\n"
   ]
  },
  {
   "cell_type": "code",
   "execution_count": 12,
   "id": "italic-boulder",
   "metadata": {},
   "outputs": [
    {
     "name": "stdout",
     "output_type": "stream",
     "text": [
      "5\n"
     ]
    }
   ],
   "source": [
    "arr = [6,3,2,1,5,7,8,9]\n",
    "l = len(arr)\n",
    "dp_arr = [0 for i in range(l+1)]\n",
    "print(LIS_memo(arr,0,l,dp_arr)[1])"
   ]
  },
  {
   "cell_type": "code",
   "execution_count": 15,
   "id": "invisible-provider",
   "metadata": {},
   "outputs": [],
   "source": [
    "# bottoms up approach\n",
    "def LIS_iteratively(array,n):\n",
    "    \n",
    "    dp_array = [0 for i in range(n)]\n",
    "    \n",
    "    dp_array[n-1] = 1\n",
    "    \n",
    "    for i in range(n-2,-1,-1):\n",
    "        inc_max = 1\n",
    "        if array[i+1]>=array[i]:\n",
    "            inc_max = 1 + dp_array[i+1]\n",
    "        excluding_max = dp_array[i+1]\n",
    "        \n",
    "        dp_array[i] = max(inc_max,excluding_max)\n",
    "    \n",
    "    return dp_array[0]"
   ]
  },
  {
   "cell_type": "code",
   "execution_count": 18,
   "id": "excessive-cameroon",
   "metadata": {},
   "outputs": [
    {
     "name": "stdout",
     "output_type": "stream",
     "text": [
      "10\n"
     ]
    }
   ],
   "source": [
    "array = [9,1,2,3,4,5,10,11,12,13,14]\n",
    "n = len(array)\n",
    "print(LIS_iteratively(array,n))"
   ]
  }
 ],
 "metadata": {
  "kernelspec": {
   "display_name": "Python 3",
   "language": "python",
   "name": "python3"
  },
  "language_info": {
   "codemirror_mode": {
    "name": "ipython",
    "version": 3
   },
   "file_extension": ".py",
   "mimetype": "text/x-python",
   "name": "python",
   "nbconvert_exporter": "python",
   "pygments_lexer": "ipython3",
   "version": "3.9.1"
  }
 },
 "nbformat": 4,
 "nbformat_minor": 5
}
