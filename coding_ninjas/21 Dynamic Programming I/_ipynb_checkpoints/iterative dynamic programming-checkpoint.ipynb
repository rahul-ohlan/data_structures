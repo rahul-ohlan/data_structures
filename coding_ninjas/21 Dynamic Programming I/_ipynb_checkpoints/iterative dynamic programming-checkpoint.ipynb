{
 "cells": [
  {
   "cell_type": "code",
   "execution_count": 3,
   "id": "median-cooler",
   "metadata": {},
   "outputs": [
    {
     "name": "stdout",
     "output_type": "stream",
     "text": [
      "7\n",
      "13\n"
     ]
    }
   ],
   "source": [
    "def fiboIteratively(n):\n",
    "    array = [0 for i in range(n+1)]\n",
    "    array[0] = 0\n",
    "    array[1] = 1\n",
    "    i = 2\n",
    "    while i <=n:\n",
    "        array[i] = array[i-1] + array[i-2]\n",
    "        i+=1\n",
    "    return array[n]\n",
    "\n",
    "n = int(input())\n",
    "ans = fiboIteratively(n)\n",
    "print(ans)"
   ]
  },
  {
   "cell_type": "code",
   "execution_count": null,
   "id": "foreign-tackle",
   "metadata": {},
   "outputs": [],
   "source": []
  }
 ],
 "metadata": {
  "kernelspec": {
   "display_name": "Python 3",
   "language": "python",
   "name": "python3"
  },
  "language_info": {
   "codemirror_mode": {
    "name": "ipython",
    "version": 3
   },
   "file_extension": ".py",
   "mimetype": "text/x-python",
   "name": "python",
   "nbconvert_exporter": "python",
   "pygments_lexer": "ipython3",
   "version": "3.9.1"
  }
 },
 "nbformat": 4,
 "nbformat_minor": 5
}
