{
 "cells": [
  {
   "cell_type": "code",
   "execution_count": 2,
   "id": "adopted-north",
   "metadata": {},
   "outputs": [],
   "source": [
    "def fibo(n,array):\n",
    "    \n",
    "    if n==0 or n==1:\n",
    "        return n\n",
    "    \n",
    "    if array[n-1] == -1:\n",
    "        a = fibo(n-1,array)\n",
    "        array[n-1] = a\n",
    "    else:\n",
    "        a = array[n-1]\n",
    "        \n",
    "    if array[n-2] == -1:\n",
    "        b = fibo(n-2,array)\n",
    "        array[n-2] = b\n",
    "    else:\n",
    "        b = array[n-2]\n",
    "        \n",
    "    res = a + b\n",
    "    return res"
   ]
  },
  {
   "cell_type": "code",
   "execution_count": 3,
   "id": "incomplete-undergraduate",
   "metadata": {},
   "outputs": [
    {
     "name": "stdout",
     "output_type": "stream",
     "text": [
      "100\n",
      "354224848179261915075\n"
     ]
    }
   ],
   "source": [
    "n = int(input())\n",
    "array = [-1 for i in range(n+1)]\n",
    "print(fibo(n,array))"
   ]
  },
  {
   "cell_type": "code",
   "execution_count": null,
   "id": "unsigned-tonight",
   "metadata": {},
   "outputs": [],
   "source": []
  }
 ],
 "metadata": {
  "kernelspec": {
   "display_name": "Python 3",
   "language": "python",
   "name": "python3"
  },
  "language_info": {
   "codemirror_mode": {
    "name": "ipython",
    "version": 3
   },
   "file_extension": ".py",
   "mimetype": "text/x-python",
   "name": "python",
   "nbconvert_exporter": "python",
   "pygments_lexer": "ipython3",
   "version": "3.9.1"
  }
 },
 "nbformat": 4,
 "nbformat_minor": 5
}
