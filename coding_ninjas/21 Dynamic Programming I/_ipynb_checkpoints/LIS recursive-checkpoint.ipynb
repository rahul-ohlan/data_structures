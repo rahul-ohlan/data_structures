{
 "cells": [
  {
   "cell_type": "code",
   "execution_count": 5,
   "id": "hungry-finland",
   "metadata": {},
   "outputs": [],
   "source": [
    "def LIS_recursive(array,si,n):\n",
    "    \n",
    "    if si==n:\n",
    "        return 0,0\n",
    "    \n",
    "    including_max = 1\n",
    "    \n",
    "    for j in range(si+1,n):\n",
    "        \n",
    "        if array[j] >= array[si]:\n",
    "            next_including_max = LIS_recursive(array,j,n)[0]\n",
    "            including_max = max(including_max, 1+ next_including_max)\n",
    "            \n",
    "    excluding_max = LIS_recursive(array,si+1,n)[1]\n",
    "    overall_max = max(excluding_max,including_max)\n",
    "    \n",
    "    return including_max,overall_max\n",
    "            \n",
    "    "
   ]
  },
  {
   "cell_type": "code",
   "execution_count": 6,
   "id": "present-express",
   "metadata": {},
   "outputs": [
    {
     "name": "stdout",
     "output_type": "stream",
     "text": [
      "enter size of array: 7\n",
      "6 3 1 2 7 0 9\n",
      "4\n"
     ]
    }
   ],
   "source": [
    "n =int(input('enter size of array: '))\n",
    "array = [int(c) for c in input().split()]\n",
    "\n",
    "res = LIS_recursive(array,0,n)[1]\n",
    "print(res)"
   ]
  },
  {
   "cell_type": "code",
   "execution_count": 10,
   "id": "final-genealogy",
   "metadata": {},
   "outputs": [],
   "source": [
    "def LIS_recursiveDP(array,si,n,dp):\n",
    "    \n",
    "    if si==n:\n",
    "        return 0,0\n",
    "    \n",
    "    including_max = 1\n",
    "    \n",
    "    for j in range(si+1,n):\n",
    "        \n",
    "        if array[j] >= array[si]:\n",
    "            if dp[j] == -1:\n",
    "                ans = LIS_recursiveDP(array,j,n,dp)\n",
    "                dp[j] = ans\n",
    "                next_including_max = ans[0]\n",
    "            else:\n",
    "                next_including_max = dp[j][0]\n",
    "            including_max = max(including_max,1+ next_including_max)\n",
    "            \n",
    "    if dp[si+1] == -1:\n",
    "        ans = LIS_recursiveDP(array,si+1,n,dp)\n",
    "        dp[si+1] = ans\n",
    "        excluding_max = ans[1]\n",
    "    else:\n",
    "        excluding_max = dp[si+1][1]\n",
    "        \n",
    "    overall_max = max(including_max,excluding_max)\n",
    "    \n",
    "    return including_max,overall_max\n",
    "            \n",
    "    "
   ]
  },
  {
   "cell_type": "code",
   "execution_count": 13,
   "id": "differential-struggle",
   "metadata": {},
   "outputs": [
    {
     "name": "stdout",
     "output_type": "stream",
     "text": [
      "enter length of array: 7\n",
      "6 3 1 2 0 7 9\n",
      "4\n"
     ]
    }
   ],
   "source": [
    "n = int(input('enter length of array: '))\n",
    "array = [int(x) for x in input().split()]\n",
    "dp = [-1 for i in range(n+1)]\n",
    "print(LIS_recursiveDP(array,0,n,dp)[1])"
   ]
  },
  {
   "cell_type": "code",
   "execution_count": 16,
   "id": "frank-sample",
   "metadata": {},
   "outputs": [],
   "source": [
    "def LISiteratively(array,n):\n",
    "    \n",
    "    new_array = [[0 for j in range(2)] for i in range(n+1)]\n",
    "    \n",
    "    for i in range(n-1,-1,-1):\n",
    "        \n",
    "        including_max = 1\n",
    "        \n",
    "        for j in range(i+1,n):\n",
    "            if array[j] > array[i]:\n",
    "                including_max = max(including_max,1+new_array[j][0])\n",
    "                \n",
    "        new_array[i][0] = including_max\n",
    "        \n",
    "        excluding_max = new_array[i+1][1]\n",
    "        overall_max = max(including_max,excluding_max)\n",
    "        new_array[i][1] = overall_max\n",
    "        \n",
    "    return new_array[0][1]\n"
   ]
  },
  {
   "cell_type": "code",
   "execution_count": 18,
   "id": "swiss-medication",
   "metadata": {},
   "outputs": [
    {
     "name": "stdout",
     "output_type": "stream",
     "text": [
      "7\n",
      "6 3 1 2 0 7 9\n",
      "4\n"
     ]
    }
   ],
   "source": [
    "n = int(input())\n",
    "array = [int(c) for c in input().split()]\n",
    "print(LISiteratively(array,n))"
   ]
  },
  {
   "cell_type": "code",
   "execution_count": null,
   "id": "knowing-shore",
   "metadata": {},
   "outputs": [],
   "source": []
  }
 ],
 "metadata": {
  "kernelspec": {
   "display_name": "Python 3",
   "language": "python",
   "name": "python3"
  },
  "language_info": {
   "codemirror_mode": {
    "name": "ipython",
    "version": 3
   },
   "file_extension": ".py",
   "mimetype": "text/x-python",
   "name": "python",
   "nbconvert_exporter": "python",
   "pygments_lexer": "ipython3",
   "version": "3.9.1"
  }
 },
 "nbformat": 4,
 "nbformat_minor": 5
}
