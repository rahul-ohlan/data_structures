{
 "cells": [
  {
   "cell_type": "code",
   "execution_count": 28,
   "id": "precious-grocery",
   "metadata": {},
   "outputs": [],
   "source": [
    "def minstepstoOne(n,array):\n",
    "    \n",
    "    if n ==1:\n",
    "        return 0\n",
    "    \n",
    "    if array[n-1] == -1:\n",
    "        a1 = minstepstoOne(n-1,array)\n",
    "        array[n-1] = a1\n",
    "    else:\n",
    "        a1 = array[n-1]\n",
    "        \n",
    "    a2 = float('inf')\n",
    "    \n",
    "    if n%2 == 0:\n",
    "        if array[n//2] == -1:\n",
    "            a2 = minstepstoOne(n//2,array)\n",
    "            array[n//2] = a2\n",
    "        else:\n",
    "            a2 = array[n//2]\n",
    "            \n",
    "    a3 = float('inf')\n",
    "    \n",
    "    if n%3 == 0:\n",
    "        if array[n//3] == -1:\n",
    "            a3 = minstepstoOne(n//3,array)\n",
    "            array[n//3] = a3\n",
    "        else:\n",
    "            a3 = array[n//3]\n",
    "            \n",
    "    res = 1 + min(a1,a2,a3)\n",
    "    \n",
    "    return res"
   ]
  },
  {
   "cell_type": "code",
   "execution_count": 32,
   "id": "featured-pakistan",
   "metadata": {},
   "outputs": [
    {
     "name": "stdout",
     "output_type": "stream",
     "text": [
      "7\n",
      "3\n"
     ]
    }
   ],
   "source": [
    "n = int(input())\n",
    "array = [-1 for i in range(n+1)]\n",
    "print(minstepstoOne(n,array))"
   ]
  },
  {
   "cell_type": "code",
   "execution_count": 6,
   "id": "spoken-information",
   "metadata": {},
   "outputs": [],
   "source": [
    "import sys\n",
    "def method2(n,dp):\n",
    "    \n",
    "    if n==1:\n",
    "        return 0\n",
    "    \n",
    "    a1 = sys.maxsize\n",
    "    \n",
    "    if n%3 == 0:\n",
    "        if dp[n//3] == -1:\n",
    "            a1 = method2(n//3,dp)\n",
    "            dp[n//3] = a1\n",
    "        else:\n",
    "            a1 = dp[n//3]\n",
    "        \n",
    "    a2 = sys.maxsize\n",
    "    \n",
    "    if n%2 == 0:\n",
    "        \n",
    "        if dp[n//2] == -1:\n",
    "            a2 = method2(n//2,dp)\n",
    "            dp[n//2] = a2\n",
    "        else:\n",
    "            a2 = dp[n//2]\n",
    "    \n",
    "    if dp[n-1] == -1:\n",
    "        a3 = method2(n-1,dp)\n",
    "        dp[n-1] = a3\n",
    "    else:\n",
    "        a3 = dp[n-1]\n",
    "    \n",
    "    res = 1 + min(a1,a2,a3)\n",
    "    \n",
    "    return res"
   ]
  },
  {
   "cell_type": "code",
   "execution_count": 9,
   "id": "outstanding-capital",
   "metadata": {},
   "outputs": [
    {
     "name": "stdout",
     "output_type": "stream",
     "text": [
      "20\n",
      "4\n"
     ]
    }
   ],
   "source": [
    "k = int(input())\n",
    "dp = [-1 for i in range(k+1)]\n",
    "print(method2(k,dp))"
   ]
  },
  {
   "cell_type": "code",
   "execution_count": 12,
   "id": "eleven-carter",
   "metadata": {},
   "outputs": [],
   "source": [
    "def iterativeDP(n):\n",
    "    \n",
    "    array = [-1 for i in range(n+1)]\n",
    "    \n",
    "    array[1] = 0\n",
    "    i = 2\n",
    "    while i <= n:\n",
    "        \n",
    "        a1 = array[i-1]\n",
    "        \n",
    "        a2 = float('inf')\n",
    "        if i%2==0:\n",
    "            a2 = array[i//2]\n",
    "        a3 = float('inf')\n",
    "        if i%3 == 0:\n",
    "            a3 = array[i//3]\n",
    "            \n",
    "        array[i] = 1 + min(a1,a2,a3)\n",
    "        \n",
    "        i+=1\n",
    "    return array[n]"
   ]
  },
  {
   "cell_type": "code",
   "execution_count": 14,
   "id": "defined-result",
   "metadata": {},
   "outputs": [
    {
     "name": "stdout",
     "output_type": "stream",
     "text": [
      "20\n",
      "4\n"
     ]
    }
   ],
   "source": [
    "k = int(input())\n",
    "print(iterativeDP(k))"
   ]
  },
  {
   "cell_type": "code",
   "execution_count": null,
   "id": "vital-charlotte",
   "metadata": {},
   "outputs": [],
   "source": []
  }
 ],
 "metadata": {
  "kernelspec": {
   "display_name": "Python 3",
   "language": "python",
   "name": "python3"
  },
  "language_info": {
   "codemirror_mode": {
    "name": "ipython",
    "version": 3
   },
   "file_extension": ".py",
   "mimetype": "text/x-python",
   "name": "python",
   "nbconvert_exporter": "python",
   "pygments_lexer": "ipython3",
   "version": "3.9.1"
  }
 },
 "nbformat": 4,
 "nbformat_minor": 5
}
