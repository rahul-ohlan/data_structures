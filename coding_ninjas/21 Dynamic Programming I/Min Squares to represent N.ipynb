{
 "cells": [
  {
   "cell_type": "code",
   "execution_count": 25,
   "id": "exterior-madonna",
   "metadata": {},
   "outputs": [],
   "source": [
    "# simple recursive solution:\n",
    "def minsquares(n):\n",
    "    \n",
    "    if n == 0:\n",
    "        return 0\n",
    "    \n",
    "    i = 1\n",
    "    res = float('inf')\n",
    "    while i**2 <= n:\n",
    "        curr_min = 1 + minsquares(n-i**2)\n",
    "        res = min(res,curr_min)\n",
    "        i+=1\n",
    "        \n",
    "    return res"
   ]
  },
  {
   "cell_type": "code",
   "execution_count": 31,
   "id": "narrow-recycling",
   "metadata": {},
   "outputs": [
    {
     "name": "stdout",
     "output_type": "stream",
     "text": [
      "41\n",
      "2\n"
     ]
    }
   ],
   "source": [
    "n = int(input())\n",
    "print(minsquares(n))"
   ]
  },
  {
   "cell_type": "code",
   "execution_count": 32,
   "id": "theoretical-martial",
   "metadata": {},
   "outputs": [],
   "source": [
    "# memoisation of above recursive solution:\n",
    "def minsquaresDP(n,array):\n",
    "    \n",
    "    if n == 0:\n",
    "\n",
    "        return 0\n",
    "    \n",
    "    i = 1\n",
    "    res = float('inf')\n",
    "    while i**2 <= n:\n",
    "        if array[n-i**2] == -1:\n",
    "            curr_min = 1 + minsquaresDP(n-i**2,array)\n",
    "            res = min(res,curr_min)\n",
    "            array[n-i**2] = curr_min-1\n",
    "        else:\n",
    "            curr_min = 1+array[n-i**2]\n",
    "            res = min(res,curr_min)\n",
    "        i+=1\n",
    "        \n",
    "    return res"
   ]
  },
  {
   "cell_type": "code",
   "execution_count": 52,
   "id": "whole-setting",
   "metadata": {},
   "outputs": [
    {
     "name": "stdout",
     "output_type": "stream",
     "text": [
      "10\n",
      "2\n"
     ]
    }
   ],
   "source": [
    "n = int(input())\n",
    "array = [-1 for i in range(n+1)]\n",
    "print(minsquaresDP(n,array))"
   ]
  },
  {
   "cell_type": "code",
   "execution_count": 51,
   "id": "complex-litigation",
   "metadata": {},
   "outputs": [
    {
     "name": "stdout",
     "output_type": "stream",
     "text": [
      "10\n",
      "2\n"
     ]
    }
   ],
   "source": [
    "# iterative solution dynamic programming\n",
    "def minsquaresIterativeDP(n):\n",
    "    \n",
    "    array = [-1 for i in range(n+1)]\n",
    "    \n",
    "    array[0] = 0\n",
    "    \n",
    "    \n",
    "    for iterable in range(1,n+1):\n",
    "        \n",
    "        i = 1\n",
    "        res = float('inf')\n",
    "        while i**2 <= iterable: \n",
    "            curr_min = 1 + array[iterable-(i**2)]\n",
    "            resi = min(resi,curr_min)\n",
    "            i+=1\n",
    "        dp[iterable] = res\n",
    "        \n",
    "    return array[n]\n",
    "\n",
    "n = int(input())\n",
    "print(minsquaresIterativeDP(n))\n",
    "        \n",
    "    "
   ]
  },
  {
   "cell_type": "code",
   "execution_count": null,
   "id": "coastal-mercury",
   "metadata": {},
   "outputs": [],
   "source": []
  }
 ],
 "metadata": {
  "kernelspec": {
   "display_name": "Python 3",
   "language": "python",
   "name": "python3"
  },
  "language_info": {
   "codemirror_mode": {
    "name": "ipython",
    "version": 3
   },
   "file_extension": ".py",
   "mimetype": "text/x-python",
   "name": "python",
   "nbconvert_exporter": "python",
   "pygments_lexer": "ipython3",
   "version": "3.9.1"
  }
 },
 "nbformat": 4,
 "nbformat_minor": 5
}
