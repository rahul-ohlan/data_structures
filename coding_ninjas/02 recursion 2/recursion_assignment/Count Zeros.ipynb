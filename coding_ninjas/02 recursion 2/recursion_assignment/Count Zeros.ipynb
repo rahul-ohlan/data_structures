{
 "cells": [
  {
   "cell_type": "code",
   "execution_count": 13,
   "id": "permanent-silver",
   "metadata": {},
   "outputs": [
    {
     "name": "stdout",
     "output_type": "stream",
     "text": [
      "20050000\n"
     ]
    },
    {
     "data": {
      "text/plain": [
       "6"
      ]
     },
     "execution_count": 13,
     "metadata": {},
     "output_type": "execute_result"
    }
   ],
   "source": [
    "def countZeros(n):\n",
    "    if n==0:\n",
    "        return 1\n",
    "    elif n<10:\n",
    "        return 0\n",
    "    digit = n%10\n",
    "    if digit ==0:\n",
    "        count = 1 + countZeros(n//10)\n",
    "    else:\n",
    "        count = 0 + countZeros(n//10)\n",
    "    return count\n",
    "\n",
    "\n",
    "k = int(input())\n",
    "countZeros(k)"
   ]
  },
  {
   "cell_type": "code",
   "execution_count": null,
   "id": "infectious-citation",
   "metadata": {},
   "outputs": [],
   "source": []
  }
 ],
 "metadata": {
  "kernelspec": {
   "display_name": "Python 3",
   "language": "python",
   "name": "python3"
  },
  "language_info": {
   "codemirror_mode": {
    "name": "ipython",
    "version": 3
   },
   "file_extension": ".py",
   "mimetype": "text/x-python",
   "name": "python",
   "nbconvert_exporter": "python",
   "pygments_lexer": "ipython3",
   "version": "3.9.1"
  }
 },
 "nbformat": 4,
 "nbformat_minor": 5
}
