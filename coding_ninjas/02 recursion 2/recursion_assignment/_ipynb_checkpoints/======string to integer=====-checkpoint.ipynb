{
 "cells": [
  {
   "cell_type": "code",
   "execution_count": 1,
   "id": "several-venue",
   "metadata": {},
   "outputs": [
    {
     "name": "stdout",
     "output_type": "stream",
     "text": [
      "1234567\n"
     ]
    },
    {
     "data": {
      "text/plain": [
       "1234567"
      ]
     },
     "execution_count": 1,
     "metadata": {},
     "output_type": "execute_result"
    }
   ],
   "source": [
    "def str_to_int(st):\n",
    "    l = len(st)\n",
    "    if len(st)==1:\n",
    "        return ord(st)-48\n",
    "    a = ord(st[0])-48\n",
    "    # Recursion Leap of Faith\n",
    "    return a*(10**(len(st)-1)) + str_to_int(st[1:])\n",
    "\n",
    "\n",
    "st = input()\n",
    "str_to_int(st)"
   ]
  },
  {
   "cell_type": "code",
   "execution_count": null,
   "id": "desirable-delay",
   "metadata": {},
   "outputs": [],
   "source": []
  }
 ],
 "metadata": {
  "kernelspec": {
   "display_name": "Python 3",
   "language": "python",
   "name": "python3"
  },
  "language_info": {
   "codemirror_mode": {
    "name": "ipython",
    "version": 3
   },
   "file_extension": ".py",
   "mimetype": "text/x-python",
   "name": "python",
   "nbconvert_exporter": "python",
   "pygments_lexer": "ipython3",
   "version": "3.9.1"
  }
 },
 "nbformat": 4,
 "nbformat_minor": 5
}
