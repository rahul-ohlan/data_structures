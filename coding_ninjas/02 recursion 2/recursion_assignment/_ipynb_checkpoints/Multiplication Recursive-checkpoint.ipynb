{
 "cells": [
  {
   "cell_type": "code",
   "execution_count": 6,
   "id": "genuine-cartridge",
   "metadata": {},
   "outputs": [
    {
     "name": "stdout",
     "output_type": "stream",
     "text": [
      "500\n",
      "500\n"
     ]
    },
    {
     "data": {
      "text/plain": [
       "250000"
      ]
     },
     "execution_count": 6,
     "metadata": {},
     "output_type": "execute_result"
    }
   ],
   "source": [
    "def multiplyrec(m,n):\n",
    "    if m==0 or n==0:\n",
    "        return 0\n",
    "    num = m + multiplyrec(m,n-1)\n",
    "    return num\n",
    "\n",
    "\n",
    "m,n = int(input()),int(input())\n",
    "multiplyrec(m,n)s"
   ]
  },
  {
   "cell_type": "code",
   "execution_count": null,
   "id": "exempt-spring",
   "metadata": {},
   "outputs": [],
   "source": []
  }
 ],
 "metadata": {
  "kernelspec": {
   "display_name": "Python 3",
   "language": "python",
   "name": "python3"
  },
  "language_info": {
   "codemirror_mode": {
    "name": "ipython",
    "version": 3
   },
   "file_extension": ".py",
   "mimetype": "text/x-python",
   "name": "python",
   "nbconvert_exporter": "python",
   "pygments_lexer": "ipython3",
   "version": "3.9.1"
  }
 },
 "nbformat": 4,
 "nbformat_minor": 5
}
