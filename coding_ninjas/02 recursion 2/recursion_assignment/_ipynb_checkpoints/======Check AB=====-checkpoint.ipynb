{
 "cells": [
  {
   "cell_type": "markdown",
   "id": "greenhouse-trouble",
   "metadata": {},
   "source": [
    "Suppose you have a string, S, made up of only 'a's and 'b's. Write a recursive function that checks if the string was generated using the following rules:"
   ]
  },
  {
   "cell_type": "markdown",
   "id": "demanding-signature",
   "metadata": {},
   "source": [
    "1. The string begins with an 'a'"
   ]
  },
  {
   "cell_type": "markdown",
   "id": "incoming-overhead",
   "metadata": {},
   "source": [
    "2. Each 'a' is followed by nothing or an 'a' or \"bb\"."
   ]
  },
  {
   "cell_type": "markdown",
   "id": "genetic-circle",
   "metadata": {},
   "source": [
    "3. Each \"bb\" is followed by nothing or an 'a'"
   ]
  },
  {
   "cell_type": "code",
   "execution_count": 6,
   "id": "revised-emission",
   "metadata": {},
   "outputs": [
    {
     "name": "stdout",
     "output_type": "stream",
     "text": [
      "abbbabaaa\n",
      "False\n"
     ]
    }
   ],
   "source": [
    "def checkAB(st):\n",
    "    if len(st)==0:\n",
    "        return True\n",
    "    if st[0]=='a':\n",
    "        return checkAB(st[1:])\n",
    "    elif st[0]=='b':\n",
    "        if st[1]=='b':\n",
    "            return checkAB(st[2:])\n",
    "        else:\n",
    "            return False\n",
    "        \n",
    "\n",
    "string = input()\n",
    "# don't pass the string to the function if it does not start with 'a'\n",
    "if string[0]=='a':\n",
    "    print(checkAB(string[1:]))\n",
    "else:\n",
    "    print('False')"
   ]
  },
  {
   "cell_type": "code",
   "execution_count": null,
   "id": "modified-southwest",
   "metadata": {},
   "outputs": [],
   "source": []
  }
 ],
 "metadata": {
  "kernelspec": {
   "display_name": "Python 3",
   "language": "python",
   "name": "python3"
  },
  "language_info": {
   "codemirror_mode": {
    "name": "ipython",
    "version": 3
   },
   "file_extension": ".py",
   "mimetype": "text/x-python",
   "name": "python",
   "nbconvert_exporter": "python",
   "pygments_lexer": "ipython3",
   "version": "3.9.1"
  }
 },
 "nbformat": 4,
 "nbformat_minor": 5
}
