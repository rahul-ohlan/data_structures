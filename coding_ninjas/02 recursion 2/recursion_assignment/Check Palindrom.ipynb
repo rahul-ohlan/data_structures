{
 "cells": [
  {
   "cell_type": "code",
   "execution_count": 20,
   "id": "powered-robinson",
   "metadata": {},
   "outputs": [
    {
     "name": "stdout",
     "output_type": "stream",
     "text": [
      "saippuakivikauppias\n"
     ]
    },
    {
     "data": {
      "text/plain": [
       "True"
      ]
     },
     "execution_count": 20,
     "metadata": {},
     "output_type": "execute_result"
    }
   ],
   "source": [
    "def checkPalindrom(st,si,ei):\n",
    "    if len(st)==0 or len(st)==1:\n",
    "        return True\n",
    "    if st[si]==st[ei]:\n",
    "        newst = st[si+1:-1]\n",
    "        return checkPalindrom(newst,0,len(newst)-1)\n",
    "    else:\n",
    "        return False\n",
    "\n",
    "\n",
    "\n",
    "k = input()\n",
    "si = 0\n",
    "ei = len(k)-1\n",
    "checkPalindrom(k,si,ei)"
   ]
  },
  {
   "cell_type": "markdown",
   "id": "favorite-maine",
   "metadata": {},
   "source": [
    "without copying new string"
   ]
  },
  {
   "cell_type": "code",
   "execution_count": 15,
   "id": "electoral-silly",
   "metadata": {},
   "outputs": [
    {
     "name": "stdout",
     "output_type": "stream",
     "text": [
      "racecar\n"
     ]
    },
    {
     "data": {
      "text/plain": [
       "True"
      ]
     },
     "execution_count": 15,
     "metadata": {},
     "output_type": "execute_result"
    }
   ],
   "source": [
    "def checkPalindrome(st,s,e):\n",
    "    if e-s==0:\n",
    "        return True\n",
    "    if e<s:\n",
    "        return True\n",
    "    if st[s]==st[e]:\n",
    "        return checkPalindrome(st,s+1,e-1)\n",
    "    else:\n",
    "        return False\n",
    "\n",
    "\n",
    "\n",
    "\n",
    "k = input()\n",
    "si = 0\n",
    "ei = len(k)-1\n",
    "checkPalindrome(k,si,ei)"
   ]
  },
  {
   "cell_type": "code",
   "execution_count": null,
   "id": "continuing-exercise",
   "metadata": {},
   "outputs": [],
   "source": []
  }
 ],
 "metadata": {
  "kernelspec": {
   "display_name": "Python 3",
   "language": "python",
   "name": "python3"
  },
  "language_info": {
   "codemirror_mode": {
    "name": "ipython",
    "version": 3
   },
   "file_extension": ".py",
   "mimetype": "text/x-python",
   "name": "python",
   "nbconvert_exporter": "python",
   "pygments_lexer": "ipython3",
   "version": "3.9.1"
  }
 },
 "nbformat": 4,
 "nbformat_minor": 5
}
