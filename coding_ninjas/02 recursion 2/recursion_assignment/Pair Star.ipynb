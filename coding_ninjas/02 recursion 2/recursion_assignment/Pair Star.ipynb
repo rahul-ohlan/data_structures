{
 "cells": [
  {
   "cell_type": "markdown",
   "id": "popular-hollow",
   "metadata": {},
   "source": [
    "Given a string S, compute recursively a new string where identical chars that are adjacent in the original string are separated from each other by a \"*\""
   ]
  },
  {
   "cell_type": "code",
   "execution_count": 6,
   "id": "expensive-borough",
   "metadata": {},
   "outputs": [
    {
     "name": "stdout",
     "output_type": "stream",
     "text": [
      "rraaahhhuull\n",
      "r*ra*a*ah*h*hu*ul*l\n"
     ]
    }
   ],
   "source": [
    "def mod_string(st):\n",
    "    if len(st)==0:\n",
    "        return\n",
    "    elif len(st)==1:\n",
    "        return st\n",
    "    if st[0]==st[1]:\n",
    "        return st[0]+'*'+ mod_string(st[1:])\n",
    "    else:\n",
    "        return st[0] + mod_string(st[1:])\n",
    "\n",
    "\n",
    "st = input()\n",
    "print(mod_string(st))"
   ]
  },
  {
   "cell_type": "code",
   "execution_count": null,
   "id": "bound-platform",
   "metadata": {},
   "outputs": [],
   "source": []
  }
 ],
 "metadata": {
  "kernelspec": {
   "display_name": "Python 3",
   "language": "python",
   "name": "python3"
  },
  "language_info": {
   "codemirror_mode": {
    "name": "ipython",
    "version": 3
   },
   "file_extension": ".py",
   "mimetype": "text/x-python",
   "name": "python",
   "nbconvert_exporter": "python",
   "pygments_lexer": "ipython3",
   "version": "3.9.1"
  }
 },
 "nbformat": 4,
 "nbformat_minor": 5
}
