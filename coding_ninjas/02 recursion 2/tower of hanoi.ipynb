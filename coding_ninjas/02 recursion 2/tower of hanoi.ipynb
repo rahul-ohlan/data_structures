{
 "cells": [
  {
   "cell_type": "code",
   "execution_count": 6,
   "id": "immune-humanitarian",
   "metadata": {},
   "outputs": [],
   "source": [
    "def tower_hanoi(n,a,b,c):\n",
    "    if n==1:\n",
    "        print('move first disk from',a,'to',c)\n",
    "        return\n",
    "    tower_hanoi(n-1,a,c,b)\n",
    "    print('move',n,'th disk from',a,'to',c)\n",
    "    tower_hanoi(n-1,b,a,c)\n",
    "    return"
   ]
  },
  {
   "cell_type": "code",
   "execution_count": 10,
   "id": "sweet-helping",
   "metadata": {},
   "outputs": [
    {
     "name": "stdout",
     "output_type": "stream",
     "text": [
      "move first disk from s to h\n",
      "move 2 th disk from s to d\n",
      "move first disk from h to d\n"
     ]
    }
   ],
   "source": [
    "tower_hanoi(2,'s','h','d')"
   ]
  },
  {
   "cell_type": "code",
   "execution_count": null,
   "id": "mediterranean-courage",
   "metadata": {},
   "outputs": [],
   "source": []
  }
 ],
 "metadata": {
  "kernelspec": {
   "display_name": "Python 3",
   "language": "python",
   "name": "python3"
  },
  "language_info": {
   "codemirror_mode": {
    "name": "ipython",
    "version": 3
   },
   "file_extension": ".py",
   "mimetype": "text/x-python",
   "name": "python",
   "nbconvert_exporter": "python",
   "pygments_lexer": "ipython3",
   "version": "3.9.1"
  }
 },
 "nbformat": 4,
 "nbformat_minor": 5
}
