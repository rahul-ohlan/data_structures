{
 "cells": [
  {
   "cell_type": "code",
   "execution_count": 1,
   "id": "durable-resource",
   "metadata": {},
   "outputs": [],
   "source": [
    "def merge(s1,s2,a):\n",
    "    i,j,k=0,0,0\n",
    "    while i<len(s1) and j< len(s2):\n",
    "        if s1[i]<s2[j]:\n",
    "            a[k]= s1[i]\n",
    "            k+=1\n",
    "            i+=1\n",
    "        else:\n",
    "            a[k] = s2[j]\n",
    "            k+=1\n",
    "            j+=1\n",
    "    while i<len(s1):\n",
    "        a[k]=s1[i]\n",
    "        k+=1\n",
    "        i+=1\n",
    "    while j<len(s2):\n",
    "        a[k]=s2[j]\n",
    "        k+=1\n",
    "        j+=1        \n",
    "    "
   ]
  },
  {
   "cell_type": "code",
   "execution_count": 2,
   "id": "surprising-lincoln",
   "metadata": {},
   "outputs": [],
   "source": [
    "def merge_sort(a):\n",
    "    if len(a)==0 or len(a)==1:\n",
    "        return a\n",
    "    mid = len(a)//2\n",
    "    s1 = a[0:mid]\n",
    "    s2 = a[mid:]\n",
    "    merge_sort(s1)\n",
    "    merge_sort(s2)\n",
    "    merge(s1,s2,a)"
   ]
  },
  {
   "cell_type": "code",
   "execution_count": 3,
   "id": "protecting-cursor",
   "metadata": {},
   "outputs": [
    {
     "name": "stdout",
     "output_type": "stream",
     "text": [
      "[1, 3, 4, 5, 7, 9, 10]\n"
     ]
    }
   ],
   "source": [
    "a = [10,5,3,1,7,9,4]\n",
    "merge_sort(a)\n",
    "print(a)"
   ]
  },
  {
   "cell_type": "code",
   "execution_count": null,
   "id": "specialized-valley",
   "metadata": {},
   "outputs": [],
   "source": []
  }
 ],
 "metadata": {
  "kernelspec": {
   "display_name": "Python 3",
   "language": "python",
   "name": "python3"
  },
  "language_info": {
   "codemirror_mode": {
    "name": "ipython",
    "version": 3
   },
   "file_extension": ".py",
   "mimetype": "text/x-python",
   "name": "python",
   "nbconvert_exporter": "python",
   "pygments_lexer": "ipython3",
   "version": "3.9.1"
  }
 },
 "nbformat": 4,
 "nbformat_minor": 5
}
