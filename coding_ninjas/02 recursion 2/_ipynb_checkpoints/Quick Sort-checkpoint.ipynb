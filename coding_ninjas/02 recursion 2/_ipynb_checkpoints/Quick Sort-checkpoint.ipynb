{
 "cells": [
  {
   "cell_type": "code",
   "execution_count": null,
   "id": "third-windows",
   "metadata": {},
   "outputs": [],
   "source": [
    "import sys\n",
    "sys.setrecursionlimit(6000)"
   ]
  },
  {
   "cell_type": "code",
   "execution_count": 6,
   "id": "satisfied-attribute",
   "metadata": {},
   "outputs": [],
   "source": [
    "def partition(a,si,ei): \n",
    "    c=0\n",
    "    for i in range(si+1,ei+1):\n",
    "        if a[i]<a[si]:\n",
    "            c+=1\n",
    "    a[si],a[si+c]=a[si+c],a[si]\n",
    "    ind = si + c\n",
    "    i,j=si,ei\n",
    "    while i<si+c and j>si+c:\n",
    "        if a[i]<a[si+c]:\n",
    "            i+=1\n",
    "        elif a[j]>=a[si+c]:\n",
    "            j-=1\n",
    "        else:\n",
    "            a[i],a[j]=a[j],a[i]\n",
    "            i+=1\n",
    "            j-=1    \n",
    "    return ind\n",
    "\n",
    "def quickSort(a,si,ei):\n",
    "    if si>=ei:\n",
    "        return\n",
    "    ind = partition(a,si,ei)\n",
    "    quickSort(a,si,ind-1)\n",
    "    quickSort(a,ind+1,ei)\n",
    "    \n",
    "\n",
    "a = [4,2,3,1,7,8,5]\n",
    "si = 0\n",
    "ei = len(a)-1"
   ]
  },
  {
   "cell_type": "code",
   "execution_count": 7,
   "id": "hydraulic-speaker",
   "metadata": {},
   "outputs": [
    {
     "name": "stdout",
     "output_type": "stream",
     "text": [
      "5\n",
      "[1, 2, 3, 4, 5, 6, 7, 8, 9, 10]\n"
     ]
    }
   ],
   "source": [
    "a = [6,10,9,8,7,1,3,5,4,2]\n",
    "m = partition(a,0,len(a)-1)\n",
    "print(m)\n",
    "quickSort(a,0,len(a)-1)\n",
    "print(a)"
   ]
  },
  {
   "cell_type": "code",
   "execution_count": 1,
   "id": "substantial-monthly",
   "metadata": {},
   "outputs": [
    {
     "name": "stdout",
     "output_type": "stream",
     "text": [
      "hel\n"
     ]
    }
   ],
   "source": [
    "for i in range(0,1):\n",
    "    print('hel')"
   ]
  },
  {
   "cell_type": "code",
   "execution_count": null,
   "id": "median-action",
   "metadata": {},
   "outputs": [],
   "source": []
  }
 ],
 "metadata": {
  "kernelspec": {
   "display_name": "Python 3",
   "language": "python",
   "name": "python3"
  },
  "language_info": {
   "codemirror_mode": {
    "name": "ipython",
    "version": 3
   },
   "file_extension": ".py",
   "mimetype": "text/x-python",
   "name": "python",
   "nbconvert_exporter": "python",
   "pygments_lexer": "ipython3",
   "version": "3.9.1"
  }
 },
 "nbformat": 4,
 "nbformat_minor": 5
}
