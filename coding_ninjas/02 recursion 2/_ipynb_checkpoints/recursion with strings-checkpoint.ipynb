{
 "cells": [
  {
   "cell_type": "code",
   "execution_count": 1,
   "id": "medium-mexico",
   "metadata": {},
   "outputs": [],
   "source": [
    "def replacechar(string,a,b):\n",
    "    if len(string)==0:\n",
    "        return string\n",
    "    newstring = string[1:]\n",
    "    output = replacechar(newstring,a,b)\n",
    "    if string[0] == a:\n",
    "        return b+output\n",
    "    else:\n",
    "        return string[0]+output    "
   ]
  },
  {
   "cell_type": "code",
   "execution_count": 2,
   "id": "hidden-composition",
   "metadata": {},
   "outputs": [
    {
     "data": {
      "text/plain": [
       "'daxdxxd'"
      ]
     },
     "execution_count": 2,
     "metadata": {},
     "output_type": "execute_result"
    }
   ],
   "source": [
    "replacechar('dacdxcd','c','x')"
   ]
  },
  {
   "cell_type": "code",
   "execution_count": null,
   "id": "continuing-state",
   "metadata": {},
   "outputs": [],
   "source": []
  }
 ],
 "metadata": {
  "kernelspec": {
   "display_name": "Python 3",
   "language": "python",
   "name": "python3"
  },
  "language_info": {
   "codemirror_mode": {
    "name": "ipython",
    "version": 3
   },
   "file_extension": ".py",
   "mimetype": "text/x-python",
   "name": "python",
   "nbconvert_exporter": "python",
   "pygments_lexer": "ipython3",
   "version": "3.9.1"
  }
 },
 "nbformat": 4,
 "nbformat_minor": 5
}
