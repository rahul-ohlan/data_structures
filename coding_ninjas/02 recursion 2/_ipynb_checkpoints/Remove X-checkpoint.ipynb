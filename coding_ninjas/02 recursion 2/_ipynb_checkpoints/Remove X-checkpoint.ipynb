{
 "cells": [
  {
   "cell_type": "code",
   "execution_count": 5,
   "id": "desirable-niger",
   "metadata": {},
   "outputs": [
    {
     "name": "stdout",
     "output_type": "stream",
     "text": [
      "mountainsontheshore\n",
      "character to be removed from the string: s\n"
     ]
    },
    {
     "data": {
      "text/plain": [
       "'mountainonthehore'"
      ]
     },
     "execution_count": 5,
     "metadata": {},
     "output_type": "execute_result"
    }
   ],
   "source": [
    "def removechar(s,ch):\n",
    "    if len(s) == 0:\n",
    "        return s\n",
    "    newstr = s[1:]\n",
    "    output = removechar(newstr,ch)\n",
    "    if s[0]==ch:\n",
    "        return output\n",
    "    else:\n",
    "        return s[0] + output\n",
    "    \n",
    "\n",
    "\n",
    "\n",
    "\n",
    "string = input()\n",
    "ch = input('character to be removed from the string: ')\n",
    "removechar(string,ch)"
   ]
  },
  {
   "cell_type": "code",
   "execution_count": null,
   "id": "satisfied-indication",
   "metadata": {},
   "outputs": [],
   "source": []
  }
 ],
 "metadata": {
  "kernelspec": {
   "display_name": "Python 3",
   "language": "python",
   "name": "python3"
  },
  "language_info": {
   "codemirror_mode": {
    "name": "ipython",
    "version": 3
   },
   "file_extension": ".py",
   "mimetype": "text/x-python",
   "name": "python",
   "nbconvert_exporter": "python",
   "pygments_lexer": "ipython3",
   "version": "3.9.1"
  }
 },
 "nbformat": 4,
 "nbformat_minor": 5
}
