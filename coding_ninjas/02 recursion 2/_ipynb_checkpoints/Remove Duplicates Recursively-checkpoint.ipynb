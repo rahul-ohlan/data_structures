{
 "cells": [
  {
   "cell_type": "code",
   "execution_count": 11,
   "id": "subsequent-smooth",
   "metadata": {},
   "outputs": [
    {
     "name": "stdout",
     "output_type": "stream",
     "text": [
      "tadayutaysqcqtttggytytyyyikk\n"
     ]
    },
    {
     "data": {
      "text/plain": [
       "'tadayutaysqcqtgytytyik'"
      ]
     },
     "execution_count": 11,
     "metadata": {},
     "output_type": "execute_result"
    }
   ],
   "source": [
    "def removedups(s):\n",
    "    if len(s)==0 or len(s)==1:\n",
    "        return s\n",
    "    if s[0]==s[1]:\n",
    "        output = removedups(s[1:])\n",
    "        return output\n",
    "    else:\n",
    "        output = removedups(s[1:])\n",
    "        return s[0]+output\n",
    "        \n",
    "\n",
    "\n",
    "sting = input()\n",
    "removedups(sting)"
   ]
  },
  {
   "cell_type": "code",
   "execution_count": null,
   "id": "neither-translation",
   "metadata": {},
   "outputs": [],
   "source": []
  }
 ],
 "metadata": {
  "kernelspec": {
   "display_name": "Python 3",
   "language": "python",
   "name": "python3"
  },
  "language_info": {
   "codemirror_mode": {
    "name": "ipython",
    "version": 3
   },
   "file_extension": ".py",
   "mimetype": "text/x-python",
   "name": "python",
   "nbconvert_exporter": "python",
   "pygments_lexer": "ipython3",
   "version": "3.9.1"
  }
 },
 "nbformat": 4,
 "nbformat_minor": 5
}
