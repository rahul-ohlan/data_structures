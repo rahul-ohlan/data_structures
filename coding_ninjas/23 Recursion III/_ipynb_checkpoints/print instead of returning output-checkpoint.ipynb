{
 "cells": [
  {
   "cell_type": "code",
   "execution_count": 7,
   "id": "fundamental-explorer",
   "metadata": {},
   "outputs": [],
   "source": [
    "def factHelper(n):\n",
    "    if n==0:\n",
    "        return 1\n",
    "    smalloutput = factHelper(n-1)\n",
    "    output = n* smalloutput\n",
    "    return output"
   ]
  },
  {
   "cell_type": "code",
   "execution_count": 8,
   "id": "bacterial-eligibility",
   "metadata": {},
   "outputs": [],
   "source": [
    "def fact(n):\n",
    "    output = factHelper(n)\n",
    "    print(output)"
   ]
  },
  {
   "cell_type": "code",
   "execution_count": 9,
   "id": "american-ladder",
   "metadata": {},
   "outputs": [
    {
     "name": "stdout",
     "output_type": "stream",
     "text": [
      "120\n"
     ]
    }
   ],
   "source": [
    "fact(5)"
   ]
  },
  {
   "cell_type": "code",
   "execution_count": 1,
   "id": "prospective-employee",
   "metadata": {},
   "outputs": [],
   "source": [
    "def printFact(n,ans):\n",
    "    \n",
    "    if n==0:\n",
    "        print(ans)\n",
    "        return\n",
    "        \n",
    "    ans = ans* n\n",
    "    printFact(n-1,ans)\n",
    "    "
   ]
  },
  {
   "cell_type": "code",
   "execution_count": 2,
   "id": "reliable-brake",
   "metadata": {},
   "outputs": [
    {
     "name": "stdout",
     "output_type": "stream",
     "text": [
      "120\n"
     ]
    }
   ],
   "source": [
    "printFact(5,1)"
   ]
  },
  {
   "cell_type": "code",
   "execution_count": null,
   "id": "clear-mississippi",
   "metadata": {},
   "outputs": [],
   "source": []
  }
 ],
 "metadata": {
  "kernelspec": {
   "display_name": "Python 3",
   "language": "python",
   "name": "python3"
  },
  "language_info": {
   "codemirror_mode": {
    "name": "ipython",
    "version": 3
   },
   "file_extension": ".py",
   "mimetype": "text/x-python",
   "name": "python",
   "nbconvert_exporter": "python",
   "pygments_lexer": "ipython3",
   "version": "3.9.1"
  }
 },
 "nbformat": 4,
 "nbformat_minor": 5
}
