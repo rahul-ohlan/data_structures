{
 "cells": [
  {
   "cell_type": "code",
   "execution_count": 1,
   "id": "facial-indication",
   "metadata": {},
   "outputs": [],
   "source": [
    "def minList(array):\n",
    "    \n",
    "    if len(array) ==1:\n",
    "        return array[0]\n",
    "    \n",
    "    minsmallarray = minList(array[1:])\n",
    "    overallmin = min(minsmallarray,array[0])\n",
    "    \n",
    "    return overallmin"
   ]
  },
  {
   "cell_type": "code",
   "execution_count": 2,
   "id": "detailed-motivation",
   "metadata": {},
   "outputs": [],
   "source": [
    "def printMin(arr,minsofar = float('inf')):\n",
    "    \n",
    "    if len(arr) == 0:\n",
    "        print(minsofar)\n",
    "        return\n",
    "    \n",
    "    newMin = min(minsofar,arr[0])\n",
    "    printMin(arr[1:],newMin)\n",
    "    "
   ]
  },
  {
   "cell_type": "code",
   "execution_count": 3,
   "id": "burning-maple",
   "metadata": {},
   "outputs": [
    {
     "name": "stdout",
     "output_type": "stream",
     "text": [
      "-2\n"
     ]
    }
   ],
   "source": [
    "printMin([1,2,3,4,-1,0,-2,8])"
   ]
  },
  {
   "cell_type": "code",
   "execution_count": null,
   "id": "parental-algebra",
   "metadata": {},
   "outputs": [],
   "source": []
  }
 ],
 "metadata": {
  "kernelspec": {
   "display_name": "Python 3",
   "language": "python",
   "name": "python3"
  },
  "language_info": {
   "codemirror_mode": {
    "name": "ipython",
    "version": 3
   },
   "file_extension": ".py",
   "mimetype": "text/x-python",
   "name": "python",
   "nbconvert_exporter": "python",
   "pygments_lexer": "ipython3",
   "version": "3.9.1"
  }
 },
 "nbformat": 4,
 "nbformat_minor": 5
}
