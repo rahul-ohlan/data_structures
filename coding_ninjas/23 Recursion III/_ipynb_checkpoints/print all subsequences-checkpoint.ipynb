{
 "cells": [
  {
   "cell_type": "code",
   "execution_count": 1,
   "id": "stuck-actress",
   "metadata": {},
   "outputs": [],
   "source": [
    "def subseq(string):\n",
    "    \n",
    "    if len(string) == 0 :\n",
    "        return ['']\n",
    "    \n",
    "    first_ele = string[0]\n",
    "    subs = subseq(string[1:])\n",
    "    new_subs = subs.copy()\n",
    "    for item in subs:\n",
    "        new_subs.append(first_ele + item)\n",
    "    return new_subs"
   ]
  },
  {
   "cell_type": "code",
   "execution_count": 4,
   "id": "dutch-westminster",
   "metadata": {},
   "outputs": [
    {
     "name": "stdout",
     "output_type": "stream",
     "text": [
      "['', 'l', 'h', 'hl', 'd', 'dl', 'dh', 'dhl']\n"
     ]
    }
   ],
   "source": [
    "print(subseq('dhl'))"
   ]
  },
  {
   "cell_type": "code",
   "execution_count": 14,
   "id": "broke-injection",
   "metadata": {},
   "outputs": [],
   "source": [
    "def printsubseq(string, output = ''):\n",
    "    \n",
    "    if len(string) == 0:\n",
    "        print(output)\n",
    "        return\n",
    "        \n",
    "    first_ele = string[0]\n",
    "    printsubseq(string[1:],output)\n",
    "    printsubseq(string[1:],output+first_ele)"
   ]
  },
  {
   "cell_type": "code",
   "execution_count": 15,
   "id": "pharmaceutical-reach",
   "metadata": {},
   "outputs": [
    {
     "name": "stdout",
     "output_type": "stream",
     "text": [
      "\n",
      "c\n",
      "b\n",
      "bc\n",
      "a\n",
      "ac\n",
      "ab\n",
      "abc\n"
     ]
    }
   ],
   "source": [
    "printsubseq('abc')"
   ]
  },
  {
   "cell_type": "code",
   "execution_count": null,
   "id": "special-willow",
   "metadata": {},
   "outputs": [],
   "source": []
  }
 ],
 "metadata": {
  "kernelspec": {
   "display_name": "Python 3",
   "language": "python",
   "name": "python3"
  },
  "language_info": {
   "codemirror_mode": {
    "name": "ipython",
    "version": 3
   },
   "file_extension": ".py",
   "mimetype": "text/x-python",
   "name": "python",
   "nbconvert_exporter": "python",
   "pygments_lexer": "ipython3",
   "version": "3.9.1"
  }
 },
 "nbformat": 4,
 "nbformat_minor": 5
}
