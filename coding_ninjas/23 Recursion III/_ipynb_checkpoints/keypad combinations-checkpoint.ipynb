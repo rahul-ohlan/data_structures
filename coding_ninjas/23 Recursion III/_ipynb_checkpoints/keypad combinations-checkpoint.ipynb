{
 "cells": [
  {
   "cell_type": "code",
   "execution_count": 1,
   "id": "earned-configuration",
   "metadata": {},
   "outputs": [],
   "source": [
    "def keypad(n):\n",
    "    \n",
    "    if n==0:\n",
    "        return ['']\n",
    "    \n",
    "    shortnum = n//10\n",
    "    res = keypad(shortnum)\n",
    "    digit = n%10\n",
    "    \n",
    "    if digit ==2:\n",
    "        arr = ['a','b','c']\n",
    "    elif digit ==3:\n",
    "        arr = ['d','e','f']\n",
    "    elif digit == 4:\n",
    "        arr = ['g','h','i']\n",
    "    elif digit ==5:\n",
    "        arr = ['j','k','l']\n",
    "    elif digit ==6:\n",
    "        arr = ['m','n','o']\n",
    "    elif digit ==7:\n",
    "        arr = ['p','q','r','s']\n",
    "    elif digit ==8:\n",
    "        arr = ['t','u','v']\n",
    "    elif digit ==9:\n",
    "        arr = ['w','x','y','z']\n",
    "    new = list()    \n",
    "    for char in res:\n",
    "        \n",
    "        for item in arr:\n",
    "            \n",
    "            new.append(char+item)\n",
    "    return new"
   ]
  },
  {
   "cell_type": "code",
   "execution_count": 2,
   "id": "liable-wonder",
   "metadata": {},
   "outputs": [
    {
     "name": "stdout",
     "output_type": "stream",
     "text": [
      "['adg', 'adh', 'adi', 'aeg', 'aeh', 'aei', 'afg', 'afh', 'afi', 'bdg', 'bdh', 'bdi', 'beg', 'beh', 'bei', 'bfg', 'bfh', 'bfi', 'cdg', 'cdh', 'cdi', 'ceg', 'ceh', 'cei', 'cfg', 'cfh', 'cfi']\n"
     ]
    }
   ],
   "source": [
    "print(keypad(234))"
   ]
  },
  {
   "cell_type": "code",
   "execution_count": null,
   "id": "requested-loading",
   "metadata": {},
   "outputs": [],
   "source": []
  }
 ],
 "metadata": {
  "kernelspec": {
   "display_name": "Python 3",
   "language": "python",
   "name": "python3"
  },
  "language_info": {
   "codemirror_mode": {
    "name": "ipython",
    "version": 3
   },
   "file_extension": ".py",
   "mimetype": "text/x-python",
   "name": "python",
   "nbconvert_exporter": "python",
   "pygments_lexer": "ipython3",
   "version": "3.9.1"
  }
 },
 "nbformat": 4,
 "nbformat_minor": 5
}
