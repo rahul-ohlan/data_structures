{
 "cells": [
  {
   "cell_type": "code",
   "execution_count": 1,
   "id": "pending-ranking",
   "metadata": {},
   "outputs": [],
   "source": [
    "def getstring(n):\n",
    "    \n",
    "    if n==2:\n",
    "        return 'abc'\n",
    "    elif n==3:\n",
    "        return 'def'\n",
    "    elif n==4:\n",
    "        return 'ghi'\n",
    "    elif n==5:\n",
    "        return 'jkl'\n",
    "    elif n==6:\n",
    "        return 'mno'\n",
    "    elif n==7:\n",
    "        return 'pqrs'\n",
    "    elif n==8:\n",
    "        return 'tuv'\n",
    "    elif n==9:\n",
    "        return 'wxyz'"
   ]
  },
  {
   "cell_type": "code",
   "execution_count": 4,
   "id": "tender-morning",
   "metadata": {},
   "outputs": [],
   "source": [
    "def keypad(n):\n",
    "    \n",
    "    if n==0:\n",
    "        return ['']\n",
    "    \n",
    "    shortnum = n//10\n",
    "    res = keypad(shortnum)\n",
    "    digit = n%10\n",
    "    dig_string = getstring(digit)\n",
    "    output = list()\n",
    "    for char in res:\n",
    "        \n",
    "        for item in dig_string:\n",
    "            output.append(char + item)\n",
    "            \n",
    "    return output"
   ]
  },
  {
   "cell_type": "code",
   "execution_count": 6,
   "id": "given-psychology",
   "metadata": {},
   "outputs": [
    {
     "name": "stdout",
     "output_type": "stream",
     "text": [
      "['ad', 'ae', 'af', 'bd', 'be', 'bf', 'cd', 'ce', 'cf']\n"
     ]
    }
   ],
   "source": [
    "print(keypad(23))"
   ]
  },
  {
   "cell_type": "code",
   "execution_count": 7,
   "id": "universal-experiment",
   "metadata": {},
   "outputs": [],
   "source": [
    "def printkeypad(n,res = ''):\n",
    "    \n",
    "    if n==0:\n",
    "        print(res)\n",
    "        return\n",
    "    \n",
    "    shortnum = n//10\n",
    "    digit = n%10\n",
    "    dig_string = getstring(digit)\n",
    "    \n",
    "    for char in dig_string:\n",
    "        printkeypad(shortnum,char + res)"
   ]
  },
  {
   "cell_type": "code",
   "execution_count": 8,
   "id": "acknowledged-frontier",
   "metadata": {},
   "outputs": [
    {
     "name": "stdout",
     "output_type": "stream",
     "text": [
      "ad\n",
      "bd\n",
      "cd\n",
      "ae\n",
      "be\n",
      "ce\n",
      "af\n",
      "bf\n",
      "cf\n"
     ]
    }
   ],
   "source": [
    "printkeypad(23)"
   ]
  },
  {
   "cell_type": "code",
   "execution_count": null,
   "id": "earlier-prince",
   "metadata": {},
   "outputs": [],
   "source": []
  }
 ],
 "metadata": {
  "kernelspec": {
   "display_name": "Python 3",
   "language": "python",
   "name": "python3"
  },
  "language_info": {
   "codemirror_mode": {
    "name": "ipython",
    "version": 3
   },
   "file_extension": ".py",
   "mimetype": "text/x-python",
   "name": "python",
   "nbconvert_exporter": "python",
   "pygments_lexer": "ipython3",
   "version": "3.9.1"
  }
 },
 "nbformat": 4,
 "nbformat_minor": 5
}
