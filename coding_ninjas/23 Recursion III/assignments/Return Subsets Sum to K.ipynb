{
 "cells": [
  {
   "cell_type": "code",
   "execution_count": 30,
   "id": "recent-calgary",
   "metadata": {},
   "outputs": [],
   "source": [
    "\n",
    "def subs_sum_k(array,k,si):\n",
    "    \n",
    "    if si == len(array):\n",
    "        if k==0:\n",
    "            return [[]]\n",
    "        else:\n",
    "            return []\n",
    "    # not including the first element, subsets from the remaining array    \n",
    "    A1 = subs_sum_k(array,k,si+1)\n",
    "    # if we include the first element, subsets from remaining array which sum to k - firstelement\n",
    "    A2 = subs_sum_k(array,k-array[si],si+1)\n",
    "    # adding the first element to all susbets obtained in A2\n",
    "    for i in range(len(A2)):\n",
    "        A2[i].insert(0,array[si])\n",
    "    A1.extend(A2)\n",
    "    \n",
    "    return A1\n"
   ]
  },
  {
   "cell_type": "code",
   "execution_count": 31,
   "id": "medium-hobby",
   "metadata": {},
   "outputs": [
    {
     "name": "stdout",
     "output_type": "stream",
     "text": [
      "[[3, 3], [5, 1]]\n"
     ]
    }
   ],
   "source": [
    "array = [5,12,3,17,1,18,15,3,17]\n",
    "k = 6\n",
    "print(subs_sum_k(array,k,0))"
   ]
  },
  {
   "cell_type": "code",
   "execution_count": 23,
   "id": "surgical-secret",
   "metadata": {},
   "outputs": [
    {
     "name": "stdout",
     "output_type": "stream",
     "text": [
      "[[7, 1, 2], [7, 4, 5]]\n",
      "[[7, 1, 2], [7, 4, 5], [1, 2], [3], [4, 5, 6]]\n"
     ]
    }
   ],
   "source": [
    "a = [[1,2],[4,5]]\n",
    "for i in range(len(a)):\n",
    "    a[i].insert(0,7)\n",
    "print(a)\n",
    "b = [[1,2],[3],[4,5,6]]\n",
    "a.extend(b)\n",
    "print(a)"
   ]
  },
  {
   "cell_type": "code",
   "execution_count": 27,
   "id": "minus-league",
   "metadata": {},
   "outputs": [
    {
     "name": "stdout",
     "output_type": "stream",
     "text": [
      "[[1, 2], [3, 6], [1, 3, 4], [2, 5, 6], [6, 7, 8]]\n"
     ]
    }
   ],
   "source": [
    "a = [[1,2],[3,6]]\n",
    "b = [[1,3,4],[2,5,6],[6,7,8]]\n",
    "output = list()\n",
    "for i in range(len(a)):\n",
    "    output.append(a[i])\n",
    "for i in range(len(b)):\n",
    "    output.append(b[i])\n",
    "print(output)"
   ]
  },
  {
   "cell_type": "code",
   "execution_count": 28,
   "id": "municipal-insurance",
   "metadata": {},
   "outputs": [
    {
     "name": "stdout",
     "output_type": "stream",
     "text": [
      "[[1]]\n"
     ]
    }
   ],
   "source": [
    "a = []\n",
    "b = [[1]]\n",
    "a.extend(b)\n",
    "print(a)"
   ]
  },
  {
   "cell_type": "code",
   "execution_count": null,
   "id": "worse-success",
   "metadata": {},
   "outputs": [],
   "source": []
  }
 ],
 "metadata": {
  "kernelspec": {
   "display_name": "Python 3",
   "language": "python",
   "name": "python3"
  },
  "language_info": {
   "codemirror_mode": {
    "name": "ipython",
    "version": 3
   },
   "file_extension": ".py",
   "mimetype": "text/x-python",
   "name": "python",
   "nbconvert_exporter": "python",
   "pygments_lexer": "ipython3",
   "version": "3.9.1"
  }
 },
 "nbformat": 4,
 "nbformat_minor": 5
}
