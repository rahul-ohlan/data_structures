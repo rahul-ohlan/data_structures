{
 "cells": [
  {
   "cell_type": "code",
   "execution_count": 54,
   "id": "sharp-principle",
   "metadata": {},
   "outputs": [],
   "source": [
    "def subsets(array,n,si=0):\n",
    "    \n",
    "    if si==n:\n",
    "        return [[]]\n",
    "    \n",
    "    \n",
    "    temp = subsets(array,n,si+1)\n",
    "    first = array[si]\n",
    "    # the following method to copy array is incorrect \n",
    "    # for item in temp:\n",
    "    #     output.append(item)\n",
    "    # for item in temp:\n",
    "    #     item.insert(0,first)\n",
    "    # for item in temp:\n",
    "    #     output.append(item)\n",
    "    \n",
    "    # THE ABOVE METHOD IS INCORRECT BECAUSE EACH ITEM IN TEMP IS A LIST WHICH IS MUTABLE - THE SECOND FOR LOOP WILL CHANGE\n",
    "    # ELEMENTS IN OUTPUT ARRAY BEFORE HAND, HENCE USE LIST COMPREHENSION TO CREATE A NEW ARRAY\n",
    "    \n",
    "    output = [[temp[i][j] for j in range(len(temp[i]))] for i in range(len(temp))]\n",
    "    for item in temp:\n",
    "        item.insert(0,first)\n",
    "    for item in temp:\n",
    "        output.append(item)\n",
    "    return output"
   ]
  },
  {
   "cell_type": "code",
   "execution_count": 55,
   "id": "hourly-journalist",
   "metadata": {},
   "outputs": [
    {
     "name": "stdout",
     "output_type": "stream",
     "text": [
      "[[], [3], [2], [2, 3], [1], [1, 3], [1, 2], [1, 2, 3]]\n"
     ]
    }
   ],
   "source": [
    "print(subsets([1,2,3],3))"
   ]
  },
  {
   "cell_type": "code",
   "execution_count": 58,
   "id": "printable-friendly",
   "metadata": {},
   "outputs": [
    {
     "name": "stdout",
     "output_type": "stream",
     "text": [
      "3\n",
      "1 2 3\n",
      "\n",
      "3 \n",
      "2 \n",
      "2 3 \n",
      "1 \n",
      "1 3 \n",
      "1 2 \n",
      "1 2 3 \n"
     ]
    }
   ],
   "source": [
    "## Read input as specified in the question.\n",
    "## Print output as specified in the question.\n",
    "def subsetCN(array,n,si=0):\n",
    "    \n",
    "    if si==n:\n",
    "        return [[]]\n",
    "    \n",
    "    temp = subsetCN(array,n,si+1)\n",
    "    output = [[temp[i][j] for j in range(len(temp[i]))] for i in range(len(temp))]\n",
    "    first_ele = array[si]\n",
    "    for item in temp:\n",
    "        item.insert(0,first_ele)\n",
    "        \n",
    "    for item in temp:\n",
    "        output.append(item)\n",
    "        \n",
    "    return output\n",
    "\n",
    "n = int(input())\n",
    "array = [int(c) for c in input().split()]\n",
    "\n",
    "output = subsetCN(array,n)\n",
    "\n",
    "for item in output:\n",
    "    for thing in item:\n",
    "        print(thing,end=' ')\n",
    "    print()\n",
    "\n",
    "    \n",
    "    "
   ]
  },
  {
   "cell_type": "code",
   "execution_count": 60,
   "id": "polish-grenada",
   "metadata": {},
   "outputs": [],
   "source": [
    "# ========================================== Official SOLUTION ========================================================\n",
    "\n",
    "def subset(arr):\n",
    "    n = len(arr)\n",
    "    if n<=0:\n",
    "        return [[]]\n",
    "    \n",
    "    temp = subset(arr[:n-1])\n",
    "    tempLEN = len(temp)\n",
    "    # output*=2 This copies the reference, we need shallow copies\n",
    "    \n",
    "    for i in range(0,tempLEN):\n",
    "        temp.append(temp[i].copy())\n",
    "        temp[tempLEN+i].append(arr[n-1])\n",
    "    return output"
   ]
  },
  {
   "cell_type": "code",
   "execution_count": null,
   "id": "enabling-bahrain",
   "metadata": {},
   "outputs": [],
   "source": []
  }
 ],
 "metadata": {
  "kernelspec": {
   "display_name": "Python 3",
   "language": "python",
   "name": "python3"
  },
  "language_info": {
   "codemirror_mode": {
    "name": "ipython",
    "version": 3
   },
   "file_extension": ".py",
   "mimetype": "text/x-python",
   "name": "python",
   "nbconvert_exporter": "python",
   "pygments_lexer": "ipython3",
   "version": "3.9.1"
  }
 },
 "nbformat": 4,
 "nbformat_minor": 5
}
