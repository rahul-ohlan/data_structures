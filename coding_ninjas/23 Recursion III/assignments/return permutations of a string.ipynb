{
 "cells": [
  {
   "cell_type": "code",
   "execution_count": 12,
   "id": "greater-alliance",
   "metadata": {},
   "outputs": [],
   "source": [
    "def permut(string):\n",
    "    if len(string) == 0:\n",
    "        return ['']\n",
    "    temp = permut(string[1:])\n",
    "    new = list()\n",
    "    first = string[0]\n",
    "    for item in temp:\n",
    "        for i in range(len(item)):\n",
    "            a1 = item[0:i]\n",
    "            a2 = item[i:]\n",
    "            new.append(a1 + first + a2)\n",
    "        new.append(item + first)\n",
    "    return new"
   ]
  },
  {
   "cell_type": "code",
   "execution_count": 13,
   "id": "daily-subscriber",
   "metadata": {},
   "outputs": [
    {
     "name": "stdout",
     "output_type": "stream",
     "text": [
      "['abc', 'bac', 'bca', 'acb', 'cab', 'cba']\n"
     ]
    }
   ],
   "source": [
    "print(permut('abc'))"
   ]
  },
  {
   "cell_type": "code",
   "execution_count": 5,
   "id": "sunset-algorithm",
   "metadata": {},
   "outputs": [],
   "source": [
    "# second method\n",
    "def retperms(string):\n",
    "    \n",
    "    if len(string)==0:\n",
    "        return ['']\n",
    "    new = list()\n",
    "    for i in range(len(string)):\n",
    "        \n",
    "        temp = retperms(string[0:i]+string[i+1:])\n",
    "        for item in temp:\n",
    "            new.append(string[i]+item)\n",
    "    return new"
   ]
  },
  {
   "cell_type": "code",
   "execution_count": 6,
   "id": "veterinary-nation",
   "metadata": {},
   "outputs": [
    {
     "name": "stdout",
     "output_type": "stream",
     "text": [
      "['abc', 'acb', 'bac', 'bca', 'cab', 'cba']\n"
     ]
    }
   ],
   "source": [
    "print(retperms('abc'))"
   ]
  },
  {
   "cell_type": "code",
   "execution_count": null,
   "id": "single-housing",
   "metadata": {},
   "outputs": [],
   "source": []
  }
 ],
 "metadata": {
  "kernelspec": {
   "display_name": "Python 3",
   "language": "python",
   "name": "python3"
  },
  "language_info": {
   "codemirror_mode": {
    "name": "ipython",
    "version": 3
   },
   "file_extension": ".py",
   "mimetype": "text/x-python",
   "name": "python",
   "nbconvert_exporter": "python",
   "pygments_lexer": "ipython3",
   "version": "3.9.1"
  }
 },
 "nbformat": 4,
 "nbformat_minor": 5
}
