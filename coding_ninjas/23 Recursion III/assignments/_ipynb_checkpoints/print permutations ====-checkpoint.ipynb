{
 "cells": [
  {
   "cell_type": "code",
   "execution_count": 10,
   "id": "recorded-server",
   "metadata": {},
   "outputs": [],
   "source": [
    "def retPerm(string):\n",
    "    \n",
    "    if len(string) == 0:\n",
    "        return ['']\n",
    "    first = string[0]\n",
    "    temp = retPerm(string[1:])\n",
    "    \n",
    "    res = list()\n",
    "    for item in temp:\n",
    "        for i in range(len(item)):\n",
    "            res.append(item[0:i] + first + item[i:])\n",
    "        res.append(item+first)\n",
    "    return res"
   ]
  },
  {
   "cell_type": "code",
   "execution_count": 13,
   "id": "comfortable-makeup",
   "metadata": {},
   "outputs": [
    {
     "name": "stdout",
     "output_type": "stream",
     "text": [
      "['rum', 'urm', 'umr', 'rmu', 'mru', 'mur']\n"
     ]
    }
   ],
   "source": [
    "print(retPerm('rum'))"
   ]
  },
  {
   "cell_type": "code",
   "execution_count": 16,
   "id": "activated-interference",
   "metadata": {},
   "outputs": [],
   "source": [
    "def retPermuts(string):\n",
    "    \n",
    "    if len(string)==0:\n",
    "        return ['']\n",
    "    new = list()\n",
    "    for i in range(len(string)):\n",
    "        temp = retPermuts(string[0:i]+string[i+1:])\n",
    "        for item in temp:\n",
    "            new.append(string[i]+item)\n",
    "    return new"
   ]
  },
  {
   "cell_type": "code",
   "execution_count": 20,
   "id": "greatest-drilling",
   "metadata": {},
   "outputs": [
    {
     "name": "stdout",
     "output_type": "stream",
     "text": [
      "['abs', 'asb', 'bas', 'bsa', 'sab', 'sba']\n"
     ]
    }
   ],
   "source": [
    "print(retPermuts('abs'))"
   ]
  },
  {
   "cell_type": "code",
   "execution_count": 21,
   "id": "formal-objective",
   "metadata": {},
   "outputs": [],
   "source": [
    "def printPerms(string,res=''):\n",
    "    \n",
    "    if len(string)==0:\n",
    "        print(res)\n",
    "        return\n",
    "    \n",
    "    for i in range(len(string)):\n",
    "        \n",
    "        temp = printPerms(string[0:i]+string[i+1:],res+string[i])\n",
    "    return"
   ]
  },
  {
   "cell_type": "code",
   "execution_count": 25,
   "id": "overall-directory",
   "metadata": {},
   "outputs": [
    {
     "name": "stdout",
     "output_type": "stream",
     "text": [
      "miz\n",
      "mzi\n",
      "imz\n",
      "izm\n",
      "zmi\n",
      "zim\n"
     ]
    }
   ],
   "source": [
    "printPerms('miz')"
   ]
  },
  {
   "cell_type": "code",
   "execution_count": null,
   "id": "dramatic-handbook",
   "metadata": {},
   "outputs": [],
   "source": []
  }
 ],
 "metadata": {
  "kernelspec": {
   "display_name": "Python 3",
   "language": "python",
   "name": "python3"
  },
  "language_info": {
   "codemirror_mode": {
    "name": "ipython",
    "version": 3
   },
   "file_extension": ".py",
   "mimetype": "text/x-python",
   "name": "python",
   "nbconvert_exporter": "python",
   "pygments_lexer": "ipython3",
   "version": "3.9.1"
  }
 },
 "nbformat": 4,
 "nbformat_minor": 5
}
