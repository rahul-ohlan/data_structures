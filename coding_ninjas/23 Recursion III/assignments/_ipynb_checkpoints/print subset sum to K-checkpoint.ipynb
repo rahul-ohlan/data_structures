{
 "cells": [
  {
   "cell_type": "code",
   "execution_count": 5,
   "id": "unlike-heavy",
   "metadata": {},
   "outputs": [],
   "source": [
    "def subK(array,k,si=0):\n",
    "    n = len(array)\n",
    "    if si==n:\n",
    "        if k==0:\n",
    "            return [[]]\n",
    "        return []\n",
    "    \n",
    "    a1 = subK(array,k,si+1)\n",
    "    a2 = subK(array,k-array[si],si+1)\n",
    "    for item in a2:\n",
    "        item.insert(0,array[si])\n",
    "    a1.extend(a2)\n",
    "    return a1"
   ]
  },
  {
   "cell_type": "code",
   "execution_count": 7,
   "id": "proof-exercise",
   "metadata": {},
   "outputs": [
    {
     "name": "stdout",
     "output_type": "stream",
     "text": [
      "[[3, 2], [5], [2, 3], [1, 4], [1, 4], [1, 2, 2]]\n"
     ]
    }
   ],
   "source": [
    "array = [1,2,4,6,8,5,4,3,2]\n",
    "k = 5\n",
    "print(subK(array,k))\n"
   ]
  },
  {
   "cell_type": "code",
   "execution_count": 9,
   "id": "moved-painting",
   "metadata": {},
   "outputs": [],
   "source": [
    "def subsetsumK(array,si,k):\n",
    "    n = len(array)\n",
    "    if si ==n:\n",
    "        if k==0:\n",
    "            return [[]]\n",
    "        return[]\n",
    "    \n",
    "    a1 = subsetsumK(array,si+1,k)\n",
    "    a2 = subsetsumK(array,si+1,k-array[si])\n",
    "    \n",
    "    res_arr = (len(a1)+len(a2))*[0]\n",
    "    \n",
    "    index = 0\n",
    "    \n",
    "    for i in range(len(a1)):\n",
    "        res_arr[index] = a1[i]\n",
    "        index += 1\n",
    "        \n",
    "    for i in range(len(a2)):\n",
    "        \n",
    "        res_arr[index] = (len(a2[i])+1)*[0]\n",
    "        res_arr[index][0] = array[si]\n",
    "        \n",
    "        for j in range(len(a2[i])):\n",
    "            \n",
    "            res_arr[index][j+1] = a2[i][j]\n",
    "        index+=1\n",
    "        \n",
    "    return res_arr"
   ]
  },
  {
   "cell_type": "code",
   "execution_count": 10,
   "id": "diverse-savannah",
   "metadata": {},
   "outputs": [
    {
     "name": "stdout",
     "output_type": "stream",
     "text": [
      "[[4], [2, 2], [1, 3]]\n"
     ]
    }
   ],
   "source": [
    "array = [1,2,3,2,4]\n",
    "k = 4\n",
    "print(subsetsumK(array,0,k))"
   ]
  },
  {
   "cell_type": "code",
   "execution_count": 18,
   "id": "bizarre-mistake",
   "metadata": {},
   "outputs": [],
   "source": [
    "def printsumtoK(array,si,k,res = []):\n",
    "    n = len(array)\n",
    "    if si==n:\n",
    "        if k==0:\n",
    "            for item in res:\n",
    "                print(item,end=' ')\n",
    "            print()\n",
    "            return\n",
    "        else:\n",
    "            return\n",
    "    \n",
    "    \n",
    "    A1 = printsumtoK(array,si+1,k,res)\n",
    "    new = res.copy()\n",
    "    new.append(array[si])\n",
    "    A2 = printsumtoK(array,si+1,k-array[si],new)\n",
    "    "
   ]
  },
  {
   "cell_type": "code",
   "execution_count": 19,
   "id": "visible-crash",
   "metadata": {},
   "outputs": [
    {
     "name": "stdout",
     "output_type": "stream",
     "text": [
      "3 2 \n",
      "5 \n",
      "2 3 \n",
      "1 4 \n",
      "1 4 \n",
      "1 2 2 \n"
     ]
    }
   ],
   "source": [
    "array = [1,2,4,6,8,5,4,3,2]\n",
    "si = 0\n",
    "k = 5\n",
    "printsumtoK(array,si,k)"
   ]
  },
  {
   "cell_type": "code",
   "execution_count": null,
   "id": "lasting-darwin",
   "metadata": {},
   "outputs": [],
   "source": []
  }
 ],
 "metadata": {
  "kernelspec": {
   "display_name": "Python 3",
   "language": "python",
   "name": "python3"
  },
  "language_info": {
   "codemirror_mode": {
    "name": "ipython",
    "version": 3
   },
   "file_extension": ".py",
   "mimetype": "text/x-python",
   "name": "python",
   "nbconvert_exporter": "python",
   "pygments_lexer": "ipython3",
   "version": "3.9.1"
  }
 },
 "nbformat": 4,
 "nbformat_minor": 5
}
