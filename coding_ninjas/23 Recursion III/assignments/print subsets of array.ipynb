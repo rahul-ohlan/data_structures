{
 "cells": [
  {
   "cell_type": "code",
   "execution_count": null,
   "id": "infrared-liver",
   "metadata": {},
   "outputs": [],
   "source": [
    "def susbsets(array,n,si=0):\n",
    "    \n",
    "    if si==n:\n",
    "        return [[]]\n",
    "    temp = susbsets(array,n,si+1)\n",
    "    first_ele = array[si]\n",
    "    output = [[temp[i][j] for j in range(len(temp[i]))] for i in range(len(temp))]\n",
    "    for item in temp:\n",
    "        item.insert(0,first_ele)\n",
    "    for item in temp:\n",
    "        output.append(item)\n",
    "        \n",
    "    return output"
   ]
  },
  {
   "cell_type": "code",
   "execution_count": null,
   "id": "academic-centre",
   "metadata": {},
   "outputs": [],
   "source": [
    "array = [1,2,3,4]\n",
    "n = len(array)\n",
    "print(susbsets(array,n))"
   ]
  },
  {
   "cell_type": "code",
   "execution_count": null,
   "id": "phantom-bonus",
   "metadata": {},
   "outputs": [],
   "source": [
    "def subsets(array):\n",
    "    n = len(array)\n",
    "    if n==0:\n",
    "        return [[]]\n",
    "    last_ele = array[n-1]\n",
    "    temp = subsets(array[0:n-1])\n",
    "    for i in range(len(temp)):\n",
    "        temp.append(temp[i])\n",
    "        # again the same mistake, below operation will append last_ele to temp[i] as well as temp[x+i] because\n",
    "        # they represent the same array\n",
    "        temp[len(temp)+i].append(last_ele)\n",
    "    return temp"
   ]
  },
  {
   "cell_type": "code",
   "execution_count": null,
   "id": "acute-therapist",
   "metadata": {},
   "outputs": [],
   "source": [
    "array = [1,2,3]\n",
    "print(subsets(array))"
   ]
  },
  {
   "cell_type": "code",
   "execution_count": null,
   "id": "fifth-range",
   "metadata": {},
   "outputs": [],
   "source": [
    "print(array[0:2])"
   ]
  },
  {
   "cell_type": "code",
   "execution_count": null,
   "id": "mighty-courtesy",
   "metadata": {},
   "outputs": [],
   "source": [
    "a = [[],[1,2],[1,2,3]]\n",
    "n = len(a)\n",
    "for i in range(n):\n",
    "    a.append(a[i])\n",
    "    a[n+i].append('rahul')\n",
    "print(a)"
   ]
  },
  {
   "cell_type": "code",
   "execution_count": null,
   "id": "understanding-exhibition",
   "metadata": {},
   "outputs": [],
   "source": [
    "def subs(array):\n",
    "    n = len(array)\n",
    "    if n==0:\n",
    "        return [[]]\n",
    "    last_ele = array[n-1]\n",
    "    temp = subs(array[0:n-1])\n",
    "    output = [[temp[i][j] for j in range(len(temp[i]))] for i in range(len(temp))]\n",
    "    for item in temp:\n",
    "        item.append(last_ele)\n",
    "    for item in temp:\n",
    "        output.append(item)\n",
    "        \n",
    "    return output"
   ]
  },
  {
   "cell_type": "code",
   "execution_count": null,
   "id": "minor-strike",
   "metadata": {},
   "outputs": [],
   "source": [
    "a = [1,2,3,4]\n",
    "\n",
    "\n",
    "print(subs(a))"
   ]
  },
  {
   "cell_type": "code",
   "execution_count": 12,
   "id": "eight-belarus",
   "metadata": {},
   "outputs": [],
   "source": [
    "def printsubsets(array,n,si=0,res = []):\n",
    "    if si==n:\n",
    "        print(res)\n",
    "        return\n",
    "    first = array[si]\n",
    "    temp1 = printsubsets(array,n,si+1,res)\n",
    "    new = res.copy()\n",
    "    new.append(first)\n",
    "    temp2 = printsubsets(array,n,si+1,new)\n",
    "    \n",
    "    return\n",
    "    "
   ]
  },
  {
   "cell_type": "code",
   "execution_count": 14,
   "id": "incomplete-rogers",
   "metadata": {},
   "outputs": [
    {
     "name": "stdout",
     "output_type": "stream",
     "text": [
      "[]\n",
      "[4]\n",
      "[3]\n",
      "[3, 4]\n",
      "[2]\n",
      "[2, 4]\n",
      "[2, 3]\n",
      "[2, 3, 4]\n",
      "[1]\n",
      "[1, 4]\n",
      "[1, 3]\n",
      "[1, 3, 4]\n",
      "[1, 2]\n",
      "[1, 2, 4]\n",
      "[1, 2, 3]\n",
      "[1, 2, 3, 4]\n"
     ]
    }
   ],
   "source": [
    "array = [1,2,3,4]\n",
    "n = len(array)\n",
    "printsubsets(array,n)"
   ]
  },
  {
   "cell_type": "code",
   "execution_count": null,
   "id": "dietary-annotation",
   "metadata": {},
   "outputs": [],
   "source": []
  }
 ],
 "metadata": {
  "kernelspec": {
   "display_name": "Python 3",
   "language": "python",
   "name": "python3"
  },
  "language_info": {
   "codemirror_mode": {
    "name": "ipython",
    "version": 3
   },
   "file_extension": ".py",
   "mimetype": "text/x-python",
   "name": "python",
   "nbconvert_exporter": "python",
   "pygments_lexer": "ipython3",
   "version": "3.9.1"
  }
 },
 "nbformat": 4,
 "nbformat_minor": 5
}
