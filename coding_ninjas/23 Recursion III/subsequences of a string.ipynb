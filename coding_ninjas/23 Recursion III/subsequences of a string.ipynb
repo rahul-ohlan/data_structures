{
 "cells": [
  {
   "cell_type": "code",
   "execution_count": 17,
   "id": "geological-worker",
   "metadata": {},
   "outputs": [],
   "source": [
    "def str_subs_recursive(string):\n",
    "    \n",
    "    if len(string) == 0:\n",
    "        return ['']\n",
    "    first_ele = string[0]\n",
    "    new_str = string[1:]\n",
    "    subs = str_subs_recursive(new_str)\n",
    "    new_subs = subs.copy()\n",
    "    for item in subs:\n",
    "        new_subs.append(first_ele + item)\n",
    "    return new_subs\n"
   ]
  },
  {
   "cell_type": "code",
   "execution_count": 25,
   "id": "oriented-parliament",
   "metadata": {},
   "outputs": [
    {
     "name": "stdout",
     "output_type": "stream",
     "text": [
      "['', 'k', 'r', 'rk', 'o', 'ok', 'or', 'ork', 'w', 'wk', 'wr', 'wrk', 'wo', 'wok', 'wor', 'work']\n"
     ]
    }
   ],
   "source": [
    "print(str_subs_recursive('work'))"
   ]
  },
  {
   "cell_type": "code",
   "execution_count": null,
   "id": "great-killing",
   "metadata": {},
   "outputs": [],
   "source": []
  }
 ],
 "metadata": {
  "kernelspec": {
   "display_name": "Python 3",
   "language": "python",
   "name": "python3"
  },
  "language_info": {
   "codemirror_mode": {
    "name": "ipython",
    "version": 3
   },
   "file_extension": ".py",
   "mimetype": "text/x-python",
   "name": "python",
   "nbconvert_exporter": "python",
   "pygments_lexer": "ipython3",
   "version": "3.9.1"
  }
 },
 "nbformat": 4,
 "nbformat_minor": 5
}
