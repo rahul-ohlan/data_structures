{
 "cells": [
  {
   "cell_type": "code",
   "execution_count": null,
   "metadata": {},
   "outputs": [],
   "source": [
    "# Given an array of integers nums which is sorted in ascending order,\n",
    "#  and an integer target, write a function to search target in nums. If target exists, \n",
    "# then return its index. Otherwise, return -1.\n",
    "\n",
    "# You must write an algorithm with O(log n) runtime complexity.\n",
    "\n",
    " \n",
    "\n",
    "# Example 1:\n",
    "\n",
    "# Input: nums = [-1,0,3,5,9,12], target = 9\n",
    "# Output: 4\n",
    "# Explanation: 9 exists in nums and its index is 4\n",
    "# Example 2:\n",
    "\n",
    "# Input: nums = [-1,0,3,5,9,12], target = 2\n",
    "# Output: -1\n",
    "# Explanation: 2 does not exist in nums so return -1\n",
    " \n",
    "\n",
    "# Constraints:\n",
    "\n",
    "# 1 <= nums.length <= 104\n",
    "# -104 < nums[i], target < 104\n",
    "# All the integers in nums are unique.\n",
    "# nums is sorted in ascending order."
   ]
  },
  {
   "cell_type": "code",
   "execution_count": 21,
   "metadata": {},
   "outputs": [],
   "source": [
    "# simple binary search algorithm\n",
    "\n",
    "class Solution:\n",
    "\n",
    "    def bs(self,arr,target,si,ei):\n",
    "\n",
    "        if si > ei:\n",
    "            return -1\n",
    "\n",
    "        mid = (ei+si)//2\n",
    "\n",
    "        if arr[mid] < target:\n",
    "\n",
    "            return self.bs(arr,target,mid+1,ei)\n",
    "        \n",
    "        elif arr[mid] > target:\n",
    "            return self.bs(arr,target,si,mid-1)\n",
    "\n",
    "        else:\n",
    "            return mid\n",
    "\n",
    "\n",
    "\n",
    "    def binarySearch(self,arr,target):\n",
    "        si = 0\n",
    "        ei = len(arr)-1\n",
    "\n",
    "        res_index = self.bs(arr,target,si,ei)\n",
    "        return res_index"
   ]
  },
  {
   "cell_type": "code",
   "execution_count": 20,
   "metadata": {},
   "outputs": [
    {
     "name": "stdout",
     "output_type": "stream",
     "text": [
      "0\n"
     ]
    }
   ],
   "source": [
    "arr = [-1,0,3,5,9,12]\n",
    "tgt = -1\n",
    "v = Solution()\n",
    "print(v.binarySearch(arr,tgt))"
   ]
  },
  {
   "cell_type": "code",
   "execution_count": null,
   "metadata": {},
   "outputs": [],
   "source": []
  }
 ],
 "metadata": {
  "interpreter": {
   "hash": "b3ba2566441a7c06988d0923437866b63cedc61552a5af99d1f4fb67d367b25f"
  },
  "kernelspec": {
   "display_name": "Python 3.8.8 64-bit ('base': conda)",
   "language": "python",
   "name": "python3"
  },
  "language_info": {
   "codemirror_mode": {
    "name": "ipython",
    "version": 3
   },
   "file_extension": ".py",
   "mimetype": "text/x-python",
   "name": "python",
   "nbconvert_exporter": "python",
   "pygments_lexer": "ipython3",
   "version": "3.8.8"
  },
  "orig_nbformat": 4
 },
 "nbformat": 4,
 "nbformat_minor": 2
}
