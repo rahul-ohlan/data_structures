{
 "cells": [
  {
   "cell_type": "code",
   "execution_count": 1,
   "metadata": {},
   "outputs": [],
   "source": [
    "# You have a long flowerbed in which some of the plots are planted, \n",
    "# and some are not. However, flowers cannot be planted in adjacent plots.\n",
    "\n",
    "# Given an integer array flowerbed containing 0's and 1's, \n",
    "# where 0 means empty and 1 means not empty, and an integer n, \n",
    "# return if n new flowers can be planted in the flowerbed \n",
    "# without violating the no-adjacent-flowers rule.\n",
    "\n",
    "\n",
    "# Example 1:\n",
    "\n",
    "# Input: flowerbed = [1,0,0,0,1], n = 1\n",
    "# Output: true\n",
    "# Example 2:\n",
    "\n",
    "# Input: flowerbed = [1,0,0,0,1], n = 2\n",
    "# Output: false\n",
    "\n",
    "# Constraints:\n",
    "\n",
    "# 1 <= flowerbed.length <= 2 * 104\n",
    "# flowerbed[i] is 0 or 1.\n",
    "# There are no two adjacent flowers in flowerbed.\n",
    "# 0 <= n <= flowerbed.length"
   ]
  },
  {
   "cell_type": "code",
   "execution_count": 6,
   "metadata": {},
   "outputs": [],
   "source": [
    "# Algorithm : Check for maximum number of empty spaces. Out of these spaces, check which are\n",
    "#             such that adjacent are empty as well, no need to check one after and one before if at extremes\n",
    "#             update count. if count equals or is greater than n, return True\n",
    "\n",
    "class Solution:\n",
    "\n",
    "    def canPlantFlowers(self,flowerBed,n):\n",
    "\n",
    "        if n==0:\n",
    "            return True\n",
    "        i = 0\n",
    "        count = 0\n",
    "        m = len(flowerBed)\n",
    "        \n",
    "        while i < m:\n",
    "\n",
    "            if flowerBed[i] == 0 and (i==0 or flowerBed[i-1]==0) and (i==m-1 or flowerBed[i+1]==0):\n",
    "                flowerBed[i] = 1\n",
    "                count +=1\n",
    "                i+=1\n",
    "                if count >= n:\n",
    "                    return True\n",
    "            else:\n",
    "                i+=1\n",
    "\n",
    "        return False"
   ]
  },
  {
   "cell_type": "code",
   "execution_count": 7,
   "metadata": {},
   "outputs": [
    {
     "name": "stdout",
     "output_type": "stream",
     "text": [
      "True\n"
     ]
    }
   ],
   "source": [
    "a = Solution()\n",
    "fb = [0,0,0]\n",
    "print(a.canPlantFlowers(fb,2))"
   ]
  }
 ],
 "metadata": {
  "interpreter": {
   "hash": "b3ba2566441a7c06988d0923437866b63cedc61552a5af99d1f4fb67d367b25f"
  },
  "kernelspec": {
   "display_name": "Python 3.8.8 64-bit ('base': conda)",
   "language": "python",
   "name": "python3"
  },
  "language_info": {
   "codemirror_mode": {
    "name": "ipython",
    "version": 3
   },
   "file_extension": ".py",
   "mimetype": "text/x-python",
   "name": "python",
   "nbconvert_exporter": "python",
   "pygments_lexer": "ipython3",
   "version": "3.8.8"
  },
  "orig_nbformat": 4
 },
 "nbformat": 4,
 "nbformat_minor": 2
}
