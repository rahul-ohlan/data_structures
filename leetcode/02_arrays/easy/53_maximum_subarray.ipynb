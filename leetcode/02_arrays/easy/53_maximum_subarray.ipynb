{
 "cells": [
  {
   "cell_type": "code",
   "execution_count": null,
   "metadata": {},
   "outputs": [],
   "source": [
    "# Given an integer array nums, find the contiguous subarray \n",
    "# (containing at least one number) which has the largest sum\n",
    "#  and return its sum.\n",
    "\n",
    "# A subarray is a contiguous part of an array.\n",
    "\n",
    " \n",
    "\n",
    "# Example 1:\n",
    "\n",
    "# Input: nums = [-2,1,-3,4,-1,2,1,-5,4]\n",
    "# Output: 6\n",
    "# Explanation: [4,-1,2,1] has the largest sum = 6.\n",
    "# Example 2:\n",
    "\n",
    "# Input: nums = [1]\n",
    "# Output: 1\n",
    "# Example 3:\n",
    "\n",
    "# Input: nums = [5,4,-1,7,8]\n",
    "# Output: 23\n",
    " \n",
    "\n",
    "# Constraints:\n",
    "\n",
    "# 1 <= nums.length <= 105\n",
    "# -104 <= nums[i] <= 104"
   ]
  },
  {
   "cell_type": "code",
   "execution_count": 3,
   "metadata": {},
   "outputs": [],
   "source": [
    "# this is the Kadane's algorithm\n",
    "#  https://youtu.be/jnoVtCKECmQ for reference\n",
    "\n",
    "# we keep track of current sum as we iterate over the array\n",
    "# is this sum is less than the next element itself, no point in continuing with the subarray\n",
    "# as the next array is already providing a higher sum\n",
    "\n",
    "class Solution:\n",
    "\n",
    "    def maxSum(self,array):\n",
    "\n",
    "        n = len(array)\n",
    "        if n ==1:\n",
    "            return array[0]\n",
    "        max_sum = float('-inf')\n",
    "        curr_sum = 0\n",
    "        for i in range(n):\n",
    "\n",
    "            curr_sum = curr_sum + array[i]\n",
    "\n",
    "            if array[i] > curr_sum:\n",
    "                curr_sum = array[i]\n",
    "            if curr_sum > max_sum:\n",
    "                max_sum = curr_sum\n",
    "                \n",
    "\n",
    "        return max_sum"
   ]
  },
  {
   "cell_type": "code",
   "execution_count": 4,
   "metadata": {},
   "outputs": [
    {
     "name": "stdout",
     "output_type": "stream",
     "text": [
      "7\n"
     ]
    }
   ],
   "source": [
    "v = Solution()\n",
    "print(v.maxSum([-2,2,5,-11,6]))"
   ]
  },
  {
   "cell_type": "code",
   "execution_count": null,
   "metadata": {},
   "outputs": [],
   "source": []
  }
 ],
 "metadata": {
  "interpreter": {
   "hash": "b3ba2566441a7c06988d0923437866b63cedc61552a5af99d1f4fb67d367b25f"
  },
  "kernelspec": {
   "display_name": "Python 3.8.8 64-bit ('base': conda)",
   "language": "python",
   "name": "python3"
  },
  "language_info": {
   "codemirror_mode": {
    "name": "ipython",
    "version": 3
   },
   "file_extension": ".py",
   "mimetype": "text/x-python",
   "name": "python",
   "nbconvert_exporter": "python",
   "pygments_lexer": "ipython3",
   "version": "3.8.8"
  },
  "orig_nbformat": 4
 },
 "nbformat": 4,
 "nbformat_minor": 2
}
