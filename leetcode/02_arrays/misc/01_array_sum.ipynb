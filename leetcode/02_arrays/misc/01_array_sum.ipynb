{
 "cells": [
  {
   "cell_type": "markdown",
   "metadata": {},
   "source": [
    "### Given an array of length \"N\", find the sum of all elements of array."
   ]
  },
  {
   "cell_type": "code",
   "execution_count": 10,
   "metadata": {},
   "outputs": [],
   "source": [
    "# time complexity : O(n)\n",
    "def arr_sum(arr,n):\n",
    "\n",
    "    if n==0:\n",
    "        return None\n",
    "\n",
    "    count = 0\n",
    "    for i in range(n):\n",
    "        count += arr[i]\n",
    "\n",
    "    return count"
   ]
  },
  {
   "cell_type": "code",
   "execution_count": 9,
   "metadata": {},
   "outputs": [
    {
     "name": "stdout",
     "output_type": "stream",
     "text": [
      "entered array:  [1, 2, 3, 4, 5, 6]\n",
      "sum of array:  21\n"
     ]
    }
   ],
   "source": [
    "arr = [int(x) for x in input('enter array: ').split()]\n",
    "print('entered array: ',arr)\n",
    "print('sum of array: ',arr_sum(arr,len(arr)))"
   ]
  }
 ],
 "metadata": {
  "interpreter": {
   "hash": "b3ba2566441a7c06988d0923437866b63cedc61552a5af99d1f4fb67d367b25f"
  },
  "kernelspec": {
   "display_name": "Python 3.8.8 64-bit ('base': conda)",
   "language": "python",
   "name": "python3"
  },
  "language_info": {
   "codemirror_mode": {
    "name": "ipython",
    "version": 3
   },
   "file_extension": ".py",
   "mimetype": "text/x-python",
   "name": "python",
   "nbconvert_exporter": "python",
   "pygments_lexer": "ipython3",
   "version": "3.8.8"
  },
  "orig_nbformat": 4
 },
 "nbformat": 4,
 "nbformat_minor": 2
}
