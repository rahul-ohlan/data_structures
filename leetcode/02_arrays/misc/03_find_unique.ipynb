{
 "cells": [
  {
   "cell_type": "markdown",
   "metadata": {},
   "source": [
    "##### #You have been given an integer array/list(ARR) of size N. Where N is equal to [2M + 1].\n",
    "##### #Now, in the given array/list, 'M' numbers are present twice and one number is present only once.\n",
    "##### #You need to find and return that number which is unique in the array/list."
   ]
  },
  {
   "cell_type": "code",
   "execution_count": 7,
   "metadata": {},
   "outputs": [],
   "source": [
    "# brute force : for each element, look for it's duplicate - O(n**2)\n",
    "# use dictionary : return the one with frequency = 1 - O(n)\n",
    "# sort array : iterate with two pointers, if a[i]!=a[j] : return a[i] - O(nlogn). space complexity = O(n)\n",
    "\n",
    "# brute force\n",
    "\n",
    "def brute_force(arr):\n",
    "    n = len(arr)\n",
    "    if n == 0:\n",
    "        return None\n",
    "    elif n ==1 :\n",
    "        return arr[0]\n",
    "\n",
    "    for i in range(n):\n",
    "\n",
    "        for j in range(n):\n",
    "\n",
    "            if i==j:\n",
    "                continue\n",
    "\n",
    "            if arr[i] == arr[j]:\n",
    "                break\n",
    "        else:\n",
    "            return arr[i]\n",
    "\n",
    "def hash_map(arr):\n",
    "    n = len(arr)\n",
    "    if n==0:\n",
    "        return None\n",
    "    elif n == 1:\n",
    "        return arr[0]\n",
    "\n",
    "    d = dict()\n",
    "\n",
    "    for i in range(n):\n",
    "        d[arr[i]] = d.get(arr[i],0) + 1\n",
    "\n",
    "    for i in range(n):\n",
    "        if d[arr[i]]==1:\n",
    "            return arr[i]\n",
    "    \n",
    "def sort_unique(arr):\n",
    "    n = len(arr)\n",
    "    if n==0:\n",
    "        return None\n",
    "    elif n==1:\n",
    "        return arr[0]\n",
    "\n",
    "    new_arr = sorted(arr)\n",
    "\n",
    "    i,j = 0,1\n",
    "    while j < n:\n",
    "        if new_arr[i]==new_arr[j]:\n",
    "            i+=2\n",
    "            j+=2\n",
    "        else:\n",
    "            return new_arr[i]\n",
    "    return new_arr[i]"
   ]
  },
  {
   "cell_type": "code",
   "execution_count": 10,
   "metadata": {},
   "outputs": [
    {
     "name": "stdout",
     "output_type": "stream",
     "text": [
      "unique ele brute force:  4\n",
      "unique ele hashmap:  4\n",
      "unique ele array_sorting:  4\n"
     ]
    }
   ],
   "source": [
    "array = [2,1,4,2,1]\n",
    "print('unique ele brute force: ',brute_force(array))\n",
    "print('unique ele hashmap: ',hash_map(array))\n",
    "print('unique ele array_sorting: ',sort_unique(array))"
   ]
  }
 ],
 "metadata": {
  "interpreter": {
   "hash": "b3ba2566441a7c06988d0923437866b63cedc61552a5af99d1f4fb67d367b25f"
  },
  "kernelspec": {
   "display_name": "Python 3.8.8 64-bit ('base': conda)",
   "language": "python",
   "name": "python3"
  },
  "language_info": {
   "codemirror_mode": {
    "name": "ipython",
    "version": 3
   },
   "file_extension": ".py",
   "mimetype": "text/x-python",
   "name": "python",
   "nbconvert_exporter": "python",
   "pygments_lexer": "ipython3",
   "version": "3.8.8"
  },
  "orig_nbformat": 4
 },
 "nbformat": 4,
 "nbformat_minor": 2
}
