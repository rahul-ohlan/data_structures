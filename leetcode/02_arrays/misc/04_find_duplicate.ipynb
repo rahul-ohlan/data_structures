{
 "cells": [
  {
   "cell_type": "code",
   "execution_count": null,
   "metadata": {},
   "outputs": [],
   "source": [
    "# You have been given an integer array/list(ARR) of size N which contains numbers from 0 to (N - 2).\n",
    "# Each number is present at least once. That is, if N = 5, \n",
    "# the array/list constitutes values ranging from 0 to 3 and among these, \n",
    "# there is a single integer value that is present twice. \n",
    "# You need to find and return that duplicate number present in the array."
   ]
  },
  {
   "cell_type": "code",
   "execution_count": 7,
   "metadata": {},
   "outputs": [],
   "source": [
    "# brute force : check for each element in array. complexity O(n**2)\n",
    "# sort the array : duplicate element will become consecutive, complexity O(nlogn), space : O(n)\n",
    "# dictionary : return the one with frequency = 2 , complexity: O(n), space : O(n)\n",
    "\n",
    "def brute_force(arr):\n",
    "    n = len(arr)\n",
    "    if n<=2:\n",
    "        print('no duplicate element possible')\n",
    "        return None\n",
    "    \n",
    "    for i in range(n):\n",
    "        for j in range(i+1,n):\n",
    "            if arr[i] == arr[j]:\n",
    "                return arr[i]\n",
    "\n",
    "def sort_arr(arr):\n",
    "    n = len(arr)\n",
    "    if n <= 2:\n",
    "        print('no duplicates possible')\n",
    "        return None\n",
    "    \n",
    "    new = sorted(arr)\n",
    "\n",
    "    i,j = 0,1\n",
    "    while j < n:\n",
    "        if new[i] == new[j]:\n",
    "            return new[i]\n",
    "        i+=1\n",
    "        j+=1\n",
    "    \n",
    "def hashmap(arr):\n",
    "    n = len(arr)\n",
    "    if n<=2:\n",
    "        print('duplicates not possible')\n",
    "    \n",
    "    d = dict()\n",
    "    for i in range(n):\n",
    "        d[arr[i]] = d.get(arr[i],0) + 1\n",
    "        if d[arr[i]] == 2:\n",
    "            return arr[i]\n",
    "\n"
   ]
  },
  {
   "cell_type": "code",
   "execution_count": 8,
   "metadata": {},
   "outputs": [
    {
     "name": "stdout",
     "output_type": "stream",
     "text": [
      "2\n",
      "2\n",
      "2\n"
     ]
    }
   ],
   "source": [
    "arr = [0,1,2,3,4,5,2]\n",
    "print(brute_force(arr))\n",
    "print(hashmap(arr))\n",
    "print(sort_arr(arr))"
   ]
  }
 ],
 "metadata": {
  "interpreter": {
   "hash": "b3ba2566441a7c06988d0923437866b63cedc61552a5af99d1f4fb67d367b25f"
  },
  "kernelspec": {
   "display_name": "Python 3.8.8 64-bit ('base': conda)",
   "language": "python",
   "name": "python3"
  },
  "language_info": {
   "codemirror_mode": {
    "name": "ipython",
    "version": 3
   },
   "file_extension": ".py",
   "mimetype": "text/x-python",
   "name": "python",
   "nbconvert_exporter": "python",
   "pygments_lexer": "ipython3",
   "version": "3.8.8"
  },
  "orig_nbformat": 4
 },
 "nbformat": 4,
 "nbformat_minor": 2
}
