{
 "cells": [
  {
   "cell_type": "code",
   "execution_count": 2,
   "metadata": {},
   "outputs": [],
   "source": [
    "# # You have been given two integer arrays/list(ARR1 and ARR2) of size M and N, respectively.\n",
    "# # You need to print their intersection;\n",
    "# # An intersection for this problem can be defined when both the arrays/lists\n",
    "# # contain a particular value or to put it in other words, when there is a common value that exists\n",
    "# # in both the arrays/lists.\n",
    "\n",
    "# Input arrays/lists can contain duplicate elements.\n",
    "\n",
    "# The intersection elements printed would be in the order they appear in the first array/list(ARR)"
   ]
  },
  {
   "cell_type": "code",
   "execution_count": 3,
   "metadata": {},
   "outputs": [],
   "source": [
    "# method 1 : keep track of index of matching element of second array\n",
    "# complexity O(n**2)\n",
    "\n",
    "def method_index(arr1,arr2):\n",
    "    n = len(arr1)\n",
    "    m = len(arr2)\n",
    "\n",
    "    index = dict()\n",
    "    res = list()\n",
    "\n",
    "    for i in range(n):\n",
    "        for j in range(m):\n",
    "\n",
    "            if j not in index and arr1[i] == arr2[j]:\n",
    "                res.append(arr1[i])\n",
    "                index[j] = 'something'\n",
    "                break\n",
    "    return res\n",
    "\n",
    "# sorting : it will not work since it can change the order of elements in arrays. "
   ]
  },
  {
   "cell_type": "code",
   "execution_count": 5,
   "metadata": {},
   "outputs": [
    {
     "name": "stdout",
     "output_type": "stream",
     "text": [
      "[2, 2, 4, 5, 6]\n"
     ]
    }
   ],
   "source": [
    "a1 = [1,2,2,4,5,6]\n",
    "a2 = [4,3,6,5,2,6,2]\n",
    "print(method_index(a1,a2))"
   ]
  }
 ],
 "metadata": {
  "interpreter": {
   "hash": "b3ba2566441a7c06988d0923437866b63cedc61552a5af99d1f4fb67d367b25f"
  },
  "kernelspec": {
   "display_name": "Python 3.8.8 64-bit ('base': conda)",
   "language": "python",
   "name": "python3"
  },
  "language_info": {
   "codemirror_mode": {
    "name": "ipython",
    "version": 3
   },
   "file_extension": ".py",
   "mimetype": "text/x-python",
   "name": "python",
   "nbconvert_exporter": "python",
   "pygments_lexer": "ipython3",
   "version": "3.8.8"
  },
  "orig_nbformat": 4
 },
 "nbformat": 4,
 "nbformat_minor": 2
}
